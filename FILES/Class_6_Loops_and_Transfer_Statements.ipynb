{
  "cells": [
    {
      "cell_type": "markdown",
      "id": "fbd40a50-6512-4c7a-aa52-5845f8dd9eff",
      "metadata": {
        "id": "fbd40a50-6512-4c7a-aa52-5845f8dd9eff"
      },
      "source": [
        "# Nested for loop"
      ]
    },
    {
      "cell_type": "code",
      "execution_count": null,
      "id": "d4b0b6e7-58d0-46b5-8ed0-c5ff835852a4",
      "metadata": {
        "id": "d4b0b6e7-58d0-46b5-8ed0-c5ff835852a4"
      },
      "outputs": [],
      "source": [
        "# - When we have a loop within another loop then it is a nested loop.\n",
        "# - For each iteration of the outer loop, the inner loop completes all its iterations."
      ]
    },
    {
      "cell_type": "code",
      "execution_count": null,
      "id": "186071e3-411b-4d12-a672-e381da43b26b",
      "metadata": {
        "id": "186071e3-411b-4d12-a672-e381da43b26b"
      },
      "outputs": [],
      "source": [
        "for loop: # Outer loop\n",
        "    for loop: #Inner Loop\n",
        "        code\n",
        "        code"
      ]
    },
    {
      "cell_type": "code",
      "execution_count": null,
      "id": "dbe213c1-e754-4533-8830-4101859347df",
      "metadata": {
        "id": "dbe213c1-e754-4533-8830-4101859347df",
        "outputId": "83cb20d6-2d8d-4aac-ae29-0b7ebd7e76d7"
      },
      "outputs": [
        {
          "name": "stdout",
          "output_type": "stream",
          "text": [
            "Python\n",
            "Python\n",
            "Python\n",
            "Python\n",
            "Python\n",
            "Python\n",
            "Python\n",
            "Python\n",
            "Python\n",
            "Python\n",
            "Python\n",
            "Python\n"
          ]
        }
      ],
      "source": [
        "for i in range(3): # Outer loop\n",
        "    for j in range(4): # Inner loop\n",
        "        print('Python')"
      ]
    },
    {
      "cell_type": "code",
      "execution_count": null,
      "id": "e4e515c9-7956-4d50-a223-e9912c7475c8",
      "metadata": {
        "id": "e4e515c9-7956-4d50-a223-e9912c7475c8",
        "outputId": "5b3dca10-df64-48f8-a1a4-1960d1d7f00f"
      },
      "outputs": [
        {
          "name": "stdout",
          "output_type": "stream",
          "text": [
            "i-> 0\n",
            "-------------------------\n",
            "j-> 0\n",
            "j-> 1\n",
            "j-> 2\n",
            "j-> 3\n",
            "***************************\n",
            "\n",
            "i-> 1\n",
            "-------------------------\n",
            "j-> 0\n",
            "j-> 1\n",
            "j-> 2\n",
            "j-> 3\n",
            "***************************\n",
            "\n",
            "i-> 2\n",
            "-------------------------\n",
            "j-> 0\n",
            "j-> 1\n",
            "j-> 2\n",
            "j-> 3\n",
            "***************************\n",
            "\n"
          ]
        }
      ],
      "source": [
        "for i in range(3):\n",
        "    print('i->',i)\n",
        "    print('-------------------------')\n",
        "    for j in range(4):\n",
        "        print('j->',j)\n",
        "    print('***************************')\n",
        "    print()"
      ]
    },
    {
      "cell_type": "code",
      "execution_count": null,
      "id": "67fbc5ca-61eb-4feb-958f-78e11e2c77eb",
      "metadata": {
        "id": "67fbc5ca-61eb-4feb-958f-78e11e2c77eb",
        "outputId": "a250afb6-5af4-4f0c-d7c0-bb8891b9929a"
      },
      "outputs": [
        {
          "name": "stdout",
          "output_type": "stream",
          "text": [
            "[(10, 20, 30), (45, 50), (78, 95, 44, 36), (78, 95, 65), (78, 32)] <class 'list'>\n"
          ]
        }
      ],
      "source": [
        "lst=[(10,20,30),(45,50),(78,95,44,36),(78,95,65),(78,32)]\n",
        "print(lst,type(lst))"
      ]
    },
    {
      "cell_type": "code",
      "execution_count": null,
      "id": "02598a93-e21a-407c-b77d-44b5a5cb619b",
      "metadata": {
        "id": "02598a93-e21a-407c-b77d-44b5a5cb619b",
        "outputId": "36e00465-93cf-47f5-d949-61b63f91d97f"
      },
      "outputs": [
        {
          "name": "stdout",
          "output_type": "stream",
          "text": [
            "(10, 20, 30)\n",
            "(45, 50)\n",
            "(78, 95, 44, 36)\n",
            "(78, 95, 65)\n",
            "(78, 32)\n"
          ]
        }
      ],
      "source": [
        "for i in lst:\n",
        "    print(i)"
      ]
    },
    {
      "cell_type": "code",
      "execution_count": null,
      "id": "1d1d6766-0b9c-4890-a9f1-44b120f50898",
      "metadata": {
        "id": "1d1d6766-0b9c-4890-a9f1-44b120f50898",
        "outputId": "72939e34-9ce6-414c-c35d-2249881f0986"
      },
      "outputs": [
        {
          "name": "stdout",
          "output_type": "stream",
          "text": [
            "78\n",
            "95\n",
            "44\n",
            "36\n"
          ]
        }
      ],
      "source": [
        "i=(78, 95, 44, 36)\n",
        "for j in i:\n",
        "    print(j)"
      ]
    },
    {
      "cell_type": "code",
      "execution_count": null,
      "id": "a961ba9e-ef3b-446b-81a7-820946001ff0",
      "metadata": {
        "id": "a961ba9e-ef3b-446b-81a7-820946001ff0",
        "outputId": "c72dc32b-807f-4e36-be6f-a8675e20daef"
      },
      "outputs": [
        {
          "name": "stdout",
          "output_type": "stream",
          "text": [
            "756\n"
          ]
        }
      ],
      "source": [
        "s=0\n",
        "for i in lst:\n",
        "    for j in i:\n",
        "        s+=j\n",
        "print(s)"
      ]
    },
    {
      "cell_type": "code",
      "execution_count": null,
      "id": "5c57d7c5-80ce-4c0b-bb85-6494f117a807",
      "metadata": {
        "id": "5c57d7c5-80ce-4c0b-bb85-6494f117a807",
        "outputId": "23979579-24e9-4f75-9ac7-e1e4f26e7d65"
      },
      "outputs": [
        {
          "name": "stdout",
          "output_type": "stream",
          "text": [
            "U\n",
            "i\n",
            "u\n",
            "e\n",
            "a\n",
            "e\n",
            "a\n",
            "i\n",
            "u\n",
            "i\n",
            "A\n",
            "i\n",
            "I\n",
            "a\n"
          ]
        }
      ],
      "source": [
        "names=['Unni','Suresh','Mahesh','Harish','Sumit', 'Amit','Ivansh']\n",
        "# Get all the vowels from the ablove list\n",
        "\n",
        "for i in names:\n",
        "    for j in i:\n",
        "        if j in 'AEIOUaeiou':\n",
        "            print(j)"
      ]
    },
    {
      "cell_type": "code",
      "execution_count": null,
      "id": "c0d8f904-88cc-4927-ac6c-06ec54f60c2c",
      "metadata": {
        "id": "c0d8f904-88cc-4927-ac6c-06ec54f60c2c",
        "outputId": "408073e7-ddec-4f78-b720-5e25e9197add"
      },
      "outputs": [
        {
          "name": "stdout",
          "output_type": "stream",
          "text": [
            "U\n",
            "i\n"
          ]
        }
      ],
      "source": [
        "i='Unni'\n",
        "for j in i:\n",
        "    if j in 'AEIOUaeiou':\n",
        "        print(j)"
      ]
    },
    {
      "cell_type": "code",
      "execution_count": null,
      "id": "e0f9eabe-600d-46a2-828d-614d9e5950eb",
      "metadata": {
        "id": "e0f9eabe-600d-46a2-828d-614d9e5950eb",
        "outputId": "8718e1b3-d587-48a0-b574-4e45545ee4da"
      },
      "outputs": [
        {
          "name": "stdout",
          "output_type": "stream",
          "text": [
            "U\n",
            "S\n",
            "M\n",
            "H\n",
            "S\n",
            "A\n",
            "I\n"
          ]
        }
      ],
      "source": [
        "names=['Unni','Suresh','Mahesh','Harish','Sumit', 'Amit','Ivansh']\n",
        "# Get all the upper case letters from the ablove list\n",
        "\n",
        "for i in names:\n",
        "    for j in i:\n",
        "        if j.isupper():\n",
        "            print(j)"
      ]
    },
    {
      "cell_type": "code",
      "execution_count": null,
      "id": "a56d6b64-763e-429f-a32c-ed7fcd0bbd3d",
      "metadata": {
        "id": "a56d6b64-763e-429f-a32c-ed7fcd0bbd3d",
        "outputId": "ee4ece44-26a7-4d9d-94e3-34b1289030b1"
      },
      "outputs": [
        {
          "name": "stdout",
          "output_type": "stream",
          "text": [
            "Peter\n",
            "piper\n",
            "picked\n",
            "a\n",
            "pack\n",
            "of\n",
            "pickeled\n",
            "peppers\n"
          ]
        }
      ],
      "source": [
        "my_str='Peter piper picked a pack of pickeled peppers'\n",
        "\n",
        "# Output- 'reteP repip dekcip a kcap fo delekcip srppep'\n",
        "\n",
        "for i in my_str.split():\n",
        "    print(i)"
      ]
    },
    {
      "cell_type": "code",
      "execution_count": null,
      "id": "fb679a5c-dc5b-4496-afbd-4a4c25e0856f",
      "metadata": {
        "id": "fb679a5c-dc5b-4496-afbd-4a4c25e0856f",
        "outputId": "c94b8ebe-ee4d-4c9c-ed6d-58c5b0cc87b3"
      },
      "outputs": [
        {
          "data": {
            "text/plain": [
              "'kcap'"
            ]
          },
          "execution_count": 72,
          "metadata": {},
          "output_type": "execute_result"
        }
      ],
      "source": [
        "i='pack'\n",
        "s=''\n",
        "for j in range(len(i)-1,-1,-1):\n",
        "    s+=i[j]\n",
        "s"
      ]
    },
    {
      "cell_type": "code",
      "execution_count": null,
      "id": "78bd0e70-5266-427f-b7f2-27215bf3156f",
      "metadata": {
        "id": "78bd0e70-5266-427f-b7f2-27215bf3156f",
        "outputId": "c2babcc7-4ddf-4441-f097-4b8c9bb63be6"
      },
      "outputs": [
        {
          "name": "stdout",
          "output_type": "stream",
          "text": [
            "['Peter', 'piper', 'picked', 'a', 'pack', 'of', 'pickeled', 'peppers']\n"
          ]
        },
        {
          "data": {
            "text/plain": [
              "'reteP repip dekcip a kcap fo delekcip sreppep'"
            ]
          },
          "execution_count": 90,
          "metadata": {},
          "output_type": "execute_result"
        }
      ],
      "source": [
        "my_str='Peter piper picked a pack of pickeled peppers'\n",
        "\n",
        "# Output- 'reteP repip dekcip a kcap fo delekcip srppep'\n",
        "lst=[]\n",
        "s=''\n",
        "\n",
        "for i in my_str:\n",
        "    if i!=' ':\n",
        "        s+=i\n",
        "    else:\n",
        "        lst.append(s)\n",
        "        s=''\n",
        "lst.append(s)\n",
        "print(lst)\n",
        "\n",
        "s=''\n",
        "for i in lst:\n",
        "    for j in range(len(i)-1,-1,-1):\n",
        "        s+=i[j]\n",
        "    if i!=lst[-1]:\n",
        "        s+=' '\n",
        "s"
      ]
    },
    {
      "cell_type": "code",
      "execution_count": null,
      "id": "570d29b8-ee7a-4c37-b1df-999978084a96",
      "metadata": {
        "id": "570d29b8-ee7a-4c37-b1df-999978084a96",
        "outputId": "ffd9e5c2-f84b-4fc1-ae4c-63c8c4a35948"
      },
      "outputs": [
        {
          "data": {
            "text/plain": [
              "'peppers'"
            ]
          },
          "execution_count": 92,
          "metadata": {},
          "output_type": "execute_result"
        }
      ],
      "source": [
        "lst[-1]"
      ]
    },
    {
      "cell_type": "code",
      "execution_count": null,
      "id": "a2fb8c62-d0e8-4dc6-838f-7cae01c08949",
      "metadata": {
        "id": "a2fb8c62-d0e8-4dc6-838f-7cae01c08949",
        "outputId": "ecf70b0e-93b9-4793-cf9d-d37ecf33253f"
      },
      "outputs": [
        {
          "name": "stdout",
          "output_type": "stream",
          "text": [
            "sreppep delekcip fo kcap a dekcip repip reteP\n"
          ]
        }
      ],
      "source": [
        "my_str='Peter piper picked a pack of pickeled peppers'\n",
        "\n",
        "# Output- 'sreppep delkcip fo kcap a dekcip repip reteP'\n",
        "s=''\n",
        "for i in range(len(my_str)-1,-1,-1):\n",
        "    s+=my_str[i]\n",
        "print(s)"
      ]
    },
    {
      "cell_type": "markdown",
      "id": "e528479f-bc5a-4a11-90df-14236bc4efee",
      "metadata": {
        "id": "e528479f-bc5a-4a11-90df-14236bc4efee"
      },
      "source": [
        "# while Loop"
      ]
    },
    {
      "cell_type": "code",
      "execution_count": null,
      "id": "aee1842e-715e-4e57-80a4-f832972c92f8",
      "metadata": {
        "id": "aee1842e-715e-4e57-80a4-f832972c92f8"
      },
      "outputs": [],
      "source": [
        "# - Generally while loop is used when we don't know the number of iterations."
      ]
    },
    {
      "cell_type": "markdown",
      "id": "8c79ca3d-49d6-434e-bec5-0af97a8f1351",
      "metadata": {
        "id": "8c79ca3d-49d6-434e-bec5-0af97a8f1351"
      },
      "source": [
        "### Componnets"
      ]
    },
    {
      "cell_type": "code",
      "execution_count": null,
      "id": "aae05af5-1263-4f45-aef6-e4e4d94d5dc9",
      "metadata": {
        "id": "aae05af5-1263-4f45-aef6-e4e4d94d5dc9"
      },
      "outputs": [],
      "source": [
        "# - 1- Intialisation of a counter\n",
        "# - 2- Condition\n",
        "# - 3- Increment/Decrement"
      ]
    },
    {
      "cell_type": "code",
      "execution_count": null,
      "id": "ec08b1b9-944c-4ef2-aa8d-dbf5eceee9ad",
      "metadata": {
        "id": "ec08b1b9-944c-4ef2-aa8d-dbf5eceee9ad",
        "outputId": "dd71b668-f6bf-4711-88f2-16b559eced05"
      },
      "outputs": [
        {
          "name": "stdout",
          "output_type": "stream",
          "text": [
            "Python\n",
            "Python\n",
            "Python\n",
            "Python\n",
            "Python\n"
          ]
        }
      ],
      "source": [
        "# Print Python 5 times using while loop\n",
        "\n",
        "i=1 # Counter intialisation\n",
        "\n",
        "while i<=5: # Condition\n",
        "    print('Python')\n",
        "    i+=1"
      ]
    },
    {
      "cell_type": "code",
      "execution_count": null,
      "id": "37c5f923-e673-422d-aec6-b4e17b58d774",
      "metadata": {
        "id": "37c5f923-e673-422d-aec6-b4e17b58d774",
        "outputId": "43d3f1ca-3354-4f11-f3fe-ae2a1d029f91"
      },
      "outputs": [
        {
          "data": {
            "text/plain": [
              "False"
            ]
          },
          "execution_count": 120,
          "metadata": {},
          "output_type": "execute_result"
        }
      ],
      "source": [
        "6<=5"
      ]
    },
    {
      "cell_type": "code",
      "execution_count": null,
      "id": "36245797-efc0-423e-8cde-075e4ee4dded",
      "metadata": {
        "id": "36245797-efc0-423e-8cde-075e4ee4dded"
      },
      "outputs": [],
      "source": [
        "# while condition:\n",
        "#     code"
      ]
    },
    {
      "cell_type": "code",
      "execution_count": null,
      "id": "10b1c805-5c09-48f7-930c-5bfa6c0e50fd",
      "metadata": {
        "id": "10b1c805-5c09-48f7-930c-5bfa6c0e50fd"
      },
      "outputs": [],
      "source": [
        "# - Until the condition gets False , it keeps on repeating the code.\n",
        "# - If the condition never gets False, It will execte the code infinite time."
      ]
    },
    {
      "cell_type": "code",
      "execution_count": null,
      "id": "93152b5e-725a-42a8-8b2b-5ba6a2e124ba",
      "metadata": {
        "id": "93152b5e-725a-42a8-8b2b-5ba6a2e124ba"
      },
      "outputs": [],
      "source": [
        "# i=1\n",
        "# while i<=5:\n",
        "#     print('Python')"
      ]
    },
    {
      "cell_type": "code",
      "execution_count": null,
      "id": "31ccd286-0c2e-4457-9006-d336e68809e4",
      "metadata": {
        "id": "31ccd286-0c2e-4457-9006-d336e68809e4",
        "outputId": "9ab21c44-666e-4577-c7e0-ce95ae130287"
      },
      "outputs": [
        {
          "name": "stdout",
          "output_type": "stream",
          "text": [
            "1\n",
            "2\n",
            "3\n",
            "4\n",
            "5\n",
            "6\n",
            "7\n",
            "8\n",
            "9\n",
            "10\n"
          ]
        }
      ],
      "source": [
        "# Print the numebrs from 1 to 10 using while loop\n",
        "\n",
        "i=1\n",
        "\n",
        "while i<=10:\n",
        "    print(i)\n",
        "    i+=1 # i=i+1"
      ]
    },
    {
      "cell_type": "code",
      "execution_count": null,
      "id": "89550e80-a23d-40a3-80d8-5df9df8a220a",
      "metadata": {
        "id": "89550e80-a23d-40a3-80d8-5df9df8a220a",
        "outputId": "a43ccd09-1e32-4ab0-c859-f8de387353a4"
      },
      "outputs": [
        {
          "name": "stdout",
          "output_type": "stream",
          "text": [
            "2\n",
            "4\n",
            "6\n",
            "8\n",
            "10\n",
            "12\n",
            "14\n",
            "16\n",
            "18\n",
            "20\n"
          ]
        }
      ],
      "source": [
        "# Print the even numbers from 2 to 20 using while loop\n",
        "\n",
        "i=2\n",
        "while i<=20:\n",
        "    print(i)\n",
        "    i+=2"
      ]
    },
    {
      "cell_type": "code",
      "execution_count": null,
      "id": "42d7396f-6fa5-4856-bdd9-2270963e7371",
      "metadata": {
        "id": "42d7396f-6fa5-4856-bdd9-2270963e7371",
        "outputId": "28330d11-6c12-47d9-9210-49682a2d8813"
      },
      "outputs": [
        {
          "name": "stdout",
          "output_type": "stream",
          "text": [
            "10\n",
            "9\n",
            "8\n",
            "7\n",
            "6\n",
            "5\n",
            "4\n",
            "3\n",
            "2\n",
            "1\n"
          ]
        }
      ],
      "source": [
        "# Print the numbers from 10 to 1 using while loop\n",
        "\n",
        "i=10\n",
        "\n",
        "while i>=1:\n",
        "    print(i)\n",
        "    i-=1"
      ]
    },
    {
      "cell_type": "code",
      "execution_count": null,
      "id": "5479b310-c40b-4dda-b057-80684d4d1a3a",
      "metadata": {
        "id": "5479b310-c40b-4dda-b057-80684d4d1a3a",
        "outputId": "c7bf4513-f5b3-4cba-cb0c-28b25e08f1e0"
      },
      "outputs": [
        {
          "name": "stdout",
          "output_type": "stream",
          "text": [
            "n\n",
            "o\n",
            "h\n",
            "t\n",
            "y\n",
            "P\n"
          ]
        }
      ],
      "source": [
        "my_str='Python'\n",
        "\n",
        "# Get the reverse indexes and the elements of the above string using while loop.\n",
        "\n",
        "last_index=len(my_str)-1\n",
        "# print(last_index)\n",
        "start_index=0\n",
        "# print(start_index)\n",
        "\n",
        "while last_index>=start_index:\n",
        "    print(my_str[last_index])\n",
        "    last_index-=1"
      ]
    },
    {
      "cell_type": "code",
      "execution_count": null,
      "id": "e4fd1214-0f48-46ed-998f-54d739a7ee57",
      "metadata": {
        "id": "e4fd1214-0f48-46ed-998f-54d739a7ee57",
        "outputId": "08432b22-179d-4c64-8a64-723b475786a3"
      },
      "outputs": [
        {
          "name": "stdout",
          "output_type": "stream",
          "text": [
            "5 n\n",
            "4 o\n",
            "3 h\n",
            "2 t\n",
            "1 y\n",
            "0 P\n"
          ]
        }
      ],
      "source": [
        "i=len(my_str)-1\n",
        "\n",
        "while i>=0:\n",
        "    print(i,my_str[i])\n",
        "    i-=1"
      ]
    },
    {
      "cell_type": "code",
      "execution_count": null,
      "id": "23ca7a88-a546-41ac-9380-7f30836010c3",
      "metadata": {
        "id": "23ca7a88-a546-41ac-9380-7f30836010c3",
        "outputId": "930ebfc5-3479-4b4b-d1db-3a4b7f8ba0f8"
      },
      "outputs": [
        {
          "name": "stdout",
          "output_type": "stream",
          "text": [
            "-6 P\n",
            "-5 y\n",
            "-4 t\n",
            "-3 h\n",
            "-2 o\n",
            "-1 n\n"
          ]
        }
      ],
      "source": [
        "my_str='Python'\n",
        "\n",
        "# Get the negative indexes in reverse order and the elements of the above string using while loop.\n",
        "\n",
        "i=-len(my_str)\n",
        "\n",
        "while i<=-1:\n",
        "    print(i,my_str[i])\n",
        "    i+=1"
      ]
    },
    {
      "cell_type": "code",
      "execution_count": null,
      "id": "a921d7c2-d7c2-4287-b782-a9b5065541ab",
      "metadata": {
        "id": "a921d7c2-d7c2-4287-b782-a9b5065541ab",
        "outputId": "bbea81d3-b281-469a-9af9-1fa913cd946e"
      },
      "outputs": [
        {
          "name": "stdout",
          "output_type": "stream",
          "text": [
            "P\n",
            "yy\n",
            "ttt\n",
            "hhhh\n",
            "ooooo\n",
            "nnnnnn\n"
          ]
        }
      ],
      "source": [
        "my_str='Python'\n",
        "\n",
        "# Output- Using while loop\n",
        "# P\n",
        "# yy\n",
        "# ttt\n",
        "# hhhh\n",
        "# ooooo\n",
        "# nnnnnn\n",
        "\n",
        "i=0\n",
        "\n",
        "while i<len(my_str):\n",
        "    print(my_str[i]*(i+1))\n",
        "    i+=1"
      ]
    },
    {
      "cell_type": "code",
      "execution_count": null,
      "id": "b8d5a4f7-c66e-4e1e-b431-57f6a79625ef",
      "metadata": {
        "id": "b8d5a4f7-c66e-4e1e-b431-57f6a79625ef"
      },
      "outputs": [],
      "source": [
        "i=0 -> P\n",
        "i=1 -> yy\n",
        "i=2 -> ttt"
      ]
    },
    {
      "cell_type": "code",
      "execution_count": null,
      "id": "340c88d1-4237-4aaf-b1f8-87f80d2fb144",
      "metadata": {
        "id": "340c88d1-4237-4aaf-b1f8-87f80d2fb144",
        "outputId": "bae6fddb-7638-40a1-fcbf-32a5aad9614b"
      },
      "outputs": [
        {
          "name": "stdout",
          "output_type": "stream",
          "text": [
            "5 n\n",
            "4 oo\n",
            "3 hhh\n",
            "2 tttt\n",
            "1 yyyyy\n",
            "0 PPPPPP\n"
          ]
        }
      ],
      "source": [
        "my_str='Python'\n",
        "\n",
        "# n\n",
        "# oo\n",
        "# hhh\n",
        "# tttt\n",
        "# yyyyy\n",
        "# PPPPPP\n",
        "\n",
        "i=len(my_str)-1\n",
        "j=1\n",
        "while i>=0:\n",
        "    print(i,my_str[i]*j)\n",
        "    i-=1\n",
        "    j+=1"
      ]
    },
    {
      "cell_type": "markdown",
      "id": "78a18a93-3fd5-4eb9-83fd-fa6b23351802",
      "metadata": {
        "id": "78a18a93-3fd5-4eb9-83fd-fa6b23351802"
      },
      "source": [
        "# while True"
      ]
    },
    {
      "cell_type": "code",
      "execution_count": null,
      "id": "e0578084-51ac-406c-ba21-260b9d2f3a13",
      "metadata": {
        "id": "e0578084-51ac-406c-ba21-260b9d2f3a13"
      },
      "outputs": [],
      "source": [
        "# - It is always True.\n",
        "# - It executes a piece code infinite times.\n",
        "# - break statement is used to terminate any loop.\n",
        "# - While True is generally use when we don't know the number of iterations."
      ]
    },
    {
      "cell_type": "code",
      "execution_count": null,
      "id": "e7f6ff2c-2ba3-4c31-8641-118cc25888f4",
      "metadata": {
        "id": "e7f6ff2c-2ba3-4c31-8641-118cc25888f4"
      },
      "outputs": [],
      "source": [
        "# while True:\n",
        "#     print('Hello')"
      ]
    },
    {
      "cell_type": "code",
      "execution_count": null,
      "id": "0ffdef19-91c0-4d85-aa8f-79290bc7600a",
      "metadata": {
        "id": "0ffdef19-91c0-4d85-aa8f-79290bc7600a",
        "outputId": "4e075887-f176-4d2c-8e87-bc4a2636f3bb"
      },
      "outputs": [
        {
          "name": "stdout",
          "output_type": "stream",
          "text": [
            "Hello\n"
          ]
        }
      ],
      "source": [
        "while True:\n",
        "    print('Hello')\n",
        "    break"
      ]
    },
    {
      "cell_type": "code",
      "execution_count": null,
      "id": "8ba820fc-cb42-4ddf-a9bd-090d130918c5",
      "metadata": {
        "id": "8ba820fc-cb42-4ddf-a9bd-090d130918c5"
      },
      "outputs": [],
      "source": [
        "# Suppose you are creating a login form.\n",
        "# Take the password from the user.\n",
        "# If the pasword matches then it should say password matched, you are welcome.\n",
        "# If the password doesn't match then it should say Incorrect password and should ask for the password again."
      ]
    },
    {
      "cell_type": "code",
      "execution_count": null,
      "id": "59cc68ee-9013-49f5-ba98-720f99e535ef",
      "metadata": {
        "id": "59cc68ee-9013-49f5-ba98-720f99e535ef",
        "outputId": "ee784557-a97f-4e04-96d8-307a39be2c72"
      },
      "outputs": [
        {
          "name": "stdin",
          "output_type": "stream",
          "text": [
            "Enter the password-  123\n"
          ]
        },
        {
          "name": "stdout",
          "output_type": "stream",
          "text": [
            "Incorrect password\n"
          ]
        },
        {
          "name": "stdin",
          "output_type": "stream",
          "text": [
            "Enter the password again-  abc\n"
          ]
        },
        {
          "name": "stdout",
          "output_type": "stream",
          "text": [
            "Incorrect password\n"
          ]
        },
        {
          "name": "stdin",
          "output_type": "stream",
          "text": [
            "Enter the password again-  jkl\n"
          ]
        },
        {
          "name": "stdout",
          "output_type": "stream",
          "text": [
            "Incorrect password\n"
          ]
        },
        {
          "name": "stdin",
          "output_type": "stream",
          "text": [
            "Enter the password again-  JKL@123\n"
          ]
        },
        {
          "name": "stdout",
          "output_type": "stream",
          "text": [
            "Password matched\n",
            "You are welcome!\n"
          ]
        }
      ],
      "source": [
        "password='JKL@123'\n",
        "\n",
        "pas=input('Enter the password- ')\n",
        "\n",
        "while True:\n",
        "    if pas==password:\n",
        "        print('Password matched')\n",
        "        print('You are welcome!')\n",
        "        break\n",
        "    else:\n",
        "        print('Incorrect password')\n",
        "        pas=input('Enter the password again- ')"
      ]
    },
    {
      "cell_type": "markdown",
      "id": "2bd8ba6d-f48a-4ef0-a93f-6935c8c9a389",
      "metadata": {
        "id": "2bd8ba6d-f48a-4ef0-a93f-6935c8c9a389"
      },
      "source": [
        "# Transfer Statements"
      ]
    },
    {
      "cell_type": "code",
      "execution_count": null,
      "id": "7af5d5df-fd4a-4f7b-b294-509590d204fd",
      "metadata": {
        "id": "7af5d5df-fd4a-4f7b-b294-509590d204fd"
      },
      "outputs": [],
      "source": [
        "# break\n",
        "# continue"
      ]
    },
    {
      "cell_type": "markdown",
      "id": "ef90ebf5-6da6-47fd-8380-2decc2fb6ecd",
      "metadata": {
        "id": "ef90ebf5-6da6-47fd-8380-2decc2fb6ecd"
      },
      "source": [
        "# break"
      ]
    },
    {
      "cell_type": "code",
      "execution_count": null,
      "id": "00d51a9f-1f7b-4024-b292-ea2dbd00b831",
      "metadata": {
        "id": "00d51a9f-1f7b-4024-b292-ea2dbd00b831"
      },
      "outputs": [],
      "source": [
        "# - It is used to terminate a loop.\n",
        "# - As soon as break statement gets executed the control comes out of the loop."
      ]
    },
    {
      "cell_type": "code",
      "execution_count": null,
      "id": "5a3da34c-6075-40bf-8aee-8c53451b84e4",
      "metadata": {
        "id": "5a3da34c-6075-40bf-8aee-8c53451b84e4"
      },
      "outputs": [],
      "source": [
        "loop: # Outer loop\n",
        "    loop: # Inner Loop\n",
        "        break # Inner break\n",
        "    break # Outer break"
      ]
    },
    {
      "cell_type": "code",
      "execution_count": null,
      "id": "f2390fe4-e116-4bbe-aab6-3da1829a3168",
      "metadata": {
        "id": "f2390fe4-e116-4bbe-aab6-3da1829a3168"
      },
      "outputs": [],
      "source": [
        "# - The inner break will terminate the inner loop.\n",
        "# - The outer break will terminate the outer loop."
      ]
    },
    {
      "cell_type": "code",
      "execution_count": null,
      "id": "7c012702-69f6-4760-be0c-f017b7c2de5c",
      "metadata": {
        "id": "7c012702-69f6-4760-be0c-f017b7c2de5c",
        "outputId": "a7be6f22-b239-4a62-c5c2-706ce6f09c93"
      },
      "outputs": [
        {
          "name": "stdout",
          "output_type": "stream",
          "text": [
            "Hello\n"
          ]
        }
      ],
      "source": [
        "for i in range(5):\n",
        "    print('Hello')\n",
        "    break"
      ]
    },
    {
      "cell_type": "code",
      "execution_count": null,
      "id": "9ade710d-f137-45cb-8be2-5e9108a3279e",
      "metadata": {
        "id": "9ade710d-f137-45cb-8be2-5e9108a3279e",
        "outputId": "aa708ccd-fbc7-4a6f-9c89-e52e996bce3f"
      },
      "outputs": [
        {
          "name": "stdout",
          "output_type": "stream",
          "text": [
            "101 aded to the database\n",
            "102 aded to the database\n",
            "103 aded to the database\n",
            "104 aded to the database\n",
            "105 aded to the database\n",
            "106 aded to the database\n"
          ]
        }
      ],
      "source": [
        "codes=[101,102,103,104,105,106,None,107,108]\n",
        "\n",
        "for i in codes:\n",
        "    if i!=None:\n",
        "        print(i,'aded to the database')\n",
        "    else:\n",
        "        break"
      ]
    },
    {
      "cell_type": "code",
      "execution_count": null,
      "id": "f2142cbb-6ad2-4b3e-bf56-a30f4c40cc9a",
      "metadata": {
        "id": "f2142cbb-6ad2-4b3e-bf56-a30f4c40cc9a",
        "outputId": "bc929e2c-e455-433b-8c87-7aa858c6c3fa"
      },
      "outputs": [
        {
          "name": "stdout",
          "output_type": "stream",
          "text": [
            "Python\n",
            "Python\n",
            "Python\n",
            "Python\n",
            "Python\n",
            "Python\n",
            "Python\n",
            "Python\n",
            "Python\n",
            "Python\n",
            "Python\n",
            "Python\n"
          ]
        }
      ],
      "source": [
        "for i in range(3):\n",
        "    for j in range(4):\n",
        "        print('Python')"
      ]
    },
    {
      "cell_type": "code",
      "execution_count": null,
      "id": "4f956202-65e1-4a54-9988-da5d99061e16",
      "metadata": {
        "id": "4f956202-65e1-4a54-9988-da5d99061e16",
        "outputId": "0aca0f79-1b24-4ee7-bf4d-c33f66b7ee6c"
      },
      "outputs": [
        {
          "name": "stdout",
          "output_type": "stream",
          "text": [
            "Python\n",
            "Python\n",
            "Python\n"
          ]
        }
      ],
      "source": [
        "for i in range(3):\n",
        "    for j in range(4):\n",
        "        print('Python')\n",
        "        break"
      ]
    },
    {
      "cell_type": "code",
      "execution_count": null,
      "id": "0a58f864-5225-4bd1-a4a3-6c38ac128e46",
      "metadata": {
        "id": "0a58f864-5225-4bd1-a4a3-6c38ac128e46"
      },
      "outputs": [],
      "source": [
        "# i=0\n",
        "# j=0 -> Python break\n",
        "\n",
        "# i=1\n",
        "# j=0 -> Python break\n",
        "\n",
        "# i=2\n",
        "# j=0 -> Python break\n",
        "# i is exhausted"
      ]
    },
    {
      "cell_type": "code",
      "execution_count": null,
      "id": "f0e8758c-5c3b-4322-943f-cbe69bdb3781",
      "metadata": {
        "id": "f0e8758c-5c3b-4322-943f-cbe69bdb3781",
        "outputId": "d6a189dd-f959-4108-bfda-21090e4d0d73"
      },
      "outputs": [
        {
          "name": "stdout",
          "output_type": "stream",
          "text": [
            "Python\n",
            "Python\n",
            "Python\n",
            "Python\n"
          ]
        }
      ],
      "source": [
        "for i in range(3):\n",
        "    for j in range(4):\n",
        "        print('Python')\n",
        "    break"
      ]
    },
    {
      "cell_type": "code",
      "execution_count": null,
      "id": "ca5cfc77-78f9-41bb-9340-71c135458bcf",
      "metadata": {
        "id": "ca5cfc77-78f9-41bb-9340-71c135458bcf"
      },
      "outputs": [],
      "source": [
        "# i=0\n",
        "# j=0 -> Python, j=1 -> Python, j=2 -> Python, j=3 -> Python exhausted\n",
        "# break"
      ]
    },
    {
      "cell_type": "code",
      "execution_count": null,
      "id": "72452b53-9902-4072-9686-ec656f7a96a2",
      "metadata": {
        "id": "72452b53-9902-4072-9686-ec656f7a96a2",
        "outputId": "3fcb9ea7-6ea0-4d7e-f138-b96b296e95db"
      },
      "outputs": [
        {
          "name": "stdout",
          "output_type": "stream",
          "text": [
            "Python\n"
          ]
        }
      ],
      "source": [
        "for i in range(3):\n",
        "    for j in range(4):\n",
        "        print('Python')\n",
        "        break\n",
        "    break"
      ]
    },
    {
      "cell_type": "code",
      "execution_count": null,
      "id": "7cb1cc4f-bfbc-452d-afda-7287311521b8",
      "metadata": {
        "id": "7cb1cc4f-bfbc-452d-afda-7287311521b8"
      },
      "outputs": [],
      "source": [
        "# i=0\n",
        "# j=0 -> Python break\n",
        "# break"
      ]
    },
    {
      "cell_type": "markdown",
      "id": "e3ab60a1-664c-4224-87ca-5078b302cee8",
      "metadata": {
        "id": "e3ab60a1-664c-4224-87ca-5078b302cee8"
      },
      "source": [
        "# continue"
      ]
    },
    {
      "cell_type": "code",
      "execution_count": null,
      "id": "68276acd-40d7-40f6-83ce-014df16301d9",
      "metadata": {
        "id": "68276acd-40d7-40f6-83ce-014df16301d9"
      },
      "outputs": [],
      "source": [
        "# - It is used to skip the current iteration.\n",
        "# - continue does not terminate the loop but it just skips the current iteration.\n",
        "# - As soon as continue gets executed the control goes to the next iteration."
      ]
    },
    {
      "cell_type": "code",
      "execution_count": null,
      "id": "2cca0f3f-50fe-4574-a1a0-fbb6f1cf9c73",
      "metadata": {
        "id": "2cca0f3f-50fe-4574-a1a0-fbb6f1cf9c73",
        "outputId": "f8bfb184-c235-4c4c-bb88-af8264240343"
      },
      "outputs": [
        {
          "name": "stdout",
          "output_type": "stream",
          "text": [
            "101 added to the database\n",
            "102 added to the database\n",
            "104 added to the database\n",
            "105 added to the database\n",
            "106 added to the database\n",
            "107 added to the database\n",
            "108 added to the database\n"
          ]
        }
      ],
      "source": [
        "codes=[101,102,None,104,105,106,None,107,108]\n",
        "\n",
        "for i in codes:\n",
        "    if i!=None:\n",
        "        print(i,'added to the database')\n",
        "    else:\n",
        "        continue"
      ]
    },
    {
      "cell_type": "code",
      "execution_count": null,
      "id": "d1ff7c9e-b86d-43fe-ae32-c1e2101a1c0e",
      "metadata": {
        "id": "d1ff7c9e-b86d-43fe-ae32-c1e2101a1c0e",
        "outputId": "7a1254b8-3efc-455d-9dba-cf93cebe6823"
      },
      "outputs": [
        {
          "name": "stdout",
          "output_type": "stream",
          "text": [
            "0\n",
            "2\n",
            "4\n",
            "6\n",
            "8\n"
          ]
        }
      ],
      "source": [
        "for i in range(10):\n",
        "    if i%2!=0:\n",
        "        continue\n",
        "    else:\n",
        "        print(i)"
      ]
    },
    {
      "cell_type": "code",
      "execution_count": null,
      "id": "46af0f64-ce94-4610-b2dd-f7b33e46ddfc",
      "metadata": {
        "id": "46af0f64-ce94-4610-b2dd-f7b33e46ddfc"
      },
      "outputs": [],
      "source": [
        "# continue and beak can not be used without loop"
      ]
    },
    {
      "cell_type": "code",
      "execution_count": null,
      "id": "3ea9c20f-1e1d-4bc5-93c8-2dbe8825b7b5",
      "metadata": {
        "id": "3ea9c20f-1e1d-4bc5-93c8-2dbe8825b7b5",
        "outputId": "12815e9d-86c9-4650-bd1e-d3b9674efba0"
      },
      "outputs": [
        {
          "ename": "SyntaxError",
          "evalue": "'break' outside loop (668683560.py, line 1)",
          "output_type": "error",
          "traceback": [
            "\u001b[1;36m  Cell \u001b[1;32mIn[73], line 1\u001b[1;36m\u001b[0m\n\u001b[1;33m    break\u001b[0m\n\u001b[1;37m    ^\u001b[0m\n\u001b[1;31mSyntaxError\u001b[0m\u001b[1;31m:\u001b[0m 'break' outside loop\n"
          ]
        }
      ],
      "source": [
        "break"
      ]
    },
    {
      "cell_type": "code",
      "execution_count": null,
      "id": "168bacfe-929e-4e79-b473-c2fe5ea78f88",
      "metadata": {
        "id": "168bacfe-929e-4e79-b473-c2fe5ea78f88",
        "outputId": "65100511-3848-42c4-d4e5-cb6c3e6c2a89"
      },
      "outputs": [
        {
          "ename": "SyntaxError",
          "evalue": "'continue' not properly in loop (414696514.py, line 1)",
          "output_type": "error",
          "traceback": [
            "\u001b[1;36m  Cell \u001b[1;32mIn[75], line 1\u001b[1;36m\u001b[0m\n\u001b[1;33m    continue\u001b[0m\n\u001b[1;37m    ^\u001b[0m\n\u001b[1;31mSyntaxError\u001b[0m\u001b[1;31m:\u001b[0m 'continue' not properly in loop\n"
          ]
        }
      ],
      "source": [
        "continue"
      ]
    },
    {
      "cell_type": "code",
      "execution_count": null,
      "id": "315254fa-ec6c-46d6-9554-b438e65adf2f",
      "metadata": {
        "id": "315254fa-ec6c-46d6-9554-b438e65adf2f",
        "outputId": "5a72bde0-da65-43ff-a722-83e3debb2420"
      },
      "outputs": [
        {
          "ename": "SyntaxError",
          "evalue": "'continue' not properly in loop (377489523.py, line 2)",
          "output_type": "error",
          "traceback": [
            "\u001b[1;36m  Cell \u001b[1;32mIn[77], line 2\u001b[1;36m\u001b[0m\n\u001b[1;33m    continue\u001b[0m\n\u001b[1;37m    ^\u001b[0m\n\u001b[1;31mSyntaxError\u001b[0m\u001b[1;31m:\u001b[0m 'continue' not properly in loop\n"
          ]
        }
      ],
      "source": [
        "if 2==2:\n",
        "    continue\n",
        "else:\n",
        "    print('Hello')"
      ]
    },
    {
      "cell_type": "code",
      "execution_count": null,
      "id": "9de123fb-894f-4ab3-be70-5f1dceafcc9f",
      "metadata": {
        "id": "9de123fb-894f-4ab3-be70-5f1dceafcc9f",
        "outputId": "aa2911dc-506f-414e-db3f-101f939c7793"
      },
      "outputs": [
        {
          "ename": "SyntaxError",
          "evalue": "'break' outside loop (2747518663.py, line 2)",
          "output_type": "error",
          "traceback": [
            "\u001b[1;36m  Cell \u001b[1;32mIn[79], line 2\u001b[1;36m\u001b[0m\n\u001b[1;33m    break\u001b[0m\n\u001b[1;37m    ^\u001b[0m\n\u001b[1;31mSyntaxError\u001b[0m\u001b[1;31m:\u001b[0m 'break' outside loop\n"
          ]
        }
      ],
      "source": [
        "if 2==2:\n",
        "    break\n",
        "else:\n",
        "    print('Hello')"
      ]
    },
    {
      "cell_type": "markdown",
      "id": "93118b41-e494-446e-81b3-d02332d2fac1",
      "metadata": {
        "id": "93118b41-e494-446e-81b3-d02332d2fac1"
      },
      "source": [
        "# pass"
      ]
    },
    {
      "cell_type": "code",
      "execution_count": null,
      "id": "2ef7d5b1-0ffc-4ca6-89f5-81ef9cd27928",
      "metadata": {
        "id": "2ef7d5b1-0ffc-4ca6-89f5-81ef9cd27928"
      },
      "outputs": [],
      "source": [
        "# - It is an empty statement.\n",
        "# - When we don't have any statement to put the we simply use pass"
      ]
    },
    {
      "cell_type": "code",
      "execution_count": null,
      "id": "8200d593-8226-4a48-ac9f-b38c83573c63",
      "metadata": {
        "id": "8200d593-8226-4a48-ac9f-b38c83573c63"
      },
      "outputs": [],
      "source": [
        "if 2==2:\n",
        "    pass\n",
        "else:\n",
        "    print('Somthing else')"
      ]
    },
    {
      "cell_type": "code",
      "execution_count": null,
      "id": "32e9f555-9ea6-4a81-8fd9-6e1f6a36d160",
      "metadata": {
        "id": "32e9f555-9ea6-4a81-8fd9-6e1f6a36d160"
      },
      "outputs": [],
      "source": [
        "for i in range(6):\n",
        "    pass"
      ]
    },
    {
      "cell_type": "code",
      "execution_count": null,
      "id": "837c00bc-b23b-4cca-b504-81ecf5a75ba9",
      "metadata": {
        "id": "837c00bc-b23b-4cca-b504-81ecf5a75ba9",
        "outputId": "dff82254-6556-4e69-97c0-702ff5e46ada"
      },
      "outputs": [
        {
          "name": "stdout",
          "output_type": "stream",
          "text": [
            "5\n"
          ]
        }
      ],
      "source": [
        "print(i)"
      ]
    },
    {
      "cell_type": "markdown",
      "id": "92b56965-cf7a-47b3-9076-525b8e4de3ec",
      "metadata": {
        "id": "92b56965-cf7a-47b3-9076-525b8e4de3ec"
      },
      "source": [
        "# pass vs continue"
      ]
    },
    {
      "cell_type": "code",
      "execution_count": null,
      "id": "04e97942-b297-4357-b356-47452ae0906c",
      "metadata": {
        "id": "04e97942-b297-4357-b356-47452ae0906c"
      },
      "outputs": [],
      "source": [
        "# pass can be used in any indented block.\n",
        "# continue can be used with the loops only.\n",
        "\n",
        "# pass does not redirect the control.\n",
        "# continue redirects the control to the next iteration."
      ]
    },
    {
      "cell_type": "code",
      "execution_count": null,
      "id": "36b81382-b600-4ab4-a2f9-ccd0a228411c",
      "metadata": {
        "id": "36b81382-b600-4ab4-a2f9-ccd0a228411c",
        "outputId": "d890000a-8ae5-45fb-cb75-c0f736794940"
      },
      "outputs": [
        {
          "name": "stdout",
          "output_type": "stream",
          "text": [
            "Not equal\n"
          ]
        }
      ],
      "source": [
        "a=10\n",
        "b=15\n",
        "\n",
        "if a==b:\n",
        "    pass\n",
        "else:\n",
        "    print('Not equal')"
      ]
    },
    {
      "cell_type": "code",
      "execution_count": null,
      "id": "895b169e-ddba-4557-b102-ad5c747d2730",
      "metadata": {
        "id": "895b169e-ddba-4557-b102-ad5c747d2730",
        "outputId": "ac601126-911b-47c9-bce8-0f89d60ed3c8"
      },
      "outputs": [
        {
          "name": "stdout",
          "output_type": "stream",
          "text": [
            "0 even\n",
            "2 even\n",
            "4 even\n"
          ]
        }
      ],
      "source": [
        "for i in range(6):\n",
        "    if i%2==0:\n",
        "        print(i,'even')\n",
        "    else:\n",
        "        continue\n",
        "        print(i,'Not even')"
      ]
    },
    {
      "cell_type": "code",
      "execution_count": null,
      "id": "9cbc5cf0-ecf7-40a2-b01a-1428a5b9b119",
      "metadata": {
        "id": "9cbc5cf0-ecf7-40a2-b01a-1428a5b9b119",
        "outputId": "6d2ca560-1b8c-4dfb-9d7b-84132509b371"
      },
      "outputs": [
        {
          "name": "stdout",
          "output_type": "stream",
          "text": [
            "0 even\n",
            "1 Not even\n",
            "2 even\n",
            "3 Not even\n",
            "4 even\n",
            "5 Not even\n"
          ]
        }
      ],
      "source": [
        "for i in range(6):\n",
        "    if i%2==0:\n",
        "        print(i,'even')\n",
        "    else:\n",
        "        pass\n",
        "        print(i,'Not even')"
      ]
    },
    {
      "cell_type": "code",
      "execution_count": null,
      "id": "e688b009-1be0-4855-ae21-d9f50fc33d2d",
      "metadata": {
        "id": "e688b009-1be0-4855-ae21-d9f50fc33d2d"
      },
      "outputs": [],
      "source": [
        "# Take a number from the user and print whether it is prime or not"
      ]
    },
    {
      "cell_type": "code",
      "execution_count": null,
      "id": "1e3d4bfe-6cea-42d7-9327-e172db354be1",
      "metadata": {
        "id": "1e3d4bfe-6cea-42d7-9327-e172db354be1"
      },
      "outputs": [],
      "source": [
        "# a=6\n",
        "# 2,3,4,5\n",
        "\n",
        "# a=7\n",
        "# 2,3,4,5,6"
      ]
    },
    {
      "cell_type": "code",
      "execution_count": null,
      "id": "2f21dee7-3a6a-4442-bae7-e9ead1c71905",
      "metadata": {
        "id": "2f21dee7-3a6a-4442-bae7-e9ead1c71905",
        "outputId": "1a56a4c4-0273-4d6c-e95a-bcf651d4c874"
      },
      "outputs": [
        {
          "name": "stdout",
          "output_type": "stream",
          "text": [
            "Prime number\n"
          ]
        }
      ],
      "source": [
        "a=5\n",
        "for i in range(2,a):\n",
        "    if a%i==0:\n",
        "        print('Not a prime number')\n",
        "        break\n",
        "else:\n",
        "    print('Prime number')"
      ]
    },
    {
      "cell_type": "code",
      "execution_count": null,
      "id": "61e63c0f-8dcb-4668-874f-a52b5a350ed4",
      "metadata": {
        "id": "61e63c0f-8dcb-4668-874f-a52b5a350ed4",
        "outputId": "05934849-e944-4341-b8a2-c6070e1aba83"
      },
      "outputs": [
        {
          "data": {
            "text/plain": [
              "1"
            ]
          },
          "execution_count": 220,
          "metadata": {},
          "output_type": "execute_result"
        }
      ],
      "source": [
        "5%4"
      ]
    },
    {
      "cell_type": "code",
      "execution_count": null,
      "id": "f123c7c8-713c-4ce5-b7e2-28ebca403ac9",
      "metadata": {
        "id": "f123c7c8-713c-4ce5-b7e2-28ebca403ac9",
        "outputId": "279b59f5-58d1-452e-b405-df9e11450741"
      },
      "outputs": [
        {
          "name": "stdout",
          "output_type": "stream",
          "text": [
            "Prime number\n"
          ]
        }
      ],
      "source": [
        "a=61\n",
        "c=0\n",
        "\n",
        "for i in range(2,a):\n",
        "    if a%i==0:\n",
        "        c+=1\n",
        "\n",
        "# print(c)\n",
        "if c==0:\n",
        "    print('Prime number')\n",
        "else:\n",
        "    print('Not a prime number')"
      ]
    },
    {
      "cell_type": "code",
      "execution_count": null,
      "id": "e55f368c-ef7a-43c1-9043-7b0ab95e0c5e",
      "metadata": {
        "id": "e55f368c-ef7a-43c1-9043-7b0ab95e0c5e"
      },
      "outputs": [],
      "source": [
        "# Create a list that contains prime numbers between 1 and 100\n",
        "\n",
        "prime=[]\n",
        "\n",
        "for i in range(1,101):\n",
        "    for j in range(2,i):\n",
        "        if i%j==0:\n",
        "            break\n",
        "    else:\n",
        "        prime.append(i)"
      ]
    },
    {
      "cell_type": "code",
      "execution_count": null,
      "id": "5ae2c62c-c1a0-41ae-9052-9dd459d185c2",
      "metadata": {
        "id": "5ae2c62c-c1a0-41ae-9052-9dd459d185c2",
        "outputId": "cb38691b-e567-41ab-ed45-b7b266fc8792"
      },
      "outputs": [
        {
          "name": "stdout",
          "output_type": "stream",
          "text": [
            "[1, 2, 3, 5, 7, 11, 13, 17, 19, 23, 29, 31, 37, 41, 43, 47, 53, 59, 61, 67, 71, 73, 79, 83, 89, 97]\n"
          ]
        }
      ],
      "source": [
        "print(prime)"
      ]
    },
    {
      "cell_type": "code",
      "execution_count": null,
      "id": "6e954765-bff7-45a6-9c7d-d37f8df477a1",
      "metadata": {
        "id": "6e954765-bff7-45a6-9c7d-d37f8df477a1"
      },
      "outputs": [],
      "source": [
        "# Create a list that contains prime numbers between 1 and 500\n",
        "\n",
        "prime=[]\n",
        "\n",
        "for i in range(1,501):\n",
        "    for j in range(2,i):\n",
        "        if i%j==0:\n",
        "            break\n",
        "    else:\n",
        "        prime.append(i)"
      ]
    },
    {
      "cell_type": "code",
      "execution_count": null,
      "id": "62867178-9d91-4323-a491-51f271e3a56e",
      "metadata": {
        "id": "62867178-9d91-4323-a491-51f271e3a56e",
        "outputId": "276aa801-e568-4046-c245-13ca36363313"
      },
      "outputs": [
        {
          "name": "stdout",
          "output_type": "stream",
          "text": [
            "[1, 2, 3, 5, 7, 11, 13, 17, 19, 23, 29, 31, 37, 41, 43, 47, 53, 59, 61, 67, 71, 73, 79, 83, 89, 97, 101, 103, 107, 109, 113, 127, 131, 137, 139, 149, 151, 157, 163, 167, 173, 179, 181, 191, 193, 197, 199, 211, 223, 227, 229, 233, 239, 241, 251, 257, 263, 269, 271, 277, 281, 283, 293, 307, 311, 313, 317, 331, 337, 347, 349, 353, 359, 367, 373, 379, 383, 389, 397, 401, 409, 419, 421, 431, 433, 439, 443, 449, 457, 461, 463, 467, 479, 487, 491, 499]\n"
          ]
        }
      ],
      "source": [
        "print(prime)"
      ]
    },
    {
      "cell_type": "code",
      "execution_count": null,
      "id": "d6dd84ce-e705-4fbb-8bef-96152abfbb97",
      "metadata": {
        "id": "d6dd84ce-e705-4fbb-8bef-96152abfbb97",
        "outputId": "c56e1d81-9f18-4a1a-999d-dd9387131859"
      },
      "outputs": [
        {
          "name": "stdout",
          "output_type": "stream",
          "text": [
            "[1, 2, 3, 5, 7, 11, 13, 17, 19, 23, 29, 31, 37, 41, 43, 47, 53, 59, 61, 67, 71, 73, 79, 83, 89, 97]\n"
          ]
        }
      ],
      "source": [
        "prime=[]\n",
        "\n",
        "for i in range(1,101):\n",
        "    c=0\n",
        "    for j in range(2,i):\n",
        "        if i%j==0:\n",
        "            c+=1\n",
        "            break\n",
        "\n",
        "    if c!=0:\n",
        "        pass\n",
        "    else:\n",
        "        prime.append(i)\n",
        "\n",
        "print(prime)"
      ]
    },
    {
      "cell_type": "markdown",
      "id": "7e670f7b-ccd4-421d-80a3-14cbbcae5361",
      "metadata": {
        "id": "7e670f7b-ccd4-421d-80a3-14cbbcae5361"
      },
      "source": [
        "# List"
      ]
    },
    {
      "cell_type": "code",
      "execution_count": null,
      "id": "3b98e8af-b571-4f80-bc3e-3e7c3edf8994",
      "metadata": {
        "id": "3b98e8af-b571-4f80-bc3e-3e7c3edf8994"
      },
      "outputs": [],
      "source": [
        "# - A list is a collection of elements kept inside the [].\n",
        "# - Each element of a list is seperated by a comma.\n",
        "# - A list can heterogenous (different type) elements unlike array.\n",
        "# - A list can contain duplicate elements unlike set and frozenset."
      ]
    },
    {
      "cell_type": "code",
      "execution_count": null,
      "id": "a6da0b32-35aa-4030-ab33-bfc9e351016b",
      "metadata": {
        "id": "a6da0b32-35aa-4030-ab33-bfc9e351016b",
        "outputId": "8913d2ff-580f-4bba-ae29-a3e8610c0153"
      },
      "outputs": [
        {
          "name": "stdout",
          "output_type": "stream",
          "text": [
            "[1, 2, 3, 4, 5] <class 'list'>\n"
          ]
        }
      ],
      "source": [
        "lst=[1,2,3,4,5]\n",
        "print(lst,type(lst))"
      ]
    },
    {
      "cell_type": "code",
      "execution_count": null,
      "id": "8fabc7fb-2997-414a-a25e-766ef18f3a86",
      "metadata": {
        "id": "8fabc7fb-2997-414a-a25e-766ef18f3a86",
        "outputId": "0630fdb8-a20b-420b-d149-733b185c3865"
      },
      "outputs": [
        {
          "name": "stdout",
          "output_type": "stream",
          "text": [
            "['Python', 66, True, 2.666666, (6+6j), {1: 100, 2: 200}, None, (1, 2, 3)] <class 'list'>\n"
          ]
        }
      ],
      "source": [
        "lst=['Python', 66, True, 2.666666, 6+6j, {1:100,2:200}, None, (1,2,3)]\n",
        "print(lst,type(lst))"
      ]
    },
    {
      "cell_type": "code",
      "execution_count": null,
      "id": "a3510751-d962-4ac5-ad53-21cf9bc5d080",
      "metadata": {
        "id": "a3510751-d962-4ac5-ad53-21cf9bc5d080"
      },
      "outputs": [],
      "source": [
        "import numpy as np"
      ]
    },
    {
      "cell_type": "code",
      "execution_count": null,
      "id": "78a32946-d8a4-4ac8-86a1-69e3b0aaf9d9",
      "metadata": {
        "id": "78a32946-d8a4-4ac8-86a1-69e3b0aaf9d9"
      },
      "outputs": [],
      "source": [
        "arr=np.array([10,20,30,40,50])"
      ]
    },
    {
      "cell_type": "code",
      "execution_count": null,
      "id": "f4b63d61-7c1d-4d66-8f2f-34239835e396",
      "metadata": {
        "id": "f4b63d61-7c1d-4d66-8f2f-34239835e396",
        "outputId": "e9505204-0a46-4160-8b68-a069d076635d"
      },
      "outputs": [
        {
          "data": {
            "text/plain": [
              "dtype('int32')"
            ]
          },
          "execution_count": 302,
          "metadata": {},
          "output_type": "execute_result"
        }
      ],
      "source": [
        "arr.dtype"
      ]
    },
    {
      "cell_type": "code",
      "execution_count": null,
      "id": "8e0e26f3-ac35-4066-a70e-d3fedab43ad0",
      "metadata": {
        "id": "8e0e26f3-ac35-4066-a70e-d3fedab43ad0"
      },
      "outputs": [],
      "source": [
        "arr=np.array([10,20,30.55,40,50])"
      ]
    },
    {
      "cell_type": "code",
      "execution_count": null,
      "id": "7a3831bb-9fab-4cf4-b2e0-484267704a06",
      "metadata": {
        "id": "7a3831bb-9fab-4cf4-b2e0-484267704a06",
        "outputId": "d6e77f40-9209-4dd8-f8a7-b27df814a964"
      },
      "outputs": [
        {
          "data": {
            "text/plain": [
              "dtype('float64')"
            ]
          },
          "execution_count": 306,
          "metadata": {},
          "output_type": "execute_result"
        }
      ],
      "source": [
        "arr.dtype"
      ]
    },
    {
      "cell_type": "code",
      "execution_count": null,
      "id": "9540c70e-89e6-49b7-8ebc-6b6380de0977",
      "metadata": {
        "id": "9540c70e-89e6-49b7-8ebc-6b6380de0977",
        "outputId": "9ebc78cb-ca0d-43c1-880e-6c6e2cee167a"
      },
      "outputs": [
        {
          "name": "stdout",
          "output_type": "stream",
          "text": [
            "[2, 5, 6, 4, 4, 7, 8, 5, 3, 6, 9, 8, 7, 4, 5, 6, 2, 1, 5] <class 'list'>\n"
          ]
        }
      ],
      "source": [
        "lst=[2,5,6,4,4,7,8,5,3,6,9,8,7,4,5,6,2,1,5]\n",
        "print(lst,type(lst))"
      ]
    },
    {
      "cell_type": "code",
      "execution_count": null,
      "id": "f85e16c5-c21f-4279-b833-94e186e1e441",
      "metadata": {
        "id": "f85e16c5-c21f-4279-b833-94e186e1e441",
        "outputId": "66daa2a8-7808-403d-9a0e-c054dd2526e0"
      },
      "outputs": [
        {
          "name": "stdout",
          "output_type": "stream",
          "text": [
            "{1, 2, 3, 4, 5, 6, 7, 8, 9} <class 'set'>\n"
          ]
        }
      ],
      "source": [
        "s={2,5,6,4,4,7,8,5,3,6,9,8,7,4,5,6,2,1,5}\n",
        "print(s,type(s))"
      ]
    },
    {
      "cell_type": "code",
      "execution_count": null,
      "id": "63f53518-a4f4-4e43-9f24-d2c89b1c0dd8",
      "metadata": {
        "id": "63f53518-a4f4-4e43-9f24-d2c89b1c0dd8",
        "outputId": "d1be5c20-7eae-472a-9c66-8ae042bc416e"
      },
      "outputs": [
        {
          "name": "stdout",
          "output_type": "stream",
          "text": [
            "frozenset({1, 2, 3, 4, 5, 6, 7, 8, 9}) <class 'frozenset'>\n"
          ]
        }
      ],
      "source": [
        "f=frozenset((2,5,6,4,4,7,8,5,3,6,9,8,7,4,5,6,2,1,5))\n",
        "print(f,type(f))"
      ]
    },
    {
      "cell_type": "markdown",
      "id": "5bb13b58-d0c7-48e7-812c-4a4ece968808",
      "metadata": {
        "id": "5bb13b58-d0c7-48e7-812c-4a4ece968808"
      },
      "source": [
        "# Operations on a list"
      ]
    },
    {
      "cell_type": "code",
      "execution_count": null,
      "id": "e41c117b-55cb-4f10-a585-83306fd2147d",
      "metadata": {
        "id": "e41c117b-55cb-4f10-a585-83306fd2147d"
      },
      "outputs": [],
      "source": [
        "# - Concatenation\n",
        "# - Repeatition\n",
        "# - Length\n",
        "# - Indexing and slicing\n",
        "# - Membership"
      ]
    },
    {
      "cell_type": "markdown",
      "id": "e5dac688-2743-4187-b538-367b1b7ebaba",
      "metadata": {
        "id": "e5dac688-2743-4187-b538-367b1b7ebaba"
      },
      "source": [
        "# Concatenation"
      ]
    },
    {
      "cell_type": "code",
      "execution_count": null,
      "id": "81e2ebb7-0adf-4cac-a9d1-67c776c2dbef",
      "metadata": {
        "id": "81e2ebb7-0adf-4cac-a9d1-67c776c2dbef"
      },
      "outputs": [],
      "source": [
        "# - Joining two or more lists together is known as list concatenation.\n",
        "# - + operator is used to concatenate two lists.\n",
        "# - A list can be concatenated with a list only.\n",
        "# - If we concatenate a list with some other type then it raises type error."
      ]
    },
    {
      "cell_type": "code",
      "execution_count": null,
      "id": "c8451d23-4f79-44b0-9a2d-58845a4b50fd",
      "metadata": {
        "id": "c8451d23-4f79-44b0-9a2d-58845a4b50fd",
        "outputId": "18e7f7fb-3d97-45bd-fb99-19b77bbc656c"
      },
      "outputs": [
        {
          "name": "stdout",
          "output_type": "stream",
          "text": [
            "[1, 2, 4, 6, 8]\n",
            "[1, 2]\n",
            "[4, 6, 8]\n"
          ]
        }
      ],
      "source": [
        "x=[1,2]\n",
        "y=[4,6,8]\n",
        "print(x+y)\n",
        "print(x)\n",
        "print(y)"
      ]
    },
    {
      "cell_type": "code",
      "execution_count": null,
      "id": "429f1706-b6b3-4292-9e1a-181641842d44",
      "metadata": {
        "id": "429f1706-b6b3-4292-9e1a-181641842d44",
        "outputId": "9642e2a0-f75d-44dd-80aa-01c96966de83"
      },
      "outputs": [
        {
          "name": "stdout",
          "output_type": "stream",
          "text": [
            "[1, 2, 3, 5]\n"
          ]
        }
      ],
      "source": [
        "x=[1,2,3]\n",
        "# Conctenate 5 to the above list.\n",
        "\n",
        "res=x+[5]\n",
        "print(res)"
      ]
    },
    {
      "cell_type": "code",
      "execution_count": null,
      "id": "f69a3784-a50a-43e2-927d-8145b5c951a5",
      "metadata": {
        "id": "f69a3784-a50a-43e2-927d-8145b5c951a5",
        "outputId": "e1287494-8834-4e73-da34-9e245a028212"
      },
      "outputs": [
        {
          "data": {
            "text/plain": [
              "[5, 2.4, 'Python']"
            ]
          },
          "execution_count": 352,
          "metadata": {},
          "output_type": "execute_result"
        }
      ],
      "source": [
        "[]+[5]+[2.4]+['Python']"
      ]
    },
    {
      "cell_type": "code",
      "execution_count": null,
      "id": "28e372ff-d7a8-4684-b3d2-8386a85dacc6",
      "metadata": {
        "id": "28e372ff-d7a8-4684-b3d2-8386a85dacc6",
        "outputId": "9d9000a1-54bb-412e-9fc3-21cf09ddfead"
      },
      "outputs": [
        {
          "name": "stdout",
          "output_type": "stream",
          "text": [
            "['Amit']\n",
            "['Amit', 'Kumar']\n"
          ]
        }
      ],
      "source": [
        "name='Amit'\n",
        "sur_name='Kumar'\n",
        "full_name=[]\n",
        "\n",
        "full_name=full_name+[name]\n",
        "print(full_name)\n",
        "\n",
        "full_name=full_name+[sur_name]\n",
        "print(full_name)"
      ]
    },
    {
      "cell_type": "code",
      "execution_count": null,
      "id": "9548e64a-cfe0-4fcb-8c2e-07d85030e563",
      "metadata": {
        "id": "9548e64a-cfe0-4fcb-8c2e-07d85030e563",
        "outputId": "aa7b934f-97d7-43a4-8463-ba601b90d547"
      },
      "outputs": [
        {
          "name": "stdout",
          "output_type": "stream",
          "text": [
            "['Peter', 'piper', 'picked', 'a', 'pack', 'of', 'pickeled', 'peppers']\n"
          ]
        }
      ],
      "source": [
        "my_str='Peter piper picked a pack of pickeled peppers'\n",
        "\n",
        "lst=[]\n",
        "s=''\n",
        "\n",
        "for i in my_str:\n",
        "    if i!=' ':\n",
        "        s+=i\n",
        "    else:\n",
        "        lst=lst+[s] # lst+=[s]\n",
        "        s=''\n",
        "\n",
        "lst=lst+[s] # lst+=[s]\n",
        "print(lst)"
      ]
    },
    {
      "cell_type": "markdown",
      "id": "ade97f4e-f452-4052-b9e2-f13debd567f6",
      "metadata": {
        "id": "ade97f4e-f452-4052-b9e2-f13debd567f6"
      },
      "source": [
        "# Repeatition"
      ]
    },
    {
      "cell_type": "code",
      "execution_count": null,
      "id": "5b46f166-f211-4300-b2fb-bf1d62c467d4",
      "metadata": {
        "id": "5b46f166-f211-4300-b2fb-bf1d62c467d4"
      },
      "outputs": [],
      "source": [
        "# - * operator is used to repeat a list n times."
      ]
    },
    {
      "cell_type": "code",
      "execution_count": null,
      "id": "3e8043b6-d406-42f5-b17f-92958df8553d",
      "metadata": {
        "id": "3e8043b6-d406-42f5-b17f-92958df8553d"
      },
      "outputs": [],
      "source": [
        "# lst*number_of_repeatition"
      ]
    },
    {
      "cell_type": "code",
      "execution_count": null,
      "id": "548a044b-2b2e-49f3-b342-e0193bb4e63a",
      "metadata": {
        "id": "548a044b-2b2e-49f3-b342-e0193bb4e63a",
        "outputId": "f040aa73-82a8-4f13-e3c7-b288670fa99f"
      },
      "outputs": [
        {
          "name": "stdout",
          "output_type": "stream",
          "text": [
            "[10, 20, 30, 40, 50, 10, 20, 30, 40, 50, 10, 20, 30, 40, 50]\n"
          ]
        }
      ],
      "source": [
        "lst=[10,20,30,40,50]\n",
        "print(lst*3)"
      ]
    },
    {
      "cell_type": "code",
      "execution_count": null,
      "id": "de473ddc-8d35-41e1-9bea-184e8bf5c661",
      "metadata": {
        "id": "de473ddc-8d35-41e1-9bea-184e8bf5c661",
        "outputId": "88e61001-a08b-4fb5-f79d-c939a98ee983"
      },
      "outputs": [
        {
          "name": "stdout",
          "output_type": "stream",
          "text": [
            "[15, 25, 35, 45, 55]\n"
          ]
        }
      ],
      "source": [
        "res=[]\n",
        "for i in lst:\n",
        "    res+=[i+5]\n",
        "print(res)"
      ]
    },
    {
      "cell_type": "markdown",
      "id": "548da7fe-2f17-470e-b712-91b4e5b9c810",
      "metadata": {
        "id": "548da7fe-2f17-470e-b712-91b4e5b9c810"
      },
      "source": [
        "# Length of a list"
      ]
    },
    {
      "cell_type": "code",
      "execution_count": null,
      "id": "e2240886-11bd-492b-8d97-d7e2cc97ff13",
      "metadata": {
        "id": "e2240886-11bd-492b-8d97-d7e2cc97ff13"
      },
      "outputs": [],
      "source": [
        "# - The number of elements in a list is known as the length of the list.\n",
        "# - len() returns the length of the list."
      ]
    },
    {
      "cell_type": "code",
      "execution_count": null,
      "id": "8c9f9074-60e6-4abb-8fc0-c8fa70916c59",
      "metadata": {
        "id": "8c9f9074-60e6-4abb-8fc0-c8fa70916c59",
        "outputId": "6ac53f10-811c-4849-c075-523fcbb5823d"
      },
      "outputs": [
        {
          "name": "stdout",
          "output_type": "stream",
          "text": [
            "['Python', 66, True, 2.666666, (6+6j), {1: 100, 2: 200}, None, (1, 2, 3)] <class 'list'>\n",
            "8\n"
          ]
        }
      ],
      "source": [
        "lst=['Python', 66, True, 2.666666, 6+6j, {1:100,2:200}, None, (1,2,3)]\n",
        "print(lst,type(lst))\n",
        "print(len(lst))"
      ]
    },
    {
      "cell_type": "code",
      "execution_count": null,
      "id": "8d45edab-1a14-469b-9d3a-a5eef1312268",
      "metadata": {
        "id": "8d45edab-1a14-469b-9d3a-a5eef1312268",
        "outputId": "4aef09c7-2ce7-4cd1-f413-c89ee6206fde"
      },
      "outputs": [
        {
          "name": "stdout",
          "output_type": "stream",
          "text": [
            "9\n"
          ]
        }
      ],
      "source": [
        "lst=[10,20,30,40,50,60,70,80,90]\n",
        "print(len(lst))"
      ]
    },
    {
      "cell_type": "markdown",
      "id": "4c651aff-a932-4913-b772-03181049daa6",
      "metadata": {
        "id": "4c651aff-a932-4913-b772-03181049daa6"
      },
      "source": [
        "# Indexing and Slicing"
      ]
    },
    {
      "cell_type": "markdown",
      "id": "b8f454e7-8c13-47be-8b50-10327ba9829f",
      "metadata": {
        "id": "b8f454e7-8c13-47be-8b50-10327ba9829f"
      },
      "source": [
        "### Indexing"
      ]
    },
    {
      "cell_type": "code",
      "execution_count": null,
      "id": "b285c015-9469-44c2-ba1d-d7823b8c81d6",
      "metadata": {
        "id": "b285c015-9469-44c2-ba1d-d7823b8c81d6"
      },
      "outputs": [],
      "source": [
        "# - A list is an ordered collection of data each element of a list is stored at a particular index.\n",
        "# - A list is also known as sequence type as it follows indexing.\n",
        "# - A list supports positive and negative indexing both."
      ]
    },
    {
      "cell_type": "code",
      "execution_count": null,
      "id": "427991f0-c729-4d1d-8ffd-3d603de64119",
      "metadata": {
        "id": "427991f0-c729-4d1d-8ffd-3d603de64119",
        "outputId": "6194a717-46c6-4fa7-bbba-541551049949"
      },
      "outputs": [
        {
          "name": "stdout",
          "output_type": "stream",
          "text": [
            "10\n",
            "10\n",
            "10\n"
          ]
        }
      ],
      "source": [
        "lst=[10,20,30,40,50,60,70,80]\n",
        "\n",
        "# First element\n",
        "print(lst[0])\n",
        "print(lst[-8])\n",
        "print(lst[-len(lst)])"
      ]
    },
    {
      "cell_type": "code",
      "execution_count": null,
      "id": "192ee4e4-8889-4123-88d0-156bcee8704a",
      "metadata": {
        "id": "192ee4e4-8889-4123-88d0-156bcee8704a",
        "outputId": "670f10ac-0558-4582-9c23-ea60edec130f"
      },
      "outputs": [
        {
          "data": {
            "text/plain": [
              "-8"
            ]
          },
          "execution_count": 422,
          "metadata": {},
          "output_type": "execute_result"
        }
      ],
      "source": [
        "-len(lst)"
      ]
    },
    {
      "cell_type": "code",
      "execution_count": null,
      "id": "14912fa0-1937-44f9-a6da-5cbcdc4db1cd",
      "metadata": {
        "id": "14912fa0-1937-44f9-a6da-5cbcdc4db1cd",
        "outputId": "cba368e7-f5fc-4218-887b-e0a3fb2c3353"
      },
      "outputs": [
        {
          "name": "stdout",
          "output_type": "stream",
          "text": [
            "80\n",
            "80\n",
            "80\n"
          ]
        }
      ],
      "source": [
        "lst=[10,20,30,40,50,60,70,80]\n",
        "\n",
        "# Last element\n",
        "\n",
        "print(lst[-1])\n",
        "print(lst[7])\n",
        "print(lst[len(lst)-1])"
      ]
    },
    {
      "cell_type": "code",
      "execution_count": null,
      "id": "d1423527-2e4b-4d84-ab40-8528966c3fde",
      "metadata": {
        "id": "d1423527-2e4b-4d84-ab40-8528966c3fde",
        "outputId": "04ea67f5-1b76-4bfa-bb0d-3ae68cb48392"
      },
      "outputs": [
        {
          "data": {
            "text/plain": [
              "7"
            ]
          },
          "execution_count": 434,
          "metadata": {},
          "output_type": "execute_result"
        }
      ],
      "source": [
        "len(lst)-1"
      ]
    },
    {
      "cell_type": "code",
      "execution_count": null,
      "id": "a90b7772-ffb2-4109-aa08-dcb56fde0f01",
      "metadata": {
        "id": "a90b7772-ffb2-4109-aa08-dcb56fde0f01",
        "outputId": "3eb654b0-9efe-4baf-ec40-10b23f9c5006"
      },
      "outputs": [
        {
          "ename": "IndexError",
          "evalue": "list index out of range",
          "output_type": "error",
          "traceback": [
            "\u001b[1;31m---------------------------------------------------------------------------\u001b[0m",
            "\u001b[1;31mIndexError\u001b[0m                                Traceback (most recent call last)",
            "Cell \u001b[1;32mIn[438], line 3\u001b[0m\n\u001b[0;32m      1\u001b[0m lst\u001b[38;5;241m=\u001b[39m[\u001b[38;5;241m10\u001b[39m,\u001b[38;5;241m20\u001b[39m,\u001b[38;5;241m30\u001b[39m,\u001b[38;5;241m40\u001b[39m,\u001b[38;5;241m50\u001b[39m,\u001b[38;5;241m60\u001b[39m,\u001b[38;5;241m70\u001b[39m,\u001b[38;5;241m80\u001b[39m]\n\u001b[1;32m----> 3\u001b[0m \u001b[38;5;28mprint\u001b[39m(lst[\u001b[38;5;241m-\u001b[39m\u001b[38;5;241m12\u001b[39m])\n",
            "\u001b[1;31mIndexError\u001b[0m: list index out of range"
          ]
        }
      ],
      "source": [
        "lst=[10,20,30,40,50,60,70,80]\n",
        "\n",
        "print(lst[-12])"
      ]
    },
    {
      "cell_type": "code",
      "execution_count": null,
      "id": "38ba087c-8c8c-43dd-8a9d-a335cc18ca75",
      "metadata": {
        "id": "38ba087c-8c8c-43dd-8a9d-a335cc18ca75",
        "outputId": "4629ea6c-8b32-46b0-f4b0-09dc05d384d6"
      },
      "outputs": [
        {
          "ename": "IndexError",
          "evalue": "list index out of range",
          "output_type": "error",
          "traceback": [
            "\u001b[1;31m---------------------------------------------------------------------------\u001b[0m",
            "\u001b[1;31mIndexError\u001b[0m                                Traceback (most recent call last)",
            "Cell \u001b[1;32mIn[440], line 3\u001b[0m\n\u001b[0;32m      1\u001b[0m lst\u001b[38;5;241m=\u001b[39m[\u001b[38;5;241m10\u001b[39m,\u001b[38;5;241m20\u001b[39m,\u001b[38;5;241m30\u001b[39m,\u001b[38;5;241m40\u001b[39m,\u001b[38;5;241m50\u001b[39m,\u001b[38;5;241m60\u001b[39m,\u001b[38;5;241m70\u001b[39m,\u001b[38;5;241m80\u001b[39m]\n\u001b[1;32m----> 3\u001b[0m \u001b[38;5;28mprint\u001b[39m(lst[\u001b[38;5;241m11\u001b[39m])\n",
            "\u001b[1;31mIndexError\u001b[0m: list index out of range"
          ]
        }
      ],
      "source": [
        "lst=[10,20,30,40,50,60,70,80]\n",
        "\n",
        "print(lst[11])"
      ]
    },
    {
      "cell_type": "markdown",
      "id": "271f64db-47b3-4157-ba75-f178a37caf4c",
      "metadata": {
        "id": "271f64db-47b3-4157-ba75-f178a37caf4c"
      },
      "source": [
        "### Slicing"
      ]
    },
    {
      "cell_type": "code",
      "execution_count": null,
      "id": "11b8bfe0-6ab3-4ada-93d2-8263eb1d89f5",
      "metadata": {
        "id": "11b8bfe0-6ab3-4ada-93d2-8263eb1d89f5"
      },
      "outputs": [],
      "source": [
        "# - To fetch a sublist from a list is known as list slicing."
      ]
    },
    {
      "cell_type": "code",
      "execution_count": null,
      "id": "5debd3ea-7996-4c04-af4b-ce5a9fe5861d",
      "metadata": {
        "id": "5debd3ea-7996-4c04-af4b-ce5a9fe5861d"
      },
      "outputs": [],
      "source": [
        "# [start:stop:step]\n",
        "# stop is excluded\n",
        "# step is 1 by default"
      ]
    },
    {
      "cell_type": "code",
      "execution_count": null,
      "id": "de7a6082-504e-42cc-8e30-7da250425849",
      "metadata": {
        "id": "de7a6082-504e-42cc-8e30-7da250425849",
        "outputId": "e830cdc8-efab-4848-ac5a-2bb67f180aa1"
      },
      "outputs": [
        {
          "name": "stdout",
          "output_type": "stream",
          "text": [
            "[10, 20, 30]\n",
            "[10, 20, 30]\n"
          ]
        }
      ],
      "source": [
        "lst=[10,20,30,40,50,60,70,80]\n",
        "\n",
        "# First three elements\n",
        "print(lst[0:3])\n",
        "print(lst[0:3:1])"
      ]
    },
    {
      "cell_type": "code",
      "execution_count": null,
      "id": "ede23afb-f443-4f23-b91f-f23debe09835",
      "metadata": {
        "id": "ede23afb-f443-4f23-b91f-f23debe09835",
        "outputId": "4d33e088-924b-4cf5-81ee-91144508251c"
      },
      "outputs": [
        {
          "name": "stdout",
          "output_type": "stream",
          "text": [
            "[80, 70, 60, 50, 40, 30, 20, 10]\n"
          ]
        }
      ],
      "source": [
        "# Reverse the list\n",
        "\n",
        "print(lst[::-1])"
      ]
    },
    {
      "cell_type": "markdown",
      "id": "c15b85fa-419c-4b9a-96ae-df290cfc9c9f",
      "metadata": {
        "id": "c15b85fa-419c-4b9a-96ae-df290cfc9c9f"
      },
      "source": [
        "### When the step is +ive"
      ]
    },
    {
      "cell_type": "code",
      "execution_count": null,
      "id": "206e263a-12b3-4827-aeee-4cb7cdcdbe83",
      "metadata": {
        "id": "206e263a-12b3-4827-aeee-4cb7cdcdbe83"
      },
      "outputs": [],
      "source": [
        "# - The default start is 0\n",
        "# - The default stop is len(lst)"
      ]
    },
    {
      "cell_type": "markdown",
      "id": "74d13ca6-ef8e-438f-83f8-93357d319728",
      "metadata": {
        "id": "74d13ca6-ef8e-438f-83f8-93357d319728"
      },
      "source": [
        "### When the step is -ive"
      ]
    },
    {
      "cell_type": "code",
      "execution_count": null,
      "id": "49d840fb-cce0-4c6d-a5dc-7bf4b4efb877",
      "metadata": {
        "id": "49d840fb-cce0-4c6d-a5dc-7bf4b4efb877"
      },
      "outputs": [],
      "source": [
        "# The default start is -1\n",
        "# The default stop is -len(lst)-1"
      ]
    },
    {
      "cell_type": "code",
      "execution_count": null,
      "id": "6d22edc2-e15f-4089-b7a3-1293febae5f6",
      "metadata": {
        "id": "6d22edc2-e15f-4089-b7a3-1293febae5f6",
        "outputId": "ec7b0b9b-8494-4f7c-d166-7bd6a90d9450"
      },
      "outputs": [
        {
          "name": "stdout",
          "output_type": "stream",
          "text": [
            "[10, 20, 30, 40, 50, 60, 70, 80]\n",
            "[10, 20, 30, 40, 50, 60, 70, 80]\n",
            "[10, 20, 30, 40, 50, 60, 70, 80]\n",
            "[10, 20, 30, 40, 50, 60, 70, 80]\n"
          ]
        }
      ],
      "source": [
        "lst=[10,20,30,40,50,60,70,80]\n",
        "\n",
        "print(lst[0:len(lst):1])\n",
        "print(lst[:len(lst):1])\n",
        "print(lst[0::1])\n",
        "print(lst[::])"
      ]
    },
    {
      "cell_type": "code",
      "execution_count": null,
      "id": "9fcddd10-748b-4ded-abf9-3f8027d18c57",
      "metadata": {
        "id": "9fcddd10-748b-4ded-abf9-3f8027d18c57",
        "outputId": "897fef92-6c84-491b-ba5a-273b7eeeff04"
      },
      "outputs": [
        {
          "name": "stdout",
          "output_type": "stream",
          "text": [
            "[80, 70, 60, 50, 40, 30, 20, 10]\n",
            "[80, 70, 60, 50, 40, 30, 20, 10]\n",
            "[80, 70, 60, 50, 40, 30, 20, 10]\n",
            "[80, 70, 60, 50, 40, 30, 20, 10]\n"
          ]
        }
      ],
      "source": [
        "lst=[10,20,30,40,50,60,70,80]\n",
        "\n",
        "print(lst[-1:-len(lst)-1:-1])\n",
        "print(lst[:-len(lst)-1:-1])\n",
        "print(lst[-1::-1])\n",
        "print(lst[::-1])"
      ]
    },
    {
      "cell_type": "code",
      "execution_count": null,
      "id": "79efd78a-93f9-407d-ac38-d8f0829e9ef7",
      "metadata": {
        "id": "79efd78a-93f9-407d-ac38-d8f0829e9ef7",
        "outputId": "34dfd8c6-e25d-4f8c-e2fc-30b5d9d06b2a"
      },
      "outputs": [
        {
          "name": "stdout",
          "output_type": "stream",
          "text": [
            "[10, 20, 30, 40, 50]\n",
            "[10, 20, 30, 40, 50]\n"
          ]
        }
      ],
      "source": [
        "lst=[10,20,30,40,50,60,70,80]\n",
        "\n",
        "print(lst[0:-3:1])\n",
        "print(lst[:-3])"
      ]
    },
    {
      "cell_type": "code",
      "execution_count": null,
      "id": "39398d83-6070-42f6-8f53-40f4d97d8248",
      "metadata": {
        "id": "39398d83-6070-42f6-8f53-40f4d97d8248",
        "outputId": "9d85ba96-72b6-4411-d161-e2ba596db54b"
      },
      "outputs": [
        {
          "name": "stdout",
          "output_type": "stream",
          "text": [
            "[30, 40, 50, 60]\n",
            "[30, 40, 50, 60]\n"
          ]
        }
      ],
      "source": [
        "lst=[10,20,30,40,50,60,70,80]\n",
        "\n",
        "print(lst[-6:-2:1])\n",
        "print(lst[-6:-2])"
      ]
    },
    {
      "cell_type": "code",
      "execution_count": null,
      "id": "25ad4296-6a15-4d48-9560-a041975041a3",
      "metadata": {
        "id": "25ad4296-6a15-4d48-9560-a041975041a3",
        "outputId": "9a73ff78-39e8-4b81-e52f-5765582e758b"
      },
      "outputs": [
        {
          "name": "stdout",
          "output_type": "stream",
          "text": [
            "[80, 70, 60]\n"
          ]
        }
      ],
      "source": [
        "lst=[10,20,30,40,50,60,70,80]\n",
        "\n",
        "print(lst[:-4:-1])"
      ]
    },
    {
      "cell_type": "code",
      "execution_count": null,
      "id": "37150312-b215-45af-9f9a-83c83126a3b7",
      "metadata": {
        "id": "37150312-b215-45af-9f9a-83c83126a3b7",
        "outputId": "963fed0f-e912-40a1-b538-9af03d29daa6"
      },
      "outputs": [
        {
          "name": "stdout",
          "output_type": "stream",
          "text": [
            "[50, 40, 30, 20, 10]\n"
          ]
        }
      ],
      "source": [
        "lst=[10,20,30,40,50,60,70,80]\n",
        "\n",
        "print(lst[-4::-1])"
      ]
    },
    {
      "cell_type": "code",
      "execution_count": null,
      "id": "58ddd99b-cdf2-4506-beaf-89a35cc8ab60",
      "metadata": {
        "id": "58ddd99b-cdf2-4506-beaf-89a35cc8ab60",
        "outputId": "46a5af4d-adcf-4b5b-ff52-e77aa93cb7d2"
      },
      "outputs": [
        {
          "name": "stdout",
          "output_type": "stream",
          "text": [
            "[10, 30]\n"
          ]
        }
      ],
      "source": [
        "lst=[10,20,30,40,50,60,70,80]\n",
        "\n",
        "print(lst[:-4:2])"
      ]
    },
    {
      "cell_type": "code",
      "execution_count": null,
      "id": "d045dbbf-3274-4469-9a23-17fadd6fe316",
      "metadata": {
        "id": "d045dbbf-3274-4469-9a23-17fadd6fe316",
        "outputId": "b077ebd9-3842-44f0-fcba-1051a2ac566a"
      },
      "outputs": [
        {
          "name": "stdout",
          "output_type": "stream",
          "text": [
            "[]\n"
          ]
        }
      ],
      "source": [
        "lst=[10,20,30,40,50,60,70,80]\n",
        "\n",
        "print(lst[-2:-4:])"
      ]
    },
    {
      "cell_type": "code",
      "execution_count": null,
      "id": "3b799e93-be5c-410d-8654-7cac96c56370",
      "metadata": {
        "id": "3b799e93-be5c-410d-8654-7cac96c56370",
        "outputId": "fd672249-9f3d-4429-817c-9528f875187c"
      },
      "outputs": [
        {
          "name": "stdout",
          "output_type": "stream",
          "text": [
            "[]\n"
          ]
        }
      ],
      "source": [
        "lst=[10,20,30,40,50,60,70,80]\n",
        "\n",
        "print(lst[-6:-2:-1])"
      ]
    },
    {
      "cell_type": "code",
      "execution_count": null,
      "id": "901629bd-23ec-404f-976a-7cff384569d4",
      "metadata": {
        "id": "901629bd-23ec-404f-976a-7cff384569d4",
        "outputId": "f2cff213-53c8-4f4b-b884-41f24f3aa189"
      },
      "outputs": [
        {
          "name": "stdout",
          "output_type": "stream",
          "text": [
            "2\n",
            "4\n",
            "4\n"
          ]
        }
      ],
      "source": [
        "lst=[10,20,30,[1,2,3,4],40,50,60]\n",
        "\n",
        "# Fetch 2\n",
        "print(lst[3][1])\n",
        "\n",
        "# Fetch 4\n",
        "print(lst[3][-1])\n",
        "print(lst[3][3])"
      ]
    },
    {
      "cell_type": "markdown",
      "id": "a6ee4c50-7f33-42de-87ca-6ceceb5a545b",
      "metadata": {
        "id": "a6ee4c50-7f33-42de-87ca-6ceceb5a545b"
      },
      "source": [
        "# Memebership"
      ]
    },
    {
      "cell_type": "code",
      "execution_count": null,
      "id": "2b743245-bbf4-4734-9fd7-76732ca142e8",
      "metadata": {
        "id": "2b743245-bbf4-4734-9fd7-76732ca142e8"
      },
      "outputs": [],
      "source": [
        "# Since list is a container type so we can membership operators with a list."
      ]
    },
    {
      "cell_type": "code",
      "execution_count": null,
      "id": "72015b94-4e57-485e-8d19-69b931ce034f",
      "metadata": {
        "id": "72015b94-4e57-485e-8d19-69b931ce034f",
        "outputId": "f55cd4c5-c8a0-4ec6-bbd9-712595c205e9"
      },
      "outputs": [
        {
          "name": "stdout",
          "output_type": "stream",
          "text": [
            "True\n",
            "False\n",
            "True\n",
            "False\n"
          ]
        }
      ],
      "source": [
        "lst=['Hello','Python', 55, 4.8888888, {1:100,2:200}, True, (1,2,3,4,5)]\n",
        "\n",
        "print('Python' in lst)\n",
        "print(3 in lst)\n",
        "\n",
        "print(1000 not in lst)\n",
        "print(55 not in lst)"
      ]
    },
    {
      "cell_type": "markdown",
      "id": "a1920083-4926-4b5b-8073-9daa54a6572b",
      "metadata": {
        "id": "a1920083-4926-4b5b-8073-9daa54a6572b"
      },
      "source": [
        "# How to create a list?"
      ]
    },
    {
      "cell_type": "markdown",
      "id": "3d84c1d9-83c0-46cc-bd7f-0e9d4bb99a90",
      "metadata": {
        "id": "3d84c1d9-83c0-46cc-bd7f-0e9d4bb99a90"
      },
      "source": [
        "# Case_1\n",
        "- When we already know the elements"
      ]
    },
    {
      "cell_type": "code",
      "execution_count": null,
      "id": "a7b344d8-7c86-4514-b068-dff5390c4dbb",
      "metadata": {
        "id": "a7b344d8-7c86-4514-b068-dff5390c4dbb",
        "outputId": "538912a6-00b1-4782-cb6b-5f61987d4c44"
      },
      "outputs": [
        {
          "name": "stdout",
          "output_type": "stream",
          "text": [
            "['Python', 55, 6.66666, (4+8j), (1, 2, 3, 4, 5, 6), [7, 8, 9, 4, 5], {1: 100, 2: 200}, True, None]\n"
          ]
        }
      ],
      "source": [
        "lst=['Python', 55, 6.66666, 4+8j, (1,2,3,4,5,6),[7,8,9,4,5],{1:100,2:200},True, None]\n",
        "print(lst)"
      ]
    },
    {
      "cell_type": "markdown",
      "id": "44d860cd-aff2-45fc-89e2-ca909933710c",
      "metadata": {
        "id": "44d860cd-aff2-45fc-89e2-ca909933710c"
      },
      "source": [
        "# Case_2\n",
        "- By using list()"
      ]
    },
    {
      "cell_type": "code",
      "execution_count": null,
      "id": "9a77ec68-b1e2-47f1-990a-6a8c919d3902",
      "metadata": {
        "id": "9a77ec68-b1e2-47f1-990a-6a8c919d3902"
      },
      "outputs": [],
      "source": [
        "# list(Iterable)- It returns a list (Typecasting)\n",
        "\n",
        "# Iterables- String, List, Tuple, Dictionary, Set, Frozenset, Range"
      ]
    },
    {
      "cell_type": "code",
      "execution_count": null,
      "id": "c93d4aa7-4893-40d4-be28-9610c8e43dda",
      "metadata": {
        "id": "c93d4aa7-4893-40d4-be28-9610c8e43dda",
        "outputId": "2d255d86-8d98-47ea-c35a-0b8712a56db0"
      },
      "outputs": [
        {
          "data": {
            "text/plain": [
              "[1, 2, 3, 4]"
            ]
          },
          "execution_count": 545,
          "metadata": {},
          "output_type": "execute_result"
        }
      ],
      "source": [
        "list(range(1,5))"
      ]
    },
    {
      "cell_type": "code",
      "execution_count": null,
      "id": "bb7d35b0-6ce2-4d91-b98f-6c9d2f243689",
      "metadata": {
        "id": "bb7d35b0-6ce2-4d91-b98f-6c9d2f243689",
        "outputId": "ecf1da8f-2409-4898-8b94-1cc14f8744da"
      },
      "outputs": [
        {
          "name": "stdout",
          "output_type": "stream",
          "text": [
            "Python <class 'str'>\n",
            "['P', 'y', 't', 'h', 'o', 'n'] <class 'list'>\n"
          ]
        }
      ],
      "source": [
        "my_str='Python'\n",
        "print(my_str,type(my_str))\n",
        "\n",
        "lst=list(my_str)\n",
        "print(lst,type(lst))"
      ]
    },
    {
      "cell_type": "code",
      "execution_count": null,
      "id": "fe643c3e-d8f6-4ff4-9100-c79328f6f52e",
      "metadata": {
        "id": "fe643c3e-d8f6-4ff4-9100-c79328f6f52e",
        "outputId": "2125a6ad-0643-48fd-99fb-06dc6e784480"
      },
      "outputs": [
        {
          "name": "stdout",
          "output_type": "stream",
          "text": [
            "(10, 20, 20, 40, 50, 60, 60, 70, 80) <class 'tuple'>\n",
            "[10, 20, 20, 40, 50, 60, 60, 70, 80] <class 'list'>\n"
          ]
        }
      ],
      "source": [
        "t=(10,20,20,40,50,60,60,70,80)\n",
        "print(t,type(t))\n",
        "\n",
        "lst=list(t)\n",
        "print(lst,type(lst))"
      ]
    },
    {
      "cell_type": "code",
      "execution_count": null,
      "id": "c70920a4-98c3-4837-bdf5-87c3557aad68",
      "metadata": {
        "id": "c70920a4-98c3-4837-bdf5-87c3557aad68",
        "outputId": "496cc720-192b-49be-b4cf-6493c7643e6c"
      },
      "outputs": [
        {
          "name": "stdout",
          "output_type": "stream",
          "text": [
            "{1: 100, 2: 200, 3: 300, 4: 400} <class 'dict'>\n",
            "[1, 2, 3, 4]\n",
            "[100, 200, 300, 400] <class 'list'>\n"
          ]
        }
      ],
      "source": [
        "d={1:100,2:200,3:300,4:400}\n",
        "print(d,type(d))\n",
        "\n",
        "lst=list(d)\n",
        "print(lst)\n",
        "\n",
        "lst=list(d.values())\n",
        "print(lst,type(lst))"
      ]
    },
    {
      "cell_type": "code",
      "execution_count": null,
      "id": "07c233e6-a842-4860-b236-57de0b52610e",
      "metadata": {
        "id": "07c233e6-a842-4860-b236-57de0b52610e",
        "outputId": "57431df3-8a21-40d1-b732-8f7a4ddd83b0"
      },
      "outputs": [
        {
          "name": "stdout",
          "output_type": "stream",
          "text": [
            "{'Name': 'Amit', 'Age': 25, 'City': 'Pune', 'Company': 'TCS'} <class 'dict'>\n",
            "['Name', 'Age', 'City', 'Company'] <class 'list'>\n",
            "[100, 200, 300, 400] <class 'list'>\n"
          ]
        }
      ],
      "source": [
        "emp={'Name':'Amit','Age':25,'City':'Pune','Company':'TCS'}\n",
        "print(emp,type(emp))\n",
        "\n",
        "keys=list(emp)\n",
        "print(keys,type(keys))\n",
        "\n",
        "values=list(emp.values())\n",
        "print(lst,type(lst))"
      ]
    },
    {
      "cell_type": "code",
      "execution_count": null,
      "id": "d2652038-1f84-4931-bb41-0ec644cdebb3",
      "metadata": {
        "id": "d2652038-1f84-4931-bb41-0ec644cdebb3",
        "outputId": "daaf6a6e-7987-4f04-c883-241894bce170"
      },
      "outputs": [
        {
          "name": "stdout",
          "output_type": "stream",
          "text": [
            "{1, 2, 3, 4, 5, 8, 9} <class 'set'>\n",
            "[1, 2, 3, 4, 5, 8, 9] <class 'list'>\n"
          ]
        }
      ],
      "source": [
        "s={1,2,3,4,8,9,5,2,2}\n",
        "print(s,type(s))\n",
        "\n",
        "lst=list(s)\n",
        "print(lst,type(lst))"
      ]
    },
    {
      "cell_type": "code",
      "execution_count": null,
      "id": "126db872-2345-4041-893b-0c9a1bd1c361",
      "metadata": {
        "id": "126db872-2345-4041-893b-0c9a1bd1c361",
        "outputId": "7110c2b1-0e99-469d-933e-ef656ee48f4f"
      },
      "outputs": [
        {
          "name": "stdout",
          "output_type": "stream",
          "text": [
            "frozenset({1, 2, 4, 5, 6, 7, 8}) <class 'frozenset'>\n",
            "[1, 2, 4, 5, 6, 7, 8] <class 'list'>\n"
          ]
        }
      ],
      "source": [
        "f=frozenset((1,4,5,7,8,4,5,5,5,6,5,7,8,5,2))\n",
        "print(f,type(f))\n",
        "\n",
        "lst=list(f)\n",
        "print(lst,type(lst))"
      ]
    },
    {
      "cell_type": "code",
      "execution_count": null,
      "id": "1dc923f0-e087-4d5d-9caf-97c112884fd1",
      "metadata": {
        "id": "1dc923f0-e087-4d5d-9caf-97c112884fd1",
        "outputId": "237b4515-835d-4dc6-cd3e-6027581797dc"
      },
      "outputs": [
        {
          "name": "stdout",
          "output_type": "stream",
          "text": [
            "range(1, 6) <class 'range'>\n",
            "[1, 2, 3, 4, 5] <class 'list'>\n"
          ]
        }
      ],
      "source": [
        "r=range(1,6)\n",
        "print(r,type(r))\n",
        "\n",
        "lst=list(r)\n",
        "print(lst,type(lst))"
      ]
    },
    {
      "cell_type": "code",
      "execution_count": null,
      "id": "91205c86-6f58-4c88-9e88-cbd2d993fb15",
      "metadata": {
        "id": "91205c86-6f58-4c88-9e88-cbd2d993fb15",
        "outputId": "cb68a37a-386a-4b69-b7c9-6ffbf9f05fb6"
      },
      "outputs": [
        {
          "name": "stdout",
          "output_type": "stream",
          "text": [
            "[0, 1, 2, 3, 4, 5, 6, 7, 8, 9]\n"
          ]
        }
      ],
      "source": [
        "lst=list(range(10))\n",
        "print(lst)"
      ]
    },
    {
      "cell_type": "code",
      "execution_count": null,
      "id": "fad6c42c-27ed-4f5f-bd60-feea6456550a",
      "metadata": {
        "id": "fad6c42c-27ed-4f5f-bd60-feea6456550a",
        "outputId": "c282ea96-c838-49c6-adf7-8ddc8a8ac6a6"
      },
      "outputs": [
        {
          "ename": "TypeError",
          "evalue": "'int' object is not iterable",
          "output_type": "error",
          "traceback": [
            "\u001b[1;31m---------------------------------------------------------------------------\u001b[0m",
            "\u001b[1;31mTypeError\u001b[0m                                 Traceback (most recent call last)",
            "Cell \u001b[1;32mIn[587], line 1\u001b[0m\n\u001b[1;32m----> 1\u001b[0m \u001b[38;5;28mlist\u001b[39m(\u001b[38;5;241m5\u001b[39m)\n",
            "\u001b[1;31mTypeError\u001b[0m: 'int' object is not iterable"
          ]
        }
      ],
      "source": [
        "list(5)"
      ]
    },
    {
      "cell_type": "code",
      "execution_count": null,
      "id": "85e15d99-76ae-49cc-ab09-e3256eb0368e",
      "metadata": {
        "id": "85e15d99-76ae-49cc-ab09-e3256eb0368e",
        "outputId": "5bdc0bc2-949c-4f62-ec94-c2aa87fed636"
      },
      "outputs": [
        {
          "ename": "TypeError",
          "evalue": "'float' object is not iterable",
          "output_type": "error",
          "traceback": [
            "\u001b[1;31m---------------------------------------------------------------------------\u001b[0m",
            "\u001b[1;31mTypeError\u001b[0m                                 Traceback (most recent call last)",
            "Cell \u001b[1;32mIn[589], line 1\u001b[0m\n\u001b[1;32m----> 1\u001b[0m \u001b[38;5;28mlist\u001b[39m(\u001b[38;5;241m2.8\u001b[39m)\n",
            "\u001b[1;31mTypeError\u001b[0m: 'float' object is not iterable"
          ]
        }
      ],
      "source": [
        "list(2.8)"
      ]
    },
    {
      "cell_type": "code",
      "execution_count": null,
      "id": "7911b52f-423e-4afe-abf2-36599f67f30e",
      "metadata": {
        "id": "7911b52f-423e-4afe-abf2-36599f67f30e",
        "outputId": "79f4d92b-cbcb-4c22-b007-2ca1715b76fd"
      },
      "outputs": [
        {
          "ename": "TypeError",
          "evalue": "'complex' object is not iterable",
          "output_type": "error",
          "traceback": [
            "\u001b[1;31m---------------------------------------------------------------------------\u001b[0m",
            "\u001b[1;31mTypeError\u001b[0m                                 Traceback (most recent call last)",
            "Cell \u001b[1;32mIn[591], line 1\u001b[0m\n\u001b[1;32m----> 1\u001b[0m \u001b[38;5;28mlist\u001b[39m(\u001b[38;5;241m5\u001b[39m\u001b[38;5;241m+\u001b[39m\u001b[38;5;241m6\u001b[39mj)\n",
            "\u001b[1;31mTypeError\u001b[0m: 'complex' object is not iterable"
          ]
        }
      ],
      "source": [
        "list(5+6j)"
      ]
    },
    {
      "cell_type": "code",
      "execution_count": null,
      "id": "57b495a4-085c-4999-b0d6-a51d550c04f5",
      "metadata": {
        "id": "57b495a4-085c-4999-b0d6-a51d550c04f5",
        "outputId": "8f099b10-f945-4010-ae4a-23dd4e0aff1d"
      },
      "outputs": [
        {
          "ename": "TypeError",
          "evalue": "'bool' object is not iterable",
          "output_type": "error",
          "traceback": [
            "\u001b[1;31m---------------------------------------------------------------------------\u001b[0m",
            "\u001b[1;31mTypeError\u001b[0m                                 Traceback (most recent call last)",
            "Cell \u001b[1;32mIn[593], line 1\u001b[0m\n\u001b[1;32m----> 1\u001b[0m \u001b[38;5;28mlist\u001b[39m(\u001b[38;5;28;01mTrue\u001b[39;00m)\n",
            "\u001b[1;31mTypeError\u001b[0m: 'bool' object is not iterable"
          ]
        }
      ],
      "source": [
        "list(True)"
      ]
    },
    {
      "cell_type": "code",
      "execution_count": null,
      "id": "01486360-5a4f-4b9c-b896-26edd984ad6f",
      "metadata": {
        "id": "01486360-5a4f-4b9c-b896-26edd984ad6f",
        "outputId": "5b1d62b6-4fa6-402b-8715-5ef27a757f24"
      },
      "outputs": [
        {
          "ename": "TypeError",
          "evalue": "'NoneType' object is not iterable",
          "output_type": "error",
          "traceback": [
            "\u001b[1;31m---------------------------------------------------------------------------\u001b[0m",
            "\u001b[1;31mTypeError\u001b[0m                                 Traceback (most recent call last)",
            "Cell \u001b[1;32mIn[595], line 1\u001b[0m\n\u001b[1;32m----> 1\u001b[0m \u001b[38;5;28mlist\u001b[39m(\u001b[38;5;28;01mNone\u001b[39;00m)\n",
            "\u001b[1;31mTypeError\u001b[0m: 'NoneType' object is not iterable"
          ]
        }
      ],
      "source": [
        "list(None)"
      ]
    },
    {
      "cell_type": "code",
      "execution_count": null,
      "id": "092bccc3-781b-4b5a-9eb2-9e20f1f3149c",
      "metadata": {
        "id": "092bccc3-781b-4b5a-9eb2-9e20f1f3149c"
      },
      "outputs": [],
      "source": [
        "# We can pass enumerate, zip, filter and map object also inside the list()"
      ]
    },
    {
      "cell_type": "markdown",
      "id": "ddb9ab69-cfc1-4d22-8ff3-7e2601538dca",
      "metadata": {
        "id": "ddb9ab69-cfc1-4d22-8ff3-7e2601538dca"
      },
      "source": [
        "# enumerate()"
      ]
    },
    {
      "cell_type": "code",
      "execution_count": null,
      "id": "b4cae360-d767-4146-998b-10a2daf1efe3",
      "metadata": {
        "id": "b4cae360-d767-4146-998b-10a2daf1efe3"
      },
      "outputs": [],
      "source": [
        "# - It takes an iterable as an argument.\n",
        "# - It maps the elements of the iterable with the numbers from 0 to len(iterable)-1\n",
        "# - It returns an enumerate object.\n",
        "# - When we pass the enumerate object to list() we get a list of tuples."
      ]
    },
    {
      "cell_type": "code",
      "execution_count": null,
      "id": "47ebe4e1-6f27-4f5e-9fb4-2da2be446812",
      "metadata": {
        "id": "47ebe4e1-6f27-4f5e-9fb4-2da2be446812",
        "outputId": "17b49396-665d-4814-b41c-6566125dd9c3"
      },
      "outputs": [
        {
          "name": "stdout",
          "output_type": "stream",
          "text": [
            "<enumerate object at 0x0000020ADEC8D710> <class 'enumerate'>\n",
            "[(0, 'P'), (1, 'y'), (2, 't'), (3, 'h'), (4, 'o'), (5, 'n')] <class 'list'>\n"
          ]
        }
      ],
      "source": [
        "e=enumerate('Python')\n",
        "print(e,type(e))\n",
        "\n",
        "lst=list(e)\n",
        "print(lst,type(lst))"
      ]
    },
    {
      "cell_type": "code",
      "execution_count": null,
      "id": "108c4b9e-0e19-46fc-98d6-ee023519c75f",
      "metadata": {
        "id": "108c4b9e-0e19-46fc-98d6-ee023519c75f",
        "outputId": "9bb4b653-0013-4140-c051-52d5c1ccf351"
      },
      "outputs": [
        {
          "name": "stdout",
          "output_type": "stream",
          "text": [
            "[(0, 'Amit'), (1, 'Suresh'), (2, 'Mohit'), (3, 'Gagan')] <class 'list'>\n"
          ]
        }
      ],
      "source": [
        "lst=list(enumerate(['Amit','Suresh','Mohit','Gagan']))\n",
        "print(lst,type(lst))"
      ]
    },
    {
      "cell_type": "markdown",
      "id": "5e0926a7-daee-4571-b97e-b05f3ea70a92",
      "metadata": {
        "id": "5e0926a7-daee-4571-b97e-b05f3ea70a92"
      },
      "source": [
        "# zip()"
      ]
    },
    {
      "cell_type": "code",
      "execution_count": null,
      "id": "b30e66bf-fe0d-4fa1-9169-418a11be5122",
      "metadata": {
        "id": "b30e66bf-fe0d-4fa1-9169-418a11be5122"
      },
      "outputs": [],
      "source": [
        "# - It maps the elements of two or more iterables.\n",
        "# - It returns a zip object.\n",
        "# - We can pass zip object to list() and we get a list of tuples."
      ]
    },
    {
      "cell_type": "code",
      "execution_count": null,
      "id": "2b0355d6-c6da-42dd-82fa-a0488023446c",
      "metadata": {
        "id": "2b0355d6-c6da-42dd-82fa-a0488023446c",
        "outputId": "ad313ad3-e9f6-49a9-dcb7-8938a400d1f5"
      },
      "outputs": [
        {
          "name": "stdout",
          "output_type": "stream",
          "text": [
            "<zip object at 0x0000020ADEABF800> <class 'zip'>\n",
            "[('emp_1', 'Amit'), ('emp_2', 'Suresh'), ('emp_3', 'Mohit'), ('emp_4', 'Gagan')] <class 'list'>\n"
          ]
        }
      ],
      "source": [
        "codes=['emp_1','emp_2','emp_3','emp_4']\n",
        "names=['Amit','Suresh','Mohit','Gagan']\n",
        "\n",
        "z=zip(codes,names)\n",
        "print(z,type(z))\n",
        "\n",
        "lst=list(z)\n",
        "print(lst,type(lst))"
      ]
    },
    {
      "cell_type": "code",
      "execution_count": null,
      "id": "9a6d3b21-9a58-46e6-a1be-0f472642b9ad",
      "metadata": {
        "id": "9a6d3b21-9a58-46e6-a1be-0f472642b9ad",
        "outputId": "69a1cd3b-32db-452f-d99d-21fb71086d3c"
      },
      "outputs": [
        {
          "data": {
            "text/plain": [
              "[('a', 10, 1000), ('b', 20, 2000)]"
            ]
          },
          "execution_count": 637,
          "metadata": {},
          "output_type": "execute_result"
        }
      ],
      "source": [
        "list(zip('abcd',[10,20,30],(1000,2000)))"
      ]
    },
    {
      "cell_type": "code",
      "execution_count": null,
      "id": "92bcf903-9a7c-4fcf-a803-9ba3fe4a131f",
      "metadata": {
        "id": "92bcf903-9a7c-4fcf-a803-9ba3fe4a131f"
      },
      "outputs": [],
      "source": []
    }
  ],
  "metadata": {
    "kernelspec": {
      "display_name": "Python 3 (ipykernel)",
      "language": "python",
      "name": "python3"
    },
    "language_info": {
      "codemirror_mode": {
        "name": "ipython",
        "version": 3
      },
      "file_extension": ".py",
      "mimetype": "text/x-python",
      "name": "python",
      "nbconvert_exporter": "python",
      "pygments_lexer": "ipython3",
      "version": "3.11.4"
    },
    "colab": {
      "provenance": []
    }
  },
  "nbformat": 4,
  "nbformat_minor": 5
}