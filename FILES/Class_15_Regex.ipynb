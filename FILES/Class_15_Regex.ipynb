{
  "cells": [
    {
      "cell_type": "markdown",
      "id": "f5164268-db16-497c-b79a-26cdaefbcbff",
      "metadata": {
        "id": "f5164268-db16-497c-b79a-26cdaefbcbff"
      },
      "source": [
        "# Regex"
      ]
    },
    {
      "cell_type": "code",
      "execution_count": null,
      "id": "af1de63c-dcd4-4eef-871b-8b63e207f7bb",
      "metadata": {
        "id": "af1de63c-dcd4-4eef-871b-8b63e207f7bb"
      },
      "outputs": [],
      "source": [
        "# Regex stands for Regular Expression"
      ]
    },
    {
      "cell_type": "code",
      "execution_count": null,
      "id": "16acec2e-3c06-4e66-929b-d40c13d14c5a",
      "metadata": {
        "id": "16acec2e-3c06-4e66-929b-d40c13d14c5a"
      },
      "outputs": [],
      "source": [
        "# - It is a concept that is used to create, match or update a pattern in a string.\n",
        "# - Regex is applied only on the string objects."
      ]
    },
    {
      "cell_type": "code",
      "execution_count": null,
      "id": "12bf39b4-467b-42c1-b480-3f070b7845fd",
      "metadata": {
        "id": "12bf39b4-467b-42c1-b480-3f070b7845fd"
      },
      "outputs": [],
      "source": [
        "'''Machine Learning\n",
        "Date:----, Author:-----, Jounal:-------\n",
        "Contact us- +91-12345667890, +84-5487935486, +55-7895225684\n",
        "Email- abc@hotmail.com\n",
        "PIN- 123456'''"
      ]
    },
    {
      "cell_type": "markdown",
      "id": "dfc9333f-4d16-4be1-b099-7ec1463a98b4",
      "metadata": {
        "id": "dfc9333f-4d16-4be1-b099-7ec1463a98b4"
      },
      "source": [
        "# Components of Regex"
      ]
    },
    {
      "cell_type": "code",
      "execution_count": null,
      "id": "f6146b62-abe6-4e7f-a4b1-0a7a2f035418",
      "metadata": {
        "id": "f6146b62-abe6-4e7f-a4b1-0a7a2f035418"
      },
      "outputs": [],
      "source": [
        "# Pattern\n",
        "# Functions\n",
        "# Metacharacters\n",
        "# Special Sequences\n",
        "# Quantifiers\n",
        "# Practice"
      ]
    },
    {
      "cell_type": "markdown",
      "id": "9b39270b-94c7-4791-898b-82c355b75689",
      "metadata": {
        "id": "9b39270b-94c7-4791-898b-82c355b75689"
      },
      "source": [
        "# Regex Pattern"
      ]
    },
    {
      "cell_type": "code",
      "execution_count": null,
      "id": "d5fa4089-ae19-48c8-9b01-459d38dcd9eb",
      "metadata": {
        "id": "d5fa4089-ae19-48c8-9b01-459d38dcd9eb"
      },
      "outputs": [],
      "source": [
        "# - It is a string.\n",
        "# - In Regex pattern we define what we have to match (find) or update (replace)"
      ]
    },
    {
      "cell_type": "markdown",
      "id": "5bf84268-8a22-4bc8-a779-ededdc37045c",
      "metadata": {
        "id": "5bf84268-8a22-4bc8-a779-ededdc37045c"
      },
      "source": [
        "### How to write a Regex pattern?"
      ]
    },
    {
      "cell_type": "code",
      "execution_count": null,
      "id": "daed4e84-6394-49f8-8777-44267e11d730",
      "metadata": {
        "id": "daed4e84-6394-49f8-8777-44267e11d730"
      },
      "outputs": [],
      "source": [
        "r'pattern'"
      ]
    },
    {
      "cell_type": "code",
      "execution_count": null,
      "id": "ba6c5967-ab4f-4856-83fd-572327a19b52",
      "metadata": {
        "id": "ba6c5967-ab4f-4856-83fd-572327a19b52"
      },
      "outputs": [],
      "source": [
        "# r stands for raw string."
      ]
    },
    {
      "cell_type": "markdown",
      "id": "0533659b-fb37-4ea2-9862-c5f8aeb79f8b",
      "metadata": {
        "id": "0533659b-fb37-4ea2-9862-c5f8aeb79f8b"
      },
      "source": [
        "# Functions"
      ]
    },
    {
      "cell_type": "code",
      "execution_count": null,
      "id": "05506f53-f3ee-4027-bda2-4df2ec6ae7fc",
      "metadata": {
        "id": "05506f53-f3ee-4027-bda2-4df2ec6ae7fc"
      },
      "outputs": [],
      "source": [
        "# - All the functions of Regex are available in re module.\n",
        "# - First we have to import the re module to use these functions."
      ]
    },
    {
      "cell_type": "markdown",
      "id": "2bffd8c9-c212-408d-b031-ee01ca72ddd6",
      "metadata": {
        "id": "2bffd8c9-c212-408d-b031-ee01ca72ddd6"
      },
      "source": [
        "# match()"
      ]
    },
    {
      "cell_type": "code",
      "execution_count": null,
      "id": "26a0004a-1f2d-4bef-99bf-5cab39031231",
      "metadata": {
        "id": "26a0004a-1f2d-4bef-99bf-5cab39031231"
      },
      "outputs": [],
      "source": [
        "# - It takes a pattern and a string as arguments.\n",
        "# - It matches the pattern at the beginning of the string.\n",
        "# - If the pattern is found in the beginning then it returns a match object.\n",
        "# - If the pattern is not found then it returns None."
      ]
    },
    {
      "cell_type": "code",
      "execution_count": null,
      "id": "c1207cb6-4c09-4328-9792-b13e3946a83e",
      "metadata": {
        "id": "c1207cb6-4c09-4328-9792-b13e3946a83e"
      },
      "outputs": [],
      "source": [
        "# match(pattern,string)"
      ]
    },
    {
      "cell_type": "code",
      "execution_count": null,
      "id": "90558671-0684-4280-b7c1-159f1deff5d3",
      "metadata": {
        "id": "90558671-0684-4280-b7c1-159f1deff5d3"
      },
      "outputs": [],
      "source": [
        "import re"
      ]
    },
    {
      "cell_type": "code",
      "execution_count": null,
      "id": "30cbba16-0f6c-4546-9790-065b17fd2ec7",
      "metadata": {
        "id": "30cbba16-0f6c-4546-9790-065b17fd2ec7",
        "outputId": "97fb19e2-c9eb-4892-cce1-b93acf5b37ee"
      },
      "outputs": [
        {
          "name": "stdout",
          "output_type": "stream",
          "text": [
            "<re.Match object; span=(0, 5), match='India'>\n"
          ]
        }
      ],
      "source": [
        "text='India is a big country'\n",
        "pattern='India'\n",
        "\n",
        "x=re.match(pattern,text)\n",
        "print(x)"
      ]
    },
    {
      "cell_type": "code",
      "execution_count": null,
      "id": "7f48cc4f-f600-4dfb-b422-37cf028f10cf",
      "metadata": {
        "id": "7f48cc4f-f600-4dfb-b422-37cf028f10cf",
        "outputId": "4628174e-0e87-4d8b-d199-a4ff959faf97"
      },
      "outputs": [
        {
          "name": "stdout",
          "output_type": "stream",
          "text": [
            "None\n"
          ]
        }
      ],
      "source": [
        "text='India is a big country'\n",
        "pattern='big'\n",
        "\n",
        "x=re.match(pattern,text)\n",
        "print(x)"
      ]
    },
    {
      "cell_type": "code",
      "execution_count": null,
      "id": "58c9b179-5af8-480e-82ed-33f3f03e90a9",
      "metadata": {
        "id": "58c9b179-5af8-480e-82ed-33f3f03e90a9",
        "outputId": "1db24f20-d323-45d2-93ca-d6146db36bc3"
      },
      "outputs": [
        {
          "name": "stdout",
          "output_type": "stream",
          "text": [
            "None\n"
          ]
        }
      ],
      "source": [
        "text='India is a big country'\n",
        "pattern='Indai'\n",
        "\n",
        "x=re.match(pattern,text)\n",
        "print(x)"
      ]
    },
    {
      "cell_type": "markdown",
      "id": "f64f1c0b-4bb0-414f-bd4b-3e5452e2cb18",
      "metadata": {
        "id": "f64f1c0b-4bb0-414f-bd4b-3e5452e2cb18"
      },
      "source": [
        "### match object"
      ]
    },
    {
      "cell_type": "code",
      "execution_count": null,
      "id": "b06d1757-2c96-4d06-9cc4-890185b0397c",
      "metadata": {
        "id": "b06d1757-2c96-4d06-9cc4-890185b0397c"
      },
      "outputs": [],
      "source": [
        "# - In match object we have span and match.\n",
        "# - span is a tuple that contains the start and the stop indexes of the match from the string.\n",
        "# - match contains the string that is matched."
      ]
    },
    {
      "cell_type": "code",
      "execution_count": null,
      "id": "00be319c-0a72-4d54-8e83-763da74d4293",
      "metadata": {
        "id": "00be319c-0a72-4d54-8e83-763da74d4293",
        "outputId": "199db907-4309-4def-efae-477dbdc7c2c3"
      },
      "outputs": [
        {
          "name": "stdout",
          "output_type": "stream",
          "text": [
            "<re.Match object; span=(0, 4), match='Indi'>\n"
          ]
        }
      ],
      "source": [
        "text='India is a big country'\n",
        "pattern='Indi'\n",
        "\n",
        "x=re.match(pattern,text)\n",
        "print(x)"
      ]
    },
    {
      "cell_type": "markdown",
      "id": "2aa245cd-052a-43fe-ba31-3026d0bdb3ac",
      "metadata": {
        "id": "2aa245cd-052a-43fe-ba31-3026d0bdb3ac"
      },
      "source": [
        "### span()"
      ]
    },
    {
      "cell_type": "code",
      "execution_count": null,
      "id": "a78e22c5-cd2a-4a69-aa38-a28f9f0b42c1",
      "metadata": {
        "id": "a78e22c5-cd2a-4a69-aa38-a28f9f0b42c1",
        "outputId": "e974f1d2-d98e-4219-a3f0-75773762651e"
      },
      "outputs": [
        {
          "data": {
            "text/plain": [
              "(0, 4)"
            ]
          },
          "execution_count": 71,
          "metadata": {},
          "output_type": "execute_result"
        }
      ],
      "source": [
        "x.span()"
      ]
    },
    {
      "cell_type": "code",
      "execution_count": null,
      "id": "bf0ea93d-bae8-4354-babf-6eb914976a4f",
      "metadata": {
        "id": "bf0ea93d-bae8-4354-babf-6eb914976a4f",
        "outputId": "be8ff508-a9dc-41b8-dfae-03fce07ced33"
      },
      "outputs": [
        {
          "data": {
            "text/plain": [
              "0"
            ]
          },
          "execution_count": 73,
          "metadata": {},
          "output_type": "execute_result"
        }
      ],
      "source": [
        "x.start()"
      ]
    },
    {
      "cell_type": "code",
      "execution_count": null,
      "id": "ce2f5ef1-7131-4b2e-b907-a9e4cd150425",
      "metadata": {
        "id": "ce2f5ef1-7131-4b2e-b907-a9e4cd150425",
        "outputId": "51726a29-2acc-40fd-e9b0-83cac913f543"
      },
      "outputs": [
        {
          "data": {
            "text/plain": [
              "4"
            ]
          },
          "execution_count": 75,
          "metadata": {},
          "output_type": "execute_result"
        }
      ],
      "source": [
        "x.end()"
      ]
    },
    {
      "cell_type": "code",
      "execution_count": null,
      "id": "9d349c04-f4c7-4561-9e92-fb312e4cc647",
      "metadata": {
        "id": "9d349c04-f4c7-4561-9e92-fb312e4cc647",
        "outputId": "f9cb5337-7af6-4397-b52c-3329b1192eeb"
      },
      "outputs": [
        {
          "data": {
            "text/plain": [
              "'Indi'"
            ]
          },
          "execution_count": 77,
          "metadata": {},
          "output_type": "execute_result"
        }
      ],
      "source": [
        "x.group()"
      ]
    },
    {
      "cell_type": "code",
      "execution_count": null,
      "id": "6f05fcb4-6509-4b52-9bc0-62128d24721e",
      "metadata": {
        "id": "6f05fcb4-6509-4b52-9bc0-62128d24721e"
      },
      "outputs": [],
      "source": [
        "names=['Jayanth', 'Deepak', 'Debolina', 'Hemavarthini', 'Amit', 'Aditya']"
      ]
    },
    {
      "cell_type": "code",
      "execution_count": null,
      "id": "d27039eb-86a4-449e-848e-151e27c57505",
      "metadata": {
        "id": "d27039eb-86a4-449e-848e-151e27c57505",
        "outputId": "61512a01-b66a-4e37-bc8b-5965aa2c0b84"
      },
      "outputs": [
        {
          "name": "stdout",
          "output_type": "stream",
          "text": [
            "Deepak\n",
            "Debolina\n"
          ]
        }
      ],
      "source": [
        "for i in names:\n",
        "    if re.match(r'D',i):\n",
        "        print(i)"
      ]
    },
    {
      "cell_type": "code",
      "execution_count": null,
      "id": "e061e2aa-1bcb-44f0-a1c4-ca71e4e952d5",
      "metadata": {
        "id": "e061e2aa-1bcb-44f0-a1c4-ca71e4e952d5",
        "outputId": "b5fb1c08-9e40-4eb7-e6b8-320618e1a089"
      },
      "outputs": [
        {
          "name": "stdout",
          "output_type": "stream",
          "text": [
            "Deepak\n",
            "Debolina\n"
          ]
        }
      ],
      "source": [
        "for i in names:\n",
        "    if i.startswith('D'):\n",
        "        print(i)"
      ]
    },
    {
      "cell_type": "code",
      "execution_count": null,
      "id": "e690fb50-4020-44b1-9178-1a8451a61763",
      "metadata": {
        "id": "e690fb50-4020-44b1-9178-1a8451a61763",
        "outputId": "e9b8f43f-e5c8-4d04-f2e9-7c81dad9ff92"
      },
      "outputs": [
        {
          "name": "stdout",
          "output_type": "stream",
          "text": [
            "None\n"
          ]
        }
      ],
      "source": [
        "text='I live in India that is a big country'\n",
        "pat=r'India'\n",
        "\n",
        "x=re.match(pat,text)\n",
        "print(x)"
      ]
    },
    {
      "cell_type": "markdown",
      "id": "1527faa6-be6e-4434-8e45-c231bfc151fd",
      "metadata": {
        "id": "1527faa6-be6e-4434-8e45-c231bfc151fd"
      },
      "source": [
        "# search()"
      ]
    },
    {
      "cell_type": "code",
      "execution_count": null,
      "id": "306f1d03-f1f0-4630-846b-10e74d27a1b4",
      "metadata": {
        "id": "306f1d03-f1f0-4630-846b-10e74d27a1b4"
      },
      "outputs": [],
      "source": [
        "# - It takes a pattern and a string as arguments.\n",
        "# - It matches the first occurence of the pattern from left to right.\n",
        "# - If the pattern is found then it returns a match object.\n",
        "# - If the pattern is not found then it returns None."
      ]
    },
    {
      "cell_type": "code",
      "execution_count": null,
      "id": "a500ebda-642b-4ef8-bf67-dc6a9bd6e6cd",
      "metadata": {
        "id": "a500ebda-642b-4ef8-bf67-dc6a9bd6e6cd"
      },
      "outputs": [],
      "source": [
        "# re.search(pattern,sting)"
      ]
    },
    {
      "cell_type": "code",
      "execution_count": null,
      "id": "b8304f08-35dc-4b2f-a5ea-bb49bd775600",
      "metadata": {
        "id": "b8304f08-35dc-4b2f-a5ea-bb49bd775600",
        "outputId": "3e92783b-ef04-4588-fc3e-28853e7074f6"
      },
      "outputs": [
        {
          "name": "stdout",
          "output_type": "stream",
          "text": [
            "<re.Match object; span=(10, 15), match='India'>\n"
          ]
        }
      ],
      "source": [
        "text='I live in India that is a big country'\n",
        "pat=r'India'\n",
        "\n",
        "x=re.search(pat,text)\n",
        "print(x)"
      ]
    },
    {
      "cell_type": "code",
      "execution_count": null,
      "id": "57020248-f1c1-4378-a522-51a4540db751",
      "metadata": {
        "id": "57020248-f1c1-4378-a522-51a4540db751",
        "outputId": "02496718-650c-4f43-e629-23d34960038c"
      },
      "outputs": [
        {
          "name": "stdout",
          "output_type": "stream",
          "text": [
            "None\n"
          ]
        }
      ],
      "source": [
        "text='I live in India that is a big country'\n",
        "pat=r'Russia'\n",
        "\n",
        "x=re.search(pat,text)\n",
        "print(x)"
      ]
    },
    {
      "cell_type": "code",
      "execution_count": null,
      "id": "556f4681-f4fb-4ef7-98b9-561daa600f12",
      "metadata": {
        "id": "556f4681-f4fb-4ef7-98b9-561daa600f12",
        "outputId": "f702ab17-9645-45eb-a5b0-9bcce98be5b9"
      },
      "outputs": [
        {
          "name": "stdout",
          "output_type": "stream",
          "text": [
            "<re.Match object; span=(0, 5), match='India'>\n"
          ]
        }
      ],
      "source": [
        "text='India is a big country'\n",
        "pattern='India'\n",
        "\n",
        "x=re.search(pattern,text)\n",
        "print(x)"
      ]
    },
    {
      "cell_type": "code",
      "execution_count": null,
      "id": "982fa6f5-0f36-444f-ad3b-329cacae3016",
      "metadata": {
        "id": "982fa6f5-0f36-444f-ad3b-329cacae3016",
        "outputId": "237495f5-a287-4d93-fbc3-15932e3278f8"
      },
      "outputs": [
        {
          "name": "stdout",
          "output_type": "stream",
          "text": [
            "<re.Match object; span=(10, 15), match='India'>\n"
          ]
        }
      ],
      "source": [
        "text='I live in India that is a big country. India is in Asia.'\n",
        "pat=r'India'\n",
        "\n",
        "x=re.search(pat,text)\n",
        "print(x)"
      ]
    },
    {
      "cell_type": "markdown",
      "id": "cdc8e08f-ab03-4880-9509-441f8ee45e4f",
      "metadata": {
        "id": "cdc8e08f-ab03-4880-9509-441f8ee45e4f"
      },
      "source": [
        "# findall()"
      ]
    },
    {
      "cell_type": "code",
      "execution_count": null,
      "id": "372e5912-e8f6-45f3-a85e-e2a346d3876e",
      "metadata": {
        "id": "372e5912-e8f6-45f3-a85e-e2a346d3876e"
      },
      "outputs": [],
      "source": [
        "# - It takes a pattern and a string as arguments.\n",
        "# - It matches all the occurences of the pattern in the string and retruns a list\n",
        "# - If the pattern is not found then it returns empty list []."
      ]
    },
    {
      "cell_type": "code",
      "execution_count": null,
      "id": "8a8fdb7e-3657-4d9b-b2a0-47917291f05f",
      "metadata": {
        "id": "8a8fdb7e-3657-4d9b-b2a0-47917291f05f"
      },
      "outputs": [],
      "source": [
        "# re.findall(pattern,text)"
      ]
    },
    {
      "cell_type": "code",
      "execution_count": null,
      "id": "519df940-10d1-4840-ba7e-f1c31fbf9676",
      "metadata": {
        "id": "519df940-10d1-4840-ba7e-f1c31fbf9676",
        "outputId": "94412132-dd2c-4e00-e9ae-01aabe1d4256"
      },
      "outputs": [
        {
          "name": "stdout",
          "output_type": "stream",
          "text": [
            "['India', 'India', 'India']\n"
          ]
        }
      ],
      "source": [
        "text='I live in India that is a big country. India is in Asia. Have you ever been to India?'\n",
        "pat=r'India'\n",
        "\n",
        "x=re.findall(pat,text)\n",
        "print(x)"
      ]
    },
    {
      "cell_type": "code",
      "execution_count": null,
      "id": "8abcce63-09cb-4281-b7b6-7a4800d0ac90",
      "metadata": {
        "id": "8abcce63-09cb-4281-b7b6-7a4800d0ac90",
        "outputId": "fb9fa711-638f-470c-f9bf-27e0f0b5f112"
      },
      "outputs": [
        {
          "name": "stdout",
          "output_type": "stream",
          "text": [
            "[]\n"
          ]
        }
      ],
      "source": [
        "text='I live in India that is a big country. India is in Asia. Have you ever been to India?'\n",
        "pat=r'Russia'\n",
        "\n",
        "x=re.findall(pat,text)\n",
        "print(x)"
      ]
    },
    {
      "cell_type": "markdown",
      "id": "a5776455-f790-4cc3-b1fb-36a7affb704a",
      "metadata": {
        "id": "a5776455-f790-4cc3-b1fb-36a7affb704a"
      },
      "source": [
        "# finditer()"
      ]
    },
    {
      "cell_type": "code",
      "execution_count": null,
      "id": "f46c312d-8eb1-47ad-a292-1408af8bf56f",
      "metadata": {
        "id": "f46c312d-8eb1-47ad-a292-1408af8bf56f"
      },
      "outputs": [],
      "source": [
        "# - It takes a pattern and a string as arguments.\n",
        "# - It matches all the occurences of the pattern in the string and retruns an iterator object.\n",
        "# - Each element of the iterator object is a match object."
      ]
    },
    {
      "cell_type": "code",
      "execution_count": null,
      "id": "9492b1a9-026d-4091-a4ee-a2ea11b805a4",
      "metadata": {
        "id": "9492b1a9-026d-4091-a4ee-a2ea11b805a4"
      },
      "outputs": [],
      "source": [
        "# re.finditer(pattern,string)"
      ]
    },
    {
      "cell_type": "code",
      "execution_count": null,
      "id": "d610d1e6-11c1-4b15-acd1-601115b108d8",
      "metadata": {
        "id": "d610d1e6-11c1-4b15-acd1-601115b108d8",
        "outputId": "1085683e-836f-45e6-8440-e3ef18fa632e"
      },
      "outputs": [
        {
          "name": "stdout",
          "output_type": "stream",
          "text": [
            "<callable_iterator object at 0x0000018272FF0D30>\n",
            "India\n",
            "(10, 15)\n",
            "India\n",
            "(39, 44)\n",
            "India\n",
            "(79, 84)\n",
            "3\n"
          ]
        }
      ],
      "source": [
        "text='I live in India that is a big country. India is in Asia. Have you ever been to India?'\n",
        "pat=r'India'\n",
        "\n",
        "x=re.finditer(pat,text)\n",
        "print(x)\n",
        "c=0\n",
        "for i in x:\n",
        "    print(i.group())\n",
        "    print(i.span())\n",
        "    c+=1\n",
        "print(c)"
      ]
    },
    {
      "cell_type": "code",
      "execution_count": null,
      "id": "4169c10b-ee5b-451d-a593-f10bd43d5720",
      "metadata": {
        "id": "4169c10b-ee5b-451d-a593-f10bd43d5720",
        "outputId": "8ed571a4-9589-4ced-deca-a43e02638412"
      },
      "outputs": [
        {
          "data": {
            "text/plain": [
              "3"
            ]
          },
          "execution_count": 159,
          "metadata": {},
          "output_type": "execute_result"
        }
      ],
      "source": [
        "text.count('India')"
      ]
    },
    {
      "cell_type": "code",
      "execution_count": null,
      "id": "b6e89e64-67f1-44a2-bef2-b39ce13802a3",
      "metadata": {
        "id": "b6e89e64-67f1-44a2-bef2-b39ce13802a3",
        "outputId": "5a39c59b-42dc-4c90-d327-e7456b992010"
      },
      "outputs": [
        {
          "data": {
            "text/plain": [
              "<re.Match object; span=(79, 84), match='India'>"
            ]
          },
          "execution_count": 161,
          "metadata": {},
          "output_type": "execute_result"
        }
      ],
      "source": [
        "i"
      ]
    },
    {
      "cell_type": "code",
      "execution_count": null,
      "id": "032e58fc-85a9-4aee-a60f-d9a1d395aa21",
      "metadata": {
        "id": "032e58fc-85a9-4aee-a60f-d9a1d395aa21",
        "outputId": "7d93e88a-2684-42ea-9382-a71398b75fb2"
      },
      "outputs": [
        {
          "data": {
            "text/plain": [
              "'India'"
            ]
          },
          "execution_count": 163,
          "metadata": {},
          "output_type": "execute_result"
        }
      ],
      "source": [
        "i.group()"
      ]
    },
    {
      "cell_type": "markdown",
      "id": "e9eeb178-fabe-42fd-a2f7-50869726000c",
      "metadata": {
        "id": "e9eeb178-fabe-42fd-a2f7-50869726000c"
      },
      "source": [
        "# Metacharacters"
      ]
    },
    {
      "cell_type": "code",
      "execution_count": null,
      "id": "f32bbe7b-c4ec-4e4d-998f-23bded6c4c77",
      "metadata": {
        "id": "f32bbe7b-c4ec-4e4d-998f-23bded6c4c77"
      },
      "outputs": [],
      "source": [
        "# - These are special Regex characters. These specific meanning.\n",
        "# - These are uised to match the pattern in a specific fashion."
      ]
    },
    {
      "cell_type": "markdown",
      "id": "551b0a83-6dc3-418e-bfd7-a0523bc90201",
      "metadata": {
        "id": "551b0a83-6dc3-418e-bfd7-a0523bc90201"
      },
      "source": [
        "# [ ] - Set"
      ]
    },
    {
      "cell_type": "code",
      "execution_count": null,
      "id": "35e46869-f201-4b25-9623-008dd180ffde",
      "metadata": {
        "id": "35e46869-f201-4b25-9623-008dd180ffde"
      },
      "outputs": [],
      "source": [
        "# '[A]' - It will match A in the string one by one.\n",
        "# '[AB]' - It will match A and B separately one by one.\n",
        "# '[A-Z]' - It will match all the upper case letters one by one.\n",
        "# '[a-z]' - It will match all the small case letters one by one.\n",
        "# '[0-9]' - It will match all the digits one by one\n",
        "# '[A-Za-z]' - It will match all the uppercase and the lowercase letters.\n",
        "# '[^A]' - It will match everything except A.\n",
        "# '[^A-Z]' - It means it will match everything except the uppercase letters."
      ]
    },
    {
      "cell_type": "code",
      "execution_count": null,
      "id": "7a6244ef-2bc3-461f-a549-c77b5ddee064",
      "metadata": {
        "id": "7a6244ef-2bc3-461f-a549-c77b5ddee064",
        "outputId": "7f202a22-8837-438c-e48f-a32c2fa49796"
      },
      "outputs": [
        {
          "name": "stdout",
          "output_type": "stream",
          "text": [
            "<re.Match object; span=(7, 8), match='A'>\n",
            "<re.Match object; span=(13, 14), match='A'>\n",
            "<re.Match object; span=(18, 19), match='A'>\n",
            "<re.Match object; span=(19, 20), match='A'>\n"
          ]
        }
      ],
      "source": [
        "text='#@# D$$A% 2 2A4R 3AA5 4V6'\n",
        "pat=r'[A]'\n",
        "\n",
        "x=re.finditer(pat,text)\n",
        "for i in x:\n",
        "    print(i)"
      ]
    },
    {
      "cell_type": "code",
      "execution_count": null,
      "id": "ddfa206c-16eb-43cc-a78c-a99b479bfa9e",
      "metadata": {
        "id": "ddfa206c-16eb-43cc-a78c-a99b479bfa9e",
        "outputId": "60eac5a9-7452-4ebc-b63f-920e5837f681"
      },
      "outputs": [
        {
          "name": "stdout",
          "output_type": "stream",
          "text": [
            "<re.Match object; span=(7, 8), match='A'>\n",
            "<re.Match object; span=(13, 14), match='A'>\n",
            "<re.Match object; span=(18, 19), match='A'>\n",
            "<re.Match object; span=(19, 20), match='A'>\n"
          ]
        }
      ],
      "source": [
        "text='#@# D$$A% 2 2A4R 3AA5 4V6'\n",
        "pat=r'A'\n",
        "\n",
        "x=re.finditer(pat,text)\n",
        "for i in x:\n",
        "    print(i)"
      ]
    },
    {
      "cell_type": "code",
      "execution_count": null,
      "id": "cf843f6c-3bc5-4981-a375-692664676e4e",
      "metadata": {
        "id": "cf843f6c-3bc5-4981-a375-692664676e4e",
        "outputId": "8785f7c4-d436-4e26-8d49-3a76d877cb9e"
      },
      "outputs": [
        {
          "name": "stdout",
          "output_type": "stream",
          "text": [
            "<re.Match object; span=(2, 3), match='B'>\n",
            "<re.Match object; span=(8, 9), match='A'>\n",
            "<re.Match object; span=(14, 15), match='A'>\n",
            "<re.Match object; span=(15, 16), match='B'>\n",
            "<re.Match object; span=(20, 21), match='A'>\n",
            "<re.Match object; span=(21, 22), match='A'>\n",
            "<re.Match object; span=(25, 26), match='B'>\n",
            "<re.Match object; span=(29, 30), match='B'>\n"
          ]
        }
      ],
      "source": [
        "text='#@B# D$$A% 2 2AB4R 3AA5 4BV6 B'\n",
        "pat=r'[BA]'\n",
        "\n",
        "x=re.finditer(pat,text)\n",
        "for i in x:\n",
        "    print(i)"
      ]
    },
    {
      "cell_type": "code",
      "execution_count": null,
      "id": "1a39718e-806d-46b9-b538-216753c7474e",
      "metadata": {
        "id": "1a39718e-806d-46b9-b538-216753c7474e",
        "outputId": "b0a400f8-ea98-44ed-9536-175eac86b054"
      },
      "outputs": [
        {
          "name": "stdout",
          "output_type": "stream",
          "text": [
            "<re.Match object; span=(14, 16), match='AB'>\n"
          ]
        }
      ],
      "source": [
        "text='#@B# D$$A% 2 2AB4R 3AA5 4BV6 B'\n",
        "pat=r'AB'\n",
        "\n",
        "x=re.finditer(pat,text)\n",
        "for i in x:\n",
        "    print(i)"
      ]
    },
    {
      "cell_type": "code",
      "execution_count": null,
      "id": "b1115f2e-6002-4fea-88a6-667c849fb920",
      "metadata": {
        "id": "b1115f2e-6002-4fea-88a6-667c849fb920",
        "outputId": "e2691d08-6fc5-4e1a-a22b-0df9bc5f9398"
      },
      "outputs": [
        {
          "name": "stdout",
          "output_type": "stream",
          "text": [
            "<re.Match object; span=(2, 3), match='B'>\n",
            "<re.Match object; span=(5, 6), match='D'>\n",
            "<re.Match object; span=(7, 8), match='M'>\n",
            "<re.Match object; span=(9, 10), match='A'>\n",
            "<re.Match object; span=(15, 16), match='A'>\n",
            "<re.Match object; span=(16, 17), match='B'>\n",
            "<re.Match object; span=(18, 19), match='R'>\n",
            "<re.Match object; span=(21, 22), match='A'>\n",
            "<re.Match object; span=(22, 23), match='A'>\n",
            "<re.Match object; span=(26, 27), match='B'>\n",
            "<re.Match object; span=(27, 28), match='V'>\n",
            "<re.Match object; span=(30, 31), match='B'>\n",
            "<re.Match object; span=(32, 33), match='W'>\n",
            "<re.Match object; span=(34, 35), match='G'>\n",
            "<re.Match object; span=(35, 36), match='H'>\n",
            "<re.Match object; span=(36, 37), match='I'>\n",
            "<re.Match object; span=(39, 40), match='R'>\n",
            "<re.Match object; span=(40, 41), match='C'>\n",
            "<re.Match object; span=(41, 42), match='V'>\n",
            "<re.Match object; span=(43, 44), match='D'>\n",
            "<re.Match object; span=(46, 47), match='K'>\n",
            "<re.Match object; span=(48, 49), match='O'>\n",
            "<re.Match object; span=(50, 51), match='P'>\n"
          ]
        }
      ],
      "source": [
        "text='#@B# D$M$A% 2 2AB4R 3AA5 4BV6 B W GHI@ RCV3D %K^O6P'\n",
        "pat=r'[A-Z]'\n",
        "\n",
        "x=re.finditer(pat,text)\n",
        "for i in x:\n",
        "    print(i)"
      ]
    },
    {
      "cell_type": "code",
      "execution_count": null,
      "id": "687d3b73-b29b-417a-aa51-574d0752d4d2",
      "metadata": {
        "id": "687d3b73-b29b-417a-aa51-574d0752d4d2",
        "outputId": "f2e1d5f6-fa40-4591-83b2-dcf37cf5d5b9"
      },
      "outputs": [
        {
          "name": "stdout",
          "output_type": "stream",
          "text": [
            "<re.Match object; span=(12, 13), match='2'>\n",
            "<re.Match object; span=(14, 15), match='2'>\n",
            "<re.Match object; span=(17, 18), match='4'>\n",
            "<re.Match object; span=(20, 21), match='3'>\n",
            "<re.Match object; span=(22, 23), match='9'>\n",
            "<re.Match object; span=(25, 26), match='5'>\n",
            "<re.Match object; span=(27, 28), match='4'>\n",
            "<re.Match object; span=(30, 31), match='6'>\n",
            "<re.Match object; span=(37, 38), match='4'>\n",
            "<re.Match object; span=(43, 44), match='2'>\n",
            "<re.Match object; span=(44, 45), match='5'>\n",
            "<re.Match object; span=(45, 46), match='8'>\n",
            "<re.Match object; span=(46, 47), match='6'>\n",
            "<re.Match object; span=(49, 50), match='3'>\n",
            "<re.Match object; span=(56, 57), match='6'>\n",
            "<re.Match object; span=(59, 60), match='1'>\n",
            "<re.Match object; span=(60, 61), match='2'>\n",
            "<re.Match object; span=(61, 62), match='3'>\n",
            "<re.Match object; span=(62, 63), match='5'>\n"
          ]
        }
      ],
      "source": [
        "text='#@B# D$M$A% 2 2AB4R 3A9 A5 4BV6 B W G4HI@ R2586CV3D %K^O6P 1235'\n",
        "pat=r'[0-9]'\n",
        "\n",
        "x=re.finditer(pat,text)\n",
        "for i in x:\n",
        "    print(i)"
      ]
    },
    {
      "cell_type": "code",
      "execution_count": null,
      "id": "83abc201-d063-481c-8e88-80b7de243446",
      "metadata": {
        "id": "83abc201-d063-481c-8e88-80b7de243446",
        "outputId": "32e260e2-b5f4-4b4a-cfc2-4cffda50d2bc"
      },
      "outputs": [
        {
          "name": "stdout",
          "output_type": "stream",
          "text": [
            "<re.Match object; span=(20, 21), match='a'>\n",
            "<re.Match object; span=(26, 27), match='v'>\n",
            "<re.Match object; span=(29, 30), match='g'>\n",
            "<re.Match object; span=(31, 32), match='j'>\n",
            "<re.Match object; span=(32, 33), match='j'>\n",
            "<re.Match object; span=(36, 37), match='u'>\n",
            "<re.Match object; span=(38, 39), match='u'>\n",
            "<re.Match object; span=(39, 40), match='k'>\n",
            "<re.Match object; span=(42, 43), match='w'>\n",
            "<re.Match object; span=(44, 45), match='r'>\n",
            "<re.Match object; span=(46, 47), match='h'>\n",
            "<re.Match object; span=(48, 49), match='k'>\n",
            "<re.Match object; span=(54, 55), match='o'>\n",
            "<re.Match object; span=(58, 59), match='f'>\n",
            "<re.Match object; span=(61, 62), match='a'>\n",
            "<re.Match object; span=(77, 78), match='a'>\n",
            "<re.Match object; span=(78, 79), match='a'>\n",
            "<re.Match object; span=(79, 80), match='a'>\n",
            "<re.Match object; span=(80, 81), match='a'>\n",
            "<re.Match object; span=(81, 82), match='a'>\n",
            "<re.Match object; span=(82, 83), match='a'>\n",
            "<re.Match object; span=(83, 84), match='a'>\n"
          ]
        }
      ],
      "source": [
        "text='#@B# D$M$A% 2 2AB4R a 3A9 vA5g jj4BVu6uk Bw rWh kG4HI@o R2f58a6 CV3D %K^O6P 1aaaaaaa235'\n",
        "pat=r'[a-z]'\n",
        "\n",
        "x=re.finditer(pat,text)\n",
        "for i in x:\n",
        "    print(i)"
      ]
    },
    {
      "cell_type": "code",
      "execution_count": null,
      "id": "5f82173a-ed05-468a-afb7-e139a8962327",
      "metadata": {
        "id": "5f82173a-ed05-468a-afb7-e139a8962327",
        "outputId": "351e65fb-58da-442d-ad2c-d36ffc87f846"
      },
      "outputs": [
        {
          "name": "stdout",
          "output_type": "stream",
          "text": [
            "<re.Match object; span=(2, 3), match='B'>\n",
            "<re.Match object; span=(5, 6), match='D'>\n",
            "<re.Match object; span=(7, 8), match='M'>\n",
            "<re.Match object; span=(9, 10), match='A'>\n",
            "<re.Match object; span=(15, 16), match='A'>\n",
            "<re.Match object; span=(16, 17), match='B'>\n",
            "<re.Match object; span=(18, 19), match='R'>\n",
            "<re.Match object; span=(20, 21), match='a'>\n",
            "<re.Match object; span=(23, 24), match='A'>\n",
            "<re.Match object; span=(26, 27), match='v'>\n",
            "<re.Match object; span=(27, 28), match='A'>\n",
            "<re.Match object; span=(29, 30), match='g'>\n",
            "<re.Match object; span=(31, 32), match='j'>\n",
            "<re.Match object; span=(32, 33), match='j'>\n",
            "<re.Match object; span=(34, 35), match='B'>\n",
            "<re.Match object; span=(35, 36), match='V'>\n",
            "<re.Match object; span=(36, 37), match='u'>\n",
            "<re.Match object; span=(38, 39), match='u'>\n",
            "<re.Match object; span=(39, 40), match='k'>\n",
            "<re.Match object; span=(41, 42), match='B'>\n",
            "<re.Match object; span=(42, 43), match='w'>\n",
            "<re.Match object; span=(44, 45), match='r'>\n",
            "<re.Match object; span=(45, 46), match='W'>\n",
            "<re.Match object; span=(46, 47), match='h'>\n",
            "<re.Match object; span=(48, 49), match='k'>\n",
            "<re.Match object; span=(49, 50), match='G'>\n",
            "<re.Match object; span=(51, 52), match='H'>\n",
            "<re.Match object; span=(52, 53), match='I'>\n",
            "<re.Match object; span=(54, 55), match='o'>\n",
            "<re.Match object; span=(56, 57), match='R'>\n",
            "<re.Match object; span=(58, 59), match='f'>\n",
            "<re.Match object; span=(61, 62), match='a'>\n",
            "<re.Match object; span=(64, 65), match='C'>\n",
            "<re.Match object; span=(65, 66), match='V'>\n",
            "<re.Match object; span=(67, 68), match='D'>\n",
            "<re.Match object; span=(70, 71), match='K'>\n",
            "<re.Match object; span=(72, 73), match='O'>\n",
            "<re.Match object; span=(74, 75), match='P'>\n",
            "<re.Match object; span=(77, 78), match='a'>\n",
            "<re.Match object; span=(78, 79), match='a'>\n",
            "<re.Match object; span=(79, 80), match='a'>\n",
            "<re.Match object; span=(80, 81), match='a'>\n",
            "<re.Match object; span=(81, 82), match='a'>\n",
            "<re.Match object; span=(82, 83), match='a'>\n",
            "<re.Match object; span=(83, 84), match='a'>\n"
          ]
        }
      ],
      "source": [
        "text='#@B# D$M$A% 2 2AB4R a 3A9 vA5g jj4BVu6uk Bw rWh kG4HI@o R2f58a6 CV3D %K^O6P 1aaaaaaa235'\n",
        "pat=r'[A-Za-z]'\n",
        "\n",
        "x=re.finditer(pat,text)\n",
        "for i in x:\n",
        "    print(i)"
      ]
    },
    {
      "cell_type": "code",
      "execution_count": null,
      "id": "47d604c6-dd47-4967-9e12-acb1d893a0ce",
      "metadata": {
        "id": "47d604c6-dd47-4967-9e12-acb1d893a0ce",
        "outputId": "25bc71be-5367-4582-e2c6-aedb2b950168"
      },
      "outputs": [
        {
          "name": "stdout",
          "output_type": "stream",
          "text": [
            "<re.Match object; span=(0, 1), match='#'>\n",
            "<re.Match object; span=(1, 2), match='@'>\n",
            "<re.Match object; span=(3, 4), match='#'>\n",
            "<re.Match object; span=(6, 7), match='$'>\n",
            "<re.Match object; span=(8, 9), match='$'>\n",
            "<re.Match object; span=(10, 11), match='%'>\n",
            "<re.Match object; span=(51, 52), match='#'>\n",
            "<re.Match object; span=(54, 55), match='@'>\n",
            "<re.Match object; span=(70, 71), match='%'>\n",
            "<re.Match object; span=(72, 73), match='^'>\n"
          ]
        }
      ],
      "source": [
        "text='#@B# D$M$A% 2 2AB4R a 3A9 vA5g jj4BVu6uk Bw rWh kG4#HI@o R2f58a6 CV3D %K^O6P 1aaaaaaa235'\n",
        "pat=r\"[~!@#$%^&*()_+=:;\"\",']\"\n",
        "\n",
        "x=re.finditer(pat,text)\n",
        "for i in x:\n",
        "    print(i)"
      ]
    },
    {
      "cell_type": "code",
      "execution_count": null,
      "id": "c2eae89b-b44a-4aee-9292-ae2274611be5",
      "metadata": {
        "id": "c2eae89b-b44a-4aee-9292-ae2274611be5",
        "outputId": "ba250a1e-af50-4451-c448-1b11e0bcc792"
      },
      "outputs": [
        {
          "name": "stdout",
          "output_type": "stream",
          "text": [
            "<re.Match object; span=(7, 8), match='#'>\n",
            "<re.Match object; span=(8, 9), match='@'>\n",
            "<re.Match object; span=(9, 10), match='B'>\n",
            "<re.Match object; span=(10, 11), match='#'>\n",
            "<re.Match object; span=(11, 12), match=' '>\n",
            "<re.Match object; span=(12, 13), match='D'>\n",
            "<re.Match object; span=(13, 14), match='$'>\n",
            "<re.Match object; span=(14, 15), match='M'>\n",
            "<re.Match object; span=(15, 16), match='$'>\n",
            "<re.Match object; span=(17, 18), match='%'>\n",
            "<re.Match object; span=(18, 19), match=' '>\n",
            "<re.Match object; span=(19, 20), match='2'>\n",
            "<re.Match object; span=(20, 21), match=' '>\n",
            "<re.Match object; span=(21, 22), match='2'>\n",
            "<re.Match object; span=(23, 24), match='B'>\n",
            "<re.Match object; span=(24, 25), match='4'>\n",
            "<re.Match object; span=(25, 26), match='R'>\n",
            "<re.Match object; span=(26, 27), match=' '>\n",
            "<re.Match object; span=(27, 28), match='a'>\n",
            "<re.Match object; span=(28, 29), match=' '>\n",
            "<re.Match object; span=(29, 30), match='3'>\n",
            "<re.Match object; span=(31, 32), match='9'>\n",
            "<re.Match object; span=(32, 33), match=' '>\n",
            "<re.Match object; span=(33, 34), match='v'>\n",
            "<re.Match object; span=(35, 36), match='5'>\n",
            "<re.Match object; span=(36, 37), match='g'>\n",
            "<re.Match object; span=(37, 38), match=' '>\n",
            "<re.Match object; span=(38, 39), match='j'>\n",
            "<re.Match object; span=(39, 40), match='j'>\n",
            "<re.Match object; span=(40, 41), match='4'>\n",
            "<re.Match object; span=(41, 42), match='B'>\n",
            "<re.Match object; span=(42, 43), match='V'>\n",
            "<re.Match object; span=(43, 44), match='u'>\n",
            "<re.Match object; span=(44, 45), match='6'>\n",
            "<re.Match object; span=(45, 46), match='u'>\n",
            "<re.Match object; span=(46, 47), match='k'>\n",
            "<re.Match object; span=(47, 48), match=' '>\n",
            "<re.Match object; span=(48, 49), match='B'>\n",
            "<re.Match object; span=(49, 50), match='w'>\n",
            "<re.Match object; span=(50, 51), match=' '>\n",
            "<re.Match object; span=(51, 52), match='r'>\n",
            "<re.Match object; span=(52, 53), match='W'>\n",
            "<re.Match object; span=(53, 54), match='h'>\n",
            "<re.Match object; span=(54, 55), match=' '>\n",
            "<re.Match object; span=(55, 56), match='k'>\n",
            "<re.Match object; span=(56, 57), match='G'>\n",
            "<re.Match object; span=(57, 58), match='4'>\n",
            "<re.Match object; span=(58, 59), match='#'>\n",
            "<re.Match object; span=(59, 60), match='H'>\n",
            "<re.Match object; span=(60, 61), match='I'>\n",
            "<re.Match object; span=(61, 62), match='@'>\n",
            "<re.Match object; span=(62, 63), match='o'>\n",
            "<re.Match object; span=(63, 64), match=' '>\n",
            "<re.Match object; span=(64, 65), match='R'>\n",
            "<re.Match object; span=(65, 66), match='2'>\n",
            "<re.Match object; span=(66, 67), match='f'>\n",
            "<re.Match object; span=(67, 68), match='5'>\n",
            "<re.Match object; span=(68, 69), match='8'>\n",
            "<re.Match object; span=(69, 70), match='a'>\n",
            "<re.Match object; span=(70, 71), match='6'>\n",
            "<re.Match object; span=(71, 72), match=' '>\n",
            "<re.Match object; span=(72, 73), match='C'>\n",
            "<re.Match object; span=(73, 74), match='V'>\n",
            "<re.Match object; span=(74, 75), match='3'>\n",
            "<re.Match object; span=(75, 76), match='D'>\n",
            "<re.Match object; span=(76, 77), match=' '>\n",
            "<re.Match object; span=(77, 78), match='%'>\n",
            "<re.Match object; span=(78, 79), match='K'>\n",
            "<re.Match object; span=(79, 80), match='^'>\n",
            "<re.Match object; span=(80, 81), match='O'>\n",
            "<re.Match object; span=(81, 82), match='6'>\n",
            "<re.Match object; span=(82, 83), match='P'>\n",
            "<re.Match object; span=(83, 84), match=' '>\n",
            "<re.Match object; span=(84, 85), match='1'>\n",
            "<re.Match object; span=(85, 86), match='a'>\n",
            "<re.Match object; span=(86, 87), match='a'>\n",
            "<re.Match object; span=(87, 88), match='a'>\n",
            "<re.Match object; span=(88, 89), match='a'>\n",
            "<re.Match object; span=(89, 90), match='a'>\n",
            "<re.Match object; span=(90, 91), match='a'>\n",
            "<re.Match object; span=(91, 92), match='a'>\n",
            "<re.Match object; span=(92, 93), match='2'>\n",
            "<re.Match object; span=(93, 94), match='3'>\n",
            "<re.Match object; span=(94, 95), match='5'>\n"
          ]
        }
      ],
      "source": [
        "text='AAAAAAA#@B# D$M$A% 2 2AB4R a 3A9 vA5g jj4BVu6uk Bw rWh kG4#HI@o R2f58a6 CV3D %K^O6P 1aaaaaaa235'\n",
        "pat=r\"[^A]\"\n",
        "\n",
        "x=re.finditer(pat,text)\n",
        "for i in x:\n",
        "    print(i)"
      ]
    },
    {
      "cell_type": "code",
      "execution_count": null,
      "id": "1c47aa6b-afc6-48c6-8ac5-dfe75117aec8",
      "metadata": {
        "id": "1c47aa6b-afc6-48c6-8ac5-dfe75117aec8",
        "outputId": "a33c3b00-7b5d-4718-8132-e9f119df23c8"
      },
      "outputs": [
        {
          "name": "stdout",
          "output_type": "stream",
          "text": [
            "<re.Match object; span=(7, 8), match='#'>\n",
            "<re.Match object; span=(8, 9), match='@'>\n",
            "<re.Match object; span=(10, 11), match='#'>\n",
            "<re.Match object; span=(11, 12), match=' '>\n",
            "<re.Match object; span=(13, 14), match='$'>\n",
            "<re.Match object; span=(15, 16), match='$'>\n",
            "<re.Match object; span=(17, 18), match='%'>\n",
            "<re.Match object; span=(18, 19), match=' '>\n",
            "<re.Match object; span=(19, 20), match='2'>\n",
            "<re.Match object; span=(20, 21), match=' '>\n",
            "<re.Match object; span=(21, 22), match='2'>\n",
            "<re.Match object; span=(24, 25), match='4'>\n",
            "<re.Match object; span=(26, 27), match=' '>\n",
            "<re.Match object; span=(27, 28), match='a'>\n",
            "<re.Match object; span=(28, 29), match=' '>\n",
            "<re.Match object; span=(29, 30), match='3'>\n",
            "<re.Match object; span=(31, 32), match='9'>\n",
            "<re.Match object; span=(32, 33), match=' '>\n",
            "<re.Match object; span=(33, 34), match='v'>\n",
            "<re.Match object; span=(35, 36), match='5'>\n",
            "<re.Match object; span=(36, 37), match='g'>\n",
            "<re.Match object; span=(37, 38), match=' '>\n",
            "<re.Match object; span=(38, 39), match='j'>\n",
            "<re.Match object; span=(39, 40), match='j'>\n",
            "<re.Match object; span=(40, 41), match='4'>\n",
            "<re.Match object; span=(43, 44), match='u'>\n",
            "<re.Match object; span=(44, 45), match='6'>\n",
            "<re.Match object; span=(45, 46), match='u'>\n",
            "<re.Match object; span=(46, 47), match='k'>\n",
            "<re.Match object; span=(47, 48), match=' '>\n",
            "<re.Match object; span=(49, 50), match='w'>\n",
            "<re.Match object; span=(50, 51), match=' '>\n",
            "<re.Match object; span=(51, 52), match='r'>\n",
            "<re.Match object; span=(53, 54), match='h'>\n",
            "<re.Match object; span=(54, 55), match=' '>\n",
            "<re.Match object; span=(55, 56), match='k'>\n",
            "<re.Match object; span=(57, 58), match='4'>\n",
            "<re.Match object; span=(58, 59), match='#'>\n",
            "<re.Match object; span=(61, 62), match='@'>\n",
            "<re.Match object; span=(62, 63), match='o'>\n",
            "<re.Match object; span=(63, 64), match=' '>\n",
            "<re.Match object; span=(65, 66), match='2'>\n",
            "<re.Match object; span=(66, 67), match='f'>\n",
            "<re.Match object; span=(67, 68), match='5'>\n",
            "<re.Match object; span=(68, 69), match='8'>\n",
            "<re.Match object; span=(69, 70), match='a'>\n",
            "<re.Match object; span=(70, 71), match='6'>\n",
            "<re.Match object; span=(71, 72), match=' '>\n",
            "<re.Match object; span=(74, 75), match='3'>\n",
            "<re.Match object; span=(76, 77), match=' '>\n",
            "<re.Match object; span=(77, 78), match='%'>\n",
            "<re.Match object; span=(79, 80), match='^'>\n",
            "<re.Match object; span=(81, 82), match='6'>\n",
            "<re.Match object; span=(83, 84), match=' '>\n",
            "<re.Match object; span=(84, 85), match='1'>\n",
            "<re.Match object; span=(85, 86), match='a'>\n",
            "<re.Match object; span=(86, 87), match='a'>\n",
            "<re.Match object; span=(87, 88), match='a'>\n",
            "<re.Match object; span=(88, 89), match='a'>\n",
            "<re.Match object; span=(89, 90), match='a'>\n",
            "<re.Match object; span=(90, 91), match='a'>\n",
            "<re.Match object; span=(91, 92), match='a'>\n",
            "<re.Match object; span=(92, 93), match='2'>\n",
            "<re.Match object; span=(93, 94), match='3'>\n",
            "<re.Match object; span=(94, 95), match='5'>\n"
          ]
        }
      ],
      "source": [
        "text='AAAAAAA#@B# D$M$A% 2 2AB4R a 3A9 vA5g jj4BVu6uk Bw rWh kG4#HI@o R2f58a6 CV3D %K^O6P 1aaaaaaa235'\n",
        "pat=r\"[^A-Z]\"\n",
        "\n",
        "x=re.finditer(pat,text)\n",
        "for i in x:\n",
        "    print(i)"
      ]
    },
    {
      "cell_type": "code",
      "execution_count": null,
      "id": "226c5118-3e9a-45bc-8c31-e4f3c4dcd016",
      "metadata": {
        "id": "226c5118-3e9a-45bc-8c31-e4f3c4dcd016",
        "outputId": "dded5d9f-f0f0-4785-ef7f-984253191a1c"
      },
      "outputs": [
        {
          "name": "stdout",
          "output_type": "stream",
          "text": [
            "<re.Match object; span=(7, 8), match='#'>\n",
            "<re.Match object; span=(8, 9), match='@'>\n",
            "<re.Match object; span=(10, 11), match='#'>\n",
            "<re.Match object; span=(11, 12), match=' '>\n",
            "<re.Match object; span=(13, 14), match='$'>\n",
            "<re.Match object; span=(15, 16), match='$'>\n",
            "<re.Match object; span=(17, 18), match='%'>\n",
            "<re.Match object; span=(18, 19), match=' '>\n",
            "<re.Match object; span=(19, 20), match='2'>\n",
            "<re.Match object; span=(20, 21), match=' '>\n",
            "<re.Match object; span=(21, 22), match='2'>\n",
            "<re.Match object; span=(24, 25), match='4'>\n",
            "<re.Match object; span=(26, 27), match=' '>\n",
            "<re.Match object; span=(28, 29), match=' '>\n",
            "<re.Match object; span=(29, 30), match='3'>\n",
            "<re.Match object; span=(31, 32), match='9'>\n",
            "<re.Match object; span=(32, 33), match=' '>\n",
            "<re.Match object; span=(35, 36), match='5'>\n",
            "<re.Match object; span=(37, 38), match=' '>\n",
            "<re.Match object; span=(40, 41), match='4'>\n",
            "<re.Match object; span=(44, 45), match='6'>\n",
            "<re.Match object; span=(47, 48), match=' '>\n",
            "<re.Match object; span=(50, 51), match=' '>\n",
            "<re.Match object; span=(54, 55), match=' '>\n",
            "<re.Match object; span=(57, 58), match='4'>\n",
            "<re.Match object; span=(58, 59), match='#'>\n",
            "<re.Match object; span=(61, 62), match='@'>\n",
            "<re.Match object; span=(63, 64), match=' '>\n",
            "<re.Match object; span=(65, 66), match='2'>\n",
            "<re.Match object; span=(67, 68), match='5'>\n",
            "<re.Match object; span=(68, 69), match='8'>\n",
            "<re.Match object; span=(70, 71), match='6'>\n",
            "<re.Match object; span=(71, 72), match=' '>\n",
            "<re.Match object; span=(74, 75), match='3'>\n",
            "<re.Match object; span=(76, 77), match=' '>\n",
            "<re.Match object; span=(77, 78), match='%'>\n",
            "<re.Match object; span=(79, 80), match='^'>\n",
            "<re.Match object; span=(81, 82), match='6'>\n",
            "<re.Match object; span=(83, 84), match=' '>\n",
            "<re.Match object; span=(84, 85), match='1'>\n",
            "<re.Match object; span=(92, 93), match='2'>\n",
            "<re.Match object; span=(93, 94), match='3'>\n",
            "<re.Match object; span=(94, 95), match='5'>\n"
          ]
        }
      ],
      "source": [
        "text='AAAAAAA#@B# D$M$A% 2 2AB4R a 3A9 vA5g jj4BVu6uk Bw rWh kG4#HI@o R2f58a6 CV3D %K^O6P 1aaaaaaa235'\n",
        "pat=r\"[^A-Za-z]\"\n",
        "\n",
        "x=re.finditer(pat,text)\n",
        "for i in x:\n",
        "    print(i)"
      ]
    },
    {
      "cell_type": "code",
      "execution_count": null,
      "id": "538e1cc0-59e1-4f74-90e4-3c2398368786",
      "metadata": {
        "id": "538e1cc0-59e1-4f74-90e4-3c2398368786",
        "outputId": "5dd14983-91c1-4405-e5d8-6d7a5b671900"
      },
      "outputs": [
        {
          "name": "stdout",
          "output_type": "stream",
          "text": [
            "<re.Match object; span=(7, 8), match='#'>\n",
            "<re.Match object; span=(8, 9), match='@'>\n",
            "<re.Match object; span=(10, 11), match='#'>\n",
            "<re.Match object; span=(11, 12), match=' '>\n",
            "<re.Match object; span=(13, 14), match='$'>\n",
            "<re.Match object; span=(15, 16), match='$'>\n",
            "<re.Match object; span=(17, 18), match='%'>\n",
            "<re.Match object; span=(18, 19), match=' '>\n",
            "<re.Match object; span=(20, 21), match=' '>\n",
            "<re.Match object; span=(26, 27), match=' '>\n",
            "<re.Match object; span=(28, 29), match=' '>\n",
            "<re.Match object; span=(32, 33), match=' '>\n",
            "<re.Match object; span=(37, 38), match=' '>\n",
            "<re.Match object; span=(47, 48), match=' '>\n",
            "<re.Match object; span=(50, 51), match=' '>\n",
            "<re.Match object; span=(54, 55), match=' '>\n",
            "<re.Match object; span=(58, 59), match='#'>\n",
            "<re.Match object; span=(61, 62), match='@'>\n",
            "<re.Match object; span=(63, 64), match=' '>\n",
            "<re.Match object; span=(71, 72), match=' '>\n",
            "<re.Match object; span=(76, 77), match=' '>\n",
            "<re.Match object; span=(77, 78), match='%'>\n",
            "<re.Match object; span=(79, 80), match='^'>\n",
            "<re.Match object; span=(83, 84), match=' '>\n"
          ]
        }
      ],
      "source": [
        "text='AAAAAAA#@B# D$M$A% 2 2AB4R a 3A9 vA5g jj4BVu6uk Bw rWh kG4#HI@o R2f58a6 CV3D %K^O6P 1aaaaaaa235'\n",
        "pat=r\"[^A-Za-z0-9]\"\n",
        "\n",
        "x=re.finditer(pat,text)\n",
        "for i in x:\n",
        "    print(i)"
      ]
    },
    {
      "cell_type": "code",
      "execution_count": null,
      "id": "3a386df5-efeb-4c41-a7a7-52f73a564827",
      "metadata": {
        "id": "3a386df5-efeb-4c41-a7a7-52f73a564827",
        "outputId": "202e0f1b-25b5-42e0-c0e6-f4fe99fa421b"
      },
      "outputs": [
        {
          "name": "stdout",
          "output_type": "stream",
          "text": [
            "<re.Match object; span=(7, 8), match='#'>\n",
            "<re.Match object; span=(8, 9), match='@'>\n",
            "<re.Match object; span=(10, 11), match='#'>\n",
            "<re.Match object; span=(13, 14), match='$'>\n",
            "<re.Match object; span=(15, 16), match='$'>\n",
            "<re.Match object; span=(17, 18), match='%'>\n",
            "<re.Match object; span=(58, 59), match='#'>\n",
            "<re.Match object; span=(61, 62), match='@'>\n",
            "<re.Match object; span=(77, 78), match='%'>\n",
            "<re.Match object; span=(79, 80), match='^'>\n"
          ]
        }
      ],
      "source": [
        "text='AAAAAAA#@B# D$M$A% 2 2AB4R a 3A9 vA5g jj4BVu6uk Bw rWh kG4#HI@o R2f58a6 CV3D %K^O6P 1aaaaaaa235'\n",
        "pat=r\"[^A-Za-z0-9 ]\"\n",
        "\n",
        "x=re.finditer(pat,text)\n",
        "for i in x:\n",
        "    print(i)"
      ]
    },
    {
      "cell_type": "markdown",
      "id": "6162d04f-cbdb-425f-9113-6fa88e1b663a",
      "metadata": {
        "id": "6162d04f-cbdb-425f-9113-6fa88e1b663a"
      },
      "source": [
        "# . Dot"
      ]
    },
    {
      "cell_type": "code",
      "execution_count": null,
      "id": "c6ac921a-8d07-4689-bff5-f5fea19f00c3",
      "metadata": {
        "id": "c6ac921a-8d07-4689-bff5-f5fea19f00c3"
      },
      "outputs": [],
      "source": [
        "# - It matches everything except the \\n"
      ]
    },
    {
      "cell_type": "code",
      "execution_count": null,
      "id": "f4c6e67e-01d7-4a19-912c-25ea88068f68",
      "metadata": {
        "id": "f4c6e67e-01d7-4a19-912c-25ea88068f68",
        "outputId": "0f413634-5f29-4797-f01b-af73e29a8964"
      },
      "outputs": [
        {
          "name": "stdout",
          "output_type": "stream",
          "text": [
            "<re.Match object; span=(0, 1), match='2'>\n",
            "<re.Match object; span=(1, 2), match='A'>\n",
            "<re.Match object; span=(2, 3), match='B'>\n",
            "<re.Match object; span=(4, 5), match='4'>\n",
            "<re.Match object; span=(5, 6), match='R'>\n",
            "<re.Match object; span=(6, 7), match=' '>\n",
            "<re.Match object; span=(7, 8), match='a'>\n",
            "<re.Match object; span=(8, 9), match=' '>\n",
            "<re.Match object; span=(9, 10), match='3'>\n",
            "<re.Match object; span=(10, 11), match='\\t'>\n",
            "<re.Match object; span=(11, 12), match='A'>\n",
            "<re.Match object; span=(12, 13), match='9'>\n",
            "<re.Match object; span=(13, 14), match=' '>\n",
            "<re.Match object; span=(14, 15), match='v'>\n",
            "<re.Match object; span=(15, 16), match='A'>\n",
            "<re.Match object; span=(16, 17), match='5'>\n",
            "<re.Match object; span=(18, 19), match='g'>\n",
            "<re.Match object; span=(19, 20), match=' '>\n",
            "<re.Match object; span=(20, 21), match='j'>\n",
            "<re.Match object; span=(21, 22), match='j'>\n",
            "<re.Match object; span=(22, 23), match='4'>\n",
            "<re.Match object; span=(23, 24), match='B'>\n",
            "<re.Match object; span=(24, 25), match='V'>\n",
            "<re.Match object; span=(25, 26), match='u'>\n",
            "<re.Match object; span=(26, 27), match='6'>\n",
            "<re.Match object; span=(28, 29), match='u'>\n",
            "<re.Match object; span=(29, 30), match='k'>\n",
            "<re.Match object; span=(30, 31), match=' '>\n",
            "<re.Match object; span=(31, 32), match='B'>\n",
            "<re.Match object; span=(32, 33), match='w'>\n",
            "<re.Match object; span=(33, 34), match=' '>\n",
            "<re.Match object; span=(34, 35), match='r'>\n",
            "<re.Match object; span=(35, 36), match='W'>\n",
            "<re.Match object; span=(36, 37), match='h'>\n",
            "<re.Match object; span=(37, 38), match=' '>\n",
            "<re.Match object; span=(38, 39), match='k'>\n",
            "<re.Match object; span=(39, 40), match='G'>\n",
            "<re.Match object; span=(40, 41), match='4'>\n",
            "<re.Match object; span=(41, 42), match='#'>\n",
            "<re.Match object; span=(42, 43), match='H'>\n",
            "<re.Match object; span=(43, 44), match='I'>\n",
            "<re.Match object; span=(44, 45), match='@'>\n",
            "<re.Match object; span=(45, 46), match='o'>\n",
            "<re.Match object; span=(47, 48), match=' '>\n",
            "<re.Match object; span=(48, 49), match='R'>\n",
            "<re.Match object; span=(49, 50), match='2'>\n",
            "<re.Match object; span=(50, 51), match='f'>\n",
            "<re.Match object; span=(51, 52), match='5'>\n",
            "<re.Match object; span=(52, 53), match='8'>\n",
            "<re.Match object; span=(53, 54), match='a'>\n",
            "<re.Match object; span=(54, 55), match='6'>\n",
            "<re.Match object; span=(55, 56), match=' '>\n",
            "<re.Match object; span=(56, 57), match='C'>\n",
            "<re.Match object; span=(57, 58), match='V'>\n",
            "<re.Match object; span=(58, 59), match='3'>\n",
            "<re.Match object; span=(59, 60), match='D'>\n",
            "<re.Match object; span=(60, 61), match=' '>\n",
            "<re.Match object; span=(61, 62), match='%'>\n",
            "<re.Match object; span=(62, 63), match='K'>\n",
            "<re.Match object; span=(63, 64), match='^'>\n",
            "<re.Match object; span=(64, 65), match='O'>\n",
            "<re.Match object; span=(65, 66), match='6'>\n",
            "<re.Match object; span=(66, 67), match='P'>\n",
            "<re.Match object; span=(67, 68), match=' '>\n",
            "<re.Match object; span=(68, 69), match='1'>\n",
            "<re.Match object; span=(69, 70), match='a'>\n",
            "<re.Match object; span=(70, 71), match='a'>\n",
            "<re.Match object; span=(71, 72), match='a'>\n",
            "<re.Match object; span=(72, 73), match='a'>\n",
            "<re.Match object; span=(73, 74), match='a'>\n",
            "<re.Match object; span=(74, 75), match='a'>\n",
            "<re.Match object; span=(75, 76), match='a'>\n",
            "<re.Match object; span=(76, 77), match='2'>\n",
            "<re.Match object; span=(77, 78), match='3'>\n",
            "<re.Match object; span=(78, 79), match='5'>\n"
          ]
        }
      ],
      "source": [
        "text='2AB\\n4R a 3\\tA9 vA5\\ng jj4BVu6\\nuk Bw rWh kG4#HI@o\\n R2f58a6 CV3D %K^O6P 1aaaaaaa235'\n",
        "pat=r'.'\n",
        "\n",
        "x=re.finditer(pat,text)\n",
        "for i in x:\n",
        "    print(i)"
      ]
    },
    {
      "cell_type": "code",
      "execution_count": null,
      "id": "0a48182a-a25d-4f1b-8fcf-7f4f2ac861e4",
      "metadata": {
        "id": "0a48182a-a25d-4f1b-8fcf-7f4f2ac861e4",
        "outputId": "b102a306-17c0-4371-d372-a22ff19975ca"
      },
      "outputs": [
        {
          "name": "stdout",
          "output_type": "stream",
          "text": [
            "<re.Match object; span=(0, 1), match='T'>\n",
            "<re.Match object; span=(1, 2), match='h'>\n",
            "<re.Match object; span=(2, 3), match='i'>\n",
            "<re.Match object; span=(3, 4), match='s'>\n",
            "<re.Match object; span=(4, 5), match=' '>\n",
            "<re.Match object; span=(5, 6), match='i'>\n",
            "<re.Match object; span=(6, 7), match='s'>\n",
            "<re.Match object; span=(7, 8), match=' '>\n",
            "<re.Match object; span=(8, 9), match='l'>\n",
            "<re.Match object; span=(9, 10), match='i'>\n",
            "<re.Match object; span=(10, 11), match='n'>\n",
            "<re.Match object; span=(11, 12), match='e'>\n",
            "<re.Match object; span=(12, 13), match=' '>\n",
            "<re.Match object; span=(13, 14), match='1'>\n",
            "<re.Match object; span=(14, 15), match=' '>\n",
            "<re.Match object; span=(15, 16), match='3'>\n",
            "<re.Match object; span=(16, 17), match='2'>\n",
            "<re.Match object; span=(17, 18), match='4'>\n",
            "<re.Match object; span=(18, 19), match='3'>\n",
            "<re.Match object; span=(19, 20), match='5'>\n",
            "<re.Match object; span=(20, 21), match='4'>\n",
            "<re.Match object; span=(21, 22), match='5'>\n",
            "<re.Match object; span=(22, 23), match='#'>\n",
            "<re.Match object; span=(23, 24), match='#'>\n",
            "<re.Match object; span=(24, 25), match='$'>\n",
            "<re.Match object; span=(25, 26), match='#'>\n",
            "<re.Match object; span=(26, 27), match='%'>\n",
            "<re.Match object; span=(28, 29), match='T'>\n",
            "<re.Match object; span=(29, 30), match='h'>\n",
            "<re.Match object; span=(30, 31), match='i'>\n",
            "<re.Match object; span=(31, 32), match='s'>\n",
            "<re.Match object; span=(32, 33), match=' '>\n",
            "<re.Match object; span=(33, 34), match='i'>\n",
            "<re.Match object; span=(34, 35), match='s'>\n",
            "<re.Match object; span=(35, 36), match=' '>\n",
            "<re.Match object; span=(36, 37), match='l'>\n",
            "<re.Match object; span=(37, 38), match='i'>\n",
            "<re.Match object; span=(38, 39), match='n'>\n",
            "<re.Match object; span=(39, 40), match='e'>\n",
            "<re.Match object; span=(40, 41), match=' '>\n",
            "<re.Match object; span=(41, 42), match='2'>\n",
            "<re.Match object; span=(43, 44), match='#'>\n",
            "<re.Match object; span=(44, 45), match='@'>\n",
            "<re.Match object; span=(45, 46), match='#'>\n",
            "<re.Match object; span=(46, 47), match='#'>\n",
            "<re.Match object; span=(47, 48), match='%'>\n",
            "<re.Match object; span=(48, 49), match='$'>\n",
            "<re.Match object; span=(49, 50), match='^'>\n",
            "<re.Match object; span=(51, 52), match='3'>\n",
            "<re.Match object; span=(52, 53), match='3'>\n",
            "<re.Match object; span=(53, 54), match='4'>\n",
            "<re.Match object; span=(54, 55), match='6'>\n",
            "<re.Match object; span=(55, 56), match='5'>\n",
            "<re.Match object; span=(56, 57), match='6'>\n",
            "<re.Match object; span=(57, 58), match='5'>\n",
            "<re.Match object; span=(58, 59), match='7'>\n",
            "<re.Match object; span=(60, 61), match='D'>\n",
            "<re.Match object; span=(61, 62), match='A'>\n",
            "<re.Match object; span=(62, 63), match='S'>\n",
            "<re.Match object; span=(63, 64), match='F'>\n",
            "<re.Match object; span=(64, 65), match='D'>\n",
            "<re.Match object; span=(65, 66), match='T'>\n",
            "<re.Match object; span=(66, 67), match='R'>\n",
            "<re.Match object; span=(67, 68), match='E'>\n",
            "<re.Match object; span=(68, 69), match='T'>\n",
            "<re.Match object; span=(69, 70), match='E'>\n",
            "<re.Match object; span=(70, 71), match='Y'>\n",
            "<re.Match object; span=(72, 73), match='a'>\n",
            "<re.Match object; span=(73, 74), match='D'>\n",
            "<re.Match object; span=(74, 75), match='h'>\n",
            "<re.Match object; span=(75, 76), match='g'>\n",
            "<re.Match object; span=(76, 77), match='h'>\n",
            "<re.Match object; span=(77, 78), match='g'>\n",
            "<re.Match object; span=(78, 79), match='f'>\n",
            "<re.Match object; span=(79, 80), match='h'>\n",
            "<re.Match object; span=(80, 81), match='e'>\n",
            "<re.Match object; span=(81, 82), match='g'>\n",
            "<re.Match object; span=(82, 83), match='w'>\n"
          ]
        }
      ],
      "source": [
        "text='''This is line 1 3243545##$#%\n",
        "This is line 2\n",
        "#@##%$^\n",
        "33465657\n",
        "DASFDTRETEY\n",
        "aDhghgfhegw'''\n",
        "\n",
        "pat=r'.'\n",
        "\n",
        "x=re.finditer(pat,text)\n",
        "for i in x:\n",
        "    print(i)"
      ]
    },
    {
      "cell_type": "markdown",
      "id": "0dbb9371-c796-4476-a373-7948ead4312f",
      "metadata": {
        "id": "0dbb9371-c796-4476-a373-7948ead4312f"
      },
      "source": [
        "# ^ Caret"
      ]
    },
    {
      "cell_type": "code",
      "execution_count": null,
      "id": "8f18f13a-c0b8-4039-a5e4-f5bebe509833",
      "metadata": {
        "id": "8f18f13a-c0b8-4039-a5e4-f5bebe509833"
      },
      "outputs": [],
      "source": [
        "# - It matches the pattern at the beginning of the string."
      ]
    },
    {
      "cell_type": "code",
      "execution_count": null,
      "id": "eecef143-5ce4-4b7c-8fd3-5a2039ecb618",
      "metadata": {
        "id": "eecef143-5ce4-4b7c-8fd3-5a2039ecb618"
      },
      "outputs": [],
      "source": [
        "names=['ADITYA',\n",
        " 'SURESH',\n",
        " 'DEBOLINA',\n",
        " 'TANYA',\n",
        " 'REKHA',\n",
        " 'MAHESH',\n",
        "'HEMAVARTHINI',\n",
        " 'DEEPAK',\n",
        " 'JAYANTH',\n",
        " 'PARAM',\n",
        " 'RUPESH']"
      ]
    },
    {
      "cell_type": "code",
      "execution_count": null,
      "id": "242c4fe5-3188-42fb-a37d-e4f89a9c97fb",
      "metadata": {
        "id": "242c4fe5-3188-42fb-a37d-e4f89a9c97fb",
        "outputId": "f019ec6c-80be-4fb0-f9aa-0dd6c923ae30"
      },
      "outputs": [
        {
          "name": "stdout",
          "output_type": "stream",
          "text": [
            "['ADITYA', 'SURESH', 'DEBOLINA', 'TANYA', 'REKHA', 'MAHESH', 'HEMAVARTHINI', 'DEEPAK', 'JAYANTH', 'PARAM', 'RUPESH']\n"
          ]
        }
      ],
      "source": [
        "print(names)"
      ]
    },
    {
      "cell_type": "code",
      "execution_count": null,
      "id": "1936aec5-011e-4f75-bc8e-748250124880",
      "metadata": {
        "id": "1936aec5-011e-4f75-bc8e-748250124880",
        "outputId": "992a0689-1477-49fc-c671-98fd06564c6a"
      },
      "outputs": [
        {
          "name": "stdout",
          "output_type": "stream",
          "text": [
            "SURESH\n"
          ]
        }
      ],
      "source": [
        "for i in names:\n",
        "    if re.search('^S',i):\n",
        "        print(i)"
      ]
    },
    {
      "cell_type": "markdown",
      "id": "d814b11a-21e7-430a-b5e1-73f713f2034a",
      "metadata": {
        "id": "d814b11a-21e7-430a-b5e1-73f713f2034a"
      },
      "source": [
        "# $ Dollar"
      ]
    },
    {
      "cell_type": "code",
      "execution_count": null,
      "id": "2705478c-9373-4236-b629-b269450aa7ea",
      "metadata": {
        "id": "2705478c-9373-4236-b629-b269450aa7ea"
      },
      "outputs": [],
      "source": [
        "# - It matches the pattern at the end of the string."
      ]
    },
    {
      "cell_type": "code",
      "execution_count": null,
      "id": "edfea702-1b2f-42ec-a75d-4522fa0e5cf6",
      "metadata": {
        "id": "edfea702-1b2f-42ec-a75d-4522fa0e5cf6",
        "outputId": "5625b027-9ba2-44f0-84d9-3c2645b777ef"
      },
      "outputs": [
        {
          "name": "stdout",
          "output_type": "stream",
          "text": [
            "<re.Match object; span=(15, 20), match='class'>\n"
          ]
        }
      ],
      "source": [
        "text='This is Python class'\n",
        "pat=r'class$'\n",
        "\n",
        "x=re.search(pat,text)\n",
        "print(x)"
      ]
    },
    {
      "cell_type": "code",
      "execution_count": null,
      "id": "262f77b5-7b27-46f9-80fa-ecebbfe0225f",
      "metadata": {
        "id": "262f77b5-7b27-46f9-80fa-ecebbfe0225f",
        "outputId": "fd3aaca0-454a-4ee1-dc10-6d31c1fe2315"
      },
      "outputs": [
        {
          "name": "stdout",
          "output_type": "stream",
          "text": [
            "SURESH\n",
            "REKHA\n",
            "MAHESH\n",
            "HEMAVARTHINI\n",
            "JAYANTH\n",
            "RUPESH\n"
          ]
        }
      ],
      "source": [
        "for i in names:\n",
        "    if re.search('H',i):\n",
        "        print(i)"
      ]
    },
    {
      "cell_type": "code",
      "execution_count": null,
      "id": "578341d9-051d-4869-9c0b-69145e6accb3",
      "metadata": {
        "id": "578341d9-051d-4869-9c0b-69145e6accb3",
        "outputId": "ae6ef009-de6c-4bad-db8e-4c2e2bd54fb0"
      },
      "outputs": [
        {
          "name": "stdout",
          "output_type": "stream",
          "text": [
            "HEMAVARTHINI\n"
          ]
        }
      ],
      "source": [
        "for i in names:\n",
        "    if re.search('^H',i):\n",
        "        print(i)"
      ]
    },
    {
      "cell_type": "code",
      "execution_count": null,
      "id": "bb29d8b1-abfb-4659-b8ab-4f670aa7dcf7",
      "metadata": {
        "id": "bb29d8b1-abfb-4659-b8ab-4f670aa7dcf7",
        "outputId": "71c3f323-809f-4869-f0ec-1587881aed62"
      },
      "outputs": [
        {
          "name": "stdout",
          "output_type": "stream",
          "text": [
            "SURESH\n",
            "MAHESH\n",
            "JAYANTH\n",
            "RUPESH\n"
          ]
        }
      ],
      "source": [
        "for i in names:\n",
        "    if re.search('H$',i):\n",
        "        print(i)"
      ]
    },
    {
      "cell_type": "code",
      "execution_count": null,
      "id": "5a23437f-047f-4be6-96de-29e7ceab479d",
      "metadata": {
        "id": "5a23437f-047f-4be6-96de-29e7ceab479d",
        "outputId": "50e8efb4-dc91-4673-c99f-a39f5f403758"
      },
      "outputs": [
        {
          "name": "stdout",
          "output_type": "stream",
          "text": [
            "SURESH\n",
            "MAHESH\n",
            "RUPESH\n"
          ]
        }
      ],
      "source": [
        "for i in names:\n",
        "    if re.search('SH$',i):\n",
        "        print(i)"
      ]
    },
    {
      "cell_type": "code",
      "execution_count": null,
      "id": "94810eec-2cdc-4703-a199-1169d7331750",
      "metadata": {
        "id": "94810eec-2cdc-4703-a199-1169d7331750",
        "outputId": "82e66c1f-08ca-456b-ffa5-de3a79e1b848"
      },
      "outputs": [
        {
          "name": "stdout",
          "output_type": "stream",
          "text": [
            "JAYANTH\n"
          ]
        }
      ],
      "source": [
        "for i in names:\n",
        "    if re.search('TH$',i):\n",
        "        print(i)"
      ]
    },
    {
      "cell_type": "markdown",
      "id": "1c5fc6f6-c7cd-4144-a033-c2b6f59564a8",
      "metadata": {
        "id": "1c5fc6f6-c7cd-4144-a033-c2b6f59564a8"
      },
      "source": [
        "# | Or"
      ]
    },
    {
      "cell_type": "code",
      "execution_count": null,
      "id": "ff68963f-cc15-4dee-a596-5987b546f342",
      "metadata": {
        "id": "ff68963f-cc15-4dee-a596-5987b546f342"
      },
      "outputs": [],
      "source": [
        "# abc|xyz - It will match abc or xyz whichever is possible."
      ]
    },
    {
      "cell_type": "code",
      "execution_count": null,
      "id": "68f4f204-86ce-406e-bd76-9391997fadd8",
      "metadata": {
        "id": "68f4f204-86ce-406e-bd76-9391997fadd8",
        "outputId": "535bc69c-002e-410e-a907-3da7279d023a"
      },
      "outputs": [
        {
          "name": "stdout",
          "output_type": "stream",
          "text": [
            "<re.Match object; span=(0, 3), match='abc'>\n",
            "<re.Match object; span=(24, 27), match='abc'>\n",
            "<re.Match object; span=(31, 34), match='mno'>\n",
            "<re.Match object; span=(49, 52), match='mno'>\n",
            "<re.Match object; span=(56, 59), match='abc'>\n"
          ]
        }
      ],
      "source": [
        "text='abc.com jkl.in xyz.info abc.co mno.edu pqr.co.in mno.in abc.info'\n",
        "pat=r'abc|mno'\n",
        "\n",
        "for i in re.finditer(pat,text):\n",
        "    print(i)"
      ]
    },
    {
      "cell_type": "markdown",
      "id": "fca5537f-6a54-482f-9dbc-81fc51972bbe",
      "metadata": {
        "id": "fca5537f-6a54-482f-9dbc-81fc51972bbe"
      },
      "source": [
        "# ( ) Group"
      ]
    },
    {
      "cell_type": "code",
      "execution_count": null,
      "id": "19e70957-df73-430e-92b6-d93586063c47",
      "metadata": {
        "id": "19e70957-df73-430e-92b6-d93586063c47"
      },
      "outputs": [],
      "source": [
        "# - It is used to group or combine two patterns together."
      ]
    },
    {
      "cell_type": "code",
      "execution_count": null,
      "id": "d25db087-370a-4d4e-b4d7-e4caa7e76f10",
      "metadata": {
        "id": "d25db087-370a-4d4e-b4d7-e4caa7e76f10",
        "outputId": "c74d586b-a6cc-42bc-98f4-3a8628bf53e7"
      },
      "outputs": [
        {
          "name": "stdout",
          "output_type": "stream",
          "text": [
            "<re.Match object; span=(0, 7), match='abc.com'>\n",
            "<re.Match object; span=(24, 30), match='abc.co'>\n",
            "<re.Match object; span=(39, 45), match='abc.in'>\n",
            "<re.Match object; span=(63, 71), match='abc.info'>\n",
            "<re.Match object; span=(72, 79), match='abc.edu'>\n"
          ]
        }
      ],
      "source": [
        "text='abc.com jkl.in xyz.info abc.co mno.edu abc.in pqr.co.in mno.in abc.info abc.edu'\n",
        "# Match all websites of abc\n",
        "\n",
        "pat=r'abc(.com|.co|.info|.in|.edu)'\n",
        "\n",
        "for i in re.finditer(pat,text):\n",
        "    print(i)"
      ]
    },
    {
      "cell_type": "code",
      "execution_count": null,
      "id": "332eba2d-54c5-4491-9d0d-05d3c5fbcde1",
      "metadata": {
        "id": "332eba2d-54c5-4491-9d0d-05d3c5fbcde1",
        "outputId": "cfd6e83d-65f8-4e09-cfc8-53ed6b673394"
      },
      "outputs": [
        {
          "name": "stdout",
          "output_type": "stream",
          "text": [
            "<re.Match object; span=(0, 7), match='abc.com'>\n",
            "<re.Match object; span=(8, 14), match='jkl.in'>\n",
            "<re.Match object; span=(24, 30), match='abc.co'>\n",
            "<re.Match object; span=(39, 45), match='jkl.co'>\n",
            "<re.Match object; span=(46, 52), match='abc.in'>\n",
            "<re.Match object; span=(70, 78), match='abc.info'>\n",
            "<re.Match object; span=(79, 86), match='abc.edu'>\n"
          ]
        }
      ],
      "source": [
        "text='abc.com jkl.in xyz.info abc.co mno.edu jkl.co abc.in pqr.co.in mno.in abc.info abc.edu'\n",
        "# Match all websites of abc and jkl\n",
        "\n",
        "pat=r'(abc|jkl)(.com|.co|.info|.in|.edu)'\n",
        "\n",
        "for i in re.finditer(pat,text):\n",
        "    print(i)"
      ]
    },
    {
      "cell_type": "code",
      "execution_count": null,
      "id": "c0789253-dcef-49f0-9a3e-82640892cf74",
      "metadata": {
        "id": "c0789253-dcef-49f0-9a3e-82640892cf74",
        "outputId": "928153ca-9cf5-48c2-ee72-0c43f2fea1fa"
      },
      "outputs": [
        {
          "name": "stdout",
          "output_type": "stream",
          "text": [
            "<re.Match object; span=(0, 3), match='cat'>\n",
            "<re.Match object; span=(4, 7), match='rat'>\n",
            "<re.Match object; span=(20, 23), match='rat'>\n",
            "<re.Match object; span=(28, 31), match='mat'>\n",
            "<re.Match object; span=(36, 39), match='hat'>\n",
            "<re.Match object; span=(40, 43), match='mat'>\n"
          ]
        }
      ],
      "source": [
        "text='cat rat bed bat set rat pet mat red hat mat'\n",
        "# Match hat,cat,mat,rat\n",
        "\n",
        "pat=r'rat|cat|hat|mat'\n",
        "for i in re.finditer(pat,text):\n",
        "    print(i)"
      ]
    },
    {
      "cell_type": "code",
      "execution_count": null,
      "id": "1b22f436-fcd5-4a9b-9220-fddd87e3d322",
      "metadata": {
        "id": "1b22f436-fcd5-4a9b-9220-fddd87e3d322",
        "outputId": "3410e0b1-9079-4367-85b8-498c434aef40"
      },
      "outputs": [
        {
          "name": "stdout",
          "output_type": "stream",
          "text": [
            "<re.Match object; span=(0, 1), match='c'>\n",
            "<re.Match object; span=(4, 5), match='r'>\n",
            "<re.Match object; span=(20, 21), match='r'>\n",
            "<re.Match object; span=(28, 31), match='mat'>\n",
            "<re.Match object; span=(32, 33), match='r'>\n",
            "<re.Match object; span=(36, 37), match='h'>\n",
            "<re.Match object; span=(40, 43), match='mat'>\n"
          ]
        }
      ],
      "source": [
        "text='cat rat bed bat set rat pet mat red hat mat'\n",
        "# Match hat,cat,mat,rat\n",
        "\n",
        "pat=r'r|c|h|mat'\n",
        "for i in re.finditer(pat,text):\n",
        "    print(i)"
      ]
    },
    {
      "cell_type": "code",
      "execution_count": null,
      "id": "65cb331b-0b19-4741-abe4-5e4432d71920",
      "metadata": {
        "id": "65cb331b-0b19-4741-abe4-5e4432d71920",
        "outputId": "7ad3c7c7-5b9a-4694-f503-9187e015828b"
      },
      "outputs": [
        {
          "name": "stdout",
          "output_type": "stream",
          "text": [
            "<re.Match object; span=(0, 3), match='cat'>\n",
            "<re.Match object; span=(4, 7), match='rat'>\n",
            "<re.Match object; span=(20, 23), match='rat'>\n",
            "<re.Match object; span=(28, 31), match='mat'>\n",
            "<re.Match object; span=(36, 39), match='hat'>\n",
            "<re.Match object; span=(40, 43), match='mat'>\n"
          ]
        }
      ],
      "source": [
        "text='cat rat bed bat set rat pet mat red hat mat'\n",
        "# Match hat,cat,mat,rat\n",
        "\n",
        "pat=r'(r|c|h|m)at'\n",
        "for i in re.finditer(pat,text):\n",
        "    print(i)"
      ]
    },
    {
      "cell_type": "code",
      "execution_count": null,
      "id": "9f20eaf3-92db-435d-8858-b04ca524f1d3",
      "metadata": {
        "id": "9f20eaf3-92db-435d-8858-b04ca524f1d3",
        "outputId": "5f996284-77c1-4a5e-bbdf-0ff065c3cbc8"
      },
      "outputs": [
        {
          "name": "stdout",
          "output_type": "stream",
          "text": [
            "<re.Match object; span=(0, 3), match='cat'>\n",
            "<re.Match object; span=(4, 7), match='rat'>\n",
            "<re.Match object; span=(12, 15), match='bat'>\n",
            "<re.Match object; span=(20, 23), match='rat'>\n",
            "<re.Match object; span=(28, 31), match='mat'>\n",
            "<re.Match object; span=(40, 43), match='mat'>\n"
          ]
        }
      ],
      "source": [
        "text='cat rat bed bat set rat pet mat red hat mat'\n",
        "# Match hat,cat,mat,rat\n",
        "\n",
        "pat=r'[cmrbp]at'\n",
        "for i in re.finditer(pat,text):\n",
        "    print(i)"
      ]
    },
    {
      "cell_type": "markdown",
      "id": "590e1f09-cc61-44b3-b250-0993edfd0575",
      "metadata": {
        "id": "590e1f09-cc61-44b3-b250-0993edfd0575"
      },
      "source": [
        "# Special Sequences"
      ]
    },
    {
      "cell_type": "code",
      "execution_count": null,
      "id": "3fcace2e-9d11-46af-aa45-2ab67e11bedb",
      "metadata": {
        "id": "3fcace2e-9d11-46af-aa45-2ab67e11bedb"
      },
      "outputs": [],
      "source": [
        "# \\w - It matches all the alphanumeric characters (A-Z, a-z, 0-9, _)\n",
        "# \\W - It matches everything except the alphanumeric characters.\n",
        "\n",
        "# \\d - It matches the digits (0-9).\n",
        "# \\D - It matches evrything except the digits.\n",
        "\n",
        "# \\s - It matches the whitespace characters (space, \\n, \\t, \\r, \\v)\n",
        "# \\S - It matches everything except the whitespace characters\n",
        "\n",
        "# \\b - It matches a boundary character or word.\n",
        "# \\B - It matches not a boundary word."
      ]
    },
    {
      "cell_type": "code",
      "execution_count": null,
      "id": "e3de79e3-00b2-4eda-ad23-d68cd7e57fc1",
      "metadata": {
        "id": "e3de79e3-00b2-4eda-ad23-d68cd7e57fc1",
        "outputId": "b3b0f255-6acf-453b-9866-331b542d9dd6"
      },
      "outputs": [
        {
          "name": "stdout",
          "output_type": "stream",
          "text": [
            "<re.Match object; span=(0, 1), match='3'>\n",
            "<re.Match object; span=(1, 2), match='D'>\n",
            "<re.Match object; span=(2, 3), match='3'>\n",
            "<re.Match object; span=(3, 4), match='a'>\n",
            "<re.Match object; span=(4, 5), match='G'>\n",
            "<re.Match object; span=(8, 9), match='4'>\n",
            "<re.Match object; span=(9, 10), match='T'>\n",
            "<re.Match object; span=(11, 12), match='_'>\n",
            "<re.Match object; span=(12, 13), match='4'>\n",
            "<re.Match object; span=(13, 14), match='U'>\n",
            "<re.Match object; span=(17, 18), match='_'>\n",
            "<re.Match object; span=(18, 19), match='d'>\n",
            "<re.Match object; span=(19, 20), match='K'>\n",
            "<re.Match object; span=(21, 22), match='5'>\n",
            "<re.Match object; span=(23, 24), match='_'>\n",
            "<re.Match object; span=(24, 25), match='O'>\n",
            "<re.Match object; span=(26, 27), match='g'>\n",
            "<re.Match object; span=(29, 30), match='L'>\n",
            "<re.Match object; span=(31, 32), match='5'>\n",
            "<re.Match object; span=(32, 33), match='h'>\n",
            "<re.Match object; span=(35, 36), match='6'>\n",
            "<re.Match object; span=(36, 37), match='7'>\n",
            "<re.Match object; span=(37, 38), match='j'>\n",
            "<re.Match object; span=(38, 39), match='_'>\n",
            "<re.Match object; span=(39, 40), match='8'>\n"
          ]
        }
      ],
      "source": [
        "text='3D3aG !\\n4T#_4U \\n$_dK%5\\t_O^g \\tL&5h-*67j_8'\n",
        "pat=r'\\w'\n",
        "\n",
        "for i in re.finditer(pat,text):\n",
        "    print(i)"
      ]
    },
    {
      "cell_type": "code",
      "execution_count": null,
      "id": "abff1a98-4da5-4e79-b669-50e89628a7b4",
      "metadata": {
        "id": "abff1a98-4da5-4e79-b669-50e89628a7b4",
        "outputId": "d565307b-c9d8-46ae-ea54-69a5ed3b3a54"
      },
      "outputs": [
        {
          "name": "stdout",
          "output_type": "stream",
          "text": [
            "<re.Match object; span=(5, 6), match=' '>\n",
            "<re.Match object; span=(6, 7), match='!'>\n",
            "<re.Match object; span=(7, 8), match='\\n'>\n",
            "<re.Match object; span=(10, 11), match='#'>\n",
            "<re.Match object; span=(14, 15), match=' '>\n",
            "<re.Match object; span=(15, 16), match='\\n'>\n",
            "<re.Match object; span=(16, 17), match='$'>\n",
            "<re.Match object; span=(20, 21), match='%'>\n",
            "<re.Match object; span=(22, 23), match='\\t'>\n",
            "<re.Match object; span=(25, 26), match='^'>\n",
            "<re.Match object; span=(27, 28), match=' '>\n",
            "<re.Match object; span=(28, 29), match='\\t'>\n",
            "<re.Match object; span=(30, 31), match='&'>\n",
            "<re.Match object; span=(33, 34), match='-'>\n",
            "<re.Match object; span=(34, 35), match='*'>\n"
          ]
        }
      ],
      "source": [
        "text='3D3aG !\\n4T#_4U \\n$_dK%5\\t_O^g \\tL&5h-*67j_8'\n",
        "pat=r'\\W'\n",
        "\n",
        "for i in re.finditer(pat,text):\n",
        "    print(i)"
      ]
    },
    {
      "cell_type": "code",
      "execution_count": null,
      "id": "33d703b4-3544-406c-817e-4edc095e2db6",
      "metadata": {
        "id": "33d703b4-3544-406c-817e-4edc095e2db6",
        "outputId": "74ed9932-1b5a-423b-a195-01bbd216e74c"
      },
      "outputs": [
        {
          "name": "stdout",
          "output_type": "stream",
          "text": [
            "<re.Match object; span=(0, 1), match='3'>\n",
            "<re.Match object; span=(1, 2), match='D'>\n",
            "<re.Match object; span=(2, 3), match='3'>\n",
            "<re.Match object; span=(3, 4), match='a'>\n",
            "<re.Match object; span=(4, 5), match='G'>\n",
            "<re.Match object; span=(8, 9), match='4'>\n",
            "<re.Match object; span=(9, 10), match='T'>\n",
            "<re.Match object; span=(11, 12), match='_'>\n",
            "<re.Match object; span=(12, 13), match='4'>\n",
            "<re.Match object; span=(13, 14), match='U'>\n",
            "<re.Match object; span=(17, 18), match='_'>\n",
            "<re.Match object; span=(18, 19), match='d'>\n",
            "<re.Match object; span=(19, 20), match='K'>\n",
            "<re.Match object; span=(21, 22), match='5'>\n",
            "<re.Match object; span=(23, 24), match='_'>\n",
            "<re.Match object; span=(24, 25), match='O'>\n",
            "<re.Match object; span=(26, 27), match='g'>\n",
            "<re.Match object; span=(29, 30), match='L'>\n",
            "<re.Match object; span=(31, 32), match='5'>\n",
            "<re.Match object; span=(32, 33), match='h'>\n",
            "<re.Match object; span=(35, 36), match='6'>\n",
            "<re.Match object; span=(36, 37), match='7'>\n",
            "<re.Match object; span=(37, 38), match='j'>\n",
            "<re.Match object; span=(38, 39), match='_'>\n",
            "<re.Match object; span=(39, 40), match='8'>\n"
          ]
        }
      ],
      "source": [
        "text='3D3aG !\\n4T#_4U \\n$_dK%5\\t_O^g \\tL&5h-*67j_8'\n",
        "pat=r'[A-Za-z0-9_]'\n",
        "\n",
        "for i in re.finditer(pat,text):\n",
        "    print(i)"
      ]
    },
    {
      "cell_type": "code",
      "execution_count": null,
      "id": "0cc45468-65a2-4aca-9106-660fd52d44e8",
      "metadata": {
        "id": "0cc45468-65a2-4aca-9106-660fd52d44e8",
        "outputId": "38c90ea4-65ef-4383-e77b-cc9c13814b5b"
      },
      "outputs": [
        {
          "name": "stdout",
          "output_type": "stream",
          "text": [
            "<re.Match object; span=(5, 6), match=' '>\n",
            "<re.Match object; span=(6, 7), match='!'>\n",
            "<re.Match object; span=(7, 8), match='\\n'>\n",
            "<re.Match object; span=(10, 11), match='#'>\n",
            "<re.Match object; span=(14, 15), match=' '>\n",
            "<re.Match object; span=(15, 16), match='\\n'>\n",
            "<re.Match object; span=(16, 17), match='$'>\n",
            "<re.Match object; span=(20, 21), match='%'>\n",
            "<re.Match object; span=(22, 23), match='\\t'>\n",
            "<re.Match object; span=(25, 26), match='^'>\n",
            "<re.Match object; span=(27, 28), match=' '>\n",
            "<re.Match object; span=(28, 29), match='\\t'>\n",
            "<re.Match object; span=(30, 31), match='&'>\n",
            "<re.Match object; span=(33, 34), match='-'>\n",
            "<re.Match object; span=(34, 35), match='*'>\n"
          ]
        }
      ],
      "source": [
        "text='3D3aG !\\n4T#_4U \\n$_dK%5\\t_O^g \\tL&5h-*67j_8'\n",
        "pat=r'[^A-Za-z0-9_]'\n",
        "\n",
        "for i in re.finditer(pat,text):\n",
        "    print(i)"
      ]
    },
    {
      "cell_type": "code",
      "execution_count": null,
      "id": "46221bd9-8705-4183-87df-c0cd087e8abb",
      "metadata": {
        "id": "46221bd9-8705-4183-87df-c0cd087e8abb",
        "outputId": "dcb43245-61e1-4752-ac00-4271a61efbc7"
      },
      "outputs": [
        {
          "name": "stdout",
          "output_type": "stream",
          "text": [
            "<re.Match object; span=(0, 1), match='3'>\n",
            "<re.Match object; span=(2, 3), match='3'>\n",
            "<re.Match object; span=(8, 9), match='4'>\n",
            "<re.Match object; span=(12, 13), match='4'>\n",
            "<re.Match object; span=(21, 22), match='5'>\n",
            "<re.Match object; span=(31, 32), match='5'>\n",
            "<re.Match object; span=(35, 36), match='6'>\n",
            "<re.Match object; span=(36, 37), match='7'>\n",
            "<re.Match object; span=(39, 40), match='8'>\n"
          ]
        }
      ],
      "source": [
        "text='3D3aG !\\n4T#_4U \\n$_dK%5\\t_O^g \\tL&5h-*67j_8'\n",
        "pat=r'\\d'\n",
        "\n",
        "for i in re.finditer(pat,text):\n",
        "    print(i)"
      ]
    },
    {
      "cell_type": "code",
      "execution_count": null,
      "id": "3335069d-cee5-40c3-a91e-b9f095a13b9a",
      "metadata": {
        "id": "3335069d-cee5-40c3-a91e-b9f095a13b9a",
        "outputId": "37558e12-16c3-4abd-d263-b75f205f4ec4"
      },
      "outputs": [
        {
          "name": "stdout",
          "output_type": "stream",
          "text": [
            "<re.Match object; span=(0, 1), match='3'>\n",
            "<re.Match object; span=(2, 3), match='3'>\n",
            "<re.Match object; span=(8, 9), match='4'>\n",
            "<re.Match object; span=(12, 13), match='4'>\n",
            "<re.Match object; span=(21, 22), match='5'>\n",
            "<re.Match object; span=(31, 32), match='5'>\n",
            "<re.Match object; span=(35, 36), match='6'>\n",
            "<re.Match object; span=(36, 37), match='7'>\n",
            "<re.Match object; span=(39, 40), match='8'>\n"
          ]
        }
      ],
      "source": [
        "text='3D3aG !\\n4T#_4U \\n$_dK%5\\t_O^g \\tL&5h-*67j_8'\n",
        "pat=r'[0-9]'\n",
        "\n",
        "for i in re.finditer(pat,text):\n",
        "    print(i)"
      ]
    },
    {
      "cell_type": "code",
      "execution_count": null,
      "id": "44b77cd5-5a6f-466f-9ad3-80f81647f431",
      "metadata": {
        "id": "44b77cd5-5a6f-466f-9ad3-80f81647f431",
        "outputId": "b6a93720-e83e-45d6-882b-272a0f975ff7"
      },
      "outputs": [
        {
          "name": "stdout",
          "output_type": "stream",
          "text": [
            "<re.Match object; span=(1, 2), match='D'>\n",
            "<re.Match object; span=(3, 4), match='a'>\n",
            "<re.Match object; span=(4, 5), match='G'>\n",
            "<re.Match object; span=(5, 6), match=' '>\n",
            "<re.Match object; span=(6, 7), match='!'>\n",
            "<re.Match object; span=(7, 8), match='\\n'>\n",
            "<re.Match object; span=(9, 10), match='T'>\n",
            "<re.Match object; span=(10, 11), match='#'>\n",
            "<re.Match object; span=(11, 12), match='_'>\n",
            "<re.Match object; span=(13, 14), match='U'>\n",
            "<re.Match object; span=(14, 15), match=' '>\n",
            "<re.Match object; span=(15, 16), match='\\n'>\n",
            "<re.Match object; span=(16, 17), match='$'>\n",
            "<re.Match object; span=(17, 18), match='_'>\n",
            "<re.Match object; span=(18, 19), match='d'>\n",
            "<re.Match object; span=(19, 20), match='K'>\n",
            "<re.Match object; span=(20, 21), match='%'>\n",
            "<re.Match object; span=(22, 23), match='\\t'>\n",
            "<re.Match object; span=(23, 24), match='_'>\n",
            "<re.Match object; span=(24, 25), match='O'>\n",
            "<re.Match object; span=(25, 26), match='^'>\n",
            "<re.Match object; span=(26, 27), match='g'>\n",
            "<re.Match object; span=(27, 28), match=' '>\n",
            "<re.Match object; span=(28, 29), match='\\t'>\n",
            "<re.Match object; span=(29, 30), match='L'>\n",
            "<re.Match object; span=(30, 31), match='&'>\n",
            "<re.Match object; span=(32, 33), match='h'>\n",
            "<re.Match object; span=(33, 34), match='-'>\n",
            "<re.Match object; span=(34, 35), match='*'>\n",
            "<re.Match object; span=(37, 38), match='j'>\n",
            "<re.Match object; span=(38, 39), match='_'>\n"
          ]
        }
      ],
      "source": [
        "text='3D3aG !\\n4T#_4U \\n$_dK%5\\t_O^g \\tL&5h-*67j_8'\n",
        "pat=r'\\D'\n",
        "\n",
        "for i in re.finditer(pat,text):\n",
        "    print(i)"
      ]
    },
    {
      "cell_type": "code",
      "execution_count": null,
      "id": "23492b5a-4d2f-4100-bee5-e98dd1700685",
      "metadata": {
        "id": "23492b5a-4d2f-4100-bee5-e98dd1700685",
        "outputId": "1d1ed9eb-d22d-4ff0-d1b2-9cc458bc7696"
      },
      "outputs": [
        {
          "name": "stdout",
          "output_type": "stream",
          "text": [
            "<re.Match object; span=(1, 2), match='D'>\n",
            "<re.Match object; span=(3, 4), match='a'>\n",
            "<re.Match object; span=(4, 5), match='G'>\n",
            "<re.Match object; span=(5, 6), match=' '>\n",
            "<re.Match object; span=(6, 7), match='!'>\n",
            "<re.Match object; span=(7, 8), match='\\n'>\n",
            "<re.Match object; span=(9, 10), match='T'>\n",
            "<re.Match object; span=(10, 11), match='#'>\n",
            "<re.Match object; span=(11, 12), match='_'>\n",
            "<re.Match object; span=(13, 14), match='U'>\n",
            "<re.Match object; span=(14, 15), match=' '>\n",
            "<re.Match object; span=(15, 16), match='\\n'>\n",
            "<re.Match object; span=(16, 17), match='$'>\n",
            "<re.Match object; span=(17, 18), match='_'>\n",
            "<re.Match object; span=(18, 19), match='d'>\n",
            "<re.Match object; span=(19, 20), match='K'>\n",
            "<re.Match object; span=(20, 21), match='%'>\n",
            "<re.Match object; span=(22, 23), match='\\t'>\n",
            "<re.Match object; span=(23, 24), match='_'>\n",
            "<re.Match object; span=(24, 25), match='O'>\n",
            "<re.Match object; span=(25, 26), match='^'>\n",
            "<re.Match object; span=(26, 27), match='g'>\n",
            "<re.Match object; span=(27, 28), match=' '>\n",
            "<re.Match object; span=(28, 29), match='\\t'>\n",
            "<re.Match object; span=(29, 30), match='L'>\n",
            "<re.Match object; span=(30, 31), match='&'>\n",
            "<re.Match object; span=(32, 33), match='h'>\n",
            "<re.Match object; span=(33, 34), match='-'>\n",
            "<re.Match object; span=(34, 35), match='*'>\n",
            "<re.Match object; span=(37, 38), match='j'>\n",
            "<re.Match object; span=(38, 39), match='_'>\n"
          ]
        }
      ],
      "source": [
        "text='3D3aG !\\n4T#_4U \\n$_dK%5\\t_O^g \\tL&5h-*67j_8'\n",
        "pat=r'[^0-9]'\n",
        "\n",
        "for i in re.finditer(pat,text):\n",
        "    print(i)"
      ]
    },
    {
      "cell_type": "code",
      "execution_count": null,
      "id": "981db8d5-0a05-4b8b-b2d4-da78507d617b",
      "metadata": {
        "id": "981db8d5-0a05-4b8b-b2d4-da78507d617b",
        "outputId": "626cb3e2-9787-413d-bf7d-fb2f0c1e029e"
      },
      "outputs": [
        {
          "name": "stdout",
          "output_type": "stream",
          "text": [
            "<re.Match object; span=(3, 4), match='\\n'>\n",
            "<re.Match object; span=(6, 7), match=' '>\n",
            "<re.Match object; span=(8, 9), match='\\n'>\n",
            "<re.Match object; span=(11, 12), match='\\x0b'>\n",
            "<re.Match object; span=(16, 17), match=' '>\n",
            "<re.Match object; span=(17, 18), match='\\n'>\n",
            "<re.Match object; span=(21, 22), match='\\r'>\n",
            "<re.Match object; span=(25, 26), match='\\t'>\n",
            "<re.Match object; span=(30, 31), match=' '>\n",
            "<re.Match object; span=(31, 32), match='\\t'>\n",
            "<re.Match object; span=(39, 40), match='\\r'>\n",
            "<re.Match object; span=(43, 44), match='\\x0b'>\n"
          ]
        }
      ],
      "source": [
        "text='3D3\\naG !\\n4T\\v#_4U \\n$_d\\rK%5\\t_O^g \\tL&5h-*6\\r7j_\\v8'\n",
        "pat=r'\\s'\n",
        "\n",
        "for i in re.finditer(pat,text):\n",
        "    print(i)"
      ]
    },
    {
      "cell_type": "code",
      "execution_count": null,
      "id": "83727349-9c33-4054-bca1-a25aaddfdf83",
      "metadata": {
        "id": "83727349-9c33-4054-bca1-a25aaddfdf83",
        "outputId": "9499b146-70cf-434e-9cd9-af3323ddfbb5"
      },
      "outputs": [
        {
          "name": "stdout",
          "output_type": "stream",
          "text": [
            "ABCDon\n"
          ]
        }
      ],
      "source": [
        "print('Python\\rABCD')"
      ]
    },
    {
      "cell_type": "code",
      "execution_count": null,
      "id": "37c9cc82-f5a6-41c4-9618-3902c163e6b5",
      "metadata": {
        "id": "37c9cc82-f5a6-41c4-9618-3902c163e6b5",
        "outputId": "50cf7c25-f30a-4fa2-c80c-158de4ec0256"
      },
      "outputs": [
        {
          "name": "stdout",
          "output_type": "stream",
          "text": [
            "<re.Match object; span=(0, 1), match='3'>\n",
            "<re.Match object; span=(1, 2), match='D'>\n",
            "<re.Match object; span=(2, 3), match='3'>\n",
            "<re.Match object; span=(4, 5), match='a'>\n",
            "<re.Match object; span=(5, 6), match='G'>\n",
            "<re.Match object; span=(7, 8), match='!'>\n",
            "<re.Match object; span=(9, 10), match='4'>\n",
            "<re.Match object; span=(10, 11), match='T'>\n",
            "<re.Match object; span=(12, 13), match='#'>\n",
            "<re.Match object; span=(13, 14), match='_'>\n",
            "<re.Match object; span=(14, 15), match='4'>\n",
            "<re.Match object; span=(15, 16), match='U'>\n",
            "<re.Match object; span=(18, 19), match='$'>\n",
            "<re.Match object; span=(19, 20), match='_'>\n",
            "<re.Match object; span=(20, 21), match='d'>\n",
            "<re.Match object; span=(22, 23), match='K'>\n",
            "<re.Match object; span=(23, 24), match='%'>\n",
            "<re.Match object; span=(24, 25), match='5'>\n",
            "<re.Match object; span=(26, 27), match='_'>\n",
            "<re.Match object; span=(27, 28), match='O'>\n",
            "<re.Match object; span=(28, 29), match='^'>\n",
            "<re.Match object; span=(29, 30), match='g'>\n",
            "<re.Match object; span=(32, 33), match='L'>\n",
            "<re.Match object; span=(33, 34), match='&'>\n",
            "<re.Match object; span=(34, 35), match='5'>\n",
            "<re.Match object; span=(35, 36), match='h'>\n",
            "<re.Match object; span=(36, 37), match='-'>\n",
            "<re.Match object; span=(37, 38), match='*'>\n",
            "<re.Match object; span=(38, 39), match='6'>\n",
            "<re.Match object; span=(40, 41), match='7'>\n",
            "<re.Match object; span=(41, 42), match='j'>\n",
            "<re.Match object; span=(42, 43), match='_'>\n",
            "<re.Match object; span=(44, 45), match='8'>\n"
          ]
        }
      ],
      "source": [
        "text='3D3\\naG !\\n4T\\v#_4U \\n$_d\\rK%5\\t_O^g \\tL&5h-*6\\r7j_\\v8'\n",
        "pat=r'\\S'\n",
        "\n",
        "for i in re.finditer(pat,text):\n",
        "    print(i)"
      ]
    },
    {
      "cell_type": "code",
      "execution_count": null,
      "id": "36497c90-97eb-4de8-a3be-e669137e2701",
      "metadata": {
        "id": "36497c90-97eb-4de8-a3be-e669137e2701",
        "outputId": "ab4564af-71c4-429f-ba11-456f789bcbdf"
      },
      "outputs": [
        {
          "name": "stdout",
          "output_type": "stream",
          "text": [
            "<re.Match object; span=(0, 3), match='cat'>\n",
            "<re.Match object; span=(19, 22), match='cat'>\n",
            "<re.Match object; span=(39, 42), match='cat'>\n",
            "<re.Match object; span=(44, 47), match='cat'>\n",
            "<re.Match object; span=(64, 67), match='cat'>\n"
          ]
        }
      ],
      "source": [
        "text='catherine bought a cat and named it Tomcat. catherine loves the cat a lot.'\n",
        "pat=r'cat'\n",
        "\n",
        "for i in re.finditer(pat,text):\n",
        "    print(i)"
      ]
    },
    {
      "cell_type": "code",
      "execution_count": null,
      "id": "c17eb173-b687-43f0-a07d-7449dd1d15bd",
      "metadata": {
        "id": "c17eb173-b687-43f0-a07d-7449dd1d15bd",
        "outputId": "7fd5fadf-9ddc-4173-b6b4-885f026ec891"
      },
      "outputs": [
        {
          "name": "stdout",
          "output_type": "stream",
          "text": [
            "<re.Match object; span=(0, 3), match='cat'>\n",
            "<re.Match object; span=(19, 22), match='cat'>\n",
            "<re.Match object; span=(44, 47), match='cat'>\n",
            "<re.Match object; span=(64, 67), match='cat'>\n"
          ]
        }
      ],
      "source": [
        "text='catherine bought a cat and named it Tomcat. catherine loves the cat a lot.'\n",
        "pat=r'\\bcat'\n",
        "\n",
        "for i in re.finditer(pat,text):\n",
        "    print(i)"
      ]
    },
    {
      "cell_type": "code",
      "execution_count": null,
      "id": "e1b13013-a067-48d7-bcb3-e4e6c94ed948",
      "metadata": {
        "id": "e1b13013-a067-48d7-bcb3-e4e6c94ed948",
        "outputId": "31957acc-9120-49a0-9046-f04da29f7e48"
      },
      "outputs": [
        {
          "name": "stdout",
          "output_type": "stream",
          "text": [
            "<re.Match object; span=(19, 22), match='cat'>\n",
            "<re.Match object; span=(39, 42), match='cat'>\n",
            "<re.Match object; span=(64, 67), match='cat'>\n"
          ]
        }
      ],
      "source": [
        "text='catherine bought a cat and named it Tomcat. catherine loves the cat a lot.'\n",
        "pat=r'cat\\b'\n",
        "\n",
        "for i in re.finditer(pat,text):\n",
        "    print(i)"
      ]
    },
    {
      "cell_type": "code",
      "execution_count": null,
      "id": "6557c978-0214-4664-8b5c-289a093911fa",
      "metadata": {
        "id": "6557c978-0214-4664-8b5c-289a093911fa",
        "outputId": "496e0fe0-9084-4cc9-d658-3e05867e076b"
      },
      "outputs": [
        {
          "name": "stdout",
          "output_type": "stream",
          "text": [
            "<re.Match object; span=(19, 22), match='cat'>\n",
            "<re.Match object; span=(64, 67), match='cat'>\n"
          ]
        }
      ],
      "source": [
        "text='catherine bought a cat and named it Tomcat. catherine loves the cat a lot.'\n",
        "pat=r'\\bcat\\b'\n",
        "\n",
        "for i in re.finditer(pat,text):\n",
        "    print(i)"
      ]
    },
    {
      "cell_type": "code",
      "execution_count": null,
      "id": "34fa2fcd-64b7-44ca-b6f7-51f2c43c7111",
      "metadata": {
        "id": "34fa2fcd-64b7-44ca-b6f7-51f2c43c7111",
        "outputId": "992952aa-619a-48a3-87e1-aa6474d727d1"
      },
      "outputs": [
        {
          "name": "stdout",
          "output_type": "stream",
          "text": [
            "<re.Match object; span=(39, 42), match='cat'>\n"
          ]
        }
      ],
      "source": [
        "text='catherine bought a cat and named it Tomcat. catherine loves the cat a lot.'\n",
        "pat=r'\\Bcat'\n",
        "\n",
        "for i in re.finditer(pat,text):\n",
        "    print(i)"
      ]
    },
    {
      "cell_type": "code",
      "execution_count": null,
      "id": "4051b116-beb3-4bf3-9f63-7471c00bba81",
      "metadata": {
        "id": "4051b116-beb3-4bf3-9f63-7471c00bba81",
        "outputId": "c8c09ec4-5baa-4a0c-992b-c3ff0b4f5e57"
      },
      "outputs": [
        {
          "name": "stdout",
          "output_type": "stream",
          "text": [
            "<re.Match object; span=(0, 3), match='cat'>\n",
            "<re.Match object; span=(44, 47), match='cat'>\n"
          ]
        }
      ],
      "source": [
        "text='catherine bought a cat and named it Tomcat. catherine loves the cat a lot.'\n",
        "pat=r'cat\\B'\n",
        "\n",
        "for i in re.finditer(pat,text):\n",
        "    print(i)"
      ]
    },
    {
      "cell_type": "code",
      "execution_count": null,
      "id": "a3678423-843f-4ace-b6cb-e433303044fc",
      "metadata": {
        "id": "a3678423-843f-4ace-b6cb-e433303044fc",
        "outputId": "1978d2d2-a2b4-4cbb-9a5f-8293ccbbb18e"
      },
      "outputs": [
        {
          "name": "stdout",
          "output_type": "stream",
          "text": [
            "<re.Match object; span=(39, 42), match='cat'>\n"
          ]
        }
      ],
      "source": [
        "text='catherine bought a cat and named it TomcatJerry. catherine loves the cat a lot.'\n",
        "pat=r'\\Bcat\\B'\n",
        "\n",
        "for i in re.finditer(pat,text):\n",
        "    print(i)"
      ]
    },
    {
      "cell_type": "markdown",
      "id": "22184c20-ce1e-475a-8013-89819fc75923",
      "metadata": {
        "id": "22184c20-ce1e-475a-8013-89819fc75923"
      },
      "source": [
        "# Quantifiers"
      ]
    },
    {
      "cell_type": "code",
      "execution_count": null,
      "id": "c41b5d69-bc1e-408d-b931-28bb20936bb6",
      "metadata": {
        "id": "c41b5d69-bc1e-408d-b931-28bb20936bb6"
      },
      "outputs": [],
      "source": [
        "# - Quantifiers are used to match the continuous repeatitions."
      ]
    },
    {
      "cell_type": "code",
      "execution_count": null,
      "id": "791000e4-976a-4151-989e-80432229af8c",
      "metadata": {
        "id": "791000e4-976a-4151-989e-80432229af8c"
      },
      "outputs": [],
      "source": [
        "# {2} - It will match 2 repeatitions.\n",
        "# {3,5} - It will match the repeatitions between 3 and 5\n",
        "\n",
        "# ? - It matches 0 or 1 repeatition.\n",
        "\n",
        "# * - It matches 0 or more repeatitions.\n",
        "\n",
        "# + - It matches 1 or more repeatition."
      ]
    },
    {
      "cell_type": "code",
      "execution_count": null,
      "id": "b4d40d79-ad08-4bf9-bf56-2c18da198acf",
      "metadata": {
        "id": "b4d40d79-ad08-4bf9-bf56-2c18da198acf",
        "outputId": "2795f51d-d4fb-4e3e-a59a-e1c52bc5e6e5"
      },
      "outputs": [
        {
          "name": "stdout",
          "output_type": "stream",
          "text": [
            "<re.Match object; span=(0, 2), match='24'>\n",
            "<re.Match object; span=(3, 5), match='45'>\n",
            "<re.Match object; span=(7, 9), match='25'>\n",
            "<re.Match object; span=(9, 11), match='89'>\n",
            "<re.Match object; span=(12, 14), match='78'>\n",
            "<re.Match object; span=(14, 16), match='94'>\n",
            "<re.Match object; span=(18, 20), match='36'>\n",
            "<re.Match object; span=(20, 22), match='97'>\n",
            "<re.Match object; span=(22, 24), match='45'>\n",
            "<re.Match object; span=(27, 29), match='45'>\n",
            "<re.Match object; span=(30, 32), match='74'>\n"
          ]
        }
      ],
      "source": [
        "text='24 456 2589 78945 369745 2 45 745'\n",
        "pat=r'[0-9]{2}'\n",
        "\n",
        "for i in re.finditer(pat,text):\n",
        "    print(i)"
      ]
    },
    {
      "cell_type": "code",
      "execution_count": null,
      "id": "de0106f4-518f-456b-9b41-d5e64662c5a7",
      "metadata": {
        "id": "de0106f4-518f-456b-9b41-d5e64662c5a7",
        "outputId": "8d1a030a-8aec-4dc4-8aa1-2b8bb6be8016"
      },
      "outputs": [
        {
          "name": "stdout",
          "output_type": "stream",
          "text": [
            "<re.Match object; span=(3, 6), match='456'>\n",
            "<re.Match object; span=(7, 10), match='258'>\n",
            "<re.Match object; span=(12, 15), match='789'>\n",
            "<re.Match object; span=(18, 21), match='369'>\n",
            "<re.Match object; span=(21, 24), match='745'>\n",
            "<re.Match object; span=(30, 33), match='745'>\n"
          ]
        }
      ],
      "source": [
        "text='24 456 2589 78945 369745 2 45 745'\n",
        "pat=r'[0-9]{3}'\n",
        "\n",
        "for i in re.finditer(pat,text):\n",
        "    print(i)"
      ]
    },
    {
      "cell_type": "code",
      "execution_count": null,
      "id": "cc590d33-4e73-495b-90ab-ffaa9e01fc22",
      "metadata": {
        "id": "cc590d33-4e73-495b-90ab-ffaa9e01fc22",
        "outputId": "0809a831-3a56-4654-aa08-f56be46da26b"
      },
      "outputs": [
        {
          "name": "stdout",
          "output_type": "stream",
          "text": [
            "<re.Match object; span=(7, 11), match='2589'>\n",
            "<re.Match object; span=(12, 16), match='7894'>\n",
            "<re.Match object; span=(18, 22), match='3697'>\n"
          ]
        }
      ],
      "source": [
        "text='24 456 2589 78945 369745 2 45 745'\n",
        "pat=r'[0-9]{4}'\n",
        "\n",
        "for i in re.finditer(pat,text):\n",
        "    print(i)"
      ]
    },
    {
      "cell_type": "code",
      "execution_count": null,
      "id": "fa1b6e3b-afd2-4df7-bedf-0bbe02d4d610",
      "metadata": {
        "id": "fa1b6e3b-afd2-4df7-bedf-0bbe02d4d610",
        "outputId": "0f1f371e-e98c-4f25-d906-4442c629302c"
      },
      "outputs": [
        {
          "name": "stdout",
          "output_type": "stream",
          "text": [
            "<re.Match object; span=(3, 6), match='456'>\n",
            "<re.Match object; span=(30, 33), match='745'>\n"
          ]
        }
      ],
      "source": [
        "text='24 456 2589 78945 369745 2 45 745'\n",
        "pat=r'\\b[0-9]{3}\\b'\n",
        "\n",
        "for i in re.finditer(pat,text):\n",
        "    print(i)"
      ]
    },
    {
      "cell_type": "code",
      "execution_count": null,
      "id": "4117b3e5-f47d-4b30-8ff4-04c4ba717c1f",
      "metadata": {
        "id": "4117b3e5-f47d-4b30-8ff4-04c4ba717c1f",
        "outputId": "8ea4d855-a753-4cf8-b592-a614640e1f4f"
      },
      "outputs": [
        {
          "name": "stdout",
          "output_type": "stream",
          "text": [
            "<re.Match object; span=(3, 6), match='456'>\n",
            "<re.Match object; span=(7, 11), match='2589'>\n",
            "<re.Match object; span=(12, 17), match='78945'>\n",
            "<re.Match object; span=(18, 23), match='36974'>\n",
            "<re.Match object; span=(23, 28), match='56688'>\n",
            "<re.Match object; span=(35, 38), match='745'>\n"
          ]
        }
      ],
      "source": [
        "text='24 456 2589 78945 36974566889 2 45 745'\n",
        "pat=r'[0-9]{3,5}'\n",
        "\n",
        "for i in re.finditer(pat,text):\n",
        "    print(i)"
      ]
    },
    {
      "cell_type": "code",
      "execution_count": null,
      "id": "450322e1-a934-4536-b78d-e23636e5f22c",
      "metadata": {
        "id": "450322e1-a934-4536-b78d-e23636e5f22c"
      },
      "outputs": [],
      "source": [
        "# ?- If the pattern is there then it will match only only one repeatition.\n",
        "# - If the pattern is not there still it will match and will return empty string."
      ]
    },
    {
      "cell_type": "code",
      "execution_count": null,
      "id": "08a7779d-a380-4158-9a10-7aa75feef6a2",
      "metadata": {
        "id": "08a7779d-a380-4158-9a10-7aa75feef6a2",
        "outputId": "1a02ba4c-27ba-46e4-8463-8e4738bd6aeb"
      },
      "outputs": [
        {
          "name": "stdout",
          "output_type": "stream",
          "text": [
            "<re.Match object; span=(0, 1), match='a'>\n",
            "<re.Match object; span=(1, 2), match='b'>\n",
            "<re.Match object; span=(2, 2), match=''>\n",
            "<re.Match object; span=(3, 4), match='c'>\n",
            "<re.Match object; span=(4, 4), match=''>\n",
            "<re.Match object; span=(5, 5), match=''>\n",
            "<re.Match object; span=(6, 7), match='d'>\n",
            "<re.Match object; span=(7, 8), match='e'>\n",
            "<re.Match object; span=(8, 8), match=''>\n",
            "<re.Match object; span=(9, 9), match=''>\n",
            "<re.Match object; span=(10, 11), match='k'>\n",
            "<re.Match object; span=(11, 11), match=''>\n"
          ]
        }
      ],
      "source": [
        "text='ab2c45de66k'\n",
        "pat=r'[a-z]?'\n",
        "\n",
        "for i in re.finditer(pat,text):\n",
        "    print(i)"
      ]
    },
    {
      "cell_type": "code",
      "execution_count": null,
      "id": "04ae48c7-b3fa-4825-9ed0-6a1b8328c113",
      "metadata": {
        "id": "04ae48c7-b3fa-4825-9ed0-6a1b8328c113",
        "outputId": "2a3806fa-a3c5-4e11-9883-4628db304824"
      },
      "outputs": [
        {
          "name": "stdout",
          "output_type": "stream",
          "text": [
            "<re.Match object; span=(0, 0), match=''>\n",
            "<re.Match object; span=(1, 1), match=''>\n",
            "<re.Match object; span=(2, 3), match='2'>\n",
            "<re.Match object; span=(3, 3), match=''>\n",
            "<re.Match object; span=(4, 5), match='4'>\n",
            "<re.Match object; span=(5, 6), match='5'>\n",
            "<re.Match object; span=(6, 6), match=''>\n",
            "<re.Match object; span=(7, 7), match=''>\n",
            "<re.Match object; span=(8, 9), match='6'>\n",
            "<re.Match object; span=(9, 10), match='6'>\n",
            "<re.Match object; span=(10, 11), match='6'>\n",
            "<re.Match object; span=(11, 11), match=''>\n",
            "<re.Match object; span=(12, 12), match=''>\n"
          ]
        }
      ],
      "source": [
        "text='ab2c45de666k'\n",
        "pat=r'[0-9]?'\n",
        "\n",
        "for i in re.finditer(pat,text):\n",
        "    print(i)"
      ]
    },
    {
      "cell_type": "code",
      "execution_count": null,
      "id": "7ed3e494-619d-4796-9063-cd4429039e7a",
      "metadata": {
        "id": "7ed3e494-619d-4796-9063-cd4429039e7a"
      },
      "outputs": [],
      "source": [
        "# * - If the patter is there it will match all the repeatitions.\n",
        "# - If the pattern is not there still it will match and will return the empty string."
      ]
    },
    {
      "cell_type": "code",
      "execution_count": null,
      "id": "376b6ade-40b5-47ba-aacb-82dd6eaba289",
      "metadata": {
        "id": "376b6ade-40b5-47ba-aacb-82dd6eaba289",
        "outputId": "9974b895-be90-4f5d-9d6c-497d4b7fde5d"
      },
      "outputs": [
        {
          "name": "stdout",
          "output_type": "stream",
          "text": [
            "<re.Match object; span=(0, 2), match='ab'>\n",
            "<re.Match object; span=(2, 2), match=''>\n",
            "<re.Match object; span=(3, 4), match='c'>\n",
            "<re.Match object; span=(4, 4), match=''>\n",
            "<re.Match object; span=(5, 5), match=''>\n",
            "<re.Match object; span=(6, 12), match='degree'>\n",
            "<re.Match object; span=(12, 12), match=''>\n",
            "<re.Match object; span=(13, 13), match=''>\n",
            "<re.Match object; span=(14, 14), match=''>\n",
            "<re.Match object; span=(15, 19), match='kite'>\n",
            "<re.Match object; span=(19, 19), match=''>\n"
          ]
        }
      ],
      "source": [
        "text='ab2c45degree666kite'\n",
        "pat=r'[a-z]*'\n",
        "\n",
        "for i in re.finditer(pat,text):\n",
        "    print(i)"
      ]
    },
    {
      "cell_type": "code",
      "execution_count": null,
      "id": "2ac9105e-dcb9-4eaa-8378-21d9172c3fe2",
      "metadata": {
        "id": "2ac9105e-dcb9-4eaa-8378-21d9172c3fe2",
        "outputId": "33f10266-6e72-4ab4-e32e-276518ef1dae"
      },
      "outputs": [
        {
          "name": "stdout",
          "output_type": "stream",
          "text": [
            "<re.Match object; span=(0, 0), match=''>\n",
            "<re.Match object; span=(1, 1), match=''>\n",
            "<re.Match object; span=(2, 3), match='2'>\n",
            "<re.Match object; span=(3, 3), match=''>\n",
            "<re.Match object; span=(4, 6), match='45'>\n",
            "<re.Match object; span=(6, 6), match=''>\n",
            "<re.Match object; span=(7, 7), match=''>\n",
            "<re.Match object; span=(8, 8), match=''>\n",
            "<re.Match object; span=(9, 9), match=''>\n",
            "<re.Match object; span=(10, 10), match=''>\n",
            "<re.Match object; span=(11, 11), match=''>\n",
            "<re.Match object; span=(12, 15), match='666'>\n",
            "<re.Match object; span=(15, 15), match=''>\n",
            "<re.Match object; span=(16, 16), match=''>\n",
            "<re.Match object; span=(17, 17), match=''>\n",
            "<re.Match object; span=(18, 18), match=''>\n",
            "<re.Match object; span=(19, 19), match=''>\n"
          ]
        }
      ],
      "source": [
        "text='ab2c45degree666kite'\n",
        "pat=r'[0-9]*'\n",
        "\n",
        "for i in re.finditer(pat,text):\n",
        "    print(i)"
      ]
    },
    {
      "cell_type": "code",
      "execution_count": null,
      "id": "3a10857f-e526-4514-943e-ec1e3de3122f",
      "metadata": {
        "id": "3a10857f-e526-4514-943e-ec1e3de3122f",
        "outputId": "dbaa0de4-fc0b-44c9-d14a-d49d63f35966"
      },
      "outputs": [
        {
          "name": "stdout",
          "output_type": "stream",
          "text": [
            "<re.Match object; span=(0, 4), match='Amit'>\n",
            "<re.Match object; span=(10, 16), match='Suresh'>\n",
            "<re.Match object; span=(30, 36), match='Mahesh'>\n",
            "<re.Match object; span=(44, 51), match='Jayanth'>\n",
            "<re.Match object; span=(62, 74), match='Hemavarthini'>\n",
            "<re.Match object; span=(81, 87), match='Deepak'>\n",
            "<re.Match object; span=(96, 102), match='Aditya'>\n"
          ]
        }
      ],
      "source": [
        "text='Amit @#$%$Suresh23dafsdfer345 Mahesh #@$#%$^Jayanth @34ffgeg56Hemavarthini 233435Deepak revanth Aditya'\n",
        "pat=r'[A-Z][a-z]*'\n",
        "\n",
        "for i in re.finditer(pat,text):\n",
        "    print(i)"
      ]
    },
    {
      "cell_type": "code",
      "execution_count": null,
      "id": "f6c09880-2885-4f2b-b063-c8af5fb4ac94",
      "metadata": {
        "id": "f6c09880-2885-4f2b-b063-c8af5fb4ac94"
      },
      "outputs": [],
      "source": [
        "# + If the pattern is there it will match all the repeatitions.\n",
        "# - If the patter is not there then it will not match anything."
      ]
    },
    {
      "cell_type": "code",
      "execution_count": null,
      "id": "5b4a000e-e2ed-4f4b-9e61-b9be1a1eec40",
      "metadata": {
        "id": "5b4a000e-e2ed-4f4b-9e61-b9be1a1eec40",
        "outputId": "5ead04f8-a120-4d38-8320-9b5d64a0d786"
      },
      "outputs": [
        {
          "name": "stdout",
          "output_type": "stream",
          "text": [
            "<re.Match object; span=(0, 2), match='ab'>\n",
            "<re.Match object; span=(3, 4), match='c'>\n",
            "<re.Match object; span=(6, 12), match='degree'>\n",
            "<re.Match object; span=(15, 19), match='kite'>\n"
          ]
        }
      ],
      "source": [
        "text='ab2c45degree666kite'\n",
        "pat=r'[a-z]+'\n",
        "\n",
        "for i in re.finditer(pat,text):\n",
        "    print(i)"
      ]
    },
    {
      "cell_type": "code",
      "execution_count": null,
      "id": "a639ee8a-ad6e-40d8-9095-110f9f92849c",
      "metadata": {
        "id": "a639ee8a-ad6e-40d8-9095-110f9f92849c",
        "outputId": "466dd5c9-4f0e-463d-b422-41ca243a0223"
      },
      "outputs": [
        {
          "name": "stdout",
          "output_type": "stream",
          "text": [
            "<re.Match object; span=(2, 3), match='2'>\n",
            "<re.Match object; span=(4, 6), match='45'>\n",
            "<re.Match object; span=(12, 15), match='666'>\n"
          ]
        }
      ],
      "source": [
        "text='ab2c45degree666kite'\n",
        "pat=r'[0-9]+'\n",
        "\n",
        "for i in re.finditer(pat,text):\n",
        "    print(i)"
      ]
    },
    {
      "cell_type": "code",
      "execution_count": null,
      "id": "96fc12d2-cb5c-4997-875b-e53b39f3782c",
      "metadata": {
        "id": "96fc12d2-cb5c-4997-875b-e53b39f3782c",
        "outputId": "d45887a4-a368-4733-d378-c23df913bd46"
      },
      "outputs": [
        {
          "name": "stdout",
          "output_type": "stream",
          "text": [
            "<re.Match object; span=(0, 6), match='Aditya'>\n",
            "<re.Match object; span=(7, 13), match='Yogesh'>\n",
            "<re.Match object; span=(14, 20), match='Deepak'>\n",
            "<re.Match object; span=(21, 28), match='Bhavani'>\n",
            "<re.Match object; span=(29, 38), match='Paramdeep'>\n",
            "<re.Match object; span=(39, 44), match='Tania'>\n",
            "<re.Match object; span=(55, 57), match='Dl'>\n"
          ]
        }
      ],
      "source": [
        "text='Aditya Yogesh Deepak Bhavani Paramdeep Tania K W P 123 Dl'\n",
        "pat=r'[A-Z][a-z]+'\n",
        "for i in re.finditer(pat,text):\n",
        "    print(i)"
      ]
    },
    {
      "cell_type": "code",
      "execution_count": null,
      "id": "690434e7-5e00-4076-a48c-610f08f54737",
      "metadata": {
        "id": "690434e7-5e00-4076-a48c-610f08f54737",
        "outputId": "96e2cfc2-e032-428a-9d6b-bd73d272c83c"
      },
      "outputs": [
        {
          "name": "stdout",
          "output_type": "stream",
          "text": [
            "<re.Match object; span=(0, 6), match='Aditya'>\n",
            "<re.Match object; span=(7, 13), match='Yogesh'>\n",
            "<re.Match object; span=(14, 20), match='Deepak'>\n",
            "<re.Match object; span=(21, 28), match='Bhavani'>\n",
            "<re.Match object; span=(29, 38), match='Paramdeep'>\n",
            "<re.Match object; span=(39, 44), match='Tania'>\n",
            "<re.Match object; span=(45, 46), match='K'>\n",
            "<re.Match object; span=(47, 48), match='W'>\n",
            "<re.Match object; span=(49, 50), match='P'>\n",
            "<re.Match object; span=(55, 57), match='Dl'>\n"
          ]
        }
      ],
      "source": [
        "text='Aditya Yogesh Deepak Bhavani Paramdeep Tania K W P 123 Dl'\n",
        "pat=r'[A-Z][a-z]*'\n",
        "for i in re.finditer(pat,text):\n",
        "    print(i)"
      ]
    },
    {
      "cell_type": "code",
      "execution_count": null,
      "id": "2297a3bd-2159-460f-ba8d-b3b238b29e81",
      "metadata": {
        "id": "2297a3bd-2159-460f-ba8d-b3b238b29e81"
      },
      "outputs": [],
      "source": [
        "# + -> mandatory\n",
        "# * -> optional"
      ]
    },
    {
      "cell_type": "code",
      "execution_count": null,
      "id": "5e584ba1-1824-4191-8cfc-d95a2a88f37f",
      "metadata": {
        "id": "5e584ba1-1824-4191-8cfc-d95a2a88f37f",
        "outputId": "c0d05c99-97b4-4aa9-ee52-b38a486b09e1"
      },
      "outputs": [
        {
          "name": "stdout",
          "output_type": "stream",
          "text": [
            "<re.Match object; span=(0, 2), match='Mr'>\n",
            "<re.Match object; span=(11, 14), match='Mrs'>\n",
            "<re.Match object; span=(29, 31), match='Ms'>\n",
            "<re.Match object; span=(47, 49), match='Mr'>\n",
            "<re.Match object; span=(66, 68), match='Mr'>\n"
          ]
        }
      ],
      "source": [
        "text='''Mr. Yogesh\n",
        "Mrs_Sarah\n",
        "#@$#%$%\n",
        "Ms_ Tina\n",
        "12435466\n",
        "Mr Param\n",
        "354656676\n",
        "Mr_Harish\n",
        "!#$%$^%&%&\n",
        "Peter\n",
        "Adam'''\n",
        "\n",
        "pat=r'Mrs|Mr|Ms'\n",
        "\n",
        "for i in re.finditer(pat,text):\n",
        "    print(i)"
      ]
    },
    {
      "cell_type": "code",
      "execution_count": null,
      "id": "77e9cc55-f149-4d51-818d-cd4b3fd4ddad",
      "metadata": {
        "id": "77e9cc55-f149-4d51-818d-cd4b3fd4ddad",
        "outputId": "c9a4bcc8-937e-4f87-c5e5-03c532b662ae"
      },
      "outputs": [
        {
          "name": "stdout",
          "output_type": "stream",
          "text": [
            "<re.Match object; span=(0, 10), match='Mr. Yogesh'>\n",
            "<re.Match object; span=(11, 20), match='Mrs_Sarah'>\n",
            "<re.Match object; span=(29, 37), match='Ms_ Tina'>\n",
            "<re.Match object; span=(47, 54), match='MrParam'>\n"
          ]
        }
      ],
      "source": [
        "text='''Mr. Yogesh\n",
        "Mrs_Sarah\n",
        "#@$#%$%\n",
        "Ms_ Tina\n",
        "12435466\n",
        "MrParam\n",
        "354656676\n",
        "Mr__________Harish\n",
        "!#$%$^%&%&\n",
        "Peter\n",
        "Mr.............Adam\n",
        "Ms                Rekha\n",
        "D\n",
        "Mr. K123\n",
        "Mrs J'''\n",
        "\n",
        "pat=r'M(rs|r|s)\\.?_? ?[A-Z][a-z]+'\n",
        "\n",
        "for i in re.finditer(pat,text):\n",
        "    print(i)"
      ]
    },
    {
      "cell_type": "code",
      "execution_count": null,
      "id": "54bafa8e-9c65-4ac4-a820-ede59922ab4c",
      "metadata": {
        "id": "54bafa8e-9c65-4ac4-a820-ede59922ab4c",
        "outputId": "611d5c82-b119-4624-c4a6-ffca0b54accb"
      },
      "outputs": [
        {
          "name": "stdout",
          "output_type": "stream",
          "text": [
            "<re.Match object; span=(0, 10), match='Mr. Yogesh'>\n",
            "<re.Match object; span=(11, 20), match='Mrs_Sarah'>\n",
            "<re.Match object; span=(29, 37), match='Ms_ Tina'>\n",
            "<re.Match object; span=(47, 54), match='MrParam'>\n",
            "<re.Match object; span=(65, 83), match='Mr__________Harish'>\n",
            "<re.Match object; span=(101, 120), match='Mr.............Adam'>\n",
            "<re.Match object; span=(121, 144), match='Ms                Rekha'>\n"
          ]
        }
      ],
      "source": [
        "text='''Mr. Yogesh\n",
        "Mrs_Sarah\n",
        "#@$#%$%\n",
        "Ms_ Tina\n",
        "12435466\n",
        "MrParam\n",
        "354656676\n",
        "Mr__________Harish\n",
        "!#$%$^%&%&\n",
        "Peter\n",
        "Mr.............Adam\n",
        "Ms                Rekha\n",
        "D\n",
        "Mr. K123\n",
        "Mrs J'''\n",
        "\n",
        "pat=r'M(rs|r|s)\\.*_* *[A-Z][a-z]+'\n",
        "\n",
        "for i in re.finditer(pat,text):\n",
        "    print(i)"
      ]
    },
    {
      "cell_type": "code",
      "execution_count": null,
      "id": "2617c0bc-5928-4b00-b5a0-728c5f4799a7",
      "metadata": {
        "id": "2617c0bc-5928-4b00-b5a0-728c5f4799a7",
        "outputId": "193faf9e-1a3c-40d0-eb96-a6bce5113a22"
      },
      "outputs": [
        {
          "name": "stdout",
          "output_type": "stream",
          "text": [
            "<re.Match object; span=(29, 37), match='Ms_ Tina'>\n"
          ]
        }
      ],
      "source": [
        "text='''Mr. Yogesh\n",
        "Mrs_Sarah\n",
        "#@$#%$%\n",
        "Ms_ Tina\n",
        "12435466\n",
        "MrParam\n",
        "354656676\n",
        "Mr__________Harish\n",
        "!#$%$^%&%&\n",
        "Peter\n",
        "Mr.............Adam\n",
        "Ms                Rekha\n",
        "D\n",
        "Mr. K123\n",
        "Mrs J'''\n",
        "\n",
        "pat=r'M(rs|r|s)\\.?_? ?[A-Z][a-z]{3}\\b'\n",
        "\n",
        "for i in re.finditer(pat,text):\n",
        "    print(i)"
      ]
    },
    {
      "cell_type": "code",
      "execution_count": null,
      "id": "53ad1f3a-6d9e-4109-9c49-8d40e98bad7b",
      "metadata": {
        "id": "53ad1f3a-6d9e-4109-9c49-8d40e98bad7b",
        "outputId": "0c5d4263-d7dc-47b0-acfb-fdbdff2353f0"
      },
      "outputs": [
        {
          "name": "stdout",
          "output_type": "stream",
          "text": [
            "<re.Match object; span=(0, 21), match='ashishsom@learnbay.co'>\n",
            "<re.Match object; span=(40, 63), match='jayanth_singh@gmail.com'>\n",
            "<re.Match object; span=(94, 117), match='suresh.1995@hotmail.com'>\n",
            "<re.Match object; span=(147, 172), match='deepak1234@rediffmail.com'>\n",
            "<re.Match object; span=(187, 210), match='university@cambridge.in'>\n",
            "<re.Match object; span=(225, 236), match='info@gov.in'>\n",
            "<re.Match object; span=(237, 258), match='tania.kumar@yahoo.com'>\n"
          ]
        }
      ],
      "source": [
        "text='''ashishsom@learnbay.co\n",
        "abc.com\n",
        "@#@$#%$^&\n",
        "jayanth_singh@gmail.com\n",
        "334565767\n",
        "123@gmail.com\n",
        "@info\n",
        "suresh.1995@hotmail.com\n",
        "23546567688\n",
        "FAKEmail@goahead\n",
        "deepak1234@rediffmail.com\n",
        "SDFGGTHTHYHYT\n",
        "university@cambridge.in\n",
        "##$$%^%&^&*&*\n",
        "info@gov.in\n",
        "tania.kumar@yahoo.com'''\n",
        "\n",
        "pat=r'[a-z]+_?\\.?[0-9]*[a-z]*@[a-z]+(.com|.co|.edu|.in)'\n",
        "\n",
        "for i in re.finditer(pat,text):\n",
        "    print(i)"
      ]
    },
    {
      "cell_type": "code",
      "execution_count": null,
      "id": "e19c96ca-d3a4-4514-946b-67a7a06f269b",
      "metadata": {
        "id": "e19c96ca-d3a4-4514-946b-67a7a06f269b",
        "outputId": "17eed565-6316-4df9-e16a-95a46335fb1a"
      },
      "outputs": [
        {
          "name": "stdout",
          "output_type": "stream",
          "text": [
            "<re.Match object; span=(0, 21), match='ashishsom@learnbay.co'>\n",
            "<re.Match object; span=(40, 63), match='jayanth_singh@gmail.com'>\n",
            "<re.Match object; span=(94, 117), match='suresh.1995@hotmail.com'>\n",
            "<re.Match object; span=(147, 172), match='deepak1234@rediffmail.com'>\n",
            "<re.Match object; span=(187, 210), match='university@cambridge.in'>\n",
            "<re.Match object; span=(225, 236), match='info@gov.in'>\n",
            "<re.Match object; span=(237, 258), match='tania.kumar@yahoo.com'>\n"
          ]
        }
      ],
      "source": [
        "pat=r'[a-z]+_?\\.?[0-9]*[a-z]*@[a-z]+\\.(com|co|edu|in)'\n",
        "\n",
        "for i in re.finditer(pat,text):\n",
        "    print(i)"
      ]
    },
    {
      "cell_type": "code",
      "execution_count": null,
      "id": "98688745-3d3e-42b6-9e76-3a877cddabbb",
      "metadata": {
        "id": "98688745-3d3e-42b6-9e76-3a877cddabbb",
        "outputId": "a187594c-e685-4ea2-8641-18ff18a798cb"
      },
      "outputs": [
        {
          "name": "stdout",
          "output_type": "stream",
          "text": [
            "<re.Match object; span=(0, 21), match='ashishsom@learnbay.co'>\n",
            "<re.Match object; span=(40, 63), match='jayanth_singh@gmail.com'>\n",
            "<re.Match object; span=(94, 117), match='suresh.1995@hotmail.com'>\n",
            "<re.Match object; span=(147, 172), match='deepak1234@rediffmail.com'>\n",
            "<re.Match object; span=(187, 210), match='university@cambridge.in'>\n",
            "<re.Match object; span=(225, 236), match='info@gov.in'>\n",
            "<re.Match object; span=(237, 258), match='tania.kumar@yahoo.com'>\n"
          ]
        }
      ],
      "source": [
        "pat=r'[a-z]+_?\\.?[0-9]*[a-z]*@[a-z]+\\.(com|co|edu|in)'\n",
        "\n",
        "for i in re.finditer(pat,text):\n",
        "    print(i)"
      ]
    },
    {
      "cell_type": "markdown",
      "id": "37921c5a-fc37-48a5-b66d-f9880a1bd308",
      "metadata": {
        "id": "37921c5a-fc37-48a5-b66d-f9880a1bd308"
      },
      "source": [
        "# Matching the metacharacters"
      ]
    },
    {
      "cell_type": "code",
      "execution_count": null,
      "id": "47b38517-0117-4150-b1b2-3b030281eccf",
      "metadata": {
        "id": "47b38517-0117-4150-b1b2-3b030281eccf",
        "outputId": "f33717d9-9f3a-4b8c-be7d-9f80f1ae71f9"
      },
      "outputs": [
        {
          "name": "stdout",
          "output_type": "stream",
          "text": [
            "<re.Match object; span=(2, 3), match='$'>\n",
            "<re.Match object; span=(5, 6), match='$'>\n",
            "<re.Match object; span=(12, 13), match='$'>\n",
            "<re.Match object; span=(13, 14), match='$'>\n",
            "<re.Match object; span=(15, 16), match='$'>\n",
            "<re.Match object; span=(19, 20), match='$'>\n",
            "<re.Match object; span=(21, 22), match='$'>\n"
          ]
        }
      ],
      "source": [
        "text='ab$sg$fd!@#@$$#$122$3$34'\n",
        "# Match $\n",
        "\n",
        "pat=r'\\$'\n",
        "\n",
        "for i in re.finditer(pat,text):\n",
        "    print(i)"
      ]
    },
    {
      "cell_type": "code",
      "execution_count": null,
      "id": "50d5cc3f-d16e-4c07-a603-f2fca44ffd45",
      "metadata": {
        "id": "50d5cc3f-d16e-4c07-a603-f2fca44ffd45",
        "outputId": "40064056-5ae3-457e-b3f7-d1763cc74dda"
      },
      "outputs": [
        {
          "name": "stdout",
          "output_type": "stream",
          "text": [
            "<re.Match object; span=(13, 14), match='^'>\n",
            "<re.Match object; span=(24, 25), match='^'>\n",
            "<re.Match object; span=(34, 35), match='^'>\n",
            "<re.Match object; span=(39, 40), match='^'>\n",
            "<re.Match object; span=(43, 44), match='^'>\n"
          ]
        }
      ],
      "source": [
        "text='212243@4 %qsh^000&000*00^0000gvdgg^ ASD^DFf^g'\n",
        "# Match ^\n",
        "\n",
        "pat=r'\\^'\n",
        "\n",
        "for i in re.finditer(pat,text):\n",
        "    print(i)"
      ]
    },
    {
      "cell_type": "code",
      "execution_count": null,
      "id": "f50080c5-94d5-412e-9e80-c1381472d3f8",
      "metadata": {
        "id": "f50080c5-94d5-412e-9e80-c1381472d3f8",
        "outputId": "a9575e13-bd9d-4a47-8efe-398c275a06ff"
      },
      "outputs": [
        {
          "name": "stdout",
          "output_type": "stream",
          "text": [
            "<re.Match object; span=(1, 2), match='.'>\n",
            "<re.Match object; span=(6, 7), match='.'>\n",
            "<re.Match object; span=(13, 14), match='.'>\n",
            "<re.Match object; span=(19, 20), match='.'>\n",
            "<re.Match object; span=(25, 26), match='.'>\n",
            "<re.Match object; span=(31, 32), match='.'>\n",
            "<re.Match object; span=(34, 35), match='.'>\n"
          ]
        }
      ],
      "source": [
        "text='a.bcd .12345 .!@@$#.%$% A.SSDFG.GY.T'\n",
        "# Match .\n",
        "\n",
        "pat=r'\\.'\n",
        "\n",
        "for i in re.finditer(pat,text):\n",
        "    print(i)"
      ]
    },
    {
      "cell_type": "code",
      "execution_count": null,
      "id": "d5f28999-945c-45c7-89f2-3e10f71a7509",
      "metadata": {
        "id": "d5f28999-945c-45c7-89f2-3e10f71a7509",
        "outputId": "cf1fe4a2-2594-444f-bedc-e13abc5edf74"
      },
      "outputs": [
        {
          "name": "stdout",
          "output_type": "stream",
          "text": [
            "<re.Match object; span=(5, 6), match='['>\n",
            "<re.Match object; span=(14, 15), match='['>\n",
            "<re.Match object; span=(15, 16), match=']'>\n",
            "<re.Match object; span=(16, 17), match=']'>\n",
            "<re.Match object; span=(17, 18), match='['>\n"
          ]
        }
      ],
      "source": [
        "text='abcd [  bdhbdh[]][2345S(DF)DGw(re(rr45()46'\n",
        "pat=r'[][]'\n",
        "\n",
        "for i in re.finditer(pat,text):\n",
        "    print(i)"
      ]
    },
    {
      "cell_type": "code",
      "execution_count": null,
      "id": "7d181d9e-7087-41af-8742-057f6c38c5f7",
      "metadata": {
        "id": "7d181d9e-7087-41af-8742-057f6c38c5f7"
      },
      "outputs": [],
      "source": []
    }
  ],
  "metadata": {
    "kernelspec": {
      "display_name": "Python 3 (ipykernel)",
      "language": "python",
      "name": "python3"
    },
    "language_info": {
      "codemirror_mode": {
        "name": "ipython",
        "version": 3
      },
      "file_extension": ".py",
      "mimetype": "text/x-python",
      "name": "python",
      "nbconvert_exporter": "python",
      "pygments_lexer": "ipython3",
      "version": "3.11.4"
    },
    "colab": {
      "provenance": []
    }
  },
  "nbformat": 4,
  "nbformat_minor": 5
}