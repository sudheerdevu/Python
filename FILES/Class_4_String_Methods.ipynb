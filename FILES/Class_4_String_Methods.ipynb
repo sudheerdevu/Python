{
  "cells": [
    {
      "cell_type": "markdown",
      "id": "c881f02a-a62f-47fb-bcf8-85bea70a9318",
      "metadata": {
        "id": "c881f02a-a62f-47fb-bcf8-85bea70a9318"
      },
      "source": [
        "# String Operations"
      ]
    },
    {
      "cell_type": "code",
      "execution_count": null,
      "id": "09e9a7ee-3808-46d8-82db-650610c71f82",
      "metadata": {
        "id": "09e9a7ee-3808-46d8-82db-650610c71f82"
      },
      "outputs": [],
      "source": [
        "# - 1- Concatenation\n",
        "# - 2- Repeatition\n",
        "# - 3- Length\n",
        "# - 4- Indexing and slicing\n",
        "# - 5- Memebership"
      ]
    },
    {
      "cell_type": "markdown",
      "id": "af8ae93b-4b2b-4b2f-b1f8-172404396dda",
      "metadata": {
        "id": "af8ae93b-4b2b-4b2f-b1f8-172404396dda"
      },
      "source": [
        "# Indexing and Slicing"
      ]
    },
    {
      "cell_type": "markdown",
      "id": "777ae8c5-ee48-483b-a83d-574078a9c6ea",
      "metadata": {
        "id": "777ae8c5-ee48-483b-a83d-574078a9c6ea"
      },
      "source": [
        "### Indexing"
      ]
    },
    {
      "cell_type": "code",
      "execution_count": null,
      "id": "d239e7f1-3078-4ada-ad7a-cb973de43ff0",
      "metadata": {
        "id": "d239e7f1-3078-4ada-ad7a-cb973de43ff0"
      },
      "outputs": [],
      "source": [
        "# - String is an ordered collection of data as each element of a string gets stored at a particular index.\n",
        "# - String is also known as sequence type as it follows indexing.\n",
        "# - String supports +ive and -ive indexing both."
      ]
    },
    {
      "cell_type": "code",
      "execution_count": null,
      "id": "5162edd7-6b91-4771-bb63-1eeef791295e",
      "metadata": {
        "id": "5162edd7-6b91-4771-bb63-1eeef791295e"
      },
      "outputs": [],
      "source": [
        "my_str='Python'"
      ]
    },
    {
      "cell_type": "code",
      "execution_count": null,
      "id": "340bcc25-5807-44fb-8e5d-b5a06db6a758",
      "metadata": {
        "id": "340bcc25-5807-44fb-8e5d-b5a06db6a758",
        "outputId": "5df85b7c-fb9b-4e79-9988-35a0f78f604d"
      },
      "outputs": [
        {
          "name": "stdout",
          "output_type": "stream",
          "text": [
            "P\n",
            "P\n",
            "P\n"
          ]
        }
      ],
      "source": [
        "# Fetch the first element.\n",
        "\n",
        "print(my_str[0])\n",
        "print(my_str[-6])\n",
        "print(my_str[-len(my_str)])"
      ]
    },
    {
      "cell_type": "code",
      "execution_count": null,
      "id": "902e751f-e82c-4010-bb12-b174c12d81ad",
      "metadata": {
        "id": "902e751f-e82c-4010-bb12-b174c12d81ad",
        "outputId": "7443bd46-00a7-47a7-c1a5-3ed73fa511ed"
      },
      "outputs": [
        {
          "data": {
            "text/plain": [
              "-6"
            ]
          },
          "execution_count": 8,
          "metadata": {},
          "output_type": "execute_result"
        }
      ],
      "source": [
        "-len(my_str)"
      ]
    },
    {
      "cell_type": "code",
      "execution_count": null,
      "id": "2d86d73e-91a3-4292-84dd-8e309554fc56",
      "metadata": {
        "id": "2d86d73e-91a3-4292-84dd-8e309554fc56",
        "outputId": "fbc3b0ce-ca3f-440d-c45d-d4bc9af6fc35"
      },
      "outputs": [
        {
          "name": "stdout",
          "output_type": "stream",
          "text": [
            "n\n",
            "n\n",
            "n\n"
          ]
        }
      ],
      "source": [
        "# Fetch the last element.\n",
        "\n",
        "print(my_str[-1])\n",
        "print(my_str[5])\n",
        "print(my_str[len(my_str)-1])"
      ]
    },
    {
      "cell_type": "code",
      "execution_count": null,
      "id": "073a3693-5c13-4308-bb06-d963d9c565ae",
      "metadata": {
        "id": "073a3693-5c13-4308-bb06-d963d9c565ae",
        "outputId": "28fa0f6f-f0aa-4cf8-be56-5711e4c3c2ed"
      },
      "outputs": [
        {
          "data": {
            "text/plain": [
              "5"
            ]
          },
          "execution_count": 13,
          "metadata": {},
          "output_type": "execute_result"
        }
      ],
      "source": [
        "len(my_str)-1"
      ]
    },
    {
      "cell_type": "code",
      "execution_count": null,
      "id": "a783763b-7660-4713-9484-ec893d5c9d59",
      "metadata": {
        "id": "a783763b-7660-4713-9484-ec893d5c9d59",
        "outputId": "497d8ada-6b07-4788-f7e3-44f81ea0f5d0"
      },
      "outputs": [
        {
          "name": "stdout",
          "output_type": "stream",
          "text": [
            "W\n",
            "W\n"
          ]
        }
      ],
      "source": [
        "my_str='We are learning Python programmming'\n",
        "\n",
        "# Fetch the first element\n",
        "print(my_str[0])\n",
        "print(my_str[-len(my_str)])"
      ]
    },
    {
      "cell_type": "code",
      "execution_count": null,
      "id": "3bc64030-ba4f-4dc7-a6e8-da1f842c50b2",
      "metadata": {
        "id": "3bc64030-ba4f-4dc7-a6e8-da1f842c50b2",
        "outputId": "096dc744-ad69-46eb-bf21-6ade8a7b73df"
      },
      "outputs": [
        {
          "data": {
            "text/plain": [
              "-35"
            ]
          },
          "execution_count": 20,
          "metadata": {},
          "output_type": "execute_result"
        }
      ],
      "source": [
        "-len(my_str)"
      ]
    },
    {
      "cell_type": "code",
      "execution_count": null,
      "id": "d3e2c0d2-185c-4d2e-b867-58fe054be5ab",
      "metadata": {
        "id": "d3e2c0d2-185c-4d2e-b867-58fe054be5ab",
        "outputId": "aa85e926-20d9-48ed-f218-4cdf9a66a598"
      },
      "outputs": [
        {
          "name": "stdout",
          "output_type": "stream",
          "text": [
            "g\n",
            "g\n"
          ]
        }
      ],
      "source": [
        "# Fetch the last element\n",
        "print(my_str[-1])\n",
        "print(my_str[len(my_str)-1])"
      ]
    },
    {
      "cell_type": "code",
      "execution_count": null,
      "id": "bd2d7aa8-922d-451f-94ae-56a6a57b891d",
      "metadata": {
        "id": "bd2d7aa8-922d-451f-94ae-56a6a57b891d",
        "outputId": "5f9c211f-b478-41a0-df43-47168f944c7d"
      },
      "outputs": [
        {
          "data": {
            "text/plain": [
              "34"
            ]
          },
          "execution_count": 22,
          "metadata": {},
          "output_type": "execute_result"
        }
      ],
      "source": [
        "len(my_str)-1"
      ]
    },
    {
      "cell_type": "markdown",
      "id": "4f240860-a5f7-4046-9b8f-4fabf577c239",
      "metadata": {
        "id": "4f240860-a5f7-4046-9b8f-4fabf577c239"
      },
      "source": [
        "### Slicing"
      ]
    },
    {
      "cell_type": "code",
      "execution_count": null,
      "id": "54de2e6c-d677-4769-a4e5-4b9ed3a38d28",
      "metadata": {
        "id": "54de2e6c-d677-4769-a4e5-4b9ed3a38d28"
      },
      "outputs": [],
      "source": [
        "# - Getting a substring out of a string is known as string slicing."
      ]
    },
    {
      "cell_type": "code",
      "execution_count": null,
      "id": "bfe9fb86-9b38-440e-b46b-bac33f72ef89",
      "metadata": {
        "id": "bfe9fb86-9b38-440e-b46b-bac33f72ef89"
      },
      "outputs": [],
      "source": [
        "# string[start:stop:step]\n",
        "# stop is excluded\n",
        "# step is 1 by default."
      ]
    },
    {
      "cell_type": "code",
      "execution_count": null,
      "id": "519303b9-f7b4-4eb3-9d23-038e1632bc15",
      "metadata": {
        "id": "519303b9-f7b4-4eb3-9d23-038e1632bc15",
        "outputId": "314d3e47-22bc-41b9-9285-bd77da27e7dd"
      },
      "outputs": [
        {
          "name": "stdout",
          "output_type": "stream",
          "text": [
            "Pyt\n",
            "Pyt\n",
            "Pto\n"
          ]
        }
      ],
      "source": [
        "my_str='Python'\n",
        "\n",
        "# Get the first three elements. [0,1,2] -> 3\n",
        "print(my_str[0:3:1])\n",
        "print(my_str[0:3])\n",
        "\n",
        "# Get every alternate element. [0,2,4] ->5\n",
        "print(my_str[0:5:2])"
      ]
    },
    {
      "cell_type": "markdown",
      "id": "27faf50f-bc94-4f00-9e01-6670b726649c",
      "metadata": {
        "id": "27faf50f-bc94-4f00-9e01-6670b726649c"
      },
      "source": [
        "# When the step is +ive"
      ]
    },
    {
      "cell_type": "code",
      "execution_count": null,
      "id": "a46288ca-7078-47f3-b803-da39d00c2a62",
      "metadata": {
        "id": "a46288ca-7078-47f3-b803-da39d00c2a62"
      },
      "outputs": [],
      "source": [
        "# - The default start is 0.\n",
        "# - The default stop is len(my_str)"
      ]
    },
    {
      "cell_type": "code",
      "execution_count": null,
      "id": "6f2ae4e1-4637-4a9f-80c6-5bdd902ceb60",
      "metadata": {
        "id": "6f2ae4e1-4637-4a9f-80c6-5bdd902ceb60",
        "outputId": "94aa3569-0f28-428d-c186-7552c5db4f8a"
      },
      "outputs": [
        {
          "name": "stdout",
          "output_type": "stream",
          "text": [
            "Pyt\n",
            "Pyt\n",
            "Pyt\n",
            "Pyt\n"
          ]
        }
      ],
      "source": [
        "my_str='Python'\n",
        "\n",
        "# First three element\n",
        "print(my_str[0:3:1])\n",
        "print(my_str[:3:1])\n",
        "print(my_str[0:3])\n",
        "print(my_str[:3])"
      ]
    },
    {
      "cell_type": "code",
      "execution_count": null,
      "id": "3f156e89-ec07-4dc2-bcf7-170863aa77a4",
      "metadata": {
        "id": "3f156e89-ec07-4dc2-bcf7-170863aa77a4",
        "outputId": "0f63ee89-3743-4099-c33c-7ccbc2e3413d"
      },
      "outputs": [
        {
          "name": "stdout",
          "output_type": "stream",
          "text": [
            "Python\n",
            "Python\n",
            "Python\n",
            "Python\n",
            "Python\n",
            "thon\n"
          ]
        }
      ],
      "source": [
        "my_str='Python' # [0,1,2,3,4,5] ->6\n",
        "\n",
        "print(my_str[0:6:1])\n",
        "print(my_str[0:len(my_str):1])\n",
        "print(my_str[::1])\n",
        "print(my_str[0::])\n",
        "print(my_str[::])\n",
        "print(my_str[2::])"
      ]
    },
    {
      "cell_type": "code",
      "execution_count": null,
      "id": "c96dcbd9-6fd5-4aa1-a8fd-98f02394f18f",
      "metadata": {
        "id": "c96dcbd9-6fd5-4aa1-a8fd-98f02394f18f",
        "outputId": "d60a4654-d471-4d89-978e-835144a0165d"
      },
      "outputs": [
        {
          "data": {
            "text/plain": [
              "6"
            ]
          },
          "execution_count": 41,
          "metadata": {},
          "output_type": "execute_result"
        }
      ],
      "source": [
        "len(my_str)"
      ]
    },
    {
      "cell_type": "code",
      "execution_count": null,
      "id": "c7371c0b-676e-4b60-8a7f-007cb8833ee0",
      "metadata": {
        "id": "c7371c0b-676e-4b60-8a7f-007cb8833ee0",
        "outputId": "41a9cd12-aaed-4f52-b0b8-f712749a65f3"
      },
      "outputs": [
        {
          "name": "stdout",
          "output_type": "stream",
          "text": [
            "Pto\n",
            "Pto\n"
          ]
        }
      ],
      "source": [
        "my_str='Python'\n",
        "\n",
        "# Every alternate element ->'Pto'\n",
        "\n",
        "print(my_str[0:len(my_str):2])\n",
        "print(my_str[::2])"
      ]
    },
    {
      "cell_type": "markdown",
      "id": "9ef0d119-4ee5-4110-9904-eefaa5b3cad4",
      "metadata": {
        "id": "9ef0d119-4ee5-4110-9904-eefaa5b3cad4"
      },
      "source": [
        "# When the step is -ive"
      ]
    },
    {
      "cell_type": "code",
      "execution_count": null,
      "id": "647869e0-99b7-432b-bdc6-b9b059dc9495",
      "metadata": {
        "id": "647869e0-99b7-432b-bdc6-b9b059dc9495"
      },
      "outputs": [],
      "source": [
        "# - The default start is -1\n",
        "# - The default stop is -len(my_str)-1"
      ]
    },
    {
      "cell_type": "code",
      "execution_count": null,
      "id": "e3b177bb-5145-4c16-9a66-86ae71c06c48",
      "metadata": {
        "id": "e3b177bb-5145-4c16-9a66-86ae71c06c48",
        "outputId": "b8b7173e-bb11-44f7-b834-cded8f0da538"
      },
      "outputs": [
        {
          "name": "stdout",
          "output_type": "stream",
          "text": [
            "nohtyP\n",
            "nohtyP\n",
            "nohtyP\n",
            "nohtyP\n",
            "nohtyP\n"
          ]
        }
      ],
      "source": [
        "my_str='Python'\n",
        "\n",
        "# Reverse the string.\n",
        "# -ive indexes- [-1,-2,-3,-4,-5,-6] -> -7\n",
        "\n",
        "print(my_str[-1:-7:-1])\n",
        "print(my_str[-1:-len(my_str)-1:-1])\n",
        "print(my_str[:-len(my_str)-1:-1])\n",
        "print(my_str[-1::-1])\n",
        "print(my_str[::-1])"
      ]
    },
    {
      "cell_type": "code",
      "execution_count": null,
      "id": "219ba369-58d3-4429-aa02-aa7b6eb78e2a",
      "metadata": {
        "id": "219ba369-58d3-4429-aa02-aa7b6eb78e2a",
        "outputId": "7aa33007-8457-4962-f451-d7a6405ca574"
      },
      "outputs": [
        {
          "data": {
            "text/plain": [
              "-2"
            ]
          },
          "execution_count": 53,
          "metadata": {},
          "output_type": "execute_result"
        }
      ],
      "source": [
        "-1-1"
      ]
    },
    {
      "cell_type": "code",
      "execution_count": null,
      "id": "2c1899c4-40d4-4a22-8361-2fa4884b7a12",
      "metadata": {
        "id": "2c1899c4-40d4-4a22-8361-2fa4884b7a12",
        "outputId": "d062a76a-9ce5-47cf-cea5-3e06861daca9"
      },
      "outputs": [
        {
          "data": {
            "text/plain": [
              "-7"
            ]
          },
          "execution_count": 58,
          "metadata": {},
          "output_type": "execute_result"
        }
      ],
      "source": [
        "-len(my_str)-1"
      ]
    },
    {
      "cell_type": "code",
      "execution_count": null,
      "id": "a2df4d74-ffd1-4b44-8b47-969df674ee03",
      "metadata": {
        "id": "a2df4d74-ffd1-4b44-8b47-969df674ee03",
        "outputId": "389f6ed1-32ae-404d-9493-b3152cee4d23"
      },
      "outputs": [
        {
          "data": {
            "text/plain": [
              "-7"
            ]
          },
          "execution_count": 60,
          "metadata": {},
          "output_type": "execute_result"
        }
      ],
      "source": [
        "-(len(my_str)+1)"
      ]
    },
    {
      "cell_type": "code",
      "execution_count": null,
      "id": "f78bbd36-eee8-4326-9280-b90b63f52b9c",
      "metadata": {
        "id": "f78bbd36-eee8-4326-9280-b90b63f52b9c",
        "outputId": "a64715d8-1f95-4bd8-da8b-789afb76aa1f"
      },
      "outputs": [
        {
          "name": "stdout",
          "output_type": "stream",
          "text": [
            "nhy\n",
            "nhy\n",
            "otP\n"
          ]
        }
      ],
      "source": [
        "My_str='Python'\n",
        "\n",
        "# Get the alternate elements in -ive direction\n",
        "# Output- nhy\n",
        "\n",
        "print(my_str[-1:-len(my_str)-1:-2])\n",
        "print(my_str[::-2])\n",
        "\n",
        "# Output- otP\n",
        "print(my_str[-2::-2])"
      ]
    },
    {
      "cell_type": "code",
      "execution_count": null,
      "id": "7b7b2a42-1b39-4458-ab07-742f346603c5",
      "metadata": {
        "id": "7b7b2a42-1b39-4458-ab07-742f346603c5",
        "outputId": "1cfe9027-a7e4-4454-965c-795eea25d2af"
      },
      "outputs": [
        {
          "data": {
            "text/plain": [
              "''"
            ]
          },
          "execution_count": 76,
          "metadata": {},
          "output_type": "execute_result"
        }
      ],
      "source": [
        "my_str='Python' # +ive indexes in reverse order-> [5,4,3,2,1,0] -> -1\n",
        "\n",
        "# Reverse using the +ive indexes\n",
        "my_str[5:-1:-1]"
      ]
    },
    {
      "cell_type": "code",
      "execution_count": null,
      "id": "524cf53d-f77d-4e8c-b217-c5d24454985d",
      "metadata": {
        "id": "524cf53d-f77d-4e8c-b217-c5d24454985d",
        "outputId": "b0bb74e4-5a41-46f5-ffa4-7d2524c5862f"
      },
      "outputs": [
        {
          "data": {
            "text/plain": [
              "''"
            ]
          },
          "execution_count": 78,
          "metadata": {},
          "output_type": "execute_result"
        }
      ],
      "source": [
        "my_str[5:2]"
      ]
    },
    {
      "cell_type": "code",
      "execution_count": null,
      "id": "9c8ed8f7-deeb-4a5c-ba55-1e4fe5b3214f",
      "metadata": {
        "id": "9c8ed8f7-deeb-4a5c-ba55-1e4fe5b3214f",
        "outputId": "7033f87f-2b62-4187-c7ec-66ca5d65de95"
      },
      "outputs": [
        {
          "name": "stdout",
          "output_type": "stream",
          "text": [
            "yt\n"
          ]
        }
      ],
      "source": [
        "my_str='Python'\n",
        "\n",
        "print(my_str[-5:3])"
      ]
    },
    {
      "cell_type": "code",
      "execution_count": null,
      "id": "c276ab54-f54d-435a-9c67-b3794591c88b",
      "metadata": {
        "id": "c276ab54-f54d-435a-9c67-b3794591c88b",
        "outputId": "e3c5dc5a-900a-4668-f30e-8463b76db609"
      },
      "outputs": [
        {
          "name": "stdout",
          "output_type": "stream",
          "text": [
            "\n"
          ]
        }
      ],
      "source": [
        "my_str='Python'\n",
        "\n",
        "print(my_str[-2:1])"
      ]
    },
    {
      "cell_type": "code",
      "execution_count": null,
      "id": "c3f22def-9793-4fb5-9017-74248149eaa1",
      "metadata": {
        "id": "c3f22def-9793-4fb5-9017-74248149eaa1",
        "outputId": "fd220995-fc08-4f37-adcb-1d40c24c1153"
      },
      "outputs": [
        {
          "name": "stdout",
          "output_type": "stream",
          "text": [
            "oht\n"
          ]
        }
      ],
      "source": [
        "my_str='Python'\n",
        "\n",
        "print(my_str[-2:1:-1])"
      ]
    },
    {
      "cell_type": "code",
      "execution_count": null,
      "id": "cd2c7514-7d00-4d91-9880-99b3fa309a93",
      "metadata": {
        "id": "cd2c7514-7d00-4d91-9880-99b3fa309a93"
      },
      "outputs": [],
      "source": [
        "# Left to right (+ive step required)\n",
        "# Right to left (-ive step is required)\n",
        "# else empty string"
      ]
    },
    {
      "cell_type": "markdown",
      "id": "70d18256-4bfa-46da-9b2c-63f46922d49f",
      "metadata": {
        "id": "70d18256-4bfa-46da-9b2c-63f46922d49f"
      },
      "source": [
        "# Membership"
      ]
    },
    {
      "cell_type": "code",
      "execution_count": null,
      "id": "8c093135-976a-457a-a14d-f30d5922f3ae",
      "metadata": {
        "id": "8c093135-976a-457a-a14d-f30d5922f3ae"
      },
      "outputs": [],
      "source": [
        "# - String is a container type.\n",
        "# - Every character in a string is the element of the string.\n",
        "# - Since string is a container type so we can apply membership operations on a string."
      ]
    },
    {
      "cell_type": "code",
      "execution_count": null,
      "id": "c724434e-9681-490d-8f7d-89bc3ee9985e",
      "metadata": {
        "id": "c724434e-9681-490d-8f7d-89bc3ee9985e",
        "outputId": "c8b10644-f4ec-4f33-92b4-296059e50a39"
      },
      "outputs": [
        {
          "name": "stdout",
          "output_type": "stream",
          "text": [
            "True\n",
            "True\n",
            "True\n",
            "True\n",
            "False\n"
          ]
        }
      ],
      "source": [
        "my_str='We are learning Python programming.'\n",
        "\n",
        "print('e' in my_str)\n",
        "print('ear' in my_str)\n",
        "print('re' in my_str)\n",
        "print('mm' in my_str)\n",
        "print('rae' in my_str)"
      ]
    },
    {
      "cell_type": "markdown",
      "id": "d0a1725a-30a2-42b8-afb6-7af664986fd3",
      "metadata": {
        "id": "d0a1725a-30a2-42b8-afb6-7af664986fd3"
      },
      "source": [
        "# String Methods"
      ]
    },
    {
      "cell_type": "code",
      "execution_count": null,
      "id": "f4caf9d8-2ef4-49d8-958b-2bc215e85b51",
      "metadata": {
        "id": "f4caf9d8-2ef4-49d8-958b-2bc215e85b51",
        "outputId": "cb96fc61-36a2-454e-e676-622289918a1e"
      },
      "outputs": [
        {
          "name": "stdout",
          "output_type": "stream",
          "text": [
            "Python <class 'str'>\n"
          ]
        }
      ],
      "source": [
        "my_str='Python'\n",
        "print(my_str,type(my_str))"
      ]
    },
    {
      "cell_type": "code",
      "execution_count": null,
      "id": "62c1cc79-a199-4220-b431-bfdbf26165a2",
      "metadata": {
        "id": "62c1cc79-a199-4220-b431-bfdbf26165a2"
      },
      "outputs": [],
      "source": [
        "# - my_str contains a string value.\n",
        "# - In other words we can say that my_str is the object of class str.\n",
        "# - It means whatever methods are available inside the class str are applicable on my_str"
      ]
    },
    {
      "cell_type": "code",
      "execution_count": null,
      "id": "a092f0d4-7680-4bdb-be52-7225b354d530",
      "metadata": {
        "id": "a092f0d4-7680-4bdb-be52-7225b354d530"
      },
      "outputs": [],
      "source": [
        "# - All methods of str class are applicable on a string object.\n",
        "# - All methods of list class are aplicable on a list object and so on.\n",
        "# - If we apply any list method on a string object then it raises attribute error."
      ]
    },
    {
      "cell_type": "code",
      "execution_count": null,
      "id": "345a7975-baf8-4d25-960b-bca6e49d4ef3",
      "metadata": {
        "id": "345a7975-baf8-4d25-960b-bca6e49d4ef3",
        "outputId": "fdf470f8-da24-43e0-9c5b-b5f456002d22"
      },
      "outputs": [
        {
          "name": "stdout",
          "output_type": "stream",
          "text": [
            "[1, 2, 3] <class 'list'>\n"
          ]
        }
      ],
      "source": [
        "lst=[1,2,3]\n",
        "print(lst,type(lst))"
      ]
    },
    {
      "cell_type": "code",
      "execution_count": null,
      "id": "f3ad64ae-fe66-41e0-9d09-bab6163b2a41",
      "metadata": {
        "id": "f3ad64ae-fe66-41e0-9d09-bab6163b2a41",
        "outputId": "450c9232-9a09-431c-9ff0-cc8a64a380bb"
      },
      "outputs": [
        {
          "name": "stdout",
          "output_type": "stream",
          "text": [
            "['__add__', '__class__', '__contains__', '__delattr__', '__dir__', '__doc__', '__eq__', '__format__', '__ge__', '__getattribute__', '__getitem__', '__getnewargs__', '__getstate__', '__gt__', '__hash__', '__init__', '__init_subclass__', '__iter__', '__le__', '__len__', '__lt__', '__mod__', '__mul__', '__ne__', '__new__', '__reduce__', '__reduce_ex__', '__repr__', '__rmod__', '__rmul__', '__setattr__', '__sizeof__', '__str__', '__subclasshook__', 'capitalize', 'casefold', 'center', 'count', 'encode', 'endswith', 'expandtabs', 'find', 'format', 'format_map', 'index', 'isalnum', 'isalpha', 'isascii', 'isdecimal', 'isdigit', 'isidentifier', 'islower', 'isnumeric', 'isprintable', 'isspace', 'istitle', 'isupper', 'join', 'ljust', 'lower', 'lstrip', 'maketrans', 'partition', 'removeprefix', 'removesuffix', 'replace', 'rfind', 'rindex', 'rjust', 'rpartition', 'rsplit', 'rstrip', 'split', 'splitlines', 'startswith', 'strip', 'swapcase', 'title', 'translate', 'upper', 'zfill']\n"
          ]
        }
      ],
      "source": [
        "print(dir(str))"
      ]
    },
    {
      "cell_type": "code",
      "execution_count": null,
      "id": "459ec791-6866-465e-973e-cca6e0521c71",
      "metadata": {
        "id": "459ec791-6866-465e-973e-cca6e0521c71",
        "outputId": "f2f6b564-67d9-4d11-b57c-37d0673cb992"
      },
      "outputs": [
        {
          "name": "stdout",
          "output_type": "stream",
          "text": [
            "['__add__', '__class__', '__class_getitem__', '__contains__', '__delattr__', '__delitem__', '__dir__', '__doc__', '__eq__', '__format__', '__ge__', '__getattribute__', '__getitem__', '__getstate__', '__gt__', '__hash__', '__iadd__', '__imul__', '__init__', '__init_subclass__', '__iter__', '__le__', '__len__', '__lt__', '__mul__', '__ne__', '__new__', '__reduce__', '__reduce_ex__', '__repr__', '__reversed__', '__rmul__', '__setattr__', '__setitem__', '__sizeof__', '__str__', '__subclasshook__', 'append', 'clear', 'copy', 'count', 'extend', 'index', 'insert', 'pop', 'remove', 'reverse', 'sort']\n"
          ]
        }
      ],
      "source": [
        "print(dir(list))"
      ]
    },
    {
      "cell_type": "code",
      "execution_count": null,
      "id": "16dcae9c-f2b1-40a6-866a-7d7165d01dc7",
      "metadata": {
        "id": "16dcae9c-f2b1-40a6-866a-7d7165d01dc7",
        "outputId": "06c01581-fec2-4d64-9880-0c96620ce761"
      },
      "outputs": [
        {
          "ename": "AttributeError",
          "evalue": "'str' object has no attribute 'pop'",
          "output_type": "error",
          "traceback": [
            "\u001b[1;31m---------------------------------------------------------------------------\u001b[0m",
            "\u001b[1;31mAttributeError\u001b[0m                            Traceback (most recent call last)",
            "Cell \u001b[1;32mIn[95], line 2\u001b[0m\n\u001b[0;32m      1\u001b[0m my_str\u001b[38;5;241m=\u001b[39m\u001b[38;5;124m'\u001b[39m\u001b[38;5;124mHello\u001b[39m\u001b[38;5;124m'\u001b[39m\n\u001b[1;32m----> 2\u001b[0m my_str\u001b[38;5;241m.\u001b[39mpop()\n",
            "\u001b[1;31mAttributeError\u001b[0m: 'str' object has no attribute 'pop'"
          ]
        }
      ],
      "source": [
        "my_str='Hello'\n",
        "my_str.pop()"
      ]
    },
    {
      "cell_type": "code",
      "execution_count": null,
      "id": "eb4d7eea-d59f-4c55-a2bb-cbf1b70183c3",
      "metadata": {
        "id": "eb4d7eea-d59f-4c55-a2bb-cbf1b70183c3",
        "outputId": "12ec67de-32ae-4bd7-df44-3e0a0b6ccfc5"
      },
      "outputs": [
        {
          "name": "stdout",
          "output_type": "stream",
          "text": [
            "Python <class 'str'>\n"
          ]
        }
      ],
      "source": [
        "my_str='Python'\n",
        "print(my_str,type(my_str))"
      ]
    },
    {
      "cell_type": "code",
      "execution_count": null,
      "id": "90d316a7-6d4a-4234-8ec0-efdb6f17058d",
      "metadata": {
        "id": "90d316a7-6d4a-4234-8ec0-efdb6f17058d",
        "outputId": "bfb7dffd-25d7-455d-a377-304cd06981a4"
      },
      "outputs": [
        {
          "name": "stdout",
          "output_type": "stream",
          "text": [
            "['__add__', '__class__', '__contains__', '__delattr__', '__dir__', '__doc__', '__eq__', '__format__', '__ge__', '__getattribute__', '__getitem__', '__getnewargs__', '__getstate__', '__gt__', '__hash__', '__init__', '__init_subclass__', '__iter__', '__le__', '__len__', '__lt__', '__mod__', '__mul__', '__ne__', '__new__', '__reduce__', '__reduce_ex__', '__repr__', '__rmod__', '__rmul__', '__setattr__', '__sizeof__', '__str__', '__subclasshook__', 'capitalize', 'casefold', 'center', 'count', 'encode', 'endswith', 'expandtabs', 'find', 'format', 'format_map', 'index', 'isalnum', 'isalpha', 'isascii', 'isdecimal', 'isdigit', 'isidentifier', 'islower', 'isnumeric', 'isprintable', 'isspace', 'istitle', 'isupper', 'join', 'ljust', 'lower', 'lstrip', 'maketrans', 'partition', 'removeprefix', 'removesuffix', 'replace', 'rfind', 'rindex', 'rjust', 'rpartition', 'rsplit', 'rstrip', 'split', 'splitlines', 'startswith', 'strip', 'swapcase', 'title', 'translate', 'upper', 'zfill']\n"
          ]
        }
      ],
      "source": [
        "print(dir(my_str))"
      ]
    },
    {
      "cell_type": "code",
      "execution_count": null,
      "id": "9aab6d55-006a-4fc0-bf27-8f8bb74b4611",
      "metadata": {
        "id": "9aab6d55-006a-4fc0-bf27-8f8bb74b4611"
      },
      "outputs": [],
      "source": [
        "# 'capitalize', 'casefold', 'center', 'count', 'encode', 'endswith', 'expandtabs', 'find', 'format', 'format_map',\n",
        "# 'index', 'isalnum', 'isalpha', 'isascii', 'isdecimal', 'isdigit', 'isidentifier', 'islower', 'isnumeric', 'isprintable',\n",
        "# 'isspace', 'istitle', 'isupper', 'join', 'ljust', 'lower', 'lstrip', 'maketrans', 'partition', 'removeprefix',\n",
        "# 'removesuffix', 'replace', 'rfind', 'rindex', 'rjust', 'rpartition', 'rsplit', 'rstrip', 'split', 'splitlines',\n",
        "# 'startswith', 'strip', 'swapcase', 'title', 'translate', 'upper', 'zfill'"
      ]
    },
    {
      "cell_type": "markdown",
      "id": "8582092f-fc42-4397-b82e-f2c6ed59aad1",
      "metadata": {
        "id": "8582092f-fc42-4397-b82e-f2c6ed59aad1"
      },
      "source": [
        "### How to apply a method?"
      ]
    },
    {
      "cell_type": "code",
      "execution_count": null,
      "id": "69686ff9-62e2-4bef-bff8-871c664fb70b",
      "metadata": {
        "id": "69686ff9-62e2-4bef-bff8-871c664fb70b"
      },
      "outputs": [],
      "source": [
        "# string.method"
      ]
    },
    {
      "cell_type": "markdown",
      "id": "4e110622-62b7-4b38-a26f-0bf0f0ae34f8",
      "metadata": {
        "id": "4e110622-62b7-4b38-a26f-0bf0f0ae34f8"
      },
      "source": [
        "# capitalize()"
      ]
    },
    {
      "cell_type": "code",
      "execution_count": null,
      "id": "1ef9352c-3065-4e53-b614-5f67b5ced4ab",
      "metadata": {
        "id": "1ef9352c-3065-4e53-b614-5f67b5ced4ab"
      },
      "outputs": [],
      "source": [
        "# - It capitalizes the first alphabet of the first word in a sentence.\n",
        "# - It returns a new string object.\n",
        "# - It does make the changes in the existing object."
      ]
    },
    {
      "cell_type": "code",
      "execution_count": null,
      "id": "eed4a5bd-dbaa-407b-b0bd-619bf24ba403",
      "metadata": {
        "id": "eed4a5bd-dbaa-407b-b0bd-619bf24ba403",
        "outputId": "900ec1b0-f544-4be3-fab8-4f272ba1185f"
      },
      "outputs": [
        {
          "name": "stdout",
          "output_type": "stream",
          "text": [
            "hello everyone how are you?\n",
            "Hello everyone how are you?\n",
            "hello everyone how are you?\n"
          ]
        }
      ],
      "source": [
        "my_str='hello everyone how are you?'\n",
        "\n",
        "print(my_str)\n",
        "print(my_str.capitalize())\n",
        "\n",
        "print(my_str)"
      ]
    },
    {
      "cell_type": "code",
      "execution_count": null,
      "id": "676318d0-1ea9-4a2c-8d9f-12ba6a7920eb",
      "metadata": {
        "id": "676318d0-1ea9-4a2c-8d9f-12ba6a7920eb",
        "outputId": "31f307aa-5396-4156-befb-8444bf58a19c"
      },
      "outputs": [
        {
          "name": "stdout",
          "output_type": "stream",
          "text": [
            "Hello everyone how are you?\n",
            "hello everyone how are you?\n"
          ]
        }
      ],
      "source": [
        "my_str='hello everyone how are you?'\n",
        "x=my_str.capitalize()\n",
        "\n",
        "print(x)\n",
        "print(my_str)"
      ]
    },
    {
      "cell_type": "code",
      "execution_count": null,
      "id": "fdbee826-3a55-4130-9577-15f15fa9c329",
      "metadata": {
        "id": "fdbee826-3a55-4130-9577-15f15fa9c329",
        "outputId": "d7289802-19e1-4516-f16b-a1de470eaee1"
      },
      "outputs": [
        {
          "name": "stdout",
          "output_type": "stream",
          "text": [
            "123hello everyone how are you?\n"
          ]
        }
      ],
      "source": [
        "my_str='123hello everyone how are you?'\n",
        "print(my_str.capitalize())"
      ]
    },
    {
      "cell_type": "markdown",
      "id": "989bfdbc-5b9c-4020-b7ee-5fa41f425fa2",
      "metadata": {
        "id": "989bfdbc-5b9c-4020-b7ee-5fa41f425fa2"
      },
      "source": [
        "# title()"
      ]
    },
    {
      "cell_type": "code",
      "execution_count": null,
      "id": "86e708fd-6549-4940-aa86-3384f36986cd",
      "metadata": {
        "id": "86e708fd-6549-4940-aa86-3384f36986cd"
      },
      "outputs": [],
      "source": [
        "# - It capitalizes the first letter of each word in a sentence.\n",
        "# - It returns a new string object.\n",
        "# - It does make the changes in the existing object."
      ]
    },
    {
      "cell_type": "code",
      "execution_count": null,
      "id": "db92d91b-8634-4f93-b98d-a8fa8d8e7b0d",
      "metadata": {
        "id": "db92d91b-8634-4f93-b98d-a8fa8d8e7b0d",
        "outputId": "c099f1d9-6035-40e4-9690-d38017114ae9"
      },
      "outputs": [
        {
          "name": "stdout",
          "output_type": "stream",
          "text": [
            "hello everyone how are you?\n",
            "Hello Everyone How Are You?\n",
            "hello everyone how are you?\n"
          ]
        }
      ],
      "source": [
        "my_str='hello everyone how are you?'\n",
        "print(my_str)\n",
        "\n",
        "print(my_str.title())\n",
        "\n",
        "print(my_str)"
      ]
    },
    {
      "cell_type": "code",
      "execution_count": null,
      "id": "b9a7171b-4b67-4eaa-9f1a-13bebc630465",
      "metadata": {
        "id": "b9a7171b-4b67-4eaa-9f1a-13bebc630465",
        "outputId": "cca9b8e6-6676-4194-e244-4ea678d5b682"
      },
      "outputs": [
        {
          "name": "stdout",
          "output_type": "stream",
          "text": [
            "Hello Everyone How Are You?\n",
            "hello everyone how are you?\n"
          ]
        }
      ],
      "source": [
        "my_str='hello everyone how are you?'\n",
        "x=my_str.title()\n",
        "\n",
        "print(x)\n",
        "print(my_str)"
      ]
    },
    {
      "cell_type": "code",
      "execution_count": null,
      "id": "2beca6e4-90a5-4892-a6a8-e872472aa42a",
      "metadata": {
        "id": "2beca6e4-90a5-4892-a6a8-e872472aa42a",
        "outputId": "9d4a86ca-0e03-4013-b727-2f303988aa03"
      },
      "outputs": [
        {
          "name": "stdout",
          "output_type": "stream",
          "text": [
            "Hello\n",
            "Hello\n",
            "hello\n"
          ]
        }
      ],
      "source": [
        "my_str='hello'\n",
        "print(my_str.capitalize())\n",
        "print(my_str.title())\n",
        "print(my_str)"
      ]
    },
    {
      "cell_type": "markdown",
      "id": "cda1e185-1d1c-4040-ac4b-08d91e84c9aa",
      "metadata": {
        "id": "cda1e185-1d1c-4040-ac4b-08d91e84c9aa"
      },
      "source": [
        "# swapcase()"
      ]
    },
    {
      "cell_type": "code",
      "execution_count": null,
      "id": "2569576a-5223-4138-b561-eb2b66e1462d",
      "metadata": {
        "id": "2569576a-5223-4138-b561-eb2b66e1462d"
      },
      "outputs": [],
      "source": [
        "# - It converts the upper case letters into lower case and vice versa in a string.\n",
        "# - It returns a new string object.\n",
        "# - It does make the changes in the existing object."
      ]
    },
    {
      "cell_type": "code",
      "execution_count": null,
      "id": "030600e4-c6d5-463b-89f6-17f2b2cc3003",
      "metadata": {
        "id": "030600e4-c6d5-463b-89f6-17f2b2cc3003",
        "outputId": "b00ec338-7be1-41b1-8948-89d7a55a7e80"
      },
      "outputs": [
        {
          "name": "stdout",
          "output_type": "stream",
          "text": [
            "Hello Python\n",
            "hELLO pYTHON\n",
            "Hello Python\n"
          ]
        }
      ],
      "source": [
        "my_str='Hello Python'\n",
        "print(my_str)\n",
        "print(my_str.swapcase())\n",
        "print(my_str)"
      ]
    },
    {
      "cell_type": "code",
      "execution_count": null,
      "id": "8e8b63ec-95a8-4b81-80b6-949397008436",
      "metadata": {
        "id": "8e8b63ec-95a8-4b81-80b6-949397008436",
        "outputId": "add6e823-5b4e-4385-f09d-2da9bd317c18"
      },
      "outputs": [
        {
          "name": "stdout",
          "output_type": "stream",
          "text": [
            "Hello123P@#$pYThon\n",
            "hELLO123p@#$PytHON\n",
            "Hello123P@#$pYThon\n"
          ]
        }
      ],
      "source": [
        "my_str='Hello123P@#$pYThon'\n",
        "print(my_str)\n",
        "\n",
        "print(my_str.swapcase())\n",
        "print(my_str)"
      ]
    },
    {
      "cell_type": "markdown",
      "id": "6d07ce99-88eb-4981-bad6-22c65ba6cf8d",
      "metadata": {
        "id": "6d07ce99-88eb-4981-bad6-22c65ba6cf8d"
      },
      "source": [
        "# upper()"
      ]
    },
    {
      "cell_type": "code",
      "execution_count": null,
      "id": "e5c31881-ba33-4517-a766-5d4713317fdd",
      "metadata": {
        "id": "e5c31881-ba33-4517-a766-5d4713317fdd"
      },
      "outputs": [],
      "source": [
        "# - It converts all the alphabets in a string into upper case.\n",
        "# - It returns a new string object.\n",
        "# - It does make the changes in the existing object."
      ]
    },
    {
      "cell_type": "code",
      "execution_count": null,
      "id": "011735ec-2eb4-432f-be53-34b8e1cbc5c3",
      "metadata": {
        "id": "011735ec-2eb4-432f-be53-34b8e1cbc5c3",
        "outputId": "62ea6cf3-13be-4c6f-91ea-5bf9703ed384"
      },
      "outputs": [
        {
          "name": "stdout",
          "output_type": "stream",
          "text": [
            "hello python\n",
            "HELLO PYTHON\n",
            "hello python\n"
          ]
        }
      ],
      "source": [
        "my_str='hello python'\n",
        "print(my_str)\n",
        "\n",
        "print(my_str.upper())\n",
        "print(my_str)"
      ]
    },
    {
      "cell_type": "code",
      "execution_count": null,
      "id": "78a6e8d0-ac2b-46f6-be4c-ad934a0443aa",
      "metadata": {
        "id": "78a6e8d0-ac2b-46f6-be4c-ad934a0443aa",
        "outputId": "542117ab-77d6-4fb5-d661-3b95b604230a"
      },
      "outputs": [
        {
          "name": "stdout",
          "output_type": "stream",
          "text": [
            "HellO PyThON\n",
            "HELLO PYTHON\n",
            "HellO PyThON\n"
          ]
        }
      ],
      "source": [
        "my_str='HellO PyThON'\n",
        "print(my_str)\n",
        "print(my_str.upper())\n",
        "print(my_str)"
      ]
    },
    {
      "cell_type": "code",
      "execution_count": null,
      "id": "d783997f-b7ef-477e-8780-600378b0ad79",
      "metadata": {
        "id": "d783997f-b7ef-477e-8780-600378b0ad79",
        "outputId": "af984f5e-8a5f-40da-d331-5be1ba56b4de"
      },
      "outputs": [
        {
          "name": "stdout",
          "output_type": "stream",
          "text": [
            "HellO 123 PyThON #$%%\n",
            "HELLO 123 PYTHON #$%%\n",
            "HellO 123 PyThON #$%%\n"
          ]
        }
      ],
      "source": [
        "my_str='HellO 123 PyThON #$%%'\n",
        "print(my_str)\n",
        "\n",
        "print(my_str.upper())\n",
        "print(my_str)"
      ]
    },
    {
      "cell_type": "markdown",
      "id": "37e8bfab-20a9-46f0-91b5-e6805ffbc7ea",
      "metadata": {
        "id": "37e8bfab-20a9-46f0-91b5-e6805ffbc7ea"
      },
      "source": [
        "# lower()"
      ]
    },
    {
      "cell_type": "code",
      "execution_count": null,
      "id": "a2a38263-863f-4338-ad4b-04a2ed5b14d3",
      "metadata": {
        "id": "a2a38263-863f-4338-ad4b-04a2ed5b14d3"
      },
      "outputs": [],
      "source": [
        "# - It converts all the alphabets in a string into lower case.\n",
        "# - It returns a new string object.\n",
        "# - It does make the changes in the existing object."
      ]
    },
    {
      "cell_type": "code",
      "execution_count": null,
      "id": "183e949a-f748-4f1c-b7a2-770e8391db61",
      "metadata": {
        "id": "183e949a-f748-4f1c-b7a2-770e8391db61",
        "outputId": "0b4ef095-dc2d-4d9c-9c20-f830bcb23a28"
      },
      "outputs": [
        {
          "name": "stdout",
          "output_type": "stream",
          "text": [
            "HELLO PYTHON\n",
            "hello python\n",
            "HELLO PYTHON\n"
          ]
        }
      ],
      "source": [
        "my_str='HELLO PYTHON'\n",
        "print(my_str)\n",
        "\n",
        "print(my_str.lower())\n",
        "print(my_str)"
      ]
    },
    {
      "cell_type": "code",
      "execution_count": null,
      "id": "dad84573-e49b-41d8-b389-5ef3c03b6a61",
      "metadata": {
        "id": "dad84573-e49b-41d8-b389-5ef3c03b6a61",
        "outputId": "0795e7b5-e84f-470e-b3b4-3a3458076193"
      },
      "outputs": [
        {
          "name": "stdout",
          "output_type": "stream",
          "text": [
            "HeLlO PyTHON\n",
            "hello python\n",
            "HeLlO PyTHON\n"
          ]
        }
      ],
      "source": [
        "my_str='HeLlO PyTHON'\n",
        "print(my_str)\n",
        "\n",
        "print(my_str.lower())\n",
        "print(my_str)"
      ]
    },
    {
      "cell_type": "code",
      "execution_count": null,
      "id": "6a2dbaf7-267f-44bc-b541-7725e322d30e",
      "metadata": {
        "id": "6a2dbaf7-267f-44bc-b541-7725e322d30e",
        "outputId": "f4d123cb-397d-4801-a4de-82c3bfe80b29"
      },
      "outputs": [
        {
          "name": "stdout",
          "output_type": "stream",
          "text": [
            "HeLlO1232 Py@##$T4%56HON\n",
            "hello1232 py@##$t4%56hon\n",
            "HeLlO1232 Py@##$T4%56HON\n"
          ]
        }
      ],
      "source": [
        "my_str='HeLlO1232 Py@##$T4%56HON'\n",
        "print(my_str)\n",
        "\n",
        "print(my_str.lower())\n",
        "print(my_str)"
      ]
    },
    {
      "cell_type": "markdown",
      "id": "ba73d152-e07a-4ee5-9ed0-924bb81bf59d",
      "metadata": {
        "id": "ba73d152-e07a-4ee5-9ed0-924bb81bf59d"
      },
      "source": [
        "# casefold()"
      ]
    },
    {
      "cell_type": "code",
      "execution_count": null,
      "id": "70d42db4-19fe-47d0-8b59-1d7de721f5c2",
      "metadata": {
        "id": "70d42db4-19fe-47d0-8b59-1d7de721f5c2"
      },
      "outputs": [],
      "source": [
        "# - It converts all the alphabets into lower case.\n",
        "# - lower() is applicable only on the ASCII characters.\n",
        "# - casefold() can handle non-ASCII characters that are defined in Unicode table.\n",
        "# - It returns a new object.\n",
        "# - It does not make the changes in the existing object."
      ]
    },
    {
      "cell_type": "code",
      "execution_count": null,
      "id": "fa017c2a-735a-4cdf-9784-854b597e5664",
      "metadata": {
        "id": "fa017c2a-735a-4cdf-9784-854b597e5664",
        "outputId": "75afe889-79d9-4d18-dee8-2dfe561e6ecd"
      },
      "outputs": [
        {
          "name": "stdout",
          "output_type": "stream",
          "text": [
            "Fleißen\n",
            "fleißen\n",
            "fleissen\n",
            "Fleißen\n"
          ]
        }
      ],
      "source": [
        "my_str='Fleißen'\n",
        "print(my_str)\n",
        "print(my_str.lower())\n",
        "print(my_str.casefold())\n",
        "print(my_str)"
      ]
    },
    {
      "cell_type": "markdown",
      "id": "1ac0efdf-ad43-482e-88f1-933d226351b4",
      "metadata": {
        "id": "1ac0efdf-ad43-482e-88f1-933d226351b4"
      },
      "source": [
        "# strip()"
      ]
    },
    {
      "cell_type": "code",
      "execution_count": null,
      "id": "53950aef-a953-4de4-91ef-a744d3b13e01",
      "metadata": {
        "id": "53950aef-a953-4de4-91ef-a744d3b13e01"
      },
      "outputs": [],
      "source": [
        "# - It removes the specified characters from both the boundaries of the string.\n",
        "# - By default it removes the space characters from both the boundaries of the string.\n",
        "# - It does not make the changes in the existing string.\n",
        "# - It returns a new string.\n",
        "# - Note- It only removes from the boundary not from the middle."
      ]
    },
    {
      "cell_type": "code",
      "execution_count": null,
      "id": "d79d6a82-9923-400e-914d-cf37718bcfb5",
      "metadata": {
        "id": "d79d6a82-9923-400e-914d-cf37718bcfb5"
      },
      "outputs": [],
      "source": [
        "# string.strip('character')"
      ]
    },
    {
      "cell_type": "code",
      "execution_count": null,
      "id": "eb7c4018-0193-4742-9f76-3b39628bdbe6",
      "metadata": {
        "id": "eb7c4018-0193-4742-9f76-3b39628bdbe6",
        "outputId": "1fddc151-7736-4cbb-9d5b-85c84472f032"
      },
      "outputs": [
        {
          "name": "stdout",
          "output_type": "stream",
          "text": [
            "$150$\n",
            "150\n",
            "$150$\n"
          ]
        }
      ],
      "source": [
        "my_str='$150$'\n",
        "print(my_str)\n",
        "print(my_str.strip('$'))\n",
        "print(my_str)"
      ]
    },
    {
      "cell_type": "code",
      "execution_count": null,
      "id": "f2bc9d1d-e7be-4850-94ba-1e8a2d0e408b",
      "metadata": {
        "id": "f2bc9d1d-e7be-4850-94ba-1e8a2d0e408b",
        "outputId": "4afa924d-6885-4d89-cf53-e7bcbb074393"
      },
      "outputs": [
        {
          "name": "stdout",
          "output_type": "stream",
          "text": [
            "$150\n",
            "150\n",
            "$150\n"
          ]
        }
      ],
      "source": [
        "my_str='$150'\n",
        "print(my_str)\n",
        "\n",
        "print(my_str.strip('$'))\n",
        "print(my_str)"
      ]
    },
    {
      "cell_type": "code",
      "execution_count": null,
      "id": "3d63358f-f9a5-40e3-b64e-c09675558e6e",
      "metadata": {
        "id": "3d63358f-f9a5-40e3-b64e-c09675558e6e",
        "outputId": "367cc6c2-50cf-4cfd-bdf1-a5ef48329fb5"
      },
      "outputs": [
        {
          "name": "stdout",
          "output_type": "stream",
          "text": [
            "#####Python #### class#########\n",
            "Python #### class\n",
            "#####Python #### class#########\n"
          ]
        }
      ],
      "source": [
        "my_str='#####Python #### class#########'\n",
        "print(my_str)\n",
        "\n",
        "print(my_str.strip('#'))\n",
        "print(my_str)"
      ]
    },
    {
      "cell_type": "code",
      "execution_count": null,
      "id": "3a056f9a-1753-4994-96c5-827dfa813646",
      "metadata": {
        "id": "3a056f9a-1753-4994-96c5-827dfa813646",
        "outputId": "4fdfd92a-c773-4f3d-d8d9-2881b652cb18"
      },
      "outputs": [
        {
          "name": "stdout",
          "output_type": "stream",
          "text": [
            "#@Amit Kumar@#\n",
            "Amit Kumar\n"
          ]
        }
      ],
      "source": [
        "my_str='#@Amit Kumar@#'\n",
        "print(my_str)\n",
        "print(my_str.strip('#@'))"
      ]
    },
    {
      "cell_type": "code",
      "execution_count": null,
      "id": "1f63472c-8b53-4698-8a97-0c1d8a898035",
      "metadata": {
        "id": "1f63472c-8b53-4698-8a97-0c1d8a898035",
        "outputId": "50cc7444-0ebf-4877-ae36-35169a34ba98"
      },
      "outputs": [
        {
          "data": {
            "text/plain": [
              "'   Python class           '"
            ]
          },
          "execution_count": 184,
          "metadata": {},
          "output_type": "execute_result"
        }
      ],
      "source": [
        "my_str='   Python class           '\n",
        "my_str"
      ]
    },
    {
      "cell_type": "code",
      "execution_count": null,
      "id": "c9bbc1bc-35b4-4c68-a201-65ccf48693f5",
      "metadata": {
        "id": "c9bbc1bc-35b4-4c68-a201-65ccf48693f5",
        "outputId": "444db0f7-0082-4a35-f9d1-48c3936aa1e6"
      },
      "outputs": [
        {
          "data": {
            "text/plain": [
              "'Python class'"
            ]
          },
          "execution_count": 187,
          "metadata": {},
          "output_type": "execute_result"
        }
      ],
      "source": [
        "my_str.strip()"
      ]
    },
    {
      "cell_type": "markdown",
      "id": "d3000d69-ea89-4cb6-a1d0-dacf2f080256",
      "metadata": {
        "id": "d3000d69-ea89-4cb6-a1d0-dacf2f080256"
      },
      "source": [
        "# lstrip()"
      ]
    },
    {
      "cell_type": "code",
      "execution_count": null,
      "id": "f971bbdc-96ee-4da9-b364-aaca4a0b6506",
      "metadata": {
        "id": "f971bbdc-96ee-4da9-b364-aaca4a0b6506"
      },
      "outputs": [],
      "source": [
        "# - It removes the specified character from the left boundary of the string.\n",
        "# - By default it removes the space from the left boundary of the string.\n",
        "# - It does not make the changes in the existing string.\n",
        "# - It returns a new string."
      ]
    },
    {
      "cell_type": "code",
      "execution_count": null,
      "id": "4dabe83f-c6be-4a53-9172-23f4f1decb66",
      "metadata": {
        "id": "4dabe83f-c6be-4a53-9172-23f4f1decb66",
        "outputId": "3d1ec2e2-9306-4c9c-ea19-3f708f24d1c1"
      },
      "outputs": [
        {
          "name": "stdout",
          "output_type": "stream",
          "text": [
            "120$\n",
            "$120$\n"
          ]
        }
      ],
      "source": [
        "my_str='$120$'\n",
        "# Output- 120$\n",
        "\n",
        "print(my_str.lstrip('$'))\n",
        "print(my_str)"
      ]
    },
    {
      "cell_type": "code",
      "execution_count": null,
      "id": "bcd45b94-41f0-41ed-8155-600554eb2b2b",
      "metadata": {
        "id": "bcd45b94-41f0-41ed-8155-600554eb2b2b",
        "outputId": "59307304-3c26-4773-acb4-dc9159f83dad"
      },
      "outputs": [
        {
          "data": {
            "text/plain": [
              "'          Python class             '"
            ]
          },
          "execution_count": 196,
          "metadata": {},
          "output_type": "execute_result"
        }
      ],
      "source": [
        "my_str='          Python class             '\n",
        "my_str"
      ]
    },
    {
      "cell_type": "code",
      "execution_count": null,
      "id": "887d8828-229f-48e3-a47a-c4fd7621d833",
      "metadata": {
        "id": "887d8828-229f-48e3-a47a-c4fd7621d833",
        "outputId": "3a00b5af-83c4-4b13-ef70-83bee911c97f"
      },
      "outputs": [
        {
          "data": {
            "text/plain": [
              "'Python class             '"
            ]
          },
          "execution_count": 197,
          "metadata": {},
          "output_type": "execute_result"
        }
      ],
      "source": [
        "my_str.lstrip()"
      ]
    },
    {
      "cell_type": "markdown",
      "id": "8da50689-2f24-477f-a74b-894b5fb2665b",
      "metadata": {
        "id": "8da50689-2f24-477f-a74b-894b5fb2665b"
      },
      "source": [
        "# rstrip()"
      ]
    },
    {
      "cell_type": "code",
      "execution_count": null,
      "id": "c73a6c3c-2ef2-4862-bd5a-2c125754b814",
      "metadata": {
        "id": "c73a6c3c-2ef2-4862-bd5a-2c125754b814"
      },
      "outputs": [],
      "source": [
        "# - It removes the specified character from the right boundary of the string.\n",
        "# - By default it removes the space from the right boundary of the string.\n",
        "# - It does not make the changes in the existing string.\n",
        "# - It returns a new string."
      ]
    },
    {
      "cell_type": "code",
      "execution_count": null,
      "id": "b96cf858-f0d3-446d-8bbc-5bd8d0a5b340",
      "metadata": {
        "id": "b96cf858-f0d3-446d-8bbc-5bd8d0a5b340",
        "outputId": "7d31a9b6-de77-48d5-c50c-d394f076d67a"
      },
      "outputs": [
        {
          "name": "stdout",
          "output_type": "stream",
          "text": [
            "$150\n",
            "$150$\n"
          ]
        }
      ],
      "source": [
        "my_str='$150$'\n",
        "# Output- '$150'\n",
        "\n",
        "print(my_str.rstrip('$'))\n",
        "print(my_str)"
      ]
    },
    {
      "cell_type": "code",
      "execution_count": null,
      "id": "f16fae35-d503-483c-b06a-28d4215051e3",
      "metadata": {
        "id": "f16fae35-d503-483c-b06a-28d4215051e3",
        "outputId": "2f1f321b-3830-49a3-cef6-d5dd94e3ccf9"
      },
      "outputs": [
        {
          "data": {
            "text/plain": [
              "'          Python class            '"
            ]
          },
          "execution_count": 204,
          "metadata": {},
          "output_type": "execute_result"
        }
      ],
      "source": [
        "my_str='          Python class            '\n",
        "my_str"
      ]
    },
    {
      "cell_type": "code",
      "execution_count": null,
      "id": "1f81e9b9-653e-4103-9588-8f8c116e18f2",
      "metadata": {
        "id": "1f81e9b9-653e-4103-9588-8f8c116e18f2",
        "outputId": "f9435c3c-a4d7-4288-bc24-7c7c50e18122"
      },
      "outputs": [
        {
          "data": {
            "text/plain": [
              "'          Python class'"
            ]
          },
          "execution_count": 206,
          "metadata": {},
          "output_type": "execute_result"
        }
      ],
      "source": [
        "my_str.rstrip()"
      ]
    },
    {
      "cell_type": "code",
      "execution_count": null,
      "id": "ef4225ba-d4c1-48f1-a83d-0fd70de7883d",
      "metadata": {
        "id": "ef4225ba-d4c1-48f1-a83d-0fd70de7883d",
        "outputId": "4bf40356-899a-46f0-b364-a73da3286978"
      },
      "outputs": [
        {
          "ename": "ValueError",
          "evalue": "invalid literal for int() with base 10: '$150'",
          "output_type": "error",
          "traceback": [
            "\u001b[1;31m---------------------------------------------------------------------------\u001b[0m",
            "\u001b[1;31mValueError\u001b[0m                                Traceback (most recent call last)",
            "Cell \u001b[1;32mIn[210], line 2\u001b[0m\n\u001b[0;32m      1\u001b[0m price\u001b[38;5;241m=\u001b[39m\u001b[38;5;124m'\u001b[39m\u001b[38;5;124m$150\u001b[39m\u001b[38;5;124m'\u001b[39m\n\u001b[1;32m----> 2\u001b[0m \u001b[38;5;28mint\u001b[39m(price)\n",
            "\u001b[1;31mValueError\u001b[0m: invalid literal for int() with base 10: '$150'"
          ]
        }
      ],
      "source": [
        "price='$150'\n",
        "int(price)"
      ]
    },
    {
      "cell_type": "code",
      "execution_count": null,
      "id": "681506e7-ad3d-45c4-8d7c-022f61b75e63",
      "metadata": {
        "id": "681506e7-ad3d-45c4-8d7c-022f61b75e63",
        "outputId": "add5187f-1357-4d80-fb6d-f260895929ac"
      },
      "outputs": [
        {
          "name": "stdout",
          "output_type": "stream",
          "text": [
            "$150\n",
            "150 <class 'int'>\n",
            "750\n"
          ]
        }
      ],
      "source": [
        "price='$150'\n",
        "print(price)\n",
        "\n",
        "price=price.strip('$')\n",
        "price=int(price)\n",
        "print(price,type(price))\n",
        "\n",
        "quantity=5\n",
        "total_amt=price*quantity\n",
        "\n",
        "print(total_amt)"
      ]
    },
    {
      "cell_type": "markdown",
      "id": "4906726a-c82f-472d-92c3-5ca1f154afe7",
      "metadata": {
        "id": "4906726a-c82f-472d-92c3-5ca1f154afe7"
      },
      "source": [
        "# index()"
      ]
    },
    {
      "cell_type": "code",
      "execution_count": null,
      "id": "3270fc29-c2f8-40c0-8b9b-3427ab6bf19d",
      "metadata": {
        "id": "3270fc29-c2f8-40c0-8b9b-3427ab6bf19d"
      },
      "outputs": [],
      "source": [
        "# - It returns the index of the first occurence of the character or the substring from left to right.\n",
        "# - If the character or the substring is not found then it raises value error."
      ]
    },
    {
      "cell_type": "code",
      "execution_count": null,
      "id": "a9102f9c-1e8b-4d29-a12f-22af37e0f78f",
      "metadata": {
        "id": "a9102f9c-1e8b-4d29-a12f-22af37e0f78f"
      },
      "outputs": [],
      "source": [
        "# string.index('character')"
      ]
    },
    {
      "cell_type": "code",
      "execution_count": null,
      "id": "0e795d0e-bd79-4f26-a0d4-a1f2e397f3af",
      "metadata": {
        "id": "0e795d0e-bd79-4f26-a0d4-a1f2e397f3af",
        "outputId": "ed49a77d-224a-4aea-8d28-d4e087074dc3"
      },
      "outputs": [
        {
          "name": "stdout",
          "output_type": "stream",
          "text": [
            "1\n",
            "8\n",
            "12\n"
          ]
        }
      ],
      "source": [
        "my_str='We are learning Python programming'\n",
        "\n",
        "print(my_str.index('e'))\n",
        "print(my_str.index('ear'))\n",
        "print(my_str.index('in'))"
      ]
    },
    {
      "cell_type": "code",
      "execution_count": null,
      "id": "1e1a07de-748b-4505-b492-b12a579e9978",
      "metadata": {
        "id": "1e1a07de-748b-4505-b492-b12a579e9978",
        "outputId": "85e81237-d2ee-4072-d4e3-0dd883e27f0a"
      },
      "outputs": [
        {
          "ename": "ValueError",
          "evalue": "substring not found",
          "output_type": "error",
          "traceback": [
            "\u001b[1;31m---------------------------------------------------------------------------\u001b[0m",
            "\u001b[1;31mValueError\u001b[0m                                Traceback (most recent call last)",
            "Cell \u001b[1;32mIn[224], line 1\u001b[0m\n\u001b[1;32m----> 1\u001b[0m \u001b[38;5;28mprint\u001b[39m(my_str\u001b[38;5;241m.\u001b[39mindex(\u001b[38;5;124m'\u001b[39m\u001b[38;5;124mx\u001b[39m\u001b[38;5;124m'\u001b[39m))\n",
            "\u001b[1;31mValueError\u001b[0m: substring not found"
          ]
        }
      ],
      "source": [
        "print(my_str.index('x'))"
      ]
    },
    {
      "cell_type": "code",
      "execution_count": null,
      "id": "c5d98b30-27fc-458c-9ed0-980968658d2d",
      "metadata": {
        "id": "c5d98b30-27fc-458c-9ed0-980968658d2d",
        "outputId": "36bb33a1-4cd8-4cfb-8936-5a579bdbdc6a"
      },
      "outputs": [
        {
          "ename": "ValueError",
          "evalue": "substring not found",
          "output_type": "error",
          "traceback": [
            "\u001b[1;31m---------------------------------------------------------------------------\u001b[0m",
            "\u001b[1;31mValueError\u001b[0m                                Traceback (most recent call last)",
            "Cell \u001b[1;32mIn[225], line 1\u001b[0m\n\u001b[1;32m----> 1\u001b[0m \u001b[38;5;28mprint\u001b[39m(my_str\u001b[38;5;241m.\u001b[39mindex(\u001b[38;5;124m'\u001b[39m\u001b[38;5;124mJava\u001b[39m\u001b[38;5;124m'\u001b[39m))\n",
            "\u001b[1;31mValueError\u001b[0m: substring not found"
          ]
        }
      ],
      "source": [
        "print(my_str.index('Java'))"
      ]
    },
    {
      "cell_type": "code",
      "execution_count": null,
      "id": "af015ae5-46b6-46e8-9119-e614b342d8dc",
      "metadata": {
        "id": "af015ae5-46b6-46e8-9119-e614b342d8dc"
      },
      "outputs": [],
      "source": [
        "# my_str.index('character',start_index)"
      ]
    },
    {
      "cell_type": "code",
      "execution_count": null,
      "id": "f1fb545d-2346-4456-ad98-9b271bc4368f",
      "metadata": {
        "id": "f1fb545d-2346-4456-ad98-9b271bc4368f",
        "outputId": "99bae5e2-622b-4eed-ab1b-370f6e42b740"
      },
      "outputs": [
        {
          "name": "stdout",
          "output_type": "stream",
          "text": [
            "5\n",
            "16\n",
            "23\n"
          ]
        },
        {
          "ename": "ValueError",
          "evalue": "substring not found",
          "output_type": "error",
          "traceback": [
            "\u001b[1;31m---------------------------------------------------------------------------\u001b[0m",
            "\u001b[1;31mValueError\u001b[0m                                Traceback (most recent call last)",
            "Cell \u001b[1;32mIn[234], line 10\u001b[0m\n\u001b[0;32m      7\u001b[0m \u001b[38;5;28mprint\u001b[39m(my_str\u001b[38;5;241m.\u001b[39mindex(\u001b[38;5;124m'\u001b[39m\u001b[38;5;124mp\u001b[39m\u001b[38;5;124m'\u001b[39m))\n\u001b[0;32m      8\u001b[0m \u001b[38;5;28mprint\u001b[39m(my_str\u001b[38;5;241m.\u001b[39mindex(\u001b[38;5;124m'\u001b[39m\u001b[38;5;124mp\u001b[39m\u001b[38;5;124m'\u001b[39m,\u001b[38;5;241m17\u001b[39m))\n\u001b[1;32m---> 10\u001b[0m \u001b[38;5;28mprint\u001b[39m(my_str\u001b[38;5;241m.\u001b[39mindex(\u001b[38;5;124m'\u001b[39m\u001b[38;5;124mp\u001b[39m\u001b[38;5;124m'\u001b[39m,\u001b[38;5;241m24\u001b[39m))\n",
            "\u001b[1;31mValueError\u001b[0m: substring not found"
          ]
        }
      ],
      "source": [
        "my_str='We are learning python programming'\n",
        "\n",
        "# Get the index of the second 'e'\n",
        "\n",
        "print(my_str.index('e',2))\n",
        "\n",
        "print(my_str.index('p'))\n",
        "print(my_str.index('p',17))\n",
        "\n",
        "print(my_str.index('p',24))"
      ]
    },
    {
      "cell_type": "code",
      "execution_count": null,
      "id": "44c079ba-05c4-48c1-95b5-562821b95c34",
      "metadata": {
        "id": "44c079ba-05c4-48c1-95b5-562821b95c34"
      },
      "outputs": [],
      "source": [
        "# my_str.index('character',start_index,stop_index)\n",
        "# stop_index is exluded"
      ]
    },
    {
      "cell_type": "code",
      "execution_count": null,
      "id": "638075e9-13ca-44ae-9bb1-3f57b571e741",
      "metadata": {
        "id": "638075e9-13ca-44ae-9bb1-3f57b571e741",
        "outputId": "965da07b-bd88-4868-f7dd-b3ce81ef586f"
      },
      "outputs": [
        {
          "name": "stdout",
          "output_type": "stream",
          "text": [
            "8\n",
            "8\n"
          ]
        }
      ],
      "source": [
        "my_str='We are learning python programming'\n",
        "\n",
        "print(my_str.index('e',6,10))\n",
        "print(my_str.index('e',6,9))"
      ]
    },
    {
      "cell_type": "markdown",
      "id": "53292ec6-5c1e-492a-919a-c21d9ad3f7db",
      "metadata": {
        "id": "53292ec6-5c1e-492a-919a-c21d9ad3f7db"
      },
      "source": [
        "# find()"
      ]
    },
    {
      "cell_type": "code",
      "execution_count": null,
      "id": "c0c621d8-f261-4ee8-92b1-bf797bcefb69",
      "metadata": {
        "id": "c0c621d8-f261-4ee8-92b1-bf797bcefb69"
      },
      "outputs": [],
      "source": [
        "# - It returns the index of the first occurence of the character or the substring from left to right.\n",
        "# - If the character or the substring is not found then it returns -1."
      ]
    },
    {
      "cell_type": "code",
      "execution_count": null,
      "id": "6c984903-76dd-4b71-bb93-273fc9922b2a",
      "metadata": {
        "id": "6c984903-76dd-4b71-bb93-273fc9922b2a"
      },
      "outputs": [],
      "source": [
        "# string.find('character')\n",
        "# string.find('character',start_index)\n",
        "# string.find('character',start_index,stop_index)"
      ]
    },
    {
      "cell_type": "code",
      "execution_count": null,
      "id": "5bbd093e-da24-42ed-9b4a-1cc0762ecc18",
      "metadata": {
        "id": "5bbd093e-da24-42ed-9b4a-1cc0762ecc18",
        "outputId": "5bc8a84c-0fa5-4a74-ee38-db90a9f2e80b"
      },
      "outputs": [
        {
          "name": "stdout",
          "output_type": "stream",
          "text": [
            "1\n",
            "5\n",
            "-1\n",
            "8\n"
          ]
        }
      ],
      "source": [
        "my_str='We are learning python programming'\n",
        "\n",
        "print(my_str.find('e'))\n",
        "print(my_str.find('e',2))\n",
        "print(my_str.find('e',6,8))\n",
        "print(my_str.find('e',6,9))"
      ]
    },
    {
      "cell_type": "code",
      "execution_count": null,
      "id": "732f8397-7a26-4384-88ea-dffedf0c97a5",
      "metadata": {
        "id": "732f8397-7a26-4384-88ea-dffedf0c97a5",
        "outputId": "6c4b42b3-c65c-46c7-8517-cffdc497bcaa"
      },
      "outputs": [
        {
          "name": "stdout",
          "output_type": "stream",
          "text": [
            "-1\n"
          ]
        }
      ],
      "source": [
        "print(my_str.find('x'))"
      ]
    },
    {
      "cell_type": "markdown",
      "id": "4b1e9c03-8c45-4f66-aae8-f85325eea143",
      "metadata": {
        "id": "4b1e9c03-8c45-4f66-aae8-f85325eea143"
      },
      "source": [
        "# rfind()"
      ]
    },
    {
      "cell_type": "code",
      "execution_count": null,
      "id": "c7ec9cb5-5608-4a72-baeb-394650540e71",
      "metadata": {
        "id": "c7ec9cb5-5608-4a72-baeb-394650540e71"
      },
      "outputs": [],
      "source": [
        "# - It reads the dtring from right to left.\n",
        "# - It returns the index of the first occurence of the character or substring.\n",
        "# - Note- It returns the actual index.\n",
        "# - If the character or the substring is not found then it returns -1."
      ]
    },
    {
      "cell_type": "code",
      "execution_count": null,
      "id": "58e44539-6614-4083-86c5-50fc6701ab81",
      "metadata": {
        "id": "58e44539-6614-4083-86c5-50fc6701ab81"
      },
      "outputs": [],
      "source": [
        "# string.rfind('character')\n",
        "# string.rfind('character',start_index)\n",
        "# string.rfind('character',start_index,stop_index)"
      ]
    },
    {
      "cell_type": "code",
      "execution_count": null,
      "id": "764cb560-9057-41b7-8670-d54df0ca694e",
      "metadata": {
        "id": "764cb560-9057-41b7-8670-d54df0ca694e",
        "outputId": "33b6c3a4-a087-4bbe-86a9-81d9157f1f6b"
      },
      "outputs": [
        {
          "name": "stdout",
          "output_type": "stream",
          "text": [
            "32\n",
            "8\n",
            "28\n",
            "-1\n"
          ]
        }
      ],
      "source": [
        "my_str='We are learning python programming'\n",
        "\n",
        "print(my_str.rfind('n'))\n",
        "print(my_str.rfind('e',2,9))\n",
        "print(my_str.rfind('a'))\n",
        "print(my_str.rfind('a',29))"
      ]
    },
    {
      "cell_type": "code",
      "execution_count": null,
      "id": "bd5bb409-749a-448e-8f2f-3a8098d359da",
      "metadata": {
        "id": "bd5bb409-749a-448e-8f2f-3a8098d359da",
        "outputId": "14bef077-bcb8-40e9-c526-b41008859d26"
      },
      "outputs": [
        {
          "data": {
            "text/plain": [
              "34"
            ]
          },
          "execution_count": 256,
          "metadata": {},
          "output_type": "execute_result"
        }
      ],
      "source": [
        "len(my_str)"
      ]
    },
    {
      "cell_type": "markdown",
      "id": "16d36107-a6ae-4374-b3da-bbbc5cdecfbe",
      "metadata": {
        "id": "16d36107-a6ae-4374-b3da-bbbc5cdecfbe"
      },
      "source": [
        "# ljust, rjust and center"
      ]
    },
    {
      "cell_type": "markdown",
      "id": "8fb19137-af38-4555-8bb5-e5564f65fd3b",
      "metadata": {
        "id": "8fb19137-af38-4555-8bb5-e5564f65fd3b"
      },
      "source": [
        "## ljust"
      ]
    },
    {
      "cell_type": "code",
      "execution_count": null,
      "id": "c3e3559e-5b32-476c-a364-b5889386b97b",
      "metadata": {
        "id": "c3e3559e-5b32-476c-a364-b5889386b97b"
      },
      "outputs": [],
      "source": [
        "# - It shifts the string to the left side by the specified number of characters.\n",
        "# - It reads the string left to right.\n",
        "# - To shift the string to the left, it adds the specified character to the right side of the string."
      ]
    },
    {
      "cell_type": "code",
      "execution_count": null,
      "id": "f9412cfc-fb63-45ac-a0a2-629787ce47fd",
      "metadata": {
        "id": "f9412cfc-fb63-45ac-a0a2-629787ce47fd"
      },
      "outputs": [],
      "source": [
        "# string.ljust(length,'character')\n",
        "# - The length should be the length of the resultant string."
      ]
    },
    {
      "cell_type": "code",
      "execution_count": null,
      "id": "0b735462-a6fd-4144-962d-4d9e2342500c",
      "metadata": {
        "id": "0b735462-a6fd-4144-962d-4d9e2342500c",
        "outputId": "d6682994-d0bf-4ca9-d43c-9f40ac2543f1"
      },
      "outputs": [
        {
          "name": "stdout",
          "output_type": "stream",
          "text": [
            "Python****\n",
            "Python****\n"
          ]
        }
      ],
      "source": [
        "my_str='Python'\n",
        "# Output- 'Python****'\n",
        "\n",
        "print(my_str.ljust(10,'*'))\n",
        "print(my_str.ljust(len(my_str)+4,'*'))"
      ]
    },
    {
      "cell_type": "markdown",
      "id": "8e83109b-7929-41f4-a8b8-6743ccbee126",
      "metadata": {
        "id": "8e83109b-7929-41f4-a8b8-6743ccbee126"
      },
      "source": [
        "# rjust()"
      ]
    },
    {
      "cell_type": "code",
      "execution_count": null,
      "id": "8cc11f71-140b-40d6-9544-9d5247c2b3d4",
      "metadata": {
        "id": "8cc11f71-140b-40d6-9544-9d5247c2b3d4"
      },
      "outputs": [],
      "source": [
        "# - It shifts the string to the right side by the specified number of characters.\n",
        "# - It reads the string right to left.\n",
        "# - To shift the string to the right, it adds the specified character to the left side of the string."
      ]
    },
    {
      "cell_type": "code",
      "execution_count": null,
      "id": "fa25290a-5af8-4e3a-8f0e-348d1599eee7",
      "metadata": {
        "id": "fa25290a-5af8-4e3a-8f0e-348d1599eee7"
      },
      "outputs": [],
      "source": [
        "# string.rjust(length,'character')\n",
        "# - The length should be the length of the resultant string."
      ]
    },
    {
      "cell_type": "code",
      "execution_count": null,
      "id": "1c8f1f78-87f8-4d3e-a812-1f39b42803d6",
      "metadata": {
        "id": "1c8f1f78-87f8-4d3e-a812-1f39b42803d6",
        "outputId": "94393b68-a38f-4db5-87af-2ac9b742f2ca"
      },
      "outputs": [
        {
          "name": "stdout",
          "output_type": "stream",
          "text": [
            "***Python class\n"
          ]
        }
      ],
      "source": [
        "my_str='Python class'\n",
        "# Output- '***Python class'\n",
        "\n",
        "print(my_str.rjust(len(my_str)+3,'*'))"
      ]
    },
    {
      "cell_type": "markdown",
      "id": "83b4396f-5bf3-4d71-b39a-03033f6db3da",
      "metadata": {
        "id": "83b4396f-5bf3-4d71-b39a-03033f6db3da"
      },
      "source": [
        "# center()"
      ]
    },
    {
      "cell_type": "code",
      "execution_count": null,
      "id": "31c428c7-ab1d-4c4d-8933-c00787a0f2f7",
      "metadata": {
        "id": "31c428c7-ab1d-4c4d-8933-c00787a0f2f7"
      },
      "outputs": [],
      "source": [
        "# - It shifts the string in the center.\n",
        "# - To shift the in the center, it adds the characters on both sides."
      ]
    },
    {
      "cell_type": "code",
      "execution_count": null,
      "id": "a137c21e-e18b-4c61-a246-fa777ec00976",
      "metadata": {
        "id": "a137c21e-e18b-4c61-a246-fa777ec00976"
      },
      "outputs": [],
      "source": [
        "# string.center(length,'character')\n",
        "# - The length should be the length of the resultant string."
      ]
    },
    {
      "cell_type": "code",
      "execution_count": null,
      "id": "fcd27399-7ba7-46ca-afa4-3c2d0025a340",
      "metadata": {
        "id": "fcd27399-7ba7-46ca-afa4-3c2d0025a340",
        "outputId": "35394be7-779c-412a-f8e4-abaaaf006fc9"
      },
      "outputs": [
        {
          "name": "stdout",
          "output_type": "stream",
          "text": [
            "**Python**\n",
            "***Python**\n"
          ]
        }
      ],
      "source": [
        "my_str='Python'\n",
        "# Output- '**Python**'\n",
        "\n",
        "print(my_str.center(len(my_str)+4,'*'))\n",
        "print(my_str.center(len(my_str)+5,'*'))"
      ]
    },
    {
      "cell_type": "code",
      "execution_count": null,
      "id": "068e0c2f-52a5-4b62-901c-2b1d4fea7f0d",
      "metadata": {
        "id": "068e0c2f-52a5-4b62-901c-2b1d4fea7f0d",
        "outputId": "a7620cd3-a02f-47b5-888e-5503cc109c24"
      },
      "outputs": [
        {
          "name": "stdout",
          "output_type": "stream",
          "text": [
            "**Happy**\n",
            "**Happy***\n"
          ]
        }
      ],
      "source": [
        "my_str='Happy'\n",
        "print(my_str.center(len(my_str)+4,'*'))\n",
        "print(my_str.center(len(my_str)+5,'*'))"
      ]
    },
    {
      "cell_type": "code",
      "execution_count": null,
      "id": "3e0cf438-d6f5-443f-87fe-bde65f6b17da",
      "metadata": {
        "id": "3e0cf438-d6f5-443f-87fe-bde65f6b17da",
        "outputId": "0ade44aa-ea94-47e4-a382-55a5bc1fdcd0"
      },
      "outputs": [
        {
          "name": "stdout",
          "output_type": "stream",
          "text": [
            "***Happy**\n"
          ]
        }
      ],
      "source": [
        "my_str='Happy'\n",
        "# Output- '***Happy**'\n",
        "\n",
        "print(my_str.ljust(len(my_str)+2,'*').rjust(len(my_str)+2+3,'*'))"
      ]
    },
    {
      "cell_type": "markdown",
      "id": "da487f7a-c3ed-49d2-873a-8ef700ce5a1f",
      "metadata": {
        "id": "da487f7a-c3ed-49d2-873a-8ef700ce5a1f"
      },
      "source": [
        "# isalnum()"
      ]
    },
    {
      "cell_type": "code",
      "execution_count": null,
      "id": "980e4b32-6c70-48cf-8b3f-268c7354e59d",
      "metadata": {
        "id": "980e4b32-6c70-48cf-8b3f-268c7354e59d"
      },
      "outputs": [],
      "source": [
        "# - If all the characters in a string are alphanumeric characters then it returns True else False.\n",
        "# - Alphanumeric characters -> (A-Z, a-z, 0-9)"
      ]
    },
    {
      "cell_type": "code",
      "execution_count": null,
      "id": "a0ef52f3-64df-4b5a-bac9-30a21e13a7f0",
      "metadata": {
        "id": "a0ef52f3-64df-4b5a-bac9-30a21e13a7f0",
        "outputId": "32b0d082-cda7-4814-a2de-afbb647d4ef7"
      },
      "outputs": [
        {
          "name": "stdout",
          "output_type": "stream",
          "text": [
            "True\n"
          ]
        }
      ],
      "source": [
        "my_str='Python'\n",
        "print(my_str.isalnum())"
      ]
    },
    {
      "cell_type": "code",
      "execution_count": null,
      "id": "6cd47ca5-3063-48c7-b7dc-828628fc0235",
      "metadata": {
        "id": "6cd47ca5-3063-48c7-b7dc-828628fc0235",
        "outputId": "4accddaa-c14c-441d-f2b1-14d4f36abdc7"
      },
      "outputs": [
        {
          "name": "stdout",
          "output_type": "stream",
          "text": [
            "True\n"
          ]
        }
      ],
      "source": [
        "my_str='Python1234'\n",
        "print(my_str.isalnum())"
      ]
    },
    {
      "cell_type": "code",
      "execution_count": null,
      "id": "d5bd1dde-e4ea-4915-8950-ffe377306222",
      "metadata": {
        "id": "d5bd1dde-e4ea-4915-8950-ffe377306222",
        "outputId": "7e41248c-915c-4463-b3a5-314f6af8d6c2"
      },
      "outputs": [
        {
          "name": "stdout",
          "output_type": "stream",
          "text": [
            "False\n"
          ]
        }
      ],
      "source": [
        "my_str='Python class'\n",
        "print(my_str.isalnum())"
      ]
    },
    {
      "cell_type": "code",
      "execution_count": null,
      "id": "333602e2-90ed-4d43-8014-8657a7af74db",
      "metadata": {
        "id": "333602e2-90ed-4d43-8014-8657a7af74db",
        "outputId": "521dc959-7d58-4e0d-ce01-8ac6748f0914"
      },
      "outputs": [
        {
          "name": "stdout",
          "output_type": "stream",
          "text": [
            "False\n"
          ]
        }
      ],
      "source": [
        "my_str='Python!@@#4'\n",
        "print(my_str.isalnum())"
      ]
    },
    {
      "cell_type": "code",
      "execution_count": null,
      "id": "ef65b71f-102a-47c1-9355-0b008a52b323",
      "metadata": {
        "id": "ef65b71f-102a-47c1-9355-0b008a52b323",
        "outputId": "4212aa8c-c54e-47b5-8492-817a056eb25f"
      },
      "outputs": [
        {
          "name": "stdout",
          "output_type": "stream",
          "text": [
            "True\n"
          ]
        }
      ],
      "source": [
        "my_str='PythonCLASS'\n",
        "print(my_str.isalnum())"
      ]
    },
    {
      "cell_type": "markdown",
      "id": "c8334056-05a9-48bd-9fce-c79e5c28a958",
      "metadata": {
        "id": "c8334056-05a9-48bd-9fce-c79e5c28a958"
      },
      "source": [
        "# isalpha()"
      ]
    },
    {
      "cell_type": "code",
      "execution_count": null,
      "id": "cbf4a174-4750-40b4-989f-9480af557c77",
      "metadata": {
        "id": "cbf4a174-4750-40b4-989f-9480af557c77"
      },
      "outputs": [],
      "source": [
        "# - If all the characters in a string are the alphabets then it returns True else False."
      ]
    },
    {
      "cell_type": "code",
      "execution_count": null,
      "id": "ec7636f8-1f5f-45dc-a3b1-c0655c57d011",
      "metadata": {
        "id": "ec7636f8-1f5f-45dc-a3b1-c0655c57d011",
        "outputId": "3bfd4290-8db1-493a-d448-4356a534f3c6"
      },
      "outputs": [
        {
          "name": "stdout",
          "output_type": "stream",
          "text": [
            "True\n"
          ]
        }
      ],
      "source": [
        "my_str='Python'\n",
        "print(my_str.isalpha())"
      ]
    },
    {
      "cell_type": "code",
      "execution_count": null,
      "id": "7e0aacf8-578a-4761-b993-8bd75de87785",
      "metadata": {
        "id": "7e0aacf8-578a-4761-b993-8bd75de87785",
        "outputId": "4f397fe5-95d5-4ca2-a568-d2c7b93121bb"
      },
      "outputs": [
        {
          "name": "stdout",
          "output_type": "stream",
          "text": [
            "True\n"
          ]
        }
      ],
      "source": [
        "my_str='PYTHONclass'\n",
        "print(my_str.isalpha())"
      ]
    },
    {
      "cell_type": "code",
      "execution_count": null,
      "id": "ef953137-417b-4631-9265-c647874213ea",
      "metadata": {
        "id": "ef953137-417b-4631-9265-c647874213ea",
        "outputId": "f7179064-e6d3-4824-ff8d-740d33179539"
      },
      "outputs": [
        {
          "name": "stdout",
          "output_type": "stream",
          "text": [
            "False\n"
          ]
        }
      ],
      "source": [
        "my_str='Python class'\n",
        "print(my_str.isalpha())"
      ]
    },
    {
      "cell_type": "code",
      "execution_count": null,
      "id": "f4a1f034-475d-4148-81de-6597938db543",
      "metadata": {
        "id": "f4a1f034-475d-4148-81de-6597938db543",
        "outputId": "6a280946-c8ae-4708-d050-7ea8340e89c5"
      },
      "outputs": [
        {
          "name": "stdout",
          "output_type": "stream",
          "text": [
            "False\n"
          ]
        }
      ],
      "source": [
        "my_str='Python123'\n",
        "print(my_str.isalpha())"
      ]
    },
    {
      "cell_type": "code",
      "execution_count": null,
      "id": "569b4588-99ff-4899-98f7-44551f54583f",
      "metadata": {
        "id": "569b4588-99ff-4899-98f7-44551f54583f",
        "outputId": "6a5ce7da-66eb-477a-b8a7-79cb81ebbbf2"
      },
      "outputs": [
        {
          "name": "stdout",
          "output_type": "stream",
          "text": [
            "False\n"
          ]
        }
      ],
      "source": [
        "my_str='Python!@#@$'\n",
        "print(my_str.isalpha())"
      ]
    },
    {
      "cell_type": "markdown",
      "id": "b4164c46-0f41-43ae-ad11-0474d97cabec",
      "metadata": {
        "id": "b4164c46-0f41-43ae-ad11-0474d97cabec"
      },
      "source": [
        "# istitle()"
      ]
    },
    {
      "cell_type": "code",
      "execution_count": null,
      "id": "ea7b811c-88b5-43e8-9d26-968405b3d9b8",
      "metadata": {
        "id": "ea7b811c-88b5-43e8-9d26-968405b3d9b8"
      },
      "outputs": [],
      "source": [
        "# - If a string is in title case then it returns True else False."
      ]
    },
    {
      "cell_type": "code",
      "execution_count": null,
      "id": "6a84e817-2618-42af-8d08-20d8f81b15b3",
      "metadata": {
        "id": "6a84e817-2618-42af-8d08-20d8f81b15b3",
        "outputId": "a86790e8-a258-4533-8eeb-ccfa438b54be"
      },
      "outputs": [
        {
          "name": "stdout",
          "output_type": "stream",
          "text": [
            "True\n"
          ]
        }
      ],
      "source": [
        "my_str='This Is Python Class'\n",
        "print(my_str.istitle())"
      ]
    },
    {
      "cell_type": "code",
      "execution_count": null,
      "id": "227c5025-1a09-40a3-a866-7dc0e2da403a",
      "metadata": {
        "id": "227c5025-1a09-40a3-a866-7dc0e2da403a",
        "outputId": "53baf4ef-95a6-4184-cb42-7b84db374ef3"
      },
      "outputs": [
        {
          "name": "stdout",
          "output_type": "stream",
          "text": [
            "False\n"
          ]
        }
      ],
      "source": [
        "my_str='This is Python Class'\n",
        "print(my_str.istitle())"
      ]
    },
    {
      "cell_type": "code",
      "execution_count": null,
      "id": "141a78f7-590d-4ff4-81ec-78b9a3672862",
      "metadata": {
        "id": "141a78f7-590d-4ff4-81ec-78b9a3672862",
        "outputId": "f2b12759-1df5-4163-9649-8f6ef2c9707e"
      },
      "outputs": [
        {
          "name": "stdout",
          "output_type": "stream",
          "text": [
            "False\n"
          ]
        }
      ],
      "source": [
        "my_str='!@@#This Is1235 Pyt@#$#%hon Class'\n",
        "print(my_str.istitle())"
      ]
    },
    {
      "cell_type": "code",
      "execution_count": null,
      "id": "2c36dd32-7912-4e0b-8b31-0e518d2dbb5d",
      "metadata": {
        "id": "2c36dd32-7912-4e0b-8b31-0e518d2dbb5d",
        "outputId": "9a4622cb-19cb-4276-9109-78c864417bb9"
      },
      "outputs": [
        {
          "name": "stdout",
          "output_type": "stream",
          "text": [
            "True\n"
          ]
        }
      ],
      "source": [
        "my_str='!@@#This Is1235 Pyt@#$#%Hon Class'\n",
        "print(my_str.istitle())"
      ]
    },
    {
      "cell_type": "markdown",
      "id": "6e3f1f8f-8471-4f8b-bd85-4ddaeb30aa14",
      "metadata": {
        "id": "6e3f1f8f-8471-4f8b-bd85-4ddaeb30aa14"
      },
      "source": [
        "# isupper()"
      ]
    },
    {
      "cell_type": "code",
      "execution_count": null,
      "id": "6e8dd5c5-5717-476b-892f-b76234ceebff",
      "metadata": {
        "id": "6e8dd5c5-5717-476b-892f-b76234ceebff"
      },
      "outputs": [],
      "source": [
        "# - If all the alphabets in a string are in upper case then it returns True else False."
      ]
    },
    {
      "cell_type": "code",
      "execution_count": null,
      "id": "b6215864-f5b3-4d99-a405-fa999f054ea9",
      "metadata": {
        "id": "b6215864-f5b3-4d99-a405-fa999f054ea9",
        "outputId": "afc993d7-311f-488c-decc-ffb69b19595c"
      },
      "outputs": [
        {
          "name": "stdout",
          "output_type": "stream",
          "text": [
            "True\n"
          ]
        }
      ],
      "source": [
        "my_str='PYTHON'\n",
        "print(my_str.isupper())"
      ]
    },
    {
      "cell_type": "code",
      "execution_count": null,
      "id": "d4caeb8a-23e6-4030-b591-6ab80f9b7ba8",
      "metadata": {
        "id": "d4caeb8a-23e6-4030-b591-6ab80f9b7ba8",
        "outputId": "7c9c9015-a911-4aab-81d1-b275c2b05f57"
      },
      "outputs": [
        {
          "name": "stdout",
          "output_type": "stream",
          "text": [
            "True\n"
          ]
        }
      ],
      "source": [
        "my_str='PYTHON CLASS'\n",
        "print(my_str.isupper())"
      ]
    },
    {
      "cell_type": "code",
      "execution_count": null,
      "id": "2b793dec-6ed8-42f2-8a36-07cfa107ba61",
      "metadata": {
        "id": "2b793dec-6ed8-42f2-8a36-07cfa107ba61",
        "outputId": "ac5f3858-4c3c-40a9-c906-69a5aac1f507"
      },
      "outputs": [
        {
          "name": "stdout",
          "output_type": "stream",
          "text": [
            "True\n"
          ]
        }
      ],
      "source": [
        "my_str='PYTHON CLASS12345'\n",
        "print(my_str.isupper())"
      ]
    },
    {
      "cell_type": "code",
      "execution_count": null,
      "id": "5daea556-9b30-4e06-8036-a79635f00177",
      "metadata": {
        "id": "5daea556-9b30-4e06-8036-a79635f00177",
        "outputId": "8903f111-d544-4e22-f5e8-5cae26f4cbcf"
      },
      "outputs": [
        {
          "name": "stdout",
          "output_type": "stream",
          "text": [
            "True\n"
          ]
        }
      ],
      "source": [
        "my_str='PYTHON#@#$ CL3%$^^&A234S456S'\n",
        "print(my_str.isupper())"
      ]
    },
    {
      "cell_type": "code",
      "execution_count": null,
      "id": "0be0880f-830a-4fb8-b659-9ce8b2e4dad0",
      "metadata": {
        "id": "0be0880f-830a-4fb8-b659-9ce8b2e4dad0",
        "outputId": "43c89341-53df-453b-c93b-a79712a800f1"
      },
      "outputs": [
        {
          "name": "stdout",
          "output_type": "stream",
          "text": [
            "False\n"
          ]
        }
      ],
      "source": [
        "my_str='PYTHON CLAsS'\n",
        "print(my_str.isupper())"
      ]
    },
    {
      "cell_type": "markdown",
      "id": "1ea34de1-49af-4481-bae9-4e3c35fb8192",
      "metadata": {
        "id": "1ea34de1-49af-4481-bae9-4e3c35fb8192"
      },
      "source": [
        "# islower()"
      ]
    },
    {
      "cell_type": "code",
      "execution_count": null,
      "id": "720aceff-fab3-4165-9547-997f0601a3ef",
      "metadata": {
        "id": "720aceff-fab3-4165-9547-997f0601a3ef"
      },
      "outputs": [],
      "source": [
        "# - If all the alphabets in a string are in lower case then it returns True else False."
      ]
    },
    {
      "cell_type": "code",
      "execution_count": null,
      "id": "b512d27c-8b19-4f48-90ac-e7fef2d41721",
      "metadata": {
        "id": "b512d27c-8b19-4f48-90ac-e7fef2d41721",
        "outputId": "a7b70399-d572-42cb-ab26-4955de591cda"
      },
      "outputs": [
        {
          "name": "stdout",
          "output_type": "stream",
          "text": [
            "True\n"
          ]
        }
      ],
      "source": [
        "my_str='hello'\n",
        "print(my_str.islower())"
      ]
    },
    {
      "cell_type": "code",
      "execution_count": null,
      "id": "e87dcb36-c4dd-4e15-a3e4-d71dbbcd561c",
      "metadata": {
        "id": "e87dcb36-c4dd-4e15-a3e4-d71dbbcd561c",
        "outputId": "a85b4891-f90d-4f65-da57-f497f59556bc"
      },
      "outputs": [
        {
          "name": "stdout",
          "output_type": "stream",
          "text": [
            "True\n"
          ]
        }
      ],
      "source": [
        "my_str='hello122324'\n",
        "print(my_str.islower())"
      ]
    },
    {
      "cell_type": "code",
      "execution_count": null,
      "id": "b1ca2524-9f93-4a7f-b89d-8ead8bdca67f",
      "metadata": {
        "id": "b1ca2524-9f93-4a7f-b89d-8ead8bdca67f",
        "outputId": "be23b3a6-396f-4288-cb3b-6c446a16a446"
      },
      "outputs": [
        {
          "name": "stdout",
          "output_type": "stream",
          "text": [
            "True\n"
          ]
        }
      ],
      "source": [
        "my_str='hello!#@$2324535'\n",
        "print(my_str.islower())"
      ]
    },
    {
      "cell_type": "code",
      "execution_count": null,
      "id": "908fca35-372c-46db-a6ff-0f6a654d72c5",
      "metadata": {
        "id": "908fca35-372c-46db-a6ff-0f6a654d72c5",
        "outputId": "76bc88e3-57d7-445f-9121-58cc3bf3afb5"
      },
      "outputs": [
        {
          "name": "stdout",
          "output_type": "stream",
          "text": [
            "False\n"
          ]
        }
      ],
      "source": [
        "my_str='Hello'\n",
        "print(my_str.islower())"
      ]
    },
    {
      "cell_type": "markdown",
      "id": "059494fe-1960-4a9e-b9c7-67d1670fe75f",
      "metadata": {
        "id": "059494fe-1960-4a9e-b9c7-67d1670fe75f"
      },
      "source": [
        "# isidentifier()"
      ]
    },
    {
      "cell_type": "code",
      "execution_count": null,
      "id": "64cf2844-d7d1-4da0-b824-413276e7a2aa",
      "metadata": {
        "id": "64cf2844-d7d1-4da0-b824-413276e7a2aa"
      },
      "outputs": [],
      "source": [
        "# - If the characters in a string repreent a valid identifier then it returns True else False."
      ]
    },
    {
      "cell_type": "markdown",
      "id": "ed34fa80-729f-42c0-8cf4-ee46faa9c902",
      "metadata": {
        "id": "ed34fa80-729f-42c0-8cf4-ee46faa9c902"
      },
      "source": [
        "### Properties of a valid identifier"
      ]
    },
    {
      "cell_type": "code",
      "execution_count": null,
      "id": "0fe4a378-f0db-4fa2-af65-8c594f5c2aa1",
      "metadata": {
        "id": "0fe4a378-f0db-4fa2-af65-8c594f5c2aa1"
      },
      "outputs": [],
      "source": [
        "# - It may use alphabets, numbers and _.\n",
        "# - Space and special characters are not allowed.\n",
        "# - It may have a digit but should not begin with a digit.\n",
        "# - _ can be taken as identifier."
      ]
    },
    {
      "cell_type": "code",
      "execution_count": null,
      "id": "9513b9be-a68e-4148-bb74-8b5038f53584",
      "metadata": {
        "id": "9513b9be-a68e-4148-bb74-8b5038f53584"
      },
      "outputs": [],
      "source": [
        "abc=10"
      ]
    },
    {
      "cell_type": "code",
      "execution_count": null,
      "id": "cabda95a-583d-48ba-bb9f-1f3a8ed33d43",
      "metadata": {
        "id": "cabda95a-583d-48ba-bb9f-1f3a8ed33d43",
        "outputId": "9efad099-c101-4928-e936-c01c04d98ef6"
      },
      "outputs": [
        {
          "name": "stdout",
          "output_type": "stream",
          "text": [
            "True\n"
          ]
        }
      ],
      "source": [
        "my_str='abc'\n",
        "print(my_str.isidentifier())"
      ]
    },
    {
      "cell_type": "code",
      "execution_count": null,
      "id": "820c6d0a-6b7d-46cf-9eba-23438656455c",
      "metadata": {
        "id": "820c6d0a-6b7d-46cf-9eba-23438656455c"
      },
      "outputs": [],
      "source": [
        "a4='Hello'"
      ]
    },
    {
      "cell_type": "code",
      "execution_count": null,
      "id": "c6887357-8726-4818-b54c-eb8f74fe2f41",
      "metadata": {
        "id": "c6887357-8726-4818-b54c-eb8f74fe2f41",
        "outputId": "c3f7a0f9-d069-425a-fe51-17edab9173f6"
      },
      "outputs": [
        {
          "name": "stdout",
          "output_type": "stream",
          "text": [
            "True\n"
          ]
        }
      ],
      "source": [
        "print('a4'.isidentifier())"
      ]
    },
    {
      "cell_type": "code",
      "execution_count": null,
      "id": "6266834d-e407-4f2d-9939-ed3ddec3feca",
      "metadata": {
        "id": "6266834d-e407-4f2d-9939-ed3ddec3feca",
        "outputId": "29ab5d5f-0582-4f1f-cc24-8f901cac7ab2"
      },
      "outputs": [
        {
          "ename": "SyntaxError",
          "evalue": "invalid decimal literal (3118112869.py, line 1)",
          "output_type": "error",
          "traceback": [
            "\u001b[1;36m  Cell \u001b[1;32mIn[340], line 1\u001b[1;36m\u001b[0m\n\u001b[1;33m    4a=50\u001b[0m\n\u001b[1;37m    ^\u001b[0m\n\u001b[1;31mSyntaxError\u001b[0m\u001b[1;31m:\u001b[0m invalid decimal literal\n"
          ]
        }
      ],
      "source": [
        "4a=50"
      ]
    },
    {
      "cell_type": "code",
      "execution_count": null,
      "id": "0fae5f30-749e-406e-bd48-26505fe47266",
      "metadata": {
        "id": "0fae5f30-749e-406e-bd48-26505fe47266",
        "outputId": "82461b6b-240f-4cc3-8cdd-d5babe0387b6"
      },
      "outputs": [
        {
          "name": "stdout",
          "output_type": "stream",
          "text": [
            "False\n"
          ]
        }
      ],
      "source": [
        "my_str='4a'\n",
        "print(my_str.isidentifier())"
      ]
    },
    {
      "cell_type": "code",
      "execution_count": null,
      "id": "9d08e1fe-381b-4862-88fd-7052288a98a2",
      "metadata": {
        "id": "9d08e1fe-381b-4862-88fd-7052288a98a2"
      },
      "outputs": [],
      "source": [
        "a_b=450"
      ]
    },
    {
      "cell_type": "code",
      "execution_count": null,
      "id": "c6bdfc49-ff4d-4ee0-b8cd-65a8d0c3acee",
      "metadata": {
        "id": "c6bdfc49-ff4d-4ee0-b8cd-65a8d0c3acee",
        "outputId": "1cb5f741-67b5-4917-d0c8-5e18f252c6d9"
      },
      "outputs": [
        {
          "name": "stdout",
          "output_type": "stream",
          "text": [
            "True\n"
          ]
        }
      ],
      "source": [
        "print('a_b'.isidentifier())"
      ]
    },
    {
      "cell_type": "code",
      "execution_count": null,
      "id": "70475c49-3fb9-4a9c-9c7c-f6c41ac270ce",
      "metadata": {
        "id": "70475c49-3fb9-4a9c-9c7c-f6c41ac270ce"
      },
      "outputs": [],
      "source": [
        "_a=100"
      ]
    },
    {
      "cell_type": "code",
      "execution_count": null,
      "id": "d41481d8-d253-4dd2-94ab-a73104de0c7c",
      "metadata": {
        "id": "d41481d8-d253-4dd2-94ab-a73104de0c7c",
        "outputId": "fd0bb6ac-740d-4e42-f52d-72b1893a822f"
      },
      "outputs": [
        {
          "name": "stdout",
          "output_type": "stream",
          "text": [
            "True\n"
          ]
        }
      ],
      "source": [
        "print('_a'.isidentifier())"
      ]
    },
    {
      "cell_type": "code",
      "execution_count": null,
      "id": "2df8d57c-361f-44ef-aa8b-948eb25205fe",
      "metadata": {
        "id": "2df8d57c-361f-44ef-aa8b-948eb25205fe",
        "outputId": "e610bf6c-f39b-4ee7-9f3f-3838863282d3"
      },
      "outputs": [
        {
          "name": "stdout",
          "output_type": "stream",
          "text": [
            "20\n"
          ]
        }
      ],
      "source": [
        "_=20\n",
        "print(_)"
      ]
    },
    {
      "cell_type": "code",
      "execution_count": null,
      "id": "f2812f0f-c7f8-47d4-972d-084bea009311",
      "metadata": {
        "id": "f2812f0f-c7f8-47d4-972d-084bea009311",
        "outputId": "11f75f2a-1539-440c-f3db-8b43998b5f6a"
      },
      "outputs": [
        {
          "data": {
            "text/plain": [
              "20"
            ]
          },
          "execution_count": 348,
          "metadata": {},
          "output_type": "execute_result"
        }
      ],
      "source": [
        "_"
      ]
    },
    {
      "cell_type": "code",
      "execution_count": null,
      "id": "eb871ff7-44e3-491a-8464-63bcc79f9857",
      "metadata": {
        "id": "eb871ff7-44e3-491a-8464-63bcc79f9857",
        "outputId": "7b6eea09-4fdd-4cdf-cda5-f80988f6e1f1"
      },
      "outputs": [
        {
          "name": "stdout",
          "output_type": "stream",
          "text": [
            "True\n"
          ]
        }
      ],
      "source": [
        "print('_'.isidentifier())"
      ]
    },
    {
      "cell_type": "code",
      "execution_count": null,
      "id": "6f7e6cc1-d295-4a50-843f-12d286574b1f",
      "metadata": {
        "id": "6f7e6cc1-d295-4a50-843f-12d286574b1f",
        "outputId": "c17b216d-83f3-419f-bb49-da585c8b58ca"
      },
      "outputs": [
        {
          "ename": "SyntaxError",
          "evalue": "invalid syntax (2974175.py, line 1)",
          "output_type": "error",
          "traceback": [
            "\u001b[1;36m  Cell \u001b[1;32mIn[350], line 1\u001b[1;36m\u001b[0m\n\u001b[1;33m    a b=100\u001b[0m\n\u001b[1;37m      ^\u001b[0m\n\u001b[1;31mSyntaxError\u001b[0m\u001b[1;31m:\u001b[0m invalid syntax\n"
          ]
        }
      ],
      "source": [
        "a b=100"
      ]
    },
    {
      "cell_type": "code",
      "execution_count": null,
      "id": "303dab1b-857b-4302-a664-20e4e3fe2d34",
      "metadata": {
        "id": "303dab1b-857b-4302-a664-20e4e3fe2d34",
        "outputId": "b3f7d2e2-d8a8-405f-81ce-bf8879e47d17"
      },
      "outputs": [
        {
          "name": "stdout",
          "output_type": "stream",
          "text": [
            "False\n"
          ]
        }
      ],
      "source": [
        "print('a b'.isidentifier())"
      ]
    },
    {
      "cell_type": "code",
      "execution_count": null,
      "id": "74f9c263-100b-43c2-a302-57583c5c7fc2",
      "metadata": {
        "id": "74f9c263-100b-43c2-a302-57583c5c7fc2",
        "outputId": "fb43f2c6-b69f-4f69-f73e-f9b367735e9a"
      },
      "outputs": [
        {
          "ename": "SyntaxError",
          "evalue": "cannot assign to expression here. Maybe you meant '==' instead of '='? (3857242645.py, line 1)",
          "output_type": "error",
          "traceback": [
            "\u001b[1;36m  Cell \u001b[1;32mIn[353], line 1\u001b[1;36m\u001b[0m\n\u001b[1;33m    a@b=20\u001b[0m\n\u001b[1;37m    ^\u001b[0m\n\u001b[1;31mSyntaxError\u001b[0m\u001b[1;31m:\u001b[0m cannot assign to expression here. Maybe you meant '==' instead of '='?\n"
          ]
        }
      ],
      "source": [
        "a@b=20"
      ]
    },
    {
      "cell_type": "code",
      "execution_count": null,
      "id": "7fc066c6-3028-4201-84cb-0a9263d2ee17",
      "metadata": {
        "id": "7fc066c6-3028-4201-84cb-0a9263d2ee17",
        "outputId": "fd279865-244f-4f7c-f991-3bbfdd11f575"
      },
      "outputs": [
        {
          "name": "stdout",
          "output_type": "stream",
          "text": [
            "False\n"
          ]
        }
      ],
      "source": [
        "print('a@b'.isidentifier())"
      ]
    },
    {
      "cell_type": "code",
      "execution_count": null,
      "id": "d08e2931-baa5-44eb-813e-ef9b0fe3596a",
      "metadata": {
        "id": "d08e2931-baa5-44eb-813e-ef9b0fe3596a"
      },
      "outputs": [],
      "source": [
        "# print(dir(str))"
      ]
    },
    {
      "cell_type": "markdown",
      "id": "4e285345-d8be-4b75-8ff1-4cacba7ccce5",
      "metadata": {
        "id": "4e285345-d8be-4b75-8ff1-4cacba7ccce5"
      },
      "source": [
        "# isascii()"
      ]
    },
    {
      "cell_type": "code",
      "execution_count": null,
      "id": "ef997094-7c9d-4560-8cdf-18f4d60e5666",
      "metadata": {
        "id": "ef997094-7c9d-4560-8cdf-18f4d60e5666"
      },
      "outputs": [],
      "source": [
        "# - If all the characters in a string are the ASCII caharcters then it returns True else False."
      ]
    },
    {
      "cell_type": "code",
      "execution_count": null,
      "id": "986d58fb-8630-44c0-ba80-d32bdd202a8e",
      "metadata": {
        "id": "986d58fb-8630-44c0-ba80-d32bdd202a8e",
        "outputId": "c99ab251-3a95-471c-c578-21cbdcef4cf8"
      },
      "outputs": [
        {
          "name": "stdout",
          "output_type": "stream",
          "text": [
            "True\n"
          ]
        }
      ],
      "source": [
        "my_str='Python'\n",
        "print(my_str.isascii())"
      ]
    },
    {
      "cell_type": "code",
      "execution_count": null,
      "id": "23fdc755-397c-4dde-8870-7038c82a1b02",
      "metadata": {
        "id": "23fdc755-397c-4dde-8870-7038c82a1b02",
        "outputId": "6876630f-764d-456f-d63b-dab161eb50d7"
      },
      "outputs": [
        {
          "name": "stdout",
          "output_type": "stream",
          "text": [
            "False\n"
          ]
        }
      ],
      "source": [
        "my_str='Fleißen'\n",
        "print(my_str.isascii())"
      ]
    },
    {
      "cell_type": "markdown",
      "id": "1ba7e768-e399-4d89-b90b-a74e5673d335",
      "metadata": {
        "id": "1ba7e768-e399-4d89-b90b-a74e5673d335"
      },
      "source": [
        "# isspace()"
      ]
    },
    {
      "cell_type": "code",
      "execution_count": null,
      "id": "84a96951-49c0-4b61-9e19-f8e00eb36cf8",
      "metadata": {
        "id": "84a96951-49c0-4b61-9e19-f8e00eb36cf8"
      },
      "outputs": [],
      "source": [
        "# - If all the characters in a string are the space characters then it returns True else False.\n",
        "# - Space charcters- ' ', \\t, \\n, \\r, \\v etc."
      ]
    },
    {
      "cell_type": "code",
      "execution_count": null,
      "id": "83cd8ba0-a0db-4711-97d9-232bfdc86140",
      "metadata": {
        "id": "83cd8ba0-a0db-4711-97d9-232bfdc86140",
        "outputId": "2168d0b7-9cd8-4a85-9e06-1d566b6e451b"
      },
      "outputs": [
        {
          "name": "stdout",
          "output_type": "stream",
          "text": [
            "True\n"
          ]
        }
      ],
      "source": [
        "my_str=' \\t\\r\\v\\n \\t\\n \\r'\n",
        "print(my_str.isspace())"
      ]
    },
    {
      "cell_type": "code",
      "execution_count": null,
      "id": "296f4e4f-1fab-4df8-ba47-e54775580263",
      "metadata": {
        "id": "296f4e4f-1fab-4df8-ba47-e54775580263",
        "outputId": "c352b0da-5d7f-497c-cf20-97ea92c29537"
      },
      "outputs": [
        {
          "name": "stdout",
          "output_type": "stream",
          "text": [
            "False\n"
          ]
        }
      ],
      "source": [
        "my_str=' \\t\\r\\v\\n !\\t\\n \\r'\n",
        "print(my_str.isspace())"
      ]
    },
    {
      "cell_type": "code",
      "execution_count": null,
      "id": "16066037-b7a6-4b58-a397-de1ed2dfac66",
      "metadata": {
        "id": "16066037-b7a6-4b58-a397-de1ed2dfac66",
        "outputId": "7689b6d8-4cc5-43ff-a4a8-3a69f6551f51"
      },
      "outputs": [
        {
          "name": "stdout",
          "output_type": "stream",
          "text": [
            "Python\n",
            "Class\n"
          ]
        }
      ],
      "source": [
        "print('Python\\nClass')"
      ]
    },
    {
      "cell_type": "code",
      "execution_count": null,
      "id": "68fd27a8-be9b-451e-b52d-be202bd78f26",
      "metadata": {
        "id": "68fd27a8-be9b-451e-b52d-be202bd78f26",
        "outputId": "214fbc59-7485-4b8b-f643-d125735c8a5f"
      },
      "outputs": [
        {
          "name": "stdout",
          "output_type": "stream",
          "text": [
            "Python\tClass\n"
          ]
        }
      ],
      "source": [
        "print('Python\\tClass')"
      ]
    },
    {
      "cell_type": "code",
      "execution_count": null,
      "id": "a367b287-5489-4230-bf49-e1e1705a5627",
      "metadata": {
        "id": "a367b287-5489-4230-bf49-e1e1705a5627",
        "outputId": "594052fe-824d-482f-ddc7-30df10b26dd7"
      },
      "outputs": [
        {
          "name": "stdout",
          "output_type": "stream",
          "text": [
            "Abcdefgh\n"
          ]
        }
      ],
      "source": [
        "print('Python\\rAbcdefgh')"
      ]
    },
    {
      "cell_type": "code",
      "execution_count": null,
      "id": "ff153de0-15fb-4f70-8c36-a240f21dca96",
      "metadata": {
        "id": "ff153de0-15fb-4f70-8c36-a240f21dca96",
        "outputId": "119b17bb-eaab-4a8d-d8ae-9aeecb151bd9"
      },
      "outputs": [
        {
          "name": "stdout",
          "output_type": "stream",
          "text": [
            "Python\u000b",
            "Class\n"
          ]
        }
      ],
      "source": [
        "print('Python\\vClass')"
      ]
    },
    {
      "cell_type": "markdown",
      "id": "9e8a96e4-38d9-4870-92e2-59850230129c",
      "metadata": {
        "id": "9e8a96e4-38d9-4870-92e2-59850230129c"
      },
      "source": [
        "# isnumeric(), isdigit() and isdecimal()"
      ]
    },
    {
      "cell_type": "markdown",
      "id": "db14f7a3-ca7b-44d5-82a3-12f3c90654b7",
      "metadata": {
        "id": "db14f7a3-ca7b-44d5-82a3-12f3c90654b7"
      },
      "source": [
        "### isnumeric()"
      ]
    },
    {
      "cell_type": "code",
      "execution_count": null,
      "id": "d96d1f18-acb2-4c99-917c-de9f8a132e92",
      "metadata": {
        "id": "d96d1f18-acb2-4c99-917c-de9f8a132e92"
      },
      "outputs": [],
      "source": [
        "# - It returns True if all the characters in a string are-\n",
        "# - digits, superscripts, subscripts, Roman numerals, vulgar fractions."
      ]
    },
    {
      "cell_type": "markdown",
      "id": "dfcc71b4-9cca-42a9-9e38-d3f9c2040c1b",
      "metadata": {
        "id": "dfcc71b4-9cca-42a9-9e38-d3f9c2040c1b"
      },
      "source": [
        "### isdigit()"
      ]
    },
    {
      "cell_type": "code",
      "execution_count": null,
      "id": "345e1119-d969-4c77-852f-8d9e7c0ae162",
      "metadata": {
        "id": "345e1119-d969-4c77-852f-8d9e7c0ae162"
      },
      "outputs": [],
      "source": [
        "# - It returns True if all the characters in a string are-\n",
        "# - digits, superscripts, subscripts."
      ]
    },
    {
      "cell_type": "markdown",
      "id": "f9fa481d-8618-42b1-a1e0-2cc4f6eb4f84",
      "metadata": {
        "id": "f9fa481d-8618-42b1-a1e0-2cc4f6eb4f84"
      },
      "source": [
        "### iddecimal()"
      ]
    },
    {
      "cell_type": "code",
      "execution_count": null,
      "id": "2a73c4f1-fdfe-4417-9753-827680c25a36",
      "metadata": {
        "id": "2a73c4f1-fdfe-4417-9753-827680c25a36"
      },
      "outputs": [],
      "source": [
        "# - It returns True if all the characters in a string are digits only."
      ]
    },
    {
      "cell_type": "code",
      "execution_count": null,
      "id": "ac8e0a73-7b6e-4f3a-b172-49ef93653a1f",
      "metadata": {
        "id": "ac8e0a73-7b6e-4f3a-b172-49ef93653a1f",
        "outputId": "f10494a7-51d2-4e8b-f1a4-932d6e911d18"
      },
      "outputs": [
        {
          "name": "stdout",
          "output_type": "stream",
          "text": [
            "True\n",
            "True\n",
            "True\n"
          ]
        }
      ],
      "source": [
        "my_str='12345'\n",
        "\n",
        "print(my_str.isnumeric())\n",
        "print(my_str.isdigit())\n",
        "print(my_str.isdecimal())"
      ]
    },
    {
      "cell_type": "code",
      "execution_count": null,
      "id": "23269a06-a45e-464b-a24f-1e9ecf565f3c",
      "metadata": {
        "id": "23269a06-a45e-464b-a24f-1e9ecf565f3c",
        "outputId": "a2e8c505-f8f7-4331-dd48-39cc7d65eefe"
      },
      "outputs": [
        {
          "name": "stdout",
          "output_type": "stream",
          "text": [
            "False\n",
            "False\n",
            "False\n"
          ]
        }
      ],
      "source": [
        "my_str='12.345'\n",
        "\n",
        "print(my_str.isnumeric())\n",
        "print(my_str.isdigit())\n",
        "print(my_str.isdecimal())"
      ]
    },
    {
      "cell_type": "code",
      "execution_count": null,
      "id": "59112a82-2865-4096-81cb-f8133afd4e2e",
      "metadata": {
        "id": "59112a82-2865-4096-81cb-f8133afd4e2e",
        "outputId": "c1111c2b-1427-46c3-8fdf-e370af853c3e"
      },
      "outputs": [
        {
          "name": "stdout",
          "output_type": "stream",
          "text": [
            "5²\n",
            "True\n",
            "True\n",
            "False\n"
          ]
        }
      ],
      "source": [
        "my_str='5'+'²'\n",
        "print(my_str)\n",
        "\n",
        "print(my_str.isnumeric())\n",
        "print(my_str.isdigit())\n",
        "print(my_str.isdecimal())"
      ]
    },
    {
      "cell_type": "code",
      "execution_count": null,
      "id": "ed4bc53c-411d-4509-88eb-aa434c78443c",
      "metadata": {
        "id": "ed4bc53c-411d-4509-88eb-aa434c78443c",
        "outputId": "511673f6-de03-40b6-98d1-bc19a32b3eb5"
      },
      "outputs": [
        {
          "name": "stdout",
          "output_type": "stream",
          "text": [
            "a²\n",
            "False\n",
            "False\n",
            "False\n"
          ]
        }
      ],
      "source": [
        "my_str='a'+'²'\n",
        "print(my_str)\n",
        "\n",
        "print(my_str.isnumeric())\n",
        "print(my_str.isdigit())\n",
        "print(my_str.isdecimal())"
      ]
    },
    {
      "cell_type": "code",
      "execution_count": null,
      "id": "239d3d22-cd05-482f-8a48-cab8071d3a8c",
      "metadata": {
        "id": "239d3d22-cd05-482f-8a48-cab8071d3a8c",
        "outputId": "5a3dfe71-416a-4640-f832-26afe47dc729"
      },
      "outputs": [
        {
          "name": "stdout",
          "output_type": "stream",
          "text": [
            "5ᵖ\n",
            "False\n",
            "False\n",
            "False\n"
          ]
        }
      ],
      "source": [
        "my_str='5'+'ᵖ'\n",
        "print(my_str)\n",
        "\n",
        "print(my_str.isnumeric())\n",
        "print(my_str.isdigit())\n",
        "print(my_str.isdecimal())"
      ]
    },
    {
      "cell_type": "code",
      "execution_count": null,
      "id": "8762bcef-3677-4f39-87c7-3bdfad2128d3",
      "metadata": {
        "id": "8762bcef-3677-4f39-87c7-3bdfad2128d3",
        "outputId": "5a1fedd9-e458-4411-ab7f-90c527e9d374"
      },
      "outputs": [
        {
          "name": "stdout",
          "output_type": "stream",
          "text": [
            "6₄\n",
            "True\n",
            "True\n",
            "False\n"
          ]
        }
      ],
      "source": [
        "my_str='6'+'₄'\n",
        "print(my_str)\n",
        "\n",
        "print(my_str.isnumeric())\n",
        "print(my_str.isdigit())\n",
        "print(my_str.isdecimal())"
      ]
    },
    {
      "cell_type": "code",
      "execution_count": null,
      "id": "e9b89bf8-6360-4ba2-b399-332989fc4fb2",
      "metadata": {
        "id": "e9b89bf8-6360-4ba2-b399-332989fc4fb2",
        "outputId": "55e7c889-28c5-4a25-a8c6-2fc58e52cd2e"
      },
      "outputs": [
        {
          "name": "stdout",
          "output_type": "stream",
          "text": [
            "a₄\n",
            "False\n",
            "False\n",
            "False\n"
          ]
        }
      ],
      "source": [
        "my_str='a'+'₄'\n",
        "print(my_str)\n",
        "\n",
        "print(my_str.isnumeric())\n",
        "print(my_str.isdigit())\n",
        "print(my_str.isdecimal())"
      ]
    },
    {
      "cell_type": "code",
      "execution_count": null,
      "id": "fe7e2828-9028-4e0c-8019-533097da22f6",
      "metadata": {
        "id": "fe7e2828-9028-4e0c-8019-533097da22f6",
        "outputId": "811fe3b9-5154-4518-9a84-fdedf40a0f32"
      },
      "outputs": [
        {
          "name": "stdout",
          "output_type": "stream",
          "text": [
            "6ᵤ\n",
            "False\n",
            "False\n",
            "False\n"
          ]
        }
      ],
      "source": [
        "my_str='6'+'ᵤ'\n",
        "print(my_str)\n",
        "\n",
        "print(my_str.isnumeric())\n",
        "print(my_str.isdigit())\n",
        "print(my_str.isdecimal())"
      ]
    },
    {
      "cell_type": "code",
      "execution_count": null,
      "id": "14f9d92e-ca9b-4cf0-a118-89e4cf05f1f0",
      "metadata": {
        "id": "14f9d92e-ca9b-4cf0-a118-89e4cf05f1f0",
        "outputId": "02f6d7fa-cb36-43e4-f608-67f1176fd467"
      },
      "outputs": [
        {
          "name": "stdout",
          "output_type": "stream",
          "text": [
            "Ⅷ\n",
            "True\n",
            "False\n",
            "False\n"
          ]
        }
      ],
      "source": [
        "my_str='Ⅷ'\n",
        "print(my_str)\n",
        "\n",
        "print(my_str.isnumeric())\n",
        "print(my_str.isdigit())\n",
        "print(my_str.isdecimal())"
      ]
    },
    {
      "cell_type": "code",
      "execution_count": null,
      "id": "c0a84ffd-632c-4e92-aa5b-a49d62959d1e",
      "metadata": {
        "id": "c0a84ffd-632c-4e92-aa5b-a49d62959d1e",
        "outputId": "e0070581-6a10-456a-f5af-bf5f4a55f1a0"
      },
      "outputs": [
        {
          "name": "stdout",
          "output_type": "stream",
          "text": [
            "170 ª\n",
            "171 «\n",
            "172 ¬\n",
            "173 ­\n",
            "174 ®\n",
            "175 ¯\n",
            "176 °\n",
            "177 ±\n",
            "178 ²\n",
            "179 ³\n",
            "180 ´\n",
            "181 µ\n",
            "182 ¶\n",
            "183 ·\n",
            "184 ¸\n",
            "185 ¹\n",
            "186 º\n",
            "187 »\n",
            "188 ¼\n",
            "189 ½\n"
          ]
        }
      ],
      "source": [
        "for i in range(170,190):\n",
        "    print(i,chr(i))"
      ]
    },
    {
      "cell_type": "code",
      "execution_count": null,
      "id": "dc66bc52-7f8b-46a9-8956-beff6d201c23",
      "metadata": {
        "id": "dc66bc52-7f8b-46a9-8956-beff6d201c23",
        "outputId": "b83ff516-1e96-40e9-9d1a-f2608ab7ef16"
      },
      "outputs": [
        {
          "name": "stdout",
          "output_type": "stream",
          "text": [
            "6¼\n",
            "True\n",
            "False\n",
            "False\n"
          ]
        }
      ],
      "source": [
        "my_str='6'+'¼'\n",
        "print(my_str)\n",
        "\n",
        "print(my_str.isnumeric())\n",
        "print(my_str.isdigit())\n",
        "print(my_str.isdecimal())"
      ]
    },
    {
      "cell_type": "code",
      "execution_count": null,
      "id": "f74665fa-0dfc-467c-a37d-37495fe47377",
      "metadata": {
        "id": "f74665fa-0dfc-467c-a37d-37495fe47377",
        "outputId": "3a3c34d4-4c77-4c1d-ac0c-b0ffd3ce57f8"
      },
      "outputs": [
        {
          "name": "stdout",
          "output_type": "stream",
          "text": [
            "A¼\n",
            "False\n",
            "False\n",
            "False\n"
          ]
        }
      ],
      "source": [
        "my_str='A'+'¼'\n",
        "print(my_str)\n",
        "\n",
        "print(my_str.isnumeric())\n",
        "print(my_str.isdigit())\n",
        "print(my_str.isdecimal())"
      ]
    },
    {
      "cell_type": "markdown",
      "id": "3939fe56-23a1-4c68-9827-7676657bd555",
      "metadata": {
        "id": "3939fe56-23a1-4c68-9827-7676657bd555"
      },
      "source": [
        "# split()"
      ]
    },
    {
      "cell_type": "code",
      "execution_count": null,
      "id": "416b6901-47d0-4965-bbb2-5e1dc732ea89",
      "metadata": {
        "id": "416b6901-47d0-4965-bbb2-5e1dc732ea89"
      },
      "outputs": [],
      "source": [
        "# - It splits the string with a specified character and returns a list.\n",
        "# - By defalut it splits from the space and the '\\n' character."
      ]
    },
    {
      "cell_type": "code",
      "execution_count": null,
      "id": "286a9463-b1ef-4f22-a10a-1e161d1056f4",
      "metadata": {
        "id": "286a9463-b1ef-4f22-a10a-1e161d1056f4"
      },
      "outputs": [],
      "source": [
        "# string.split('character')"
      ]
    },
    {
      "cell_type": "code",
      "execution_count": null,
      "id": "7befef02-e22a-45a4-84f1-496a1ccc5bf4",
      "metadata": {
        "id": "7befef02-e22a-45a4-84f1-496a1ccc5bf4",
        "outputId": "7c68c1a9-1cd3-4896-ba38-f65c610611d3"
      },
      "outputs": [
        {
          "name": "stdout",
          "output_type": "stream",
          "text": [
            "We#are#learning#Python#programming\n",
            "['We', 'are', 'learning', 'Python', 'programming']\n"
          ]
        }
      ],
      "source": [
        "my_str='We#are#learning#Python#programming'\n",
        "print(my_str)\n",
        "\n",
        "words=my_str.split('#')\n",
        "print(words)"
      ]
    },
    {
      "cell_type": "code",
      "execution_count": null,
      "id": "2ad824d7-2b9f-477c-bbe1-dcd4f7b4d91a",
      "metadata": {
        "id": "2ad824d7-2b9f-477c-bbe1-dcd4f7b4d91a",
        "outputId": "11559f39-f625-49c7-ea8c-c1728918492b"
      },
      "outputs": [
        {
          "name": "stdout",
          "output_type": "stream",
          "text": [
            "We are learning Python programming\n",
            "['We', 'are', 'learning', 'Python', 'programming']\n"
          ]
        }
      ],
      "source": [
        "my_str='We are learning Python programming'\n",
        "print(my_str)\n",
        "\n",
        "words=my_str.split()\n",
        "print(words)"
      ]
    },
    {
      "cell_type": "code",
      "execution_count": null,
      "id": "323446eb-6a3a-424a-88d2-11cf9bf04660",
      "metadata": {
        "id": "323446eb-6a3a-424a-88d2-11cf9bf04660",
        "outputId": "c7af380b-d66d-4d97-ee3d-a9dab1ece638"
      },
      "outputs": [
        {
          "name": "stdout",
          "output_type": "stream",
          "text": [
            "We are learning Python programming.\n",
            "We are going to be data scientists.\n",
            "All the best\n",
            "['We', 'are', 'learning', 'Python', 'programming.', 'We', 'are', 'going', 'to', 'be', 'data', 'scientists.', 'All', 'the', 'best']\n"
          ]
        }
      ],
      "source": [
        "my_str='''We are learning Python programming.\n",
        "We are going to be data scientists.\n",
        "All the best'''\n",
        "print(my_str)\n",
        "\n",
        "words=my_str.split()\n",
        "print(words)"
      ]
    },
    {
      "cell_type": "code",
      "execution_count": null,
      "id": "ca5faa96-a8e1-463d-afcb-80e4f6b9afab",
      "metadata": {
        "id": "ca5faa96-a8e1-463d-afcb-80e4f6b9afab",
        "outputId": "9b461fbd-4e57-4b31-fe13-480324dd0fae"
      },
      "outputs": [
        {
          "name": "stdout",
          "output_type": "stream",
          "text": [
            "We are learning Python programming.\n",
            "We are going to be data scientists.\n",
            "All the best\n",
            "['We are learning Python programming.', 'We are going to be data scientists.', 'All the best']\n"
          ]
        }
      ],
      "source": [
        "my_str='''We are learning Python programming.\n",
        "We are going to be data scientists.\n",
        "All the best'''\n",
        "print(my_str)\n",
        "\n",
        "words=my_str.split('\\n')\n",
        "print(words)"
      ]
    },
    {
      "cell_type": "markdown",
      "id": "592cf9e0-ab14-460b-b686-ef32a5c91089",
      "metadata": {
        "id": "592cf9e0-ab14-460b-b686-ef32a5c91089"
      },
      "source": [
        "# join()"
      ]
    },
    {
      "cell_type": "code",
      "execution_count": null,
      "id": "e595d57f-9270-4366-8314-16fccf918258",
      "metadata": {
        "id": "e595d57f-9270-4366-8314-16fccf918258"
      },
      "outputs": [],
      "source": [
        "# 'seperater'.join(list)"
      ]
    },
    {
      "cell_type": "code",
      "execution_count": null,
      "id": "795550aa-af2d-4eae-b19f-fda6cb844c85",
      "metadata": {
        "id": "795550aa-af2d-4eae-b19f-fda6cb844c85"
      },
      "outputs": [],
      "source": [
        "# - It joins the string elements of a list and returns a string."
      ]
    },
    {
      "cell_type": "code",
      "execution_count": null,
      "id": "f1c67b86-d190-4c39-bf58-399e0d7b3bac",
      "metadata": {
        "id": "f1c67b86-d190-4c39-bf58-399e0d7b3bac",
        "outputId": "96f06f15-0857-4a84-9827-b3e8b0e33cc2"
      },
      "outputs": [
        {
          "name": "stdout",
          "output_type": "stream",
          "text": [
            "['This', 'is', 'Python', 'class']\n",
            "This is Python class\n"
          ]
        }
      ],
      "source": [
        "words=['This','is','Python','class']\n",
        "print(words)\n",
        "\n",
        "sentence=' '.join(words)\n",
        "print(sentence)"
      ]
    },
    {
      "cell_type": "markdown",
      "id": "078f5673-4204-4e05-b26b-aeca3c25b60a",
      "metadata": {
        "id": "078f5673-4204-4e05-b26b-aeca3c25b60a"
      },
      "source": [
        "# replace()"
      ]
    },
    {
      "cell_type": "code",
      "execution_count": null,
      "id": "daedfcda-1285-476c-a09f-52c8898b902f",
      "metadata": {
        "id": "daedfcda-1285-476c-a09f-52c8898b902f"
      },
      "outputs": [],
      "source": [
        "# - It replaces a character or a substring inside a string with the specified character or substring.\n",
        "# - It returns a new string object.\n",
        "# - It does not make the changes in the exisiting object."
      ]
    },
    {
      "cell_type": "code",
      "execution_count": null,
      "id": "61b9fa4f-cd0f-4a33-9b54-a3b4c425dfb2",
      "metadata": {
        "id": "61b9fa4f-cd0f-4a33-9b54-a3b4c425dfb2"
      },
      "outputs": [],
      "source": [
        "# sring.replace('substring','replacement')"
      ]
    },
    {
      "cell_type": "code",
      "execution_count": null,
      "id": "a26280f6-1e22-40b2-828b-20f86b5674ff",
      "metadata": {
        "id": "a26280f6-1e22-40b2-828b-20f86b5674ff",
        "outputId": "25c56258-3436-4cf8-f5f5-665a375b169e"
      },
      "outputs": [
        {
          "name": "stdout",
          "output_type": "stream",
          "text": [
            "Python\n",
            "Kython\n",
            "Python\n"
          ]
        }
      ],
      "source": [
        "my_str='Python'\n",
        "print(my_str)\n",
        "\n",
        "print(my_str.replace('P','K'))\n",
        "print(my_str)"
      ]
    },
    {
      "cell_type": "code",
      "execution_count": null,
      "id": "a76c020b-050d-4a01-ac6c-9813e204e56c",
      "metadata": {
        "id": "a76c020b-050d-4a01-ac6c-9813e204e56c",
        "outputId": "576d586f-68ed-4624-c905-3f00f5213242"
      },
      "outputs": [
        {
          "name": "stdout",
          "output_type": "stream",
          "text": [
            "This is Java class.\n",
            "Java is a high level language.\n",
            "There are many versions of Java\n",
            "\n",
            "This is Python class.\n",
            "Python is a high level language.\n",
            "There are many versions of Python\n"
          ]
        }
      ],
      "source": [
        "my_str='''This is Java class.\n",
        "Java is a high level language.\n",
        "There are many versions of Java'''\n",
        "\n",
        "print(my_str)\n",
        "\n",
        "new_string=my_str.replace('Java','Python')\n",
        "print()\n",
        "print(new_string)"
      ]
    },
    {
      "cell_type": "code",
      "execution_count": null,
      "id": "fdb78608-5393-4fdc-a2c4-8b63f77d2034",
      "metadata": {
        "id": "fdb78608-5393-4fdc-a2c4-8b63f77d2034",
        "outputId": "b87a5202-3982-4a34-eaf5-98e9cc43ba8c"
      },
      "outputs": [
        {
          "name": "stdout",
          "output_type": "stream",
          "text": [
            "Python\n",
            "Python\n"
          ]
        }
      ],
      "source": [
        "my_str='Python'\n",
        "print(my_str)\n",
        "\n",
        "print(my_str.replace('k','A'))"
      ]
    },
    {
      "cell_type": "markdown",
      "id": "21749c88-461e-455c-a0d7-e3c51bd29edd",
      "metadata": {
        "id": "21749c88-461e-455c-a0d7-e3c51bd29edd"
      },
      "source": [
        "# startswith()"
      ]
    },
    {
      "cell_type": "code",
      "execution_count": null,
      "id": "cb3f3210-4e46-48c5-a976-6df877175175",
      "metadata": {
        "id": "cb3f3210-4e46-48c5-a976-6df877175175"
      },
      "outputs": [],
      "source": [
        "# - If the string starts with the specified character or substring then it returns True else False."
      ]
    },
    {
      "cell_type": "code",
      "execution_count": null,
      "id": "5d4f18e1-48d2-4829-bae4-f3485a35ae2e",
      "metadata": {
        "id": "5d4f18e1-48d2-4829-bae4-f3485a35ae2e",
        "outputId": "502703f8-98b5-47be-8688-f4cc9069f451"
      },
      "outputs": [
        {
          "name": "stdout",
          "output_type": "stream",
          "text": [
            "Python class\n",
            "True\n",
            "True\n",
            "False\n",
            "True\n"
          ]
        }
      ],
      "source": [
        "my_str='Python class'\n",
        "print(my_str)\n",
        "\n",
        "print(my_str.startswith('P'))\n",
        "print(my_str.startswith('Py'))\n",
        "print(my_str.startswith('p'))\n",
        "print(my_str.startswith('Pyth'))"
      ]
    },
    {
      "cell_type": "markdown",
      "id": "c5aed1e2-5360-4b3a-a40f-d0123ddb377f",
      "metadata": {
        "id": "c5aed1e2-5360-4b3a-a40f-d0123ddb377f"
      },
      "source": [
        "# endswith()"
      ]
    },
    {
      "cell_type": "code",
      "execution_count": null,
      "id": "5921a4d6-ac08-4464-a0b4-24d3e6c2878a",
      "metadata": {
        "id": "5921a4d6-ac08-4464-a0b4-24d3e6c2878a"
      },
      "outputs": [],
      "source": [
        "# - If the string ends with the specified character or substring then it returns True else False."
      ]
    },
    {
      "cell_type": "code",
      "execution_count": null,
      "id": "b8414f60-9e00-4e26-91c2-a7c5315aec76",
      "metadata": {
        "id": "b8414f60-9e00-4e26-91c2-a7c5315aec76",
        "outputId": "59811287-9b85-4962-b55d-81af2cd1a3fa"
      },
      "outputs": [
        {
          "name": "stdout",
          "output_type": "stream",
          "text": [
            "True\n",
            "True\n",
            "True\n",
            "False\n"
          ]
        }
      ],
      "source": [
        "my_str='Python class'\n",
        "\n",
        "print(my_str.endswith('s'))\n",
        "print(my_str.endswith('ss'))\n",
        "print(my_str.endswith('on class'))\n",
        "print(my_str.endswith('ssalc'))"
      ]
    },
    {
      "cell_type": "code",
      "execution_count": null,
      "id": "1fb9a9e8-e2bc-41d5-9b99-aa91b1901a00",
      "metadata": {
        "id": "1fb9a9e8-e2bc-41d5-9b99-aa91b1901a00",
        "outputId": "1c2e72ae-fe22-4307-a535-b873a7ec0fd0"
      },
      "outputs": [
        {
          "name": "stdout",
          "output_type": "stream",
          "text": [
            "True\n"
          ]
        }
      ],
      "source": [
        "my_str='Python class\\n'\n",
        "\n",
        "print(my_str.endswith('\\n'))"
      ]
    },
    {
      "cell_type": "code",
      "execution_count": null,
      "id": "0d691f73-982e-4d4a-8072-1859967cb6ca",
      "metadata": {
        "id": "0d691f73-982e-4d4a-8072-1859967cb6ca",
        "outputId": "f49c71a6-36d5-4af6-90fb-e30cf9b61fcb"
      },
      "outputs": [
        {
          "ename": "NameError",
          "evalue": "name 'upper' is not defined",
          "output_type": "error",
          "traceback": [
            "\u001b[1;31m---------------------------------------------------------------------------\u001b[0m",
            "\u001b[1;31mNameError\u001b[0m                                 Traceback (most recent call last)",
            "Cell \u001b[1;32mIn[461], line 1\u001b[0m\n\u001b[1;32m----> 1\u001b[0m upper(\u001b[38;5;124m'\u001b[39m\u001b[38;5;124mabcd\u001b[39m\u001b[38;5;124m'\u001b[39m)\n",
            "\u001b[1;31mNameError\u001b[0m: name 'upper' is not defined"
          ]
        }
      ],
      "source": [
        "upper('abcd')"
      ]
    },
    {
      "cell_type": "code",
      "execution_count": null,
      "id": "6360bc07-8a98-4f2e-a6a7-09848f037de1",
      "metadata": {
        "id": "6360bc07-8a98-4f2e-a6a7-09848f037de1",
        "outputId": "9c9fbda7-0dba-4161-b6fb-cecf34ca3e9f"
      },
      "outputs": [
        {
          "data": {
            "text/plain": [
              "4"
            ]
          },
          "execution_count": 462,
          "metadata": {},
          "output_type": "execute_result"
        }
      ],
      "source": [
        "len('abcd')"
      ]
    },
    {
      "cell_type": "code",
      "execution_count": null,
      "id": "3f7265bc-7e0e-46dd-89ca-f69e3f9fc8d9",
      "metadata": {
        "id": "3f7265bc-7e0e-46dd-89ca-f69e3f9fc8d9"
      },
      "outputs": [],
      "source": []
    }
  ],
  "metadata": {
    "kernelspec": {
      "display_name": "Python 3 (ipykernel)",
      "language": "python",
      "name": "python3"
    },
    "language_info": {
      "codemirror_mode": {
        "name": "ipython",
        "version": 3
      },
      "file_extension": ".py",
      "mimetype": "text/x-python",
      "name": "python",
      "nbconvert_exporter": "python",
      "pygments_lexer": "ipython3",
      "version": "3.11.7"
    },
    "colab": {
      "provenance": []
    }
  },
  "nbformat": 4,
  "nbformat_minor": 5
}