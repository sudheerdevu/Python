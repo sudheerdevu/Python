{
  "cells": [
    {
      "cell_type": "markdown",
      "id": "8d849b17-2e46-4cf7-9895-baff7d958e2e",
      "metadata": {
        "id": "8d849b17-2e46-4cf7-9895-baff7d958e2e"
      },
      "source": [
        "# Case_2\n",
        "- By using list()"
      ]
    },
    {
      "cell_type": "code",
      "execution_count": null,
      "id": "7b9611c9-6ae9-4c9f-ba52-b9f5bda646f3",
      "metadata": {
        "id": "7b9611c9-6ae9-4c9f-ba52-b9f5bda646f3"
      },
      "outputs": [],
      "source": [
        "# list(Iterable)- It returns a list (Typecasting)"
      ]
    },
    {
      "cell_type": "code",
      "execution_count": null,
      "id": "76c18062-24d3-4c6d-bf67-21abfcd3a088",
      "metadata": {
        "id": "76c18062-24d3-4c6d-bf67-21abfcd3a088"
      },
      "outputs": [],
      "source": [
        "# list(enumerate_object)\n",
        "# list(zip_object)\n",
        "# list(filter_object)\n",
        "# list(map_object)"
      ]
    },
    {
      "cell_type": "markdown",
      "id": "a3624c78-de01-4483-a548-fa27090dbf8f",
      "metadata": {
        "id": "a3624c78-de01-4483-a548-fa27090dbf8f"
      },
      "source": [
        "### filter()"
      ]
    },
    {
      "cell_type": "code",
      "execution_count": null,
      "id": "9df03380-ae26-4b7d-80a2-59adefe2de76",
      "metadata": {
        "id": "9df03380-ae26-4b7d-80a2-59adefe2de76"
      },
      "outputs": [],
      "source": [
        "# - filter() filters the values from an iterable and returns a filter object.\n",
        "# - To extract the values from tehe filter object we pass it to the list()"
      ]
    },
    {
      "cell_type": "code",
      "execution_count": null,
      "id": "ca9d2ef9-b16b-4629-b227-9793ebac3c7e",
      "metadata": {
        "id": "ca9d2ef9-b16b-4629-b227-9793ebac3c7e",
        "outputId": "fecbc247-a23b-4493-89c0-447ee16c4219"
      },
      "outputs": [
        {
          "name": "stdout",
          "output_type": "stream",
          "text": [
            "<filter object at 0x0000028071131BD0> <class 'filter'>\n",
            "[2, 4, 6, 8, 10] <class 'list'>\n"
          ]
        }
      ],
      "source": [
        "t=(1,2,3,4,5,6,7,8,9,10)\n",
        "f=filter(lambda x:x%2==0,t)\n",
        "print(f,type(f))\n",
        "lst=list(f)\n",
        "print(lst,type(lst))"
      ]
    },
    {
      "cell_type": "markdown",
      "id": "3e0f1a07-4a3d-4f2f-a5fe-995b538750aa",
      "metadata": {
        "id": "3e0f1a07-4a3d-4f2f-a5fe-995b538750aa"
      },
      "source": [
        "### map()"
      ]
    },
    {
      "cell_type": "code",
      "execution_count": null,
      "id": "5156bb8d-5557-4cab-be18-e600d20084fa",
      "metadata": {
        "id": "5156bb8d-5557-4cab-be18-e600d20084fa"
      },
      "outputs": [],
      "source": [
        "# - map() is used to apply element by element operation on an iterable.\n",
        "# - map() returns a map object.\n",
        "# - To extract the values from a map object we pass it to the list()."
      ]
    },
    {
      "cell_type": "code",
      "execution_count": null,
      "id": "72944379-a95c-4e6e-b3bb-a07aaf8e1d82",
      "metadata": {
        "id": "72944379-a95c-4e6e-b3bb-a07aaf8e1d82",
        "outputId": "544bb23a-fa50-457b-8528-1c1cea68f6d0"
      },
      "outputs": [
        {
          "name": "stdout",
          "output_type": "stream",
          "text": [
            "<map object at 0x0000028071130B80> <class 'map'>\n",
            "[1, 4, 9, 16, 25, 36, 49, 64, 81, 100] <class 'list'>\n"
          ]
        }
      ],
      "source": [
        "t=(1,2,3,4,5,6,7,8,9,10)\n",
        "m=map(lambda x:x**2,t)\n",
        "print(m,type(m))\n",
        "lst=list(m)\n",
        "print(lst,type(lst))"
      ]
    },
    {
      "cell_type": "markdown",
      "id": "239d9bf0-d518-4b03-81ff-b73496588b7f",
      "metadata": {
        "id": "239d9bf0-d518-4b03-81ff-b73496588b7f"
      },
      "source": [
        "# Case_3\n",
        "- By taking the input from the user"
      ]
    },
    {
      "cell_type": "code",
      "execution_count": null,
      "id": "fb49a3d2-b481-4dbe-842d-700a8b86754a",
      "metadata": {
        "id": "fb49a3d2-b481-4dbe-842d-700a8b86754a",
        "outputId": "4e7fc6ed-1b38-41a9-f074-73fcb0fac058"
      },
      "outputs": [
        {
          "name": "stdin",
          "output_type": "stream",
          "text": [
            "Enter some values-  Hello\n"
          ]
        },
        {
          "name": "stdout",
          "output_type": "stream",
          "text": [
            "['H', 'e', 'l', 'l', 'o'] <class 'list'>\n"
          ]
        }
      ],
      "source": [
        "lst=list(input('Enter some values- '))\n",
        "print(lst,type(lst))"
      ]
    },
    {
      "cell_type": "code",
      "execution_count": null,
      "id": "4e16708f-6e7a-4cef-a854-210ab067aaa7",
      "metadata": {
        "id": "4e16708f-6e7a-4cef-a854-210ab067aaa7",
        "outputId": "99cbf697-a1b5-4d3d-c166-03f1702359e8"
      },
      "outputs": [
        {
          "name": "stdout",
          "output_type": "stream",
          "text": [
            "['H', 'e', 'l', 'l', 'o']\n"
          ]
        }
      ],
      "source": [
        "print(list('Hello'))"
      ]
    },
    {
      "cell_type": "code",
      "execution_count": null,
      "id": "09eaf29f-afe3-4472-a891-714029573596",
      "metadata": {
        "id": "09eaf29f-afe3-4472-a891-714029573596",
        "outputId": "f7b3687d-5c4e-4ac5-86c3-50b9fe68a3bc"
      },
      "outputs": [
        {
          "name": "stdin",
          "output_type": "stream",
          "text": [
            "Enter some values-  12345\n"
          ]
        },
        {
          "name": "stdout",
          "output_type": "stream",
          "text": [
            "['1', '2', '3', '4', '5'] <class 'list'>\n"
          ]
        }
      ],
      "source": [
        "lst=list(input('Enter some values- '))\n",
        "print(lst,type(lst))"
      ]
    },
    {
      "cell_type": "code",
      "execution_count": null,
      "id": "11b3d157-7d70-4901-8847-3af4eb748029",
      "metadata": {
        "id": "11b3d157-7d70-4901-8847-3af4eb748029",
        "outputId": "a350c995-8081-4689-ed77-94270c9ea055"
      },
      "outputs": [
        {
          "name": "stdout",
          "output_type": "stream",
          "text": [
            "['1', '2', '3', '4', '5']\n"
          ]
        }
      ],
      "source": [
        "print(list('12345'))"
      ]
    },
    {
      "cell_type": "code",
      "execution_count": null,
      "id": "332f6178-1b1d-43f2-987e-e08b6aab34ca",
      "metadata": {
        "id": "332f6178-1b1d-43f2-987e-e08b6aab34ca",
        "outputId": "1e97639b-13a9-4503-a37b-10dab8d56222"
      },
      "outputs": [
        {
          "name": "stdin",
          "output_type": "stream",
          "text": [
            "Enter some values-  Python class\n"
          ]
        },
        {
          "name": "stdout",
          "output_type": "stream",
          "text": [
            "['P', 'y', 't', 'h', 'o', 'n', ' ', 'c', 'l', 'a', 's', 's'] <class 'list'>\n"
          ]
        }
      ],
      "source": [
        "lst=list(input('Enter some values- '))\n",
        "print(lst,type(lst))"
      ]
    },
    {
      "cell_type": "code",
      "execution_count": null,
      "id": "1eb3f6ea-c598-45e9-b814-1e5b22b80109",
      "metadata": {
        "id": "1eb3f6ea-c598-45e9-b814-1e5b22b80109",
        "outputId": "69709df1-d188-408f-abe2-9e64c5ad4d5f"
      },
      "outputs": [
        {
          "name": "stdout",
          "output_type": "stream",
          "text": [
            "['P', 'y', 't', 'h', 'o', 'n', ' ', 'c', 'l', 'a', 's', 's']\n"
          ]
        }
      ],
      "source": [
        "print(list('Python class'))"
      ]
    },
    {
      "cell_type": "code",
      "execution_count": null,
      "id": "efdb06bb-eacb-43f2-9f22-0d17695240ae",
      "metadata": {
        "id": "efdb06bb-eacb-43f2-9f22-0d17695240ae"
      },
      "outputs": [],
      "source": [
        "# Output- ['Python','Class']"
      ]
    },
    {
      "cell_type": "markdown",
      "id": "5ceab690-efed-4017-9019-83ef01c68cb3",
      "metadata": {
        "id": "5ceab690-efed-4017-9019-83ef01c68cb3"
      },
      "source": [
        "# eval()"
      ]
    },
    {
      "cell_type": "code",
      "execution_count": null,
      "id": "e3a80ae4-a71e-4d26-8414-dc32663a0f9b",
      "metadata": {
        "id": "e3a80ae4-a71e-4d26-8414-dc32663a0f9b"
      },
      "outputs": [],
      "source": [
        "# - It evaluates the type of the value passed to it.\n",
        "# - It always takes a string value."
      ]
    },
    {
      "cell_type": "code",
      "execution_count": null,
      "id": "8e2067e7-168f-43c3-9916-20b8951aafb8",
      "metadata": {
        "id": "8e2067e7-168f-43c3-9916-20b8951aafb8",
        "outputId": "e2f5268a-ead0-495e-eacd-bc2e8c22cc87"
      },
      "outputs": [
        {
          "name": "stdout",
          "output_type": "stream",
          "text": [
            "5 <class 'int'>\n"
          ]
        }
      ],
      "source": [
        "a=eval('5')\n",
        "print(a,type(a))"
      ]
    },
    {
      "cell_type": "code",
      "execution_count": null,
      "id": "df63e81b-2ecf-440f-889a-3cebab99e1e6",
      "metadata": {
        "id": "df63e81b-2ecf-440f-889a-3cebab99e1e6",
        "outputId": "1b47fe73-96d7-458e-d4f7-8bbb9502a42f"
      },
      "outputs": [
        {
          "name": "stdout",
          "output_type": "stream",
          "text": [
            "5.7 <class 'float'>\n"
          ]
        }
      ],
      "source": [
        "a=eval('5.7')\n",
        "print(a,type(a))"
      ]
    },
    {
      "cell_type": "code",
      "execution_count": null,
      "id": "23044a9e-ef61-48d6-91d4-a4805e24648b",
      "metadata": {
        "id": "23044a9e-ef61-48d6-91d4-a4805e24648b",
        "outputId": "0e013faa-9741-4f3c-a76e-d80bd1f926c5"
      },
      "outputs": [
        {
          "name": "stdout",
          "output_type": "stream",
          "text": [
            "[1, 2, 3, 4, 5] <class 'list'>\n"
          ]
        }
      ],
      "source": [
        "a=eval('[1,2,3,4,5]')\n",
        "print(a,type(a))"
      ]
    },
    {
      "cell_type": "code",
      "execution_count": null,
      "id": "86404ba4-177b-425e-9dbc-f36d540b3f00",
      "metadata": {
        "id": "86404ba4-177b-425e-9dbc-f36d540b3f00",
        "outputId": "bdf43dd9-ecca-46d9-ef97-170fa510e330"
      },
      "outputs": [
        {
          "data": {
            "text/plain": [
              "['Python', 'Class']"
            ]
          },
          "execution_count": 73,
          "metadata": {},
          "output_type": "execute_result"
        }
      ],
      "source": [
        "[\"Python\",\"Class\"]"
      ]
    },
    {
      "cell_type": "code",
      "execution_count": null,
      "id": "8e5883bb-19cd-4397-bcf1-d47a11186412",
      "metadata": {
        "id": "8e5883bb-19cd-4397-bcf1-d47a11186412",
        "outputId": "52ae8cdb-a0a4-4acc-a1b7-31c6b93cdf64"
      },
      "outputs": [
        {
          "name": "stdout",
          "output_type": "stream",
          "text": [
            "['Python', 'Class'] <class 'list'>\n"
          ]
        }
      ],
      "source": [
        "a=eval('[\"Python\",\"Class\"]')\n",
        "print(a,type(a))"
      ]
    },
    {
      "cell_type": "code",
      "execution_count": null,
      "id": "0bceddc6-4dc4-40c0-a8f7-797a5039cc6a",
      "metadata": {
        "id": "0bceddc6-4dc4-40c0-a8f7-797a5039cc6a",
        "outputId": "bde9ac12-d3dc-4fe8-a781-f182bd2715a8"
      },
      "outputs": [
        {
          "name": "stdin",
          "output_type": "stream",
          "text": [
            "Enter a list [\"Python\",'Class']\n"
          ]
        },
        {
          "name": "stdout",
          "output_type": "stream",
          "text": [
            "['Python', 'Class'] <class 'list'>\n"
          ]
        }
      ],
      "source": [
        "lst=eval(input('Enter a list'))\n",
        "print(lst,type(lst))"
      ]
    },
    {
      "cell_type": "code",
      "execution_count": null,
      "id": "6184f6c7-5b60-4404-ba87-e8e63d0a768b",
      "metadata": {
        "id": "6184f6c7-5b60-4404-ba87-e8e63d0a768b"
      },
      "outputs": [],
      "source": [
        "# Output- [10,20,30,40,50]"
      ]
    },
    {
      "cell_type": "code",
      "execution_count": null,
      "id": "10f27c7e-c29f-4a3a-bfb9-291403114c2e",
      "metadata": {
        "id": "10f27c7e-c29f-4a3a-bfb9-291403114c2e",
        "outputId": "33b58058-8023-4ddc-9796-f5c320ce2836"
      },
      "outputs": [
        {
          "name": "stdin",
          "output_type": "stream",
          "text": [
            "Enter values-  10,20,30,40,50\n"
          ]
        },
        {
          "name": "stdout",
          "output_type": "stream",
          "text": [
            "['1', '0', ',', '2', '0', ',', '3', '0', ',', '4', '0', ',', '5', '0'] <class 'list'>\n"
          ]
        }
      ],
      "source": [
        "lst=list(input('Enter values- '))\n",
        "print(lst,type(lst))"
      ]
    },
    {
      "cell_type": "code",
      "execution_count": null,
      "id": "5884fafd-bcd0-46ef-85a5-884a92f915eb",
      "metadata": {
        "id": "5884fafd-bcd0-46ef-85a5-884a92f915eb",
        "outputId": "d84997da-e7e6-439f-a45f-0d6f43c397f2"
      },
      "outputs": [
        {
          "name": "stdout",
          "output_type": "stream",
          "text": [
            "['1', '0', ',', '2', '0', ',', '3', '0', ',', '4', '0', ',', '5', '0']\n"
          ]
        }
      ],
      "source": [
        "print(list('10,20,30,40,50'))"
      ]
    },
    {
      "cell_type": "code",
      "execution_count": null,
      "id": "7bf4697c-2e0e-4180-abe2-8515880eb539",
      "metadata": {
        "id": "7bf4697c-2e0e-4180-abe2-8515880eb539",
        "outputId": "e4f0740c-dd70-47c2-a8b9-18abbfa2067d"
      },
      "outputs": [
        {
          "name": "stdin",
          "output_type": "stream",
          "text": [
            "Enter a list [10,20,30,40,50]\n"
          ]
        },
        {
          "name": "stdout",
          "output_type": "stream",
          "text": [
            "[10, 20, 30, 40, 50] <class 'list'>\n"
          ]
        }
      ],
      "source": [
        "lst=eval(input('Enter a list'))\n",
        "print(lst,type(lst))"
      ]
    },
    {
      "cell_type": "code",
      "execution_count": null,
      "id": "78a0421f-796b-4d7f-992f-7f37684fca10",
      "metadata": {
        "id": "78a0421f-796b-4d7f-992f-7f37684fca10",
        "outputId": "c57be270-5548-44ae-932c-bb78c7994c97"
      },
      "outputs": [
        {
          "name": "stdin",
          "output_type": "stream",
          "text": [
            "Enter a value-  10\n",
            "Enter a value-  2.5\n",
            "Enter a value-  \"Python\"\n",
            "Enter a value-  True\n",
            "Enter a value-  5+5j\n"
          ]
        },
        {
          "name": "stdout",
          "output_type": "stream",
          "text": [
            "[10, 2.5, 'Python', True, (5+5j)] <class 'list'>\n"
          ]
        }
      ],
      "source": [
        "lst=[]\n",
        "\n",
        "for i in range(5):\n",
        "    val=eval(input('Enter a value- '))\n",
        "    lst.append(val)\n",
        "\n",
        "print(lst,type(lst))"
      ]
    },
    {
      "cell_type": "markdown",
      "id": "75df4259-7f57-49f0-8516-1deb2d9c3f7e",
      "metadata": {
        "id": "75df4259-7f57-49f0-8516-1deb2d9c3f7e"
      },
      "source": [
        "# Case_4\n",
        "- By using list comprehension"
      ]
    },
    {
      "cell_type": "code",
      "execution_count": null,
      "id": "c64f755e-fca9-40f1-9e63-02f71075eb27",
      "metadata": {
        "id": "c64f755e-fca9-40f1-9e63-02f71075eb27"
      },
      "outputs": [],
      "source": [
        "# - It is a one liner code to create a list using loop.\n",
        "# - It is an easier method to create a list using loop."
      ]
    },
    {
      "cell_type": "markdown",
      "id": "c47303c3-d763-4afd-a044-9d4c77d7c3cc",
      "metadata": {
        "id": "c47303c3-d763-4afd-a044-9d4c77d7c3cc"
      },
      "source": [
        "### Syntax-"
      ]
    },
    {
      "cell_type": "code",
      "execution_count": null,
      "id": "ebdeba43-3819-4fd1-a694-303767485d5b",
      "metadata": {
        "id": "ebdeba43-3819-4fd1-a694-303767485d5b"
      },
      "outputs": [],
      "source": [
        "# [value for loop]\n",
        "# [value for positioner in iterable]"
      ]
    },
    {
      "cell_type": "code",
      "execution_count": null,
      "id": "a2ddab3c-6bd4-49af-b892-ab2f29b4e23f",
      "metadata": {
        "id": "a2ddab3c-6bd4-49af-b892-ab2f29b4e23f",
        "outputId": "a35b1723-e25d-43d3-dc2a-b01f7d21f094"
      },
      "outputs": [
        {
          "name": "stdout",
          "output_type": "stream",
          "text": [
            "['a', 'a', 'a', 'a', 'a'] <class 'list'>\n"
          ]
        }
      ],
      "source": [
        "lst=['a' for i in range(5)]\n",
        "print(lst,type(lst))"
      ]
    },
    {
      "cell_type": "code",
      "execution_count": null,
      "id": "b5e92c86-7084-447f-bb79-e1b500b1b75b",
      "metadata": {
        "id": "b5e92c86-7084-447f-bb79-e1b500b1b75b",
        "outputId": "806a9776-a354-4fb4-a5d3-02095d00e153"
      },
      "outputs": [
        {
          "name": "stdout",
          "output_type": "stream",
          "text": [
            "['a', 'a', 'a', 'a', 'a'] <class 'list'>\n"
          ]
        }
      ],
      "source": [
        "lst=[]\n",
        "\n",
        "for i in range(5):\n",
        "    lst.append('a')\n",
        "\n",
        "print(lst,type(lst))"
      ]
    },
    {
      "cell_type": "code",
      "execution_count": null,
      "id": "551363bb-b522-441a-9855-40cdcf32278f",
      "metadata": {
        "id": "551363bb-b522-441a-9855-40cdcf32278f"
      },
      "outputs": [],
      "source": [
        "# Create a list of numbers from 1 to 10 using list comprehension"
      ]
    },
    {
      "cell_type": "code",
      "execution_count": null,
      "id": "e4851968-8e68-4dba-9be5-9499bcd20fe1",
      "metadata": {
        "id": "e4851968-8e68-4dba-9be5-9499bcd20fe1",
        "outputId": "a240eb4d-7e69-435c-b7ff-511107575ab0"
      },
      "outputs": [
        {
          "name": "stdout",
          "output_type": "stream",
          "text": [
            "[1, 2, 3, 4, 5, 6, 7, 8, 9, 10]\n"
          ]
        }
      ],
      "source": [
        "lst=[]\n",
        "for i in range(1,11):\n",
        "    lst.append(i)\n",
        "print(lst)"
      ]
    },
    {
      "cell_type": "code",
      "execution_count": null,
      "id": "456b4fad-5d30-4f56-9e19-b6617a939dba",
      "metadata": {
        "id": "456b4fad-5d30-4f56-9e19-b6617a939dba",
        "outputId": "c04526f1-6388-41a7-9dd3-0da5d094ea90"
      },
      "outputs": [
        {
          "name": "stdout",
          "output_type": "stream",
          "text": [
            "[1, 2, 3, 4, 5, 6, 7, 8, 9, 10]\n"
          ]
        }
      ],
      "source": [
        "lst=[i for i in range(1,11)]\n",
        "print(lst)"
      ]
    },
    {
      "cell_type": "code",
      "execution_count": null,
      "id": "e25eb667-ebde-4583-9358-8dee695a9e2b",
      "metadata": {
        "id": "e25eb667-ebde-4583-9358-8dee695a9e2b"
      },
      "outputs": [],
      "source": [
        "# [value for loop if condition]"
      ]
    },
    {
      "cell_type": "code",
      "execution_count": null,
      "id": "6fb1028e-3243-4988-b7b9-1289d96a60bb",
      "metadata": {
        "id": "6fb1028e-3243-4988-b7b9-1289d96a60bb"
      },
      "outputs": [],
      "source": [
        "t=(1,5,4,9,8,3,7,5,4,12,15,78,6,41,66)\n",
        "# Create a list of even numbers from the above tuple usimng list comprehension"
      ]
    },
    {
      "cell_type": "code",
      "execution_count": null,
      "id": "580d4ad5-4c82-4370-9419-a9db014a7590",
      "metadata": {
        "id": "580d4ad5-4c82-4370-9419-a9db014a7590",
        "outputId": "2f8c3e32-97c6-436f-f60e-fc5af378e79f"
      },
      "outputs": [
        {
          "name": "stdout",
          "output_type": "stream",
          "text": [
            "[4, 8, 4, 12, 78, 6, 66]\n"
          ]
        }
      ],
      "source": [
        "lst=[]\n",
        "for i in t:\n",
        "    if i%2==0:\n",
        "        lst.append(i)\n",
        "print(lst)"
      ]
    },
    {
      "cell_type": "code",
      "execution_count": null,
      "id": "a500f9c1-ad68-48fe-b47e-b4d9d81ab112",
      "metadata": {
        "id": "a500f9c1-ad68-48fe-b47e-b4d9d81ab112",
        "outputId": "4fbb04e8-094d-48aa-f9fe-1befd14d4f6d"
      },
      "outputs": [
        {
          "name": "stdout",
          "output_type": "stream",
          "text": [
            "[4, 8, 4, 12, 78, 6, 66]\n"
          ]
        }
      ],
      "source": [
        "lst=[i for i in t if i%2==0]\n",
        "print(lst)"
      ]
    },
    {
      "cell_type": "code",
      "execution_count": null,
      "id": "24ad0871-72ae-4b3a-9ec1-a023e8b227f7",
      "metadata": {
        "id": "24ad0871-72ae-4b3a-9ec1-a023e8b227f7"
      },
      "outputs": [],
      "source": [
        "codes=(111,118,None,121,None, 115, None, 116)\n",
        "# Create a list of the valid codes from the above tuple using list comprehension"
      ]
    },
    {
      "cell_type": "code",
      "execution_count": null,
      "id": "5d1e93e5-2913-4af3-aaf5-18b57922bfd2",
      "metadata": {
        "id": "5d1e93e5-2913-4af3-aaf5-18b57922bfd2",
        "outputId": "3a68b150-575e-4924-c778-9e7921811ee8"
      },
      "outputs": [
        {
          "name": "stdout",
          "output_type": "stream",
          "text": [
            "[111, 118, 121, 115, 116]\n"
          ]
        }
      ],
      "source": [
        "lst=[]\n",
        "for i in codes:\n",
        "    if not i==None:\n",
        "        lst.append(i)\n",
        "print(lst)"
      ]
    },
    {
      "cell_type": "code",
      "execution_count": null,
      "id": "c3917681-73c4-4bce-b6af-dffd67c3e6db",
      "metadata": {
        "id": "c3917681-73c4-4bce-b6af-dffd67c3e6db",
        "outputId": "f83f6ab9-8249-45ac-e99d-db83533ad365"
      },
      "outputs": [
        {
          "name": "stdout",
          "output_type": "stream",
          "text": [
            "[111, 118, 121, 115, 116]\n"
          ]
        }
      ],
      "source": [
        "lst=[i for i in codes if i!=None]\n",
        "print(lst)"
      ]
    },
    {
      "cell_type": "code",
      "execution_count": null,
      "id": "0dbcde9b-abe4-4dcc-9a72-26a27c68e6f3",
      "metadata": {
        "id": "0dbcde9b-abe4-4dcc-9a72-26a27c68e6f3"
      },
      "outputs": [],
      "source": [
        "t=(1,5,4,9,8,3,7,5,4,12)\n",
        "# Square the even numbers and cube the odd numbers from the above tuple and create a list"
      ]
    },
    {
      "cell_type": "code",
      "execution_count": null,
      "id": "b9096a21-ad6a-4d4d-a399-c9a60c2889d7",
      "metadata": {
        "id": "b9096a21-ad6a-4d4d-a399-c9a60c2889d7",
        "outputId": "8392e4b9-02f3-4c76-d571-4811ce4c3d9d"
      },
      "outputs": [
        {
          "name": "stdout",
          "output_type": "stream",
          "text": [
            "[1, 125, 16, 729, 64, 27, 343, 125, 16, 144]\n"
          ]
        }
      ],
      "source": [
        "lst=[]\n",
        "for i in t:\n",
        "    if i%2==0:\n",
        "        lst.append(i**2)\n",
        "    else:\n",
        "        lst.append(i**3)\n",
        "\n",
        "print(lst)"
      ]
    },
    {
      "cell_type": "code",
      "execution_count": null,
      "id": "e9321853-e994-4027-92c1-d76ed6877b58",
      "metadata": {
        "id": "e9321853-e994-4027-92c1-d76ed6877b58"
      },
      "outputs": [],
      "source": [
        "# [Ternary operator for loop]"
      ]
    },
    {
      "cell_type": "code",
      "execution_count": null,
      "id": "b31bd096-15be-48a3-9936-0d56d0787a76",
      "metadata": {
        "id": "b31bd096-15be-48a3-9936-0d56d0787a76",
        "outputId": "238901c9-2ee8-4a26-bcba-ac43471019d8"
      },
      "outputs": [
        {
          "name": "stdout",
          "output_type": "stream",
          "text": [
            "(1, 5, 4, 9, 8, 3, 7, 5, 4, 12)\n"
          ]
        }
      ],
      "source": [
        "print(t)"
      ]
    },
    {
      "cell_type": "code",
      "execution_count": null,
      "id": "0f9da3d5-3ac9-4bfa-8ff8-f77311ff5475",
      "metadata": {
        "id": "0f9da3d5-3ac9-4bfa-8ff8-f77311ff5475",
        "outputId": "d95a5971-282e-457f-ee50-abc24f695f04"
      },
      "outputs": [
        {
          "name": "stdout",
          "output_type": "stream",
          "text": [
            "[1, 125, 16, 729, 64, 27, 343, 125, 16, 144]\n"
          ]
        }
      ],
      "source": [
        "lst=[i**2 if i%2==0 else i**3 for i in t]\n",
        "print(lst)"
      ]
    },
    {
      "cell_type": "code",
      "execution_count": null,
      "id": "bec6c70b-82dc-4fbb-a574-0eefe5605dbc",
      "metadata": {
        "id": "bec6c70b-82dc-4fbb-a574-0eefe5605dbc",
        "outputId": "7f091e32-8b0c-47a2-f771-be262c7903ff"
      },
      "outputs": [
        {
          "data": {
            "text/plain": [
              "16"
            ]
          },
          "execution_count": 206,
          "metadata": {},
          "output_type": "execute_result"
        }
      ],
      "source": [
        "i=4\n",
        "i**2 if i%2==0 else i**3"
      ]
    },
    {
      "cell_type": "code",
      "execution_count": null,
      "id": "78633010-a9c4-4d7e-9015-d7df61da94b7",
      "metadata": {
        "id": "78633010-a9c4-4d7e-9015-d7df61da94b7",
        "outputId": "4dd1633e-04a0-4e5c-fa4b-b946f8ef7624"
      },
      "outputs": [
        {
          "name": "stdout",
          "output_type": "stream",
          "text": [
            "['odd', 'odd', 'even', 'odd', 'even', 'odd', 'odd', 'odd', 'even', 'even']\n"
          ]
        }
      ],
      "source": [
        "lst=['even' if i%2==0 else 'odd' for i in t]\n",
        "print(lst)"
      ]
    },
    {
      "cell_type": "markdown",
      "id": "b556cef2-fb53-4ab4-8093-9130a9a69e68",
      "metadata": {
        "id": "b556cef2-fb53-4ab4-8093-9130a9a69e68"
      },
      "source": [
        "# Creating a 2-D list"
      ]
    },
    {
      "cell_type": "code",
      "execution_count": null,
      "id": "9c294066-7c60-497d-b0ac-32cce4eb621d",
      "metadata": {
        "id": "9c294066-7c60-497d-b0ac-32cce4eb621d"
      },
      "outputs": [],
      "source": [
        "# - When we have a list with in another list then we call it as 2-D list.\n",
        "# - When we repeat a 1-D list then we get a 2-D list."
      ]
    },
    {
      "cell_type": "code",
      "execution_count": null,
      "id": "a59109c0-32cf-41e3-a9b2-031128a2b47b",
      "metadata": {
        "id": "a59109c0-32cf-41e3-a9b2-031128a2b47b"
      },
      "outputs": [],
      "source": [
        "# [[]]"
      ]
    },
    {
      "cell_type": "code",
      "execution_count": null,
      "id": "666983f5-89ba-4749-ab7b-a1e15aaf6705",
      "metadata": {
        "id": "666983f5-89ba-4749-ab7b-a1e15aaf6705",
        "outputId": "2cb52abf-84ae-4911-9dd4-35c2474ca7a6"
      },
      "outputs": [
        {
          "name": "stdout",
          "output_type": "stream",
          "text": [
            "[[1, 2, 3], [1, 2, 3], [1, 2, 3]]\n"
          ]
        }
      ],
      "source": [
        "lst=[[1,2,3],[1,2,3],[1,2,3]]\n",
        "print(lst)"
      ]
    },
    {
      "cell_type": "code",
      "execution_count": null,
      "id": "f7527470-e3f4-401c-89f7-fef7d453a68b",
      "metadata": {
        "id": "f7527470-e3f4-401c-89f7-fef7d453a68b"
      },
      "outputs": [],
      "source": [
        "import numpy as np"
      ]
    },
    {
      "cell_type": "code",
      "execution_count": null,
      "id": "6d9f909f-2d15-446c-ab52-318dcc1375a3",
      "metadata": {
        "id": "6d9f909f-2d15-446c-ab52-318dcc1375a3",
        "outputId": "ed99033a-dcce-4a5d-fae2-45266b00056b"
      },
      "outputs": [
        {
          "data": {
            "text/plain": [
              "array([[1, 2, 3],\n",
              "       [1, 2, 3],\n",
              "       [1, 2, 3]])"
            ]
          },
          "execution_count": 233,
          "metadata": {},
          "output_type": "execute_result"
        }
      ],
      "source": [
        "arr=np.array([[1,2,3],[1,2,3],[1,2,3]])\n",
        "arr"
      ]
    },
    {
      "cell_type": "code",
      "execution_count": null,
      "id": "ecdd082f-bcc6-4a39-9daf-e3da04266dfb",
      "metadata": {
        "id": "ecdd082f-bcc6-4a39-9daf-e3da04266dfb"
      },
      "outputs": [],
      "source": [
        "# The number of inner lists are the number of rows\n",
        "# The number of elements in each list are the number of columns"
      ]
    },
    {
      "cell_type": "code",
      "execution_count": null,
      "id": "c835ef97-4fa9-4e53-9074-c037ccdf63d0",
      "metadata": {
        "id": "c835ef97-4fa9-4e53-9074-c037ccdf63d0",
        "outputId": "d9322139-e7ff-4536-adba-23afd613f60a"
      },
      "outputs": [
        {
          "name": "stdout",
          "output_type": "stream",
          "text": [
            "[[1, 2, 3, 4], [1, 2, 3, 4], [1, 2, 3, 4]]\n"
          ]
        }
      ],
      "source": [
        "lst=[[1,2,3,4],[1,2,3,4],[1,2,3,4]]\n",
        "print(lst)"
      ]
    },
    {
      "cell_type": "code",
      "execution_count": null,
      "id": "cf7f6b82-8ab1-4a4b-a8b1-978388c53352",
      "metadata": {
        "id": "cf7f6b82-8ab1-4a4b-a8b1-978388c53352"
      },
      "outputs": [],
      "source": [
        "# 3- rows\n",
        "# 4- columns"
      ]
    },
    {
      "cell_type": "code",
      "execution_count": null,
      "id": "9abb465d-f003-4425-93f8-20a16911c9dd",
      "metadata": {
        "id": "9abb465d-f003-4425-93f8-20a16911c9dd",
        "outputId": "e3bb9b4f-f356-4993-9e1d-af5f053a0e34"
      },
      "outputs": [
        {
          "data": {
            "text/plain": [
              "array([[1, 2, 3, 4],\n",
              "       [1, 2, 3, 4],\n",
              "       [1, 2, 3, 4]])"
            ]
          },
          "execution_count": 246,
          "metadata": {},
          "output_type": "execute_result"
        }
      ],
      "source": [
        "x=np.array(lst)\n",
        "x"
      ]
    },
    {
      "cell_type": "code",
      "execution_count": null,
      "id": "1e0f7571-0be2-4b1f-b00b-3906b7aea4b9",
      "metadata": {
        "id": "1e0f7571-0be2-4b1f-b00b-3906b7aea4b9",
        "outputId": "7512ee7d-2e35-424b-c6ed-3b698d401d99"
      },
      "outputs": [
        {
          "data": {
            "text/plain": [
              "(3, 4)"
            ]
          },
          "execution_count": 248,
          "metadata": {},
          "output_type": "execute_result"
        }
      ],
      "source": [
        "x.shape"
      ]
    },
    {
      "cell_type": "markdown",
      "id": "2c469a03-a4d9-4aed-82a0-1436109d8c58",
      "metadata": {
        "id": "2c469a03-a4d9-4aed-82a0-1436109d8c58"
      },
      "source": [
        "### Creating a 2-D list using loop"
      ]
    },
    {
      "cell_type": "code",
      "execution_count": null,
      "id": "bb1665d9-bc5e-4af9-8f2a-26c9bdae3af3",
      "metadata": {
        "id": "bb1665d9-bc5e-4af9-8f2a-26c9bdae3af3"
      },
      "outputs": [],
      "source": [
        "# Create a 3*4 list of numbers\n",
        "# 3- rows\n",
        "# 4- columns"
      ]
    },
    {
      "cell_type": "code",
      "execution_count": null,
      "id": "54faaa99-f242-4a7b-a408-28c227d3738e",
      "metadata": {
        "id": "54faaa99-f242-4a7b-a408-28c227d3738e",
        "outputId": "e88dc1b2-56a6-4cf9-bb55-fd88b0e83b5e"
      },
      "outputs": [
        {
          "name": "stdout",
          "output_type": "stream",
          "text": [
            "[0, 1, 2, 3]\n",
            "[[0, 1, 2, 3]]\n"
          ]
        }
      ],
      "source": [
        "inn=[]\n",
        "out=[]\n",
        "\n",
        "for i in range(4):\n",
        "    inn.append(i)\n",
        "print(inn)\n",
        "out.append(inn)\n",
        "print(out)"
      ]
    },
    {
      "cell_type": "code",
      "execution_count": null,
      "id": "3f4648b2-3735-4e6a-936f-3f4547d1909c",
      "metadata": {
        "id": "3f4648b2-3735-4e6a-936f-3f4547d1909c"
      },
      "outputs": [],
      "source": [
        "# Outer loop: > The number of rows\n",
        "#     Inner loop: -> The number of values in each list (columns)"
      ]
    },
    {
      "cell_type": "code",
      "execution_count": null,
      "id": "82463f55-6a12-49ab-952f-341429b58b42",
      "metadata": {
        "id": "82463f55-6a12-49ab-952f-341429b58b42",
        "outputId": "5a761aac-3733-43ad-d9c2-1c059815abc2"
      },
      "outputs": [
        {
          "name": "stdout",
          "output_type": "stream",
          "text": [
            "[[0, 1, 2, 3], [0, 1, 2, 3], [0, 1, 2, 3]]\n"
          ]
        }
      ],
      "source": [
        "inn=[]\n",
        "out=[]\n",
        "for i in range(3): # The number of rows\n",
        "    for j in range(4): # The number of columns\n",
        "        inn.append((j))\n",
        "    out.append(inn)\n",
        "    inn=[]\n",
        "print(out)"
      ]
    },
    {
      "cell_type": "markdown",
      "id": "c4887309-62ff-48bf-a918-c5d82ea2be30",
      "metadata": {
        "id": "c4887309-62ff-48bf-a918-c5d82ea2be30"
      },
      "source": [
        "### Creating a 2-D list using list comprehension"
      ]
    },
    {
      "cell_type": "code",
      "execution_count": null,
      "id": "ba0eaf80-eb83-4cea-89c1-d83a0f9e72cc",
      "metadata": {
        "id": "ba0eaf80-eb83-4cea-89c1-d83a0f9e72cc"
      },
      "outputs": [],
      "source": [
        "# Create a 3*4 list of numbers\n",
        "# 3- rows\n",
        "# 4- columns"
      ]
    },
    {
      "cell_type": "code",
      "execution_count": null,
      "id": "be55e959-416f-49b4-8fc1-023496578079",
      "metadata": {
        "id": "be55e959-416f-49b4-8fc1-023496578079",
        "outputId": "1e521e7e-3432-4de2-eff7-fa5dcbfc2561"
      },
      "outputs": [
        {
          "data": {
            "text/plain": [
              "[0, 1, 2, 3]"
            ]
          },
          "execution_count": 304,
          "metadata": {},
          "output_type": "execute_result"
        }
      ],
      "source": [
        "x=[i for i in range(4)]\n",
        "x"
      ]
    },
    {
      "cell_type": "code",
      "execution_count": null,
      "id": "4e61cb05-bd5c-4004-816e-a0a72bc706e4",
      "metadata": {
        "id": "4e61cb05-bd5c-4004-816e-a0a72bc706e4",
        "outputId": "9565cc78-3403-4694-ae04-2f9779a2bb8b"
      },
      "outputs": [
        {
          "data": {
            "text/plain": [
              "[[0, 1, 2, 3], [0, 1, 2, 3], [0, 1, 2, 3]]"
            ]
          },
          "execution_count": 312,
          "metadata": {},
          "output_type": "execute_result"
        }
      ],
      "source": [
        "[x for i in range(3)]"
      ]
    },
    {
      "cell_type": "code",
      "execution_count": null,
      "id": "56cdd2d7-4ce2-41d6-9812-f66f3c196346",
      "metadata": {
        "id": "56cdd2d7-4ce2-41d6-9812-f66f3c196346",
        "outputId": "58fb874a-7c03-4364-faa5-82e62bbafccd"
      },
      "outputs": [
        {
          "name": "stdout",
          "output_type": "stream",
          "text": [
            "[[0, 1, 2, 3], [0, 1, 2, 3], [0, 1, 2, 3]]\n"
          ]
        }
      ],
      "source": [
        "lst=[[i for i in range(4)] for j in range(3)]\n",
        "print(lst)"
      ]
    },
    {
      "cell_type": "markdown",
      "id": "7c0b1314-c617-4b4e-beb2-8cc648580496",
      "metadata": {
        "id": "7c0b1314-c617-4b4e-beb2-8cc648580496"
      },
      "source": [
        "# Creating a 3-D list"
      ]
    },
    {
      "cell_type": "markdown",
      "id": "5cabf56d-a08d-4528-8d88-c59424d5efcc",
      "metadata": {
        "id": "5cabf56d-a08d-4528-8d88-c59424d5efcc"
      },
      "source": [
        "### Creating a 3-D list using loop"
      ]
    },
    {
      "cell_type": "code",
      "execution_count": null,
      "id": "f0ff6b06-ea4a-4853-bb9a-edd00800f24f",
      "metadata": {
        "id": "f0ff6b06-ea4a-4853-bb9a-edd00800f24f"
      },
      "outputs": [],
      "source": [
        "# - When we repeat a 2-D list we get a 3-D list"
      ]
    },
    {
      "cell_type": "code",
      "execution_count": null,
      "id": "00959136-034d-4def-88de-765e1d2917a6",
      "metadata": {
        "id": "00959136-034d-4def-88de-765e1d2917a6"
      },
      "outputs": [],
      "source": [
        "for loop: # Layers\n",
        "    for loop: # Rows\n",
        "        for loop: # Columns"
      ]
    },
    {
      "cell_type": "code",
      "execution_count": null,
      "id": "f9c920ec-41f8-42c3-a085-ff040fc5f63f",
      "metadata": {
        "id": "f9c920ec-41f8-42c3-a085-ff040fc5f63f"
      },
      "outputs": [],
      "source": [
        "# Create a 2*3*4 list\n",
        "# 2- layers\n",
        "# 3- rows\n",
        "# 4- columns"
      ]
    },
    {
      "cell_type": "code",
      "execution_count": null,
      "id": "143aa985-5635-4e17-ba7b-e79767955a21",
      "metadata": {
        "id": "143aa985-5635-4e17-ba7b-e79767955a21",
        "outputId": "d3c61fc2-7423-4b87-f649-d99df5f51b18"
      },
      "outputs": [
        {
          "name": "stdout",
          "output_type": "stream",
          "text": [
            "[[[0, 1, 2, 3], [0, 1, 2, 3], [0, 1, 2, 3]], [[0, 1, 2, 3], [0, 1, 2, 3], [0, 1, 2, 3]]]\n"
          ]
        }
      ],
      "source": [
        "inn=[]\n",
        "mid=[]\n",
        "final=[]\n",
        "\n",
        "for i in range(2):\n",
        "    for j in range(3):\n",
        "        for k in range(4):\n",
        "            inn.append(k)\n",
        "        mid.append(inn)\n",
        "        inn=[]\n",
        "    final.append(mid)\n",
        "    mid=[]\n",
        "\n",
        "print(final)"
      ]
    },
    {
      "cell_type": "code",
      "execution_count": null,
      "id": "b74fbacf-7132-43ea-adbb-4b401c84cf73",
      "metadata": {
        "id": "b74fbacf-7132-43ea-adbb-4b401c84cf73"
      },
      "outputs": [],
      "source": [
        "arr=np.array(final)"
      ]
    },
    {
      "cell_type": "code",
      "execution_count": null,
      "id": "52a4228d-7a16-4cde-ac50-a1890d92deb7",
      "metadata": {
        "id": "52a4228d-7a16-4cde-ac50-a1890d92deb7",
        "outputId": "de1f6067-d2a4-4a21-ac8f-77fd5a7ef279"
      },
      "outputs": [
        {
          "data": {
            "text/plain": [
              "array([[[0, 1, 2, 3],\n",
              "        [0, 1, 2, 3],\n",
              "        [0, 1, 2, 3]],\n",
              "\n",
              "       [[0, 1, 2, 3],\n",
              "        [0, 1, 2, 3],\n",
              "        [0, 1, 2, 3]]])"
            ]
          },
          "execution_count": 339,
          "metadata": {},
          "output_type": "execute_result"
        }
      ],
      "source": [
        "arr"
      ]
    },
    {
      "cell_type": "code",
      "execution_count": null,
      "id": "06d82ba5-0ec8-4726-8159-598c51124554",
      "metadata": {
        "id": "06d82ba5-0ec8-4726-8159-598c51124554",
        "outputId": "2d1c72a1-2663-48ec-b137-e32d379723a7"
      },
      "outputs": [
        {
          "data": {
            "text/plain": [
              "(2, 3, 4)"
            ]
          },
          "execution_count": 341,
          "metadata": {},
          "output_type": "execute_result"
        }
      ],
      "source": [
        "arr.shape"
      ]
    },
    {
      "cell_type": "markdown",
      "id": "2bc3d547-4bf0-4f2b-8698-c960ac6b7bd7",
      "metadata": {
        "id": "2bc3d547-4bf0-4f2b-8698-c960ac6b7bd7"
      },
      "source": [
        "### Creating a 3-D list using list comprehension"
      ]
    },
    {
      "cell_type": "code",
      "execution_count": null,
      "id": "7679ec9a-3990-492d-a97a-e17d2b1079ad",
      "metadata": {
        "id": "7679ec9a-3990-492d-a97a-e17d2b1079ad"
      },
      "outputs": [],
      "source": [
        "# [[[cols]rows]layers]"
      ]
    },
    {
      "cell_type": "code",
      "execution_count": null,
      "id": "00002a2e-d150-472b-955b-bd338978c07d",
      "metadata": {
        "id": "00002a2e-d150-472b-955b-bd338978c07d",
        "outputId": "92e1ec31-881b-4c85-e719-1dbb19a62ce1"
      },
      "outputs": [
        {
          "name": "stdout",
          "output_type": "stream",
          "text": [
            "[[[0, 1, 2, 3], [0, 1, 2, 3], [0, 1, 2, 3]], [[0, 1, 2, 3], [0, 1, 2, 3], [0, 1, 2, 3]]] <class 'list'>\n"
          ]
        }
      ],
      "source": [
        "lst=[[[i for i in range(4)] for j in range(3)] for k in range(2)]\n",
        "print(lst,type(lst))"
      ]
    },
    {
      "cell_type": "code",
      "execution_count": null,
      "id": "a37536cb-9de2-4c6d-9573-8f0362114ffa",
      "metadata": {
        "id": "a37536cb-9de2-4c6d-9573-8f0362114ffa",
        "outputId": "2df5101a-da62-4587-cf79-35c6a658f9ba"
      },
      "outputs": [
        {
          "data": {
            "text/plain": [
              "array([[[0, 1, 2, 3],\n",
              "        [0, 1, 2, 3],\n",
              "        [0, 1, 2, 3]],\n",
              "\n",
              "       [[0, 1, 2, 3],\n",
              "        [0, 1, 2, 3],\n",
              "        [0, 1, 2, 3]]])"
            ]
          },
          "execution_count": 363,
          "metadata": {},
          "output_type": "execute_result"
        }
      ],
      "source": [
        "np.array(lst)"
      ]
    },
    {
      "cell_type": "markdown",
      "id": "6b765c41-abbd-4e22-9951-928ed2227a4d",
      "metadata": {
        "id": "6b765c41-abbd-4e22-9951-928ed2227a4d"
      },
      "source": [
        "# Maximum of a list"
      ]
    },
    {
      "cell_type": "code",
      "execution_count": null,
      "id": "1f2fae23-34dc-4723-b458-71a074f6d138",
      "metadata": {
        "id": "1f2fae23-34dc-4723-b458-71a074f6d138"
      },
      "outputs": [],
      "source": [
        "lst=[2,6,8,4,15,7,6,2]\n",
        "# Find the maximum of the list using loop"
      ]
    },
    {
      "cell_type": "code",
      "execution_count": null,
      "id": "cd164c0b-9982-461c-98a0-f60b7abe9d77",
      "metadata": {
        "id": "cd164c0b-9982-461c-98a0-f60b7abe9d77",
        "outputId": "482aca18-e8f4-4db9-b295-c90751e2eb4e"
      },
      "outputs": [
        {
          "name": "stdout",
          "output_type": "stream",
          "text": [
            "15\n"
          ]
        }
      ],
      "source": [
        "print(max(lst))"
      ]
    },
    {
      "cell_type": "code",
      "execution_count": null,
      "id": "621aa755-6b56-4b34-94a9-83f9a8fca9d5",
      "metadata": {
        "id": "621aa755-6b56-4b34-94a9-83f9a8fca9d5",
        "outputId": "0c0ba772-3b30-4de0-d2aa-a34c12844928"
      },
      "outputs": [
        {
          "data": {
            "text/plain": [
              "True"
            ]
          },
          "execution_count": 389,
          "metadata": {},
          "output_type": "execute_result"
        }
      ],
      "source": [
        "# Approach-\n",
        "max=2\n",
        "max>6\n",
        "max=6\n",
        "max>8\n",
        "max=8\n",
        "max\n",
        "max>4\n",
        "max>15\n",
        "max=15\n",
        "max>7\n",
        "max>6\n",
        "max>2"
      ]
    },
    {
      "cell_type": "code",
      "execution_count": null,
      "id": "58cad0f6-b4df-4ca8-bd7b-fcd64bbe182f",
      "metadata": {
        "id": "58cad0f6-b4df-4ca8-bd7b-fcd64bbe182f",
        "outputId": "fa8cfbe9-34bb-4491-ca7e-4e2206c37714"
      },
      "outputs": [
        {
          "name": "stdout",
          "output_type": "stream",
          "text": [
            "15\n"
          ]
        }
      ],
      "source": [
        "lst=[2,6,8,4,15,7,6,2]\n",
        "# Find the maximum of the list using loop\n",
        "\n",
        "max=lst[0]\n",
        "# print(max)\n",
        "\n",
        "for i in lst:\n",
        "    if max<i:\n",
        "        max=i\n",
        "print(max)"
      ]
    },
    {
      "cell_type": "code",
      "execution_count": null,
      "id": "09a991d0-64ef-40dd-a967-760d888cea8e",
      "metadata": {
        "id": "09a991d0-64ef-40dd-a967-760d888cea8e",
        "outputId": "dccf514f-3eb5-4ec5-a304-3d240b78ac15"
      },
      "outputs": [
        {
          "name": "stdout",
          "output_type": "stream",
          "text": [
            "15\n"
          ]
        }
      ],
      "source": [
        "lst=[2,6,8,4,15,7,6,2]\n",
        "# Find the maximum of the list using loop\n",
        "\n",
        "max=0\n",
        "# print(max)\n",
        "\n",
        "for i in lst:\n",
        "    if max<i:\n",
        "        max=i\n",
        "print(max)"
      ]
    },
    {
      "cell_type": "code",
      "execution_count": null,
      "id": "85a28b16-f5fe-4334-8f49-6825a02161ec",
      "metadata": {
        "id": "85a28b16-f5fe-4334-8f49-6825a02161ec",
        "outputId": "28b6831c-39d3-4845-e786-513085c9b992"
      },
      "outputs": [
        {
          "name": "stdout",
          "output_type": "stream",
          "text": [
            "-1\n"
          ]
        }
      ],
      "source": [
        "lst=[-2,-5,-7,-3,-1,-8,-9,-11,-4]\n",
        "\n",
        "max=lst[0]\n",
        "# print(max)\n",
        "\n",
        "for i in lst:\n",
        "    if max<i:\n",
        "        max=i\n",
        "print(max)"
      ]
    },
    {
      "cell_type": "markdown",
      "id": "77a41ef4-2831-4a5e-bdf9-24497b93a477",
      "metadata": {
        "id": "77a41ef4-2831-4a5e-bdf9-24497b93a477"
      },
      "source": [
        "# Minimum of a list"
      ]
    },
    {
      "cell_type": "code",
      "execution_count": null,
      "id": "11f7c7a1-d334-45ec-99c3-d06114ad0159",
      "metadata": {
        "id": "11f7c7a1-d334-45ec-99c3-d06114ad0159",
        "outputId": "a1bc1c33-fce9-41bf-dd32-a53990d0f531"
      },
      "outputs": [
        {
          "name": "stdout",
          "output_type": "stream",
          "text": [
            "-15\n"
          ]
        }
      ],
      "source": [
        "lst=[8,0,-5,4,-15,7,1,2]\n",
        "\n",
        "min=lst[0]\n",
        "for i in lst:\n",
        "    if min>i:\n",
        "        min=i\n",
        "print(min)"
      ]
    },
    {
      "cell_type": "markdown",
      "id": "67cc5954-1986-475c-9918-00ea46fffdcf",
      "metadata": {
        "id": "67cc5954-1986-475c-9918-00ea46fffdcf"
      },
      "source": [
        "# Sorting a list using loop"
      ]
    },
    {
      "cell_type": "code",
      "execution_count": null,
      "id": "2ba4e33e-12f0-445d-85d5-c6afb742ffbd",
      "metadata": {
        "id": "2ba4e33e-12f0-445d-85d5-c6afb742ffbd",
        "outputId": "a29d9a94-8fa4-42b8-ab03-82cf28aef8ba"
      },
      "outputs": [
        {
          "name": "stdout",
          "output_type": "stream",
          "text": [
            "[2, 4, 4, 6, 7, 8, 12, 15]\n"
          ]
        }
      ],
      "source": [
        "lst=[12,4,8,4,15,7,6,2]\n",
        "for i in range(len(lst)):\n",
        "    for j in range(i+1,len(lst)):\n",
        "       if lst[i]>lst[j]:\n",
        "           lst[i],lst[j]=lst[j],lst[i]\n",
        "print(lst)"
      ]
    },
    {
      "cell_type": "code",
      "execution_count": null,
      "id": "febafb85-7602-43db-b8dd-9e8a255e0fec",
      "metadata": {
        "id": "febafb85-7602-43db-b8dd-9e8a255e0fec"
      },
      "outputs": [],
      "source": [
        "i=0\n",
        "j=0"
      ]
    },
    {
      "cell_type": "code",
      "execution_count": null,
      "id": "ffba599b-1856-426e-9b03-562547188b3f",
      "metadata": {
        "id": "ffba599b-1856-426e-9b03-562547188b3f",
        "outputId": "036695bb-ab85-4a11-ba8f-2b1984fd49df"
      },
      "outputs": [
        {
          "name": "stdout",
          "output_type": "stream",
          "text": [
            "3\n",
            "5\n"
          ]
        }
      ],
      "source": [
        "a=5\n",
        "b=3\n",
        "if a>b:\n",
        "    a,b=b,a\n",
        "print(a)\n",
        "print(b)"
      ]
    },
    {
      "cell_type": "markdown",
      "id": "644963e7-b9df-4236-9111-bcfab4daefa9",
      "metadata": {
        "id": "644963e7-b9df-4236-9111-bcfab4daefa9"
      },
      "source": [
        "# List is mutable"
      ]
    },
    {
      "cell_type": "markdown",
      "id": "6a779322-970b-4dbe-a92c-b4e5fd77df2a",
      "metadata": {
        "id": "6a779322-970b-4dbe-a92c-b4e5fd77df2a"
      },
      "source": [
        "### Mutability"
      ]
    },
    {
      "cell_type": "code",
      "execution_count": null,
      "id": "22c33e40-e1c5-4429-b0ff-7635fc8aa689",
      "metadata": {
        "id": "22c33e40-e1c5-4429-b0ff-7635fc8aa689"
      },
      "outputs": [],
      "source": [
        "# - We can modify an element inside the container.\n",
        "# - Item assignment is possible.\n",
        "# - The address of the container remains the same before and after the modification."
      ]
    },
    {
      "cell_type": "code",
      "execution_count": null,
      "id": "38bea664-a43f-4685-a625-dbbc757f9488",
      "metadata": {
        "id": "38bea664-a43f-4685-a625-dbbc757f9488",
        "outputId": "9bb5068f-7a55-41a9-b2c1-283f31ddde86"
      },
      "outputs": [
        {
          "name": "stdout",
          "output_type": "stream",
          "text": [
            "[10, 20, 30, 40, 50] 2750732637184\n"
          ]
        }
      ],
      "source": [
        "lst=[10,20,30,40,50]\n",
        "print(lst,id(lst))"
      ]
    },
    {
      "cell_type": "code",
      "execution_count": null,
      "id": "88735126-ac4a-4c2d-8091-990e857462e5",
      "metadata": {
        "id": "88735126-ac4a-4c2d-8091-990e857462e5",
        "outputId": "425bd9b5-7baa-42c5-adc4-fe5a48dd4ae4"
      },
      "outputs": [
        {
          "name": "stdout",
          "output_type": "stream",
          "text": [
            "[True, 20, 30, 40, 50] 2750732637184\n"
          ]
        }
      ],
      "source": [
        "lst[0]=True # Item assignment\n",
        "print(lst,id(lst))"
      ]
    },
    {
      "cell_type": "code",
      "execution_count": null,
      "id": "e63e9547-7426-491a-86ad-2dba09867c98",
      "metadata": {
        "id": "e63e9547-7426-491a-86ad-2dba09867c98",
        "outputId": "2b244eab-56d1-4b16-bb1c-45fc08e0910e"
      },
      "outputs": [
        {
          "name": "stdout",
          "output_type": "stream",
          "text": [
            "[True, 20, 30, 40, (5+6j)] 2750732637184\n"
          ]
        }
      ],
      "source": [
        "lst[-1]=5+6j # Item assignment\n",
        "print(lst,id(lst))"
      ]
    },
    {
      "cell_type": "markdown",
      "id": "96bf4762-f91e-41d8-b3ed-ea079c43999f",
      "metadata": {
        "id": "96bf4762-f91e-41d8-b3ed-ea079c43999f"
      },
      "source": [
        "# List Methods"
      ]
    },
    {
      "cell_type": "code",
      "execution_count": null,
      "id": "f717937c-f3b9-44c6-8784-4676b643b0fa",
      "metadata": {
        "id": "f717937c-f3b9-44c6-8784-4676b643b0fa",
        "outputId": "9dde88f0-be88-40b7-ed1d-21e8610e8464"
      },
      "outputs": [
        {
          "name": "stdout",
          "output_type": "stream",
          "text": [
            "['__add__', '__class__', '__class_getitem__', '__contains__', '__delattr__', '__delitem__', '__dir__', '__doc__', '__eq__', '__format__', '__ge__', '__getattribute__', '__getitem__', '__getstate__', '__gt__', '__hash__', '__iadd__', '__imul__', '__init__', '__init_subclass__', '__iter__', '__le__', '__len__', '__lt__', '__mul__', '__ne__', '__new__', '__reduce__', '__reduce_ex__', '__repr__', '__reversed__', '__rmul__', '__setattr__', '__setitem__', '__sizeof__', '__str__', '__subclasshook__', 'append', 'clear', 'copy', 'count', 'extend', 'index', 'insert', 'pop', 'remove', 'reverse', 'sort']\n"
          ]
        }
      ],
      "source": [
        "print(dir(list))"
      ]
    },
    {
      "cell_type": "code",
      "execution_count": null,
      "id": "d4648be2-f942-4cf3-a34c-c1d385dffce7",
      "metadata": {
        "id": "d4648be2-f942-4cf3-a34c-c1d385dffce7"
      },
      "outputs": [],
      "source": [
        "# 'append', 'clear', 'copy', 'count', 'extend', 'index', 'insert', 'pop', 'remove', 'reverse', 'sort'"
      ]
    },
    {
      "cell_type": "markdown",
      "id": "4d868b0d-1069-48ab-bb4c-ccd553fe9e2a",
      "metadata": {
        "id": "4d868b0d-1069-48ab-bb4c-ccd553fe9e2a"
      },
      "source": [
        "# append()"
      ]
    },
    {
      "cell_type": "code",
      "execution_count": null,
      "id": "5c5f5b5e-6223-4d40-a01c-e0a5ae4f3baa",
      "metadata": {
        "id": "5c5f5b5e-6223-4d40-a01c-e0a5ae4f3baa"
      },
      "outputs": [],
      "source": [
        "# - append() takes a value as an argument and appends (add) it at the end of the list.\n",
        "# - It makes the changes in the existing list, It does not return any object."
      ]
    },
    {
      "cell_type": "code",
      "execution_count": null,
      "id": "782817d9-4fad-43be-baff-63d0582ae3f8",
      "metadata": {
        "id": "782817d9-4fad-43be-baff-63d0582ae3f8"
      },
      "outputs": [],
      "source": [
        "# lst.append(value)"
      ]
    },
    {
      "cell_type": "code",
      "execution_count": null,
      "id": "22ed58ef-1d9f-437c-9bc9-4255b2bf0a02",
      "metadata": {
        "id": "22ed58ef-1d9f-437c-9bc9-4255b2bf0a02",
        "outputId": "545e2d72-b0ae-4cb5-c749-dd7b75f727fc"
      },
      "outputs": [
        {
          "name": "stdout",
          "output_type": "stream",
          "text": [
            "[10, 20, 30, 40, 50]\n",
            "[10, 20, 30, 40, 50, 100]\n",
            "[10, 20, 30, 40, 50, 100, (1, 2, 3, 4)]\n"
          ]
        }
      ],
      "source": [
        "lst=[10,20,30,40,50]\n",
        "print(lst)\n",
        "\n",
        "lst.append(100)\n",
        "print(lst)\n",
        "\n",
        "lst.append((1,2,3,4))\n",
        "print(lst)"
      ]
    },
    {
      "cell_type": "code",
      "execution_count": null,
      "id": "101f21a4-6b22-4b34-aafc-115b8db30a71",
      "metadata": {
        "id": "101f21a4-6b22-4b34-aafc-115b8db30a71",
        "outputId": "97872040-2d9e-4d60-9943-382980765085"
      },
      "outputs": [
        {
          "name": "stdout",
          "output_type": "stream",
          "text": [
            "None\n"
          ]
        }
      ],
      "source": [
        "lst=[10,20,30,40,50]\n",
        "x=lst.append(100)\n",
        "print(x)"
      ]
    },
    {
      "cell_type": "code",
      "execution_count": null,
      "id": "bef04cae-3a3e-4521-b38e-a4c4062313b2",
      "metadata": {
        "id": "bef04cae-3a3e-4521-b38e-a4c4062313b2",
        "outputId": "49869616-a964-47d0-d736-c5b82c89afd6"
      },
      "outputs": [
        {
          "name": "stdout",
          "output_type": "stream",
          "text": [
            "[10, 20, 30, 40, 50, 100]\n"
          ]
        }
      ],
      "source": [
        "print(lst)"
      ]
    },
    {
      "cell_type": "markdown",
      "id": "ccb81802-658d-4700-8fa2-dc0e755e9742",
      "metadata": {
        "id": "ccb81802-658d-4700-8fa2-dc0e755e9742"
      },
      "source": [
        "# extend()"
      ]
    },
    {
      "cell_type": "code",
      "execution_count": null,
      "id": "694a0bd1-b062-4332-9922-292f7ac03864",
      "metadata": {
        "id": "694a0bd1-b062-4332-9922-292f7ac03864"
      },
      "outputs": [],
      "source": [
        "# - It takes an iterable as an input.\n",
        "# - It appends the elements of the iterable to the list one by one.\n",
        "# - It makes the changes in the existing list.\n",
        "# - It does not return anything."
      ]
    },
    {
      "cell_type": "code",
      "execution_count": null,
      "id": "59dce555-0269-4258-8135-de9dc3b564bb",
      "metadata": {
        "id": "59dce555-0269-4258-8135-de9dc3b564bb"
      },
      "outputs": [],
      "source": [
        "# lst.extend(iterable)"
      ]
    },
    {
      "cell_type": "code",
      "execution_count": null,
      "id": "ab914553-8854-4375-80b3-6702c30d4296",
      "metadata": {
        "id": "ab914553-8854-4375-80b3-6702c30d4296",
        "outputId": "4d7533d8-6769-423d-d949-702f55aceced"
      },
      "outputs": [
        {
          "name": "stdout",
          "output_type": "stream",
          "text": [
            "[10, 20, 30, 40] 2750732889536\n",
            "[10, 20, 30, 40, 'P', 'y', 't', 'h', 'o', 'n'] 2750732889536\n"
          ]
        }
      ],
      "source": [
        "lst=[10,20,30,40]\n",
        "print(lst,id(lst))\n",
        "\n",
        "lst.extend('Python')\n",
        "print(lst,id(lst))"
      ]
    },
    {
      "cell_type": "code",
      "execution_count": null,
      "id": "ae3c5995-48c9-4080-a9ed-fc4e6f7cb341",
      "metadata": {
        "id": "ae3c5995-48c9-4080-a9ed-fc4e6f7cb341",
        "outputId": "7b354bc5-3433-4869-f754-f6960013b60a"
      },
      "outputs": [
        {
          "name": "stdout",
          "output_type": "stream",
          "text": [
            "[10, 20, 30, 40]\n",
            "[10, 20, 30, 40, 'Python']\n"
          ]
        }
      ],
      "source": [
        "lst=[10,20,30,40]\n",
        "print(lst)\n",
        "\n",
        "lst.append('Python')\n",
        "print(lst)"
      ]
    },
    {
      "cell_type": "code",
      "execution_count": null,
      "id": "02101d48-ab8d-4057-8299-f061a810895f",
      "metadata": {
        "id": "02101d48-ab8d-4057-8299-f061a810895f",
        "outputId": "629c27d2-90be-443b-8ebb-c3d880a2bda6"
      },
      "outputs": [
        {
          "name": "stdout",
          "output_type": "stream",
          "text": [
            "[10, 20, 30, 40]\n",
            "[10, 20, 30, 40, [1, 2, 3], 'Python', {1, 2, 3}, {1: 0, 2: 200}]\n"
          ]
        }
      ],
      "source": [
        "lst=[10,20,30,40]\n",
        "print(lst)\n",
        "\n",
        "lst.extend(([1,2,3],'Python',{1,2,3},{1:00,2:200}))\n",
        "print(lst)"
      ]
    },
    {
      "cell_type": "code",
      "execution_count": null,
      "id": "9e1b63b8-6f97-4934-800a-29ad6b331f80",
      "metadata": {
        "id": "9e1b63b8-6f97-4934-800a-29ad6b331f80",
        "outputId": "ba005b3c-c5ad-4de2-9511-39a84dd0805b"
      },
      "outputs": [
        {
          "name": "stdout",
          "output_type": "stream",
          "text": [
            "None\n",
            "[10, 20, 30, 40, 50, 60, 70, 80, 4, 5, 6]\n"
          ]
        }
      ],
      "source": [
        "lst=[10,20,30,40,50,60,70,80]\n",
        "x=lst.extend({4,5,6})\n",
        "print(x)\n",
        "print(lst)"
      ]
    },
    {
      "cell_type": "code",
      "execution_count": null,
      "id": "e220f547-9804-41d9-a200-da57cdba4a15",
      "metadata": {
        "id": "e220f547-9804-41d9-a200-da57cdba4a15",
        "outputId": "90ed4a77-37f2-4276-aa26-8c779269ec19"
      },
      "outputs": [
        {
          "ename": "TypeError",
          "evalue": "'bool' object is not iterable",
          "output_type": "error",
          "traceback": [
            "\u001b[1;31m---------------------------------------------------------------------------\u001b[0m",
            "\u001b[1;31mTypeError\u001b[0m                                 Traceback (most recent call last)",
            "Cell \u001b[1;32mIn[532], line 2\u001b[0m\n\u001b[0;32m      1\u001b[0m lst\u001b[38;5;241m=\u001b[39m[\u001b[38;5;241m10\u001b[39m,\u001b[38;5;241m20\u001b[39m]\n\u001b[1;32m----> 2\u001b[0m lst\u001b[38;5;241m.\u001b[39mextend(\u001b[38;5;28;01mTrue\u001b[39;00m)\n",
            "\u001b[1;31mTypeError\u001b[0m: 'bool' object is not iterable"
          ]
        }
      ],
      "source": [
        "lst=[10,20]\n",
        "lst.extend(True)"
      ]
    },
    {
      "cell_type": "markdown",
      "id": "51b0b64d-8257-46f0-a6ec-7851fb21ad25",
      "metadata": {
        "id": "51b0b64d-8257-46f0-a6ec-7851fb21ad25"
      },
      "source": [
        "# count()"
      ]
    },
    {
      "cell_type": "code",
      "execution_count": null,
      "id": "67625db8-c104-48f1-b1e7-5599eace47c0",
      "metadata": {
        "id": "67625db8-c104-48f1-b1e7-5599eace47c0"
      },
      "outputs": [],
      "source": [
        "# - It returns the count of the specified values in a list.\n",
        "# - If the value is not found then it returns 0."
      ]
    },
    {
      "cell_type": "code",
      "execution_count": null,
      "id": "18e27d5e-ae83-479a-a4a8-484f40fe2f8c",
      "metadata": {
        "id": "18e27d5e-ae83-479a-a4a8-484f40fe2f8c"
      },
      "outputs": [],
      "source": [
        "# lst.count(element)"
      ]
    },
    {
      "cell_type": "code",
      "execution_count": null,
      "id": "f225a435-747f-47a6-a9fa-9daad37eefef",
      "metadata": {
        "id": "f225a435-747f-47a6-a9fa-9daad37eefef",
        "outputId": "eddec18b-5fe0-4600-faca-c4984e2612f1"
      },
      "outputs": [
        {
          "name": "stdout",
          "output_type": "stream",
          "text": [
            "4\n",
            "6\n",
            "1\n",
            "1\n",
            "0\n"
          ]
        }
      ],
      "source": [
        "lst=[1,1,1,1,5,5,55,5,5,5,5,9,9,9,9,9,9,0]\n",
        "print(lst.count(1))\n",
        "print(lst.count(5))\n",
        "print(lst.count(0))\n",
        "print(lst.count(55))\n",
        "print(lst.count(100))"
      ]
    },
    {
      "cell_type": "markdown",
      "id": "4c0917de-b8a0-49de-91eb-d212bd0a0498",
      "metadata": {
        "id": "4c0917de-b8a0-49de-91eb-d212bd0a0498"
      },
      "source": [
        "# index()"
      ]
    },
    {
      "cell_type": "code",
      "execution_count": null,
      "id": "ac0712d9-8c96-473e-8d42-9b5957d167ba",
      "metadata": {
        "id": "ac0712d9-8c96-473e-8d42-9b5957d167ba"
      },
      "outputs": [],
      "source": [
        "# - It returns the index of the first occurence from left to right of the specified element.\n",
        "# - If the element is not found then it raises ValueError."
      ]
    },
    {
      "cell_type": "code",
      "execution_count": null,
      "id": "7126195f-3e42-4a87-80c5-4df9e157f6ea",
      "metadata": {
        "id": "7126195f-3e42-4a87-80c5-4df9e157f6ea"
      },
      "outputs": [],
      "source": [
        "# lst.index(element, start, stop)\n",
        "# stop index is excluded"
      ]
    },
    {
      "cell_type": "code",
      "execution_count": null,
      "id": "e90e71d7-ff8c-4ba8-9ef2-b6bd9297b71f",
      "metadata": {
        "id": "e90e71d7-ff8c-4ba8-9ef2-b6bd9297b71f",
        "outputId": "7c53a677-de2a-400d-c10d-c2874c444afd"
      },
      "outputs": [
        {
          "name": "stdout",
          "output_type": "stream",
          "text": [
            "0\n",
            "6\n",
            "3\n",
            "7\n",
            "4\n"
          ]
        }
      ],
      "source": [
        "lst=['Java','C','C++','Python','Java','C#','R','Python','Python','Scala']\n",
        "print(lst.index('Java'))\n",
        "print(lst.index('R'))\n",
        "print(lst.index('Python'))\n",
        "print(lst.index('Python',4))\n",
        "print(lst.index('Java',1,5))"
      ]
    },
    {
      "cell_type": "markdown",
      "id": "95104632-c4bf-4449-b88a-08fcdbd10da8",
      "metadata": {
        "id": "95104632-c4bf-4449-b88a-08fcdbd10da8"
      },
      "source": [
        "# insert()"
      ]
    },
    {
      "cell_type": "code",
      "execution_count": null,
      "id": "5dbf34fb-fc4e-471b-9a61-0c1ae271da2a",
      "metadata": {
        "id": "5dbf34fb-fc4e-471b-9a61-0c1ae271da2a"
      },
      "outputs": [],
      "source": [
        "# - It is used to insert an element at a particluar index.\n",
        "# - The exeisting element get shifted to the right."
      ]
    },
    {
      "cell_type": "code",
      "execution_count": null,
      "id": "f326b894-3a08-4b33-a22d-7408df3b4631",
      "metadata": {
        "id": "f326b894-3a08-4b33-a22d-7408df3b4631"
      },
      "outputs": [],
      "source": [
        "# lst.insert(index,element)"
      ]
    },
    {
      "cell_type": "code",
      "execution_count": null,
      "id": "eec68d10-af17-4ad3-9325-f424522107e4",
      "metadata": {
        "id": "eec68d10-af17-4ad3-9325-f424522107e4",
        "outputId": "29840696-6adb-4a90-acea-29d952a95bd4"
      },
      "outputs": [
        {
          "name": "stdout",
          "output_type": "stream",
          "text": [
            "[10, 20, 50, 30, 40, 50, 60]\n"
          ]
        }
      ],
      "source": [
        "lst=[10,20,30,40,50,60]\n",
        "\n",
        "# Insert 50 at index 2\n",
        "\n",
        "lst.insert(2,50)\n",
        "print(lst)"
      ]
    },
    {
      "cell_type": "code",
      "execution_count": null,
      "id": "66fb624d-a984-425e-b61d-21ad56d23ca5",
      "metadata": {
        "id": "66fb624d-a984-425e-b61d-21ad56d23ca5",
        "outputId": "51c13313-39e1-4417-e1d2-80b525cfd7a3"
      },
      "outputs": [
        {
          "name": "stdout",
          "output_type": "stream",
          "text": [
            "[10, 20, 30, 40, 50, None, 60]\n"
          ]
        }
      ],
      "source": [
        "lst=[10,20,30,40,50,60]\n",
        "\n",
        "lst.insert(-1,None)\n",
        "print(lst)"
      ]
    },
    {
      "cell_type": "code",
      "execution_count": null,
      "id": "15c2d46e-88ce-408c-8c52-a73f49608df0",
      "metadata": {
        "id": "15c2d46e-88ce-408c-8c52-a73f49608df0",
        "outputId": "e3f0691a-68fc-4877-b430-c994625a47e7"
      },
      "outputs": [
        {
          "name": "stdout",
          "output_type": "stream",
          "text": [
            "[10, 20, 30, 40, 50, 60]\n",
            "[10, 20, 30, 40, 50, 60, True]\n"
          ]
        }
      ],
      "source": [
        "lst=[10,20,30,40,50,60]\n",
        "print(lst)\n",
        "lst.insert(len(lst),True)\n",
        "print(lst)"
      ]
    },
    {
      "cell_type": "markdown",
      "id": "3ed83c77-bf86-4336-a0e3-2d416da93c90",
      "metadata": {
        "id": "3ed83c77-bf86-4336-a0e3-2d416da93c90"
      },
      "source": [
        "# pop()"
      ]
    },
    {
      "cell_type": "code",
      "execution_count": null,
      "id": "dad40a64-59c7-4e47-b586-d41747a4575b",
      "metadata": {
        "id": "dad40a64-59c7-4e47-b586-d41747a4575b"
      },
      "outputs": [],
      "source": [
        "# - It takes the index as an argument and returns the elements at that index also removes it from the list.\n",
        "# - By default it returns and removes the last element.\n",
        "# - If the invalid index is there the it raises index error."
      ]
    },
    {
      "cell_type": "code",
      "execution_count": null,
      "id": "2595f8af-ca0d-47ae-b19b-48ba4041f0bb",
      "metadata": {
        "id": "2595f8af-ca0d-47ae-b19b-48ba4041f0bb"
      },
      "outputs": [],
      "source": [
        "# lst.pop(index)\n",
        "# lst.pop()"
      ]
    },
    {
      "cell_type": "code",
      "execution_count": null,
      "id": "86267035-cf6e-4395-9f6f-ecf1b4f9d228",
      "metadata": {
        "id": "86267035-cf6e-4395-9f6f-ecf1b4f9d228",
        "outputId": "db6a3f48-01a0-4075-c955-9a2345b6e782"
      },
      "outputs": [
        {
          "name": "stdout",
          "output_type": "stream",
          "text": [
            "[True, 'Python', (5+5j), None, 4500, 6.999999, False, 8400]\n",
            "6.999999\n",
            "[True, 'Python', (5+5j), None, 4500, False, 8400]\n",
            "8400\n",
            "[True, 'Python', (5+5j), None, 4500, False]\n",
            "False\n",
            "[True, 'Python', (5+5j), None, 4500]\n"
          ]
        }
      ],
      "source": [
        "lst=[True, 'Python', 5+5j, None, 4500, 6.999999, False, 8400]\n",
        "print(lst)\n",
        "\n",
        "x=lst.pop(5)\n",
        "print(x)\n",
        "print(lst)\n",
        "\n",
        "x=lst.pop()\n",
        "print(x)\n",
        "print(lst)\n",
        "\n",
        "x=lst.pop()\n",
        "print(x)\n",
        "print(lst)"
      ]
    },
    {
      "cell_type": "markdown",
      "id": "fff59d32-5d1d-4c23-970d-b9b3d0aac9a7",
      "metadata": {
        "id": "fff59d32-5d1d-4c23-970d-b9b3d0aac9a7"
      },
      "source": [
        "# remove()"
      ]
    },
    {
      "cell_type": "code",
      "execution_count": null,
      "id": "5825fa68-22f1-4ad4-b668-98469ecbb231",
      "metadata": {
        "id": "5825fa68-22f1-4ad4-b668-98469ecbb231"
      },
      "outputs": [],
      "source": [
        "# - It takes an element as an argument.\n",
        "# - It removes the first occurence of the specified element.\n",
        "# - In case of invalid element it raies value error."
      ]
    },
    {
      "cell_type": "code",
      "execution_count": null,
      "id": "06f51752-6f1c-4690-ae83-7696cd0e9faf",
      "metadata": {
        "id": "06f51752-6f1c-4690-ae83-7696cd0e9faf"
      },
      "outputs": [],
      "source": [
        "# lst.remove(element)"
      ]
    },
    {
      "cell_type": "code",
      "execution_count": null,
      "id": "42c7b65c-c046-4fe4-a554-2fffc31c9386",
      "metadata": {
        "id": "42c7b65c-c046-4fe4-a554-2fffc31c9386",
        "outputId": "c5dbea95-77f3-4db2-d8a4-487fd414eb4d"
      },
      "outputs": [
        {
          "name": "stdout",
          "output_type": "stream",
          "text": [
            "[True, 'Python', (5+5j), None, 4500, True, 6.999999, False, 8400, None]\n",
            "None\n",
            "['Python', (5+5j), None, 4500, True, 6.999999, False, 8400, None]\n",
            "['Python', (5+5j), None, 4500, True, 6.999999, 8400, None]\n",
            "['Python', (5+5j), 4500, True, 6.999999, 8400, None]\n"
          ]
        }
      ],
      "source": [
        "lst=[True, 'Python', 5+5j, None, 4500,True, 6.999999, False, 8400, None]\n",
        "print(lst)\n",
        "\n",
        "x=lst.remove(True)\n",
        "print(x)\n",
        "print(lst)\n",
        "\n",
        "lst.remove(False)\n",
        "print(lst)\n",
        "\n",
        "lst.remove(None)\n",
        "print(lst)"
      ]
    },
    {
      "cell_type": "code",
      "execution_count": null,
      "id": "f480845a-cea1-4f11-a79b-65667cb903be",
      "metadata": {
        "id": "f480845a-cea1-4f11-a79b-65667cb903be",
        "outputId": "5b5f13f1-f41d-4424-816e-89a25fc9afb2"
      },
      "outputs": [
        {
          "ename": "ValueError",
          "evalue": "list.remove(x): x not in list",
          "output_type": "error",
          "traceback": [
            "\u001b[1;31m---------------------------------------------------------------------------\u001b[0m",
            "\u001b[1;31mValueError\u001b[0m                                Traceback (most recent call last)",
            "Cell \u001b[1;32mIn[656], line 1\u001b[0m\n\u001b[1;32m----> 1\u001b[0m lst\u001b[38;5;241m.\u001b[39mremove(\u001b[38;5;124m'\u001b[39m\u001b[38;5;124mZebra\u001b[39m\u001b[38;5;124m'\u001b[39m)\n",
            "\u001b[1;31mValueError\u001b[0m: list.remove(x): x not in list"
          ]
        }
      ],
      "source": [
        "lst.remove('Zebra')"
      ]
    },
    {
      "cell_type": "markdown",
      "id": "54cb4ba7-9df8-4ce7-8ada-99434536da6d",
      "metadata": {
        "id": "54cb4ba7-9df8-4ce7-8ada-99434536da6d"
      },
      "source": [
        "# reverse()"
      ]
    },
    {
      "cell_type": "code",
      "execution_count": null,
      "id": "e8b064fe-c04b-4efd-95bd-9d2b083109ec",
      "metadata": {
        "id": "e8b064fe-c04b-4efd-95bd-9d2b083109ec"
      },
      "outputs": [],
      "source": [
        "# - It reverses a list.\n",
        "# - It does not return a new list, It makes the changes in the existiing list"
      ]
    },
    {
      "cell_type": "code",
      "execution_count": null,
      "id": "9e749945-6dc9-40ae-9e57-14d59bae7473",
      "metadata": {
        "id": "9e749945-6dc9-40ae-9e57-14d59bae7473",
        "outputId": "79076486-7163-4736-8ee7-9135e10c2f17"
      },
      "outputs": [
        {
          "name": "stdout",
          "output_type": "stream",
          "text": [
            "[True, 'Python', (5+5j), None, 4500, True, 6.999999, False, 8400, None]\n",
            "[None, 8400, False, 6.999999, True, 4500, None, (5+5j), 'Python', True]\n"
          ]
        }
      ],
      "source": [
        "lst=[True, 'Python', 5+5j, None, 4500,True, 6.999999, False, 8400, None]\n",
        "print(lst)\n",
        "\n",
        "lst.reverse()\n",
        "print(lst)"
      ]
    },
    {
      "cell_type": "code",
      "execution_count": null,
      "id": "125e19e5-418f-498a-9a1f-6dd924338ef0",
      "metadata": {
        "id": "125e19e5-418f-498a-9a1f-6dd924338ef0",
        "outputId": "62b88486-b62a-443d-b01f-5fe7997e530b"
      },
      "outputs": [
        {
          "name": "stdout",
          "output_type": "stream",
          "text": [
            "[True, 'Python', (5+5j), None, 4500, True, 6.999999, False, 8400, None]\n",
            "[None, 8400, False, 6.999999, True, 4500, None, (5+5j), 'Python', True]\n",
            "[True, 'Python', (5+5j), None, 4500, True, 6.999999, False, 8400, None]\n"
          ]
        }
      ],
      "source": [
        "lst=[True, 'Python', 5+5j, None, 4500,True, 6.999999, False, 8400, None]\n",
        "print(lst)\n",
        "\n",
        "print(lst[::-1])\n",
        "print(lst)"
      ]
    },
    {
      "cell_type": "markdown",
      "id": "15909897-e93a-4a53-adb6-2fa121aa4ce3",
      "metadata": {
        "id": "15909897-e93a-4a53-adb6-2fa121aa4ce3"
      },
      "source": [
        "# sort()"
      ]
    },
    {
      "cell_type": "code",
      "execution_count": null,
      "id": "e01197d1-4aa8-4911-b48c-6d7c742c6a96",
      "metadata": {
        "id": "e01197d1-4aa8-4911-b48c-6d7c742c6a96"
      },
      "outputs": [],
      "source": [
        "# - It sorts a list in ascending order by default.\n",
        "# - It does not return anything. It makes the changes in the existing list."
      ]
    },
    {
      "cell_type": "code",
      "execution_count": null,
      "id": "987eaa30-f35b-432d-918e-73eaa2ff92b4",
      "metadata": {
        "id": "987eaa30-f35b-432d-918e-73eaa2ff92b4",
        "outputId": "0b760774-e74d-459c-fb52-9bc80e8e7386"
      },
      "outputs": [
        {
          "name": "stdout",
          "output_type": "stream",
          "text": [
            "[0, 3, 4, 4, 5, 5, 7, 8, 9, 9]\n"
          ]
        }
      ],
      "source": [
        "lst=[8,4,9,3,7,5,9,0,4,5]\n",
        "lst.sort()\n",
        "print(lst)"
      ]
    },
    {
      "cell_type": "code",
      "execution_count": null,
      "id": "852eb0dd-0abf-4f14-88a8-f0f2a7baa156",
      "metadata": {
        "id": "852eb0dd-0abf-4f14-88a8-f0f2a7baa156",
        "outputId": "e0af9b30-aa67-4446-9280-164928db7a94"
      },
      "outputs": [
        {
          "name": "stdout",
          "output_type": "stream",
          "text": [
            "[9, 9, 8, 7, 5, 5, 4, 4, 3, 0]\n"
          ]
        }
      ],
      "source": [
        "lst=[8,4,9,3,7,5,9,0,4,5]\n",
        "lst.sort(reverse=True)\n",
        "print(lst)"
      ]
    },
    {
      "cell_type": "code",
      "execution_count": null,
      "id": "162bb9e1-5e58-4f4a-b9d3-13ba6d2c7d82",
      "metadata": {
        "id": "162bb9e1-5e58-4f4a-b9d3-13ba6d2c7d82",
        "outputId": "d6d0e3fd-cc73-4efd-d684-e47983ddae21"
      },
      "outputs": [
        {
          "name": "stdout",
          "output_type": "stream",
          "text": [
            "[0, 3, 4, 4, 5, 5, 7, 8, 9, 9]\n",
            "[8, 4, 9, 3, 7, 5, 9, 0, 4, 5]\n"
          ]
        }
      ],
      "source": [
        "lst=[8,4,9,3,7,5,9,0,4,5]\n",
        "x=sorted(lst)\n",
        "print(x)\n",
        "print(lst)"
      ]
    },
    {
      "cell_type": "code",
      "execution_count": null,
      "id": "60d8488d-2cdc-4613-aec1-66db1714bf71",
      "metadata": {
        "id": "60d8488d-2cdc-4613-aec1-66db1714bf71",
        "outputId": "1f28dade-292d-4d7d-f3c3-1810399f1191"
      },
      "outputs": [
        {
          "name": "stdout",
          "output_type": "stream",
          "text": [
            "[9, 9, 8, 7, 5, 5, 4, 4, 3, 0]\n",
            "[8, 4, 9, 3, 7, 5, 9, 0, 4, 5]\n"
          ]
        }
      ],
      "source": [
        "lst=[8,4,9,3,7,5,9,0,4,5]\n",
        "x=sorted(lst,reverse=True)\n",
        "print(x)\n",
        "print(lst)"
      ]
    },
    {
      "cell_type": "markdown",
      "id": "5860d588-f646-4c08-b571-24f13ea8c935",
      "metadata": {
        "id": "5860d588-f646-4c08-b571-24f13ea8c935"
      },
      "source": [
        "# clear()"
      ]
    },
    {
      "cell_type": "code",
      "execution_count": null,
      "id": "83189ac1-2ac4-41c4-8fb4-27d702c180db",
      "metadata": {
        "id": "83189ac1-2ac4-41c4-8fb4-27d702c180db"
      },
      "outputs": [],
      "source": [
        "# - It removes all the elements from a list and makes it empty."
      ]
    },
    {
      "cell_type": "code",
      "execution_count": null,
      "id": "cd9f946a-5a90-4801-a2eb-849ea0f244a2",
      "metadata": {
        "id": "cd9f946a-5a90-4801-a2eb-849ea0f244a2",
        "outputId": "54902024-e305-4d26-b2e9-ed961ccd8c2b"
      },
      "outputs": [
        {
          "name": "stdout",
          "output_type": "stream",
          "text": [
            "[8, 4, 9, 3, 7, 5, 9, 0, 4, 5]\n",
            "[]\n"
          ]
        }
      ],
      "source": [
        "lst=[8,4,9,3,7,5,9,0,4,5]\n",
        "print(lst)\n",
        "\n",
        "lst.clear()\n",
        "print(lst)"
      ]
    },
    {
      "cell_type": "markdown",
      "id": "a71b35eb-00ef-4ad9-aa81-4fcc3e8e7727",
      "metadata": {
        "id": "a71b35eb-00ef-4ad9-aa81-4fcc3e8e7727"
      },
      "source": [
        "# copy()"
      ]
    },
    {
      "cell_type": "code",
      "execution_count": null,
      "id": "9e9ed8de-5bbe-4216-928d-805f923045bd",
      "metadata": {
        "id": "9e9ed8de-5bbe-4216-928d-805f923045bd"
      },
      "outputs": [],
      "source": [
        "# - It copies the elemnts of a list and returns a new list."
      ]
    },
    {
      "cell_type": "code",
      "execution_count": null,
      "id": "3829922f-93dd-41de-8d6a-66f7a9d22634",
      "metadata": {
        "id": "3829922f-93dd-41de-8d6a-66f7a9d22634",
        "outputId": "9f9d16c7-0253-4495-a86b-9bea27ff022d"
      },
      "outputs": [
        {
          "name": "stdout",
          "output_type": "stream",
          "text": [
            "x-> [10, 20, 30, 40, 50]\n",
            "y-> [10, 20, 30, 40, 50]\n",
            "x-> [True, 20, 30, 40, 50] 2750737891008\n",
            "y-> [True, 20, 30, 40, 50] 2750737891008\n"
          ]
        }
      ],
      "source": [
        "x=[10,20,30,40,50]\n",
        "y=x\n",
        "print('x->',x)\n",
        "print('y->',y)\n",
        "x[0]=True\n",
        "print('x->',x,id(x))\n",
        "print('y->',y,id(y))"
      ]
    },
    {
      "cell_type": "code",
      "execution_count": null,
      "id": "cceb2956-be68-4165-bfb1-7c6970374b73",
      "metadata": {
        "id": "cceb2956-be68-4165-bfb1-7c6970374b73",
        "outputId": "5259ea40-a70d-492a-dfc7-90fd1a767b69"
      },
      "outputs": [
        {
          "name": "stdout",
          "output_type": "stream",
          "text": [
            "[10, 20, 30, 40, 50]\n",
            "[10, 20, 30, 40, 50]\n",
            "[True, 20, 30, 40, 50]\n",
            "[10, 20, 30, 40, 50]\n",
            "2750737709376\n",
            "2750737699584\n"
          ]
        }
      ],
      "source": [
        "x=[10,20,30,40,50]\n",
        "y=x.copy()\n",
        "\n",
        "print(x)\n",
        "print(y)\n",
        "\n",
        "x[0]=True\n",
        "print(x)\n",
        "print(y)\n",
        "\n",
        "print(id(x),id(y),sep='\\n')"
      ]
    },
    {
      "cell_type": "code",
      "execution_count": null,
      "id": "fcf55e53-f178-4ee3-bf5e-71c0d2d62ffb",
      "metadata": {
        "id": "fcf55e53-f178-4ee3-bf5e-71c0d2d62ffb"
      },
      "outputs": [],
      "source": [
        "# Tuple, Dictionary, Functions"
      ]
    },
    {
      "cell_type": "code",
      "execution_count": null,
      "id": "b3c3aaab-4218-49b1-b184-823004720dce",
      "metadata": {
        "id": "b3c3aaab-4218-49b1-b184-823004720dce"
      },
      "outputs": [],
      "source": []
    }
  ],
  "metadata": {
    "kernelspec": {
      "display_name": "Python 3 (ipykernel)",
      "language": "python",
      "name": "python3"
    },
    "language_info": {
      "codemirror_mode": {
        "name": "ipython",
        "version": 3
      },
      "file_extension": ".py",
      "mimetype": "text/x-python",
      "name": "python",
      "nbconvert_exporter": "python",
      "pygments_lexer": "ipython3",
      "version": "3.11.4"
    },
    "colab": {
      "provenance": []
    }
  },
  "nbformat": 4,
  "nbformat_minor": 5
}