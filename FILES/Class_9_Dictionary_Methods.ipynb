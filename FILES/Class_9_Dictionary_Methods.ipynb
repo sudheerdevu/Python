{
  "cells": [
    {
      "cell_type": "markdown",
      "id": "44334396-d171-448f-920c-61d35969941f",
      "metadata": {
        "id": "44334396-d171-448f-920c-61d35969941f"
      },
      "source": [
        "# Nested Dictionary"
      ]
    },
    {
      "cell_type": "code",
      "execution_count": null,
      "id": "de2e298b-e2b6-4aec-85c7-01367bf41045",
      "metadata": {
        "id": "de2e298b-e2b6-4aec-85c7-01367bf41045"
      },
      "outputs": [],
      "source": [
        "# - When a dictionary is mapped to a key of another dictionary then we call it as nested dictionary."
      ]
    },
    {
      "cell_type": "code",
      "execution_count": null,
      "id": "b13f9a11-e1e3-478d-8f3b-596a95e5b35b",
      "metadata": {
        "id": "b13f9a11-e1e3-478d-8f3b-596a95e5b35b",
        "outputId": "897c1c3d-7a09-48ab-d097-8710d8078585"
      },
      "outputs": [
        {
          "name": "stdout",
          "output_type": "stream",
          "text": [
            "{'emp_1': {1: 100}}\n"
          ]
        }
      ],
      "source": [
        "details={'emp_1':{1:100}}\n",
        "print(details)"
      ]
    },
    {
      "cell_type": "code",
      "execution_count": null,
      "id": "78cbc857-c6b1-455d-9dfe-308722eda5e8",
      "metadata": {
        "id": "78cbc857-c6b1-455d-9dfe-308722eda5e8"
      },
      "outputs": [],
      "source": [
        "# empcode\n",
        "# 1- code= 1- employee\n",
        "# For an employee- Name, Age, Salary, City"
      ]
    },
    {
      "cell_type": "code",
      "execution_count": null,
      "id": "bf157791-3c46-4f31-852e-460129fb3a7e",
      "metadata": {
        "id": "bf157791-3c46-4f31-852e-460129fb3a7e"
      },
      "outputs": [],
      "source": [
        "# Suppose 5 employees are there-\n",
        "# For each employee I want to store Name, Age, Salary and City.\n",
        "# Each employee has a unique employee code- ('emp_1','emp_2','emp_3','emp_4','emp_4')"
      ]
    },
    {
      "cell_type": "code",
      "execution_count": null,
      "id": "8582c4e4-beef-462d-9029-6d1f6af68343",
      "metadata": {
        "id": "8582c4e4-beef-462d-9029-6d1f6af68343"
      },
      "outputs": [],
      "source": [
        "details={'emp_1':{'Name':'Jasraj',\n",
        "         'Age':26,\n",
        "         'Salary':82000,\n",
        "         'City':'Pune'},\n",
        "\n",
        "'emp_2':{'Name':'Amit',\n",
        "        'Age':24,\n",
        "        'Salary':72000,\n",
        "        'City':'Delhi'},\n",
        "\n",
        "'emp_3':{'Name':'Debolina',\n",
        "         'Age':27,\n",
        "         'Salary':38000,\n",
        "        'City':'Chennai'},\n",
        "\n",
        "'emp_4':{'Name':'Suresh',\n",
        "        'Age':28,\n",
        "        'Salary':None,\n",
        "        'City':'Gurugram'},\n",
        "\n",
        "'emp_5':{'Name':'Deeepak',\n",
        "        'Age':27,\n",
        "        'Salary':55000,\n",
        "        'City':'Pune'}\n",
        "}"
      ]
    },
    {
      "cell_type": "code",
      "execution_count": null,
      "id": "b6995c74-31cd-4656-a514-b1028559f605",
      "metadata": {
        "id": "b6995c74-31cd-4656-a514-b1028559f605",
        "outputId": "89dcd53f-4e61-4794-c1ef-233bbc449193"
      },
      "outputs": [
        {
          "name": "stdout",
          "output_type": "stream",
          "text": [
            "{'emp_1': {'Name': 'Jasraj', 'Age': 26, 'Salary': 82000, 'City': 'Pune'}, 'emp_2': {'Name': 'Amit', 'Age': 24, 'Salary': 72000, 'City': 'Delhi'}, 'emp_3': {'Name': 'Debolina', 'Age': 27, 'Salary': 38000, 'City': 'Chennai'}, 'emp_4': {'Name': 'Suresh', 'Age': 28, 'Salary': None, 'City': 'Gurugram'}, 'emp_5': {'Name': 'Deeepak', 'Age': 27, 'Salary': 55000, 'City': 'Pune'}}\n"
          ]
        }
      ],
      "source": [
        "print(details)"
      ]
    },
    {
      "cell_type": "code",
      "execution_count": null,
      "id": "b14b4d58-cc14-4b7c-b246-611851e2996c",
      "metadata": {
        "id": "b14b4d58-cc14-4b7c-b246-611851e2996c",
        "outputId": "ad4369ed-724b-4e32-e0fa-c0d17651dd5d"
      },
      "outputs": [
        {
          "data": {
            "text/plain": [
              "{'Name': 'Jasraj', 'Age': 26, 'Salary': 82000, 'City': 'Pune'}"
            ]
          },
          "execution_count": 114,
          "metadata": {},
          "output_type": "execute_result"
        }
      ],
      "source": [
        "details['emp_1']"
      ]
    },
    {
      "cell_type": "code",
      "execution_count": null,
      "id": "8b69fbb5-2219-4135-a96c-6aa31c399e6a",
      "metadata": {
        "id": "8b69fbb5-2219-4135-a96c-6aa31c399e6a",
        "outputId": "6a71539b-f3d1-4773-a5be-ff3fa7486e80"
      },
      "outputs": [
        {
          "data": {
            "text/plain": [
              "{'Name': 'Suresh', 'Age': 28, 'Salary': None, 'City': 'Gurugram'}"
            ]
          },
          "execution_count": 116,
          "metadata": {},
          "output_type": "execute_result"
        }
      ],
      "source": [
        "details['emp_4']"
      ]
    },
    {
      "cell_type": "code",
      "execution_count": null,
      "id": "8a2fe9d9-8781-4b60-9379-0d30d8756586",
      "metadata": {
        "id": "8a2fe9d9-8781-4b60-9379-0d30d8756586",
        "outputId": "2596d7ad-25b3-42c7-baad-52fac1693222"
      },
      "outputs": [
        {
          "data": {
            "text/plain": [
              "'Jasraj'"
            ]
          },
          "execution_count": 118,
          "metadata": {},
          "output_type": "execute_result"
        }
      ],
      "source": [
        "details['emp_1']['Name']"
      ]
    },
    {
      "cell_type": "code",
      "execution_count": null,
      "id": "5cf6df0a-44e5-4ccf-aef2-fd2357f7458a",
      "metadata": {
        "id": "5cf6df0a-44e5-4ccf-aef2-fd2357f7458a",
        "outputId": "89bee856-2aa7-4ea1-9716-4e8a3707c119"
      },
      "outputs": [
        {
          "data": {
            "text/plain": [
              "28"
            ]
          },
          "execution_count": 120,
          "metadata": {},
          "output_type": "execute_result"
        }
      ],
      "source": [
        "details['emp_4']['Age']"
      ]
    },
    {
      "cell_type": "code",
      "execution_count": null,
      "id": "6510fd01-f89e-4821-9276-d4d33d7490d9",
      "metadata": {
        "id": "6510fd01-f89e-4821-9276-d4d33d7490d9"
      },
      "outputs": [],
      "source": [
        "# Name and City of emp_2"
      ]
    },
    {
      "cell_type": "code",
      "execution_count": null,
      "id": "14495d29-4d1a-496e-bf98-5fa0e299ec80",
      "metadata": {
        "id": "14495d29-4d1a-496e-bf98-5fa0e299ec80",
        "outputId": "4dacf0c7-9e93-4e00-84f4-2aac6359fecd"
      },
      "outputs": [
        {
          "name": "stdout",
          "output_type": "stream",
          "text": [
            "Amit 24\n"
          ]
        }
      ],
      "source": [
        "print(details['emp_2']['Name'],details['emp_2']['Age'])"
      ]
    },
    {
      "cell_type": "markdown",
      "id": "25507e91-f026-480e-aaab-6369e9dab206",
      "metadata": {
        "id": "25507e91-f026-480e-aaab-6369e9dab206"
      },
      "source": [
        "# Applying loop on a dictionary"
      ]
    },
    {
      "cell_type": "code",
      "execution_count": null,
      "id": "d7ac1461-3ef7-4ddc-8457-2713171f6d46",
      "metadata": {
        "id": "d7ac1461-3ef7-4ddc-8457-2713171f6d46"
      },
      "outputs": [],
      "source": [
        "emp={'Name':'Deeepak','Age':27,'Salary':55000,'City':'Pune'}"
      ]
    },
    {
      "cell_type": "code",
      "execution_count": null,
      "id": "f722f00c-86fe-4af2-8ae2-a218480dfad3",
      "metadata": {
        "id": "f722f00c-86fe-4af2-8ae2-a218480dfad3",
        "outputId": "95e91bcc-bce8-40a2-81e1-4f75a673bcc0"
      },
      "outputs": [
        {
          "name": "stdout",
          "output_type": "stream",
          "text": [
            "Name Deeepak\n",
            "Age 27\n",
            "Salary 55000\n",
            "City Pune\n"
          ]
        }
      ],
      "source": [
        "for i in emp:\n",
        "    print(i,emp[i])"
      ]
    },
    {
      "cell_type": "code",
      "execution_count": null,
      "id": "53ccb8b3-da1b-4871-bfa9-dc7e06a001e6",
      "metadata": {
        "id": "53ccb8b3-da1b-4871-bfa9-dc7e06a001e6",
        "outputId": "9a37cd47-245b-47b7-ad62-2e0c6dab0aa1"
      },
      "outputs": [
        {
          "data": {
            "text/plain": [
              "27"
            ]
          },
          "execution_count": 131,
          "metadata": {},
          "output_type": "execute_result"
        }
      ],
      "source": [
        "emp['Age']"
      ]
    },
    {
      "cell_type": "code",
      "execution_count": null,
      "id": "445e1cf0-8c9f-4f35-bb0d-f78f9cfb5c95",
      "metadata": {
        "id": "445e1cf0-8c9f-4f35-bb0d-f78f9cfb5c95",
        "outputId": "aae46b84-3200-4373-d177-32cbd904aadd"
      },
      "outputs": [
        {
          "data": {
            "text/plain": [
              "{'emp_1': {'Name': 'Jasraj', 'Age': 26, 'Salary': 82000, 'City': 'Pune'},\n",
              " 'emp_2': {'Name': 'Amit', 'Age': 24, 'Salary': 72000, 'City': 'Delhi'},\n",
              " 'emp_3': {'Name': 'Debolina', 'Age': 27, 'Salary': 38000, 'City': 'Chennai'},\n",
              " 'emp_4': {'Name': 'Suresh', 'Age': 28, 'Salary': None, 'City': 'Gurugram'},\n",
              " 'emp_5': {'Name': 'Deeepak', 'Age': 27, 'Salary': 55000, 'City': 'Pune'}}"
            ]
          },
          "execution_count": 133,
          "metadata": {},
          "output_type": "execute_result"
        }
      ],
      "source": [
        "details"
      ]
    },
    {
      "cell_type": "code",
      "execution_count": null,
      "id": "52b9c28c-b13d-42f0-a1bb-57d29ea1bfee",
      "metadata": {
        "id": "52b9c28c-b13d-42f0-a1bb-57d29ea1bfee",
        "outputId": "702c0dfe-f783-4cf9-e558-c800e023a38a"
      },
      "outputs": [
        {
          "name": "stdout",
          "output_type": "stream",
          "text": [
            "{'Name': 'Jasraj', 'Age': 26, 'Salary': 82000, 'City': 'Pune'}\n",
            "{'Name': 'Amit', 'Age': 24, 'Salary': 72000, 'City': 'Delhi'}\n",
            "{'Name': 'Debolina', 'Age': 27, 'Salary': 38000, 'City': 'Chennai'}\n",
            "{'Name': 'Suresh', 'Age': 28, 'Salary': None, 'City': 'Gurugram'}\n",
            "{'Name': 'Deeepak', 'Age': 27, 'Salary': 55000, 'City': 'Pune'}\n"
          ]
        }
      ],
      "source": [
        "for i in details:\n",
        "    print(details[i])"
      ]
    },
    {
      "cell_type": "code",
      "execution_count": null,
      "id": "034006a7-a20f-4cfd-9d4c-b35e84263459",
      "metadata": {
        "id": "034006a7-a20f-4cfd-9d4c-b35e84263459"
      },
      "outputs": [],
      "source": [
        "# Get the names of all the employees"
      ]
    },
    {
      "cell_type": "code",
      "execution_count": null,
      "id": "954c6604-15be-4a6a-bdd0-4e15f7cb5be2",
      "metadata": {
        "id": "954c6604-15be-4a6a-bdd0-4e15f7cb5be2",
        "outputId": "6c95860a-41fa-4450-bde5-49461c1fafdd"
      },
      "outputs": [
        {
          "data": {
            "text/plain": [
              "'Jasraj'"
            ]
          },
          "execution_count": 139,
          "metadata": {},
          "output_type": "execute_result"
        }
      ],
      "source": [
        "details['emp_1']['Name']"
      ]
    },
    {
      "cell_type": "code",
      "execution_count": null,
      "id": "c1207b08-06ae-4456-b6f9-c954989037a2",
      "metadata": {
        "id": "c1207b08-06ae-4456-b6f9-c954989037a2",
        "outputId": "533a10b4-ef6f-4db7-884f-cf8b14370fcd"
      },
      "outputs": [
        {
          "data": {
            "text/plain": [
              "'Amit'"
            ]
          },
          "execution_count": 141,
          "metadata": {},
          "output_type": "execute_result"
        }
      ],
      "source": [
        "details['emp_2']['Name']"
      ]
    },
    {
      "cell_type": "code",
      "execution_count": null,
      "id": "178d1706-dd3a-43e0-9555-6df365bf02c8",
      "metadata": {
        "id": "178d1706-dd3a-43e0-9555-6df365bf02c8",
        "outputId": "f8fc7057-8da9-4a51-8eab-ce9023912d35"
      },
      "outputs": [
        {
          "name": "stdout",
          "output_type": "stream",
          "text": [
            "Jasraj\n",
            "Amit\n",
            "Debolina\n",
            "Suresh\n",
            "Deeepak\n"
          ]
        }
      ],
      "source": [
        "for i in details:\n",
        "    print(details[i]['Name'])"
      ]
    },
    {
      "cell_type": "code",
      "execution_count": null,
      "id": "1dab186e-8221-4636-8234-62d8362d34bc",
      "metadata": {
        "id": "1dab186e-8221-4636-8234-62d8362d34bc"
      },
      "outputs": [],
      "source": [
        "# Get the details of the employees whose salary is missing"
      ]
    },
    {
      "cell_type": "code",
      "execution_count": null,
      "id": "348e0db1-54bb-46dc-b32d-1c0e55bc0bbf",
      "metadata": {
        "id": "348e0db1-54bb-46dc-b32d-1c0e55bc0bbf",
        "outputId": "45e33504-599a-4c72-869a-552848e70fb9"
      },
      "outputs": [
        {
          "name": "stdout",
          "output_type": "stream",
          "text": [
            "Suresh\n"
          ]
        }
      ],
      "source": [
        "for i in details:\n",
        "    if details[i]['Salary']==None:\n",
        "        print(details[i]['Name'])"
      ]
    },
    {
      "cell_type": "code",
      "execution_count": null,
      "id": "b8456972-11e9-442b-9e6a-e59ca6a17a20",
      "metadata": {
        "id": "b8456972-11e9-442b-9e6a-e59ca6a17a20"
      },
      "outputs": [],
      "source": [
        "# Get the names of the employess who belong to Pune"
      ]
    },
    {
      "cell_type": "code",
      "execution_count": null,
      "id": "17327ca9-5b62-42e9-8f6b-99cfa45f5a00",
      "metadata": {
        "id": "17327ca9-5b62-42e9-8f6b-99cfa45f5a00",
        "outputId": "b7e595cb-42e1-4f78-a981-b708051338f6"
      },
      "outputs": [
        {
          "name": "stdout",
          "output_type": "stream",
          "text": [
            "Jasraj\n",
            "Deeepak\n"
          ]
        }
      ],
      "source": [
        "for i in details:\n",
        "    if details[i]['City']=='Pune':\n",
        "        print(details[i]['Name'])"
      ]
    },
    {
      "cell_type": "code",
      "execution_count": null,
      "id": "16a611df-e3cd-479f-8f40-f99954897f0c",
      "metadata": {
        "id": "16a611df-e3cd-479f-8f40-f99954897f0c"
      },
      "outputs": [],
      "source": [
        "# Somebody whose salary is None, Assign 55000 to him"
      ]
    },
    {
      "cell_type": "code",
      "execution_count": null,
      "id": "0fa8da52-18fe-429a-83a5-85c97bc2db03",
      "metadata": {
        "id": "0fa8da52-18fe-429a-83a5-85c97bc2db03"
      },
      "outputs": [],
      "source": [
        "for i in details:\n",
        "    if details[i]['Salary']==None:\n",
        "        details[i]['Salary']=55000"
      ]
    },
    {
      "cell_type": "code",
      "execution_count": null,
      "id": "fe084ed7-f430-4d1b-a01d-d7695e89a27f",
      "metadata": {
        "id": "fe084ed7-f430-4d1b-a01d-d7695e89a27f",
        "outputId": "569444fc-732c-40c6-bad1-e959daad7259"
      },
      "outputs": [
        {
          "data": {
            "text/plain": [
              "{'emp_1': {'Name': 'Jasraj', 'Age': 26, 'Salary': 82000, 'City': 'Pune'},\n",
              " 'emp_2': {'Name': 'Amit', 'Age': 24, 'Salary': 72000, 'City': 'Delhi'},\n",
              " 'emp_3': {'Name': 'Debolina', 'Age': 27, 'Salary': 38000, 'City': 'Chennai'},\n",
              " 'emp_4': {'Name': 'Suresh', 'Age': 28, 'Salary': 55000, 'City': 'Gurugram'},\n",
              " 'emp_5': {'Name': 'Deeepak', 'Age': 27, 'Salary': 55000, 'City': 'Pune'}}"
            ]
          },
          "execution_count": 197,
          "metadata": {},
          "output_type": "execute_result"
        }
      ],
      "source": [
        "details"
      ]
    },
    {
      "cell_type": "code",
      "execution_count": null,
      "id": "34e23c15-24e8-420c-9573-706bb55d7338",
      "metadata": {
        "id": "34e23c15-24e8-420c-9573-706bb55d7338"
      },
      "outputs": [],
      "source": [
        "# Increase the Salary of Debolina by 35%"
      ]
    },
    {
      "cell_type": "code",
      "execution_count": null,
      "id": "91a68e46-4567-4f4a-aae8-5b43c3865d74",
      "metadata": {
        "id": "91a68e46-4567-4f4a-aae8-5b43c3865d74"
      },
      "outputs": [],
      "source": [
        "for i in details:\n",
        "    if details[i]['Name']=='Debolina':\n",
        "        sal=details[i]['Salary']\n",
        "        details[i]['Salary']=sal*135/100"
      ]
    },
    {
      "cell_type": "code",
      "execution_count": null,
      "id": "bbe6ff78-e5a4-47ac-8d97-f92da33b4338",
      "metadata": {
        "id": "bbe6ff78-e5a4-47ac-8d97-f92da33b4338",
        "outputId": "85252537-7d74-4d1f-fcef-0b0934c4df6c"
      },
      "outputs": [
        {
          "data": {
            "text/plain": [
              "51300.0"
            ]
          },
          "execution_count": 217,
          "metadata": {},
          "output_type": "execute_result"
        }
      ],
      "source": [
        "38000*135/100"
      ]
    },
    {
      "cell_type": "code",
      "execution_count": null,
      "id": "4d7211e6-7fe2-4f0b-ae17-0cdefc8c7918",
      "metadata": {
        "id": "4d7211e6-7fe2-4f0b-ae17-0cdefc8c7918",
        "outputId": "94b37635-79b7-4a9e-b608-7d3acd4c9a89"
      },
      "outputs": [
        {
          "data": {
            "text/plain": [
              "{'emp_1': {'Name': 'Jasraj', 'Age': 26, 'Salary': 82000, 'City': 'Pune'},\n",
              " 'emp_2': {'Name': 'Amit', 'Age': 24, 'Salary': 72000, 'City': 'Delhi'},\n",
              " 'emp_3': {'Name': 'Debolina',\n",
              "  'Age': 27,\n",
              "  'Salary': 51300.0,\n",
              "  'City': 'Chennai'},\n",
              " 'emp_4': {'Name': 'Suresh', 'Age': 28, 'Salary': 55000, 'City': 'Gurugram'},\n",
              " 'emp_5': {'Name': 'Deeepak', 'Age': 27, 'Salary': 55000, 'City': 'Pune'}}"
            ]
          },
          "execution_count": 220,
          "metadata": {},
          "output_type": "execute_result"
        }
      ],
      "source": [
        "details"
      ]
    },
    {
      "cell_type": "code",
      "execution_count": null,
      "id": "0e4ce128-c519-46d6-b4e2-ee00c4f65fb8",
      "metadata": {
        "id": "0e4ce128-c519-46d6-b4e2-ee00c4f65fb8"
      },
      "outputs": [],
      "source": [
        "# Somebody who is earning less than 60000 increase their salary by 20%"
      ]
    },
    {
      "cell_type": "code",
      "execution_count": null,
      "id": "1d5f3f39-c4fa-4cc7-b8fe-7d0dd3794642",
      "metadata": {
        "id": "1d5f3f39-c4fa-4cc7-b8fe-7d0dd3794642"
      },
      "outputs": [],
      "source": [
        "for i in details:\n",
        "    if details[i]['Salary']<=60000:\n",
        "        sal=details[i]['Salary']\n",
        "        sal=sal*120/100\n",
        "        details[i]['Salary']=sal"
      ]
    },
    {
      "cell_type": "code",
      "execution_count": null,
      "id": "002d4e99-8221-481e-8e71-0a54fdbdfacb",
      "metadata": {
        "id": "002d4e99-8221-481e-8e71-0a54fdbdfacb",
        "outputId": "5d4078fb-e174-4e0f-de75-305c06b0f329"
      },
      "outputs": [
        {
          "data": {
            "text/plain": [
              "{'emp_1': {'Name': 'Jasraj', 'Age': 26, 'Salary': 82000, 'City': 'Pune'},\n",
              " 'emp_2': {'Name': 'Amit', 'Age': 24, 'Salary': 72000, 'City': 'Delhi'},\n",
              " 'emp_3': {'Name': 'Debolina',\n",
              "  'Age': 27,\n",
              "  'Salary': 61560.0,\n",
              "  'City': 'Chennai'},\n",
              " 'emp_4': {'Name': 'Suresh', 'Age': 28, 'Salary': 66000.0, 'City': 'Gurugram'},\n",
              " 'emp_5': {'Name': 'Deeepak', 'Age': 27, 'Salary': 66000.0, 'City': 'Pune'}}"
            ]
          },
          "execution_count": 238,
          "metadata": {},
          "output_type": "execute_result"
        }
      ],
      "source": [
        "details"
      ]
    },
    {
      "cell_type": "code",
      "execution_count": null,
      "id": "a8e4c5e6-dacb-472b-804b-3c919cf7ac27",
      "metadata": {
        "id": "a8e4c5e6-dacb-472b-804b-3c919cf7ac27",
        "outputId": "966e16f2-f278-4a7d-cf3b-2f42f8284126"
      },
      "outputs": [
        {
          "data": {
            "text/plain": [
              "66000.0"
            ]
          },
          "execution_count": 240,
          "metadata": {},
          "output_type": "execute_result"
        }
      ],
      "source": [
        "55000*120/100"
      ]
    },
    {
      "cell_type": "code",
      "execution_count": null,
      "id": "1c1a2825-f75b-4a86-ba0d-b158890e88b6",
      "metadata": {
        "id": "1c1a2825-f75b-4a86-ba0d-b158890e88b6"
      },
      "outputs": [],
      "source": [
        "emp_codes=['emp_1','emp_2','emp_3','emp_4']\n",
        "names=['Amit','Suresh','Tina','Varun']\n",
        "age=[24,25,26,27]\n",
        "city=['Bnagalore','Pune','Mumbai','Chennai']"
      ]
    },
    {
      "cell_type": "code",
      "execution_count": null,
      "id": "a98bba43-dbe7-4d3c-abe7-d616366ba54e",
      "metadata": {
        "id": "a98bba43-dbe7-4d3c-abe7-d616366ba54e"
      },
      "outputs": [],
      "source": [
        "# Output-  {'emp_1':{'Name':'Amit','Age':24,'City':'Bangalore'}.........}"
      ]
    },
    {
      "cell_type": "markdown",
      "id": "cf92c68c-636f-4b8e-830b-1acc80762494",
      "metadata": {
        "id": "cf92c68c-636f-4b8e-830b-1acc80762494"
      },
      "source": [
        "# Dictionary Methods"
      ]
    },
    {
      "cell_type": "code",
      "execution_count": null,
      "id": "fd87a87c-d8e3-424f-94f6-f5bf18612737",
      "metadata": {
        "id": "fd87a87c-d8e3-424f-94f6-f5bf18612737",
        "outputId": "cf48f866-9018-4b89-e2af-0298ab957217"
      },
      "outputs": [
        {
          "name": "stdout",
          "output_type": "stream",
          "text": [
            "['__class__', '__class_getitem__', '__contains__', '__delattr__', '__delitem__', '__dir__', '__doc__', '__eq__', '__format__', '__ge__', '__getattribute__', '__getitem__', '__getstate__', '__gt__', '__hash__', '__init__', '__init_subclass__', '__ior__', '__iter__', '__le__', '__len__', '__lt__', '__ne__', '__new__', '__or__', '__reduce__', '__reduce_ex__', '__repr__', '__reversed__', '__ror__', '__setattr__', '__setitem__', '__sizeof__', '__str__', '__subclasshook__', 'clear', 'copy', 'fromkeys', 'get', 'items', 'keys', 'pop', 'popitem', 'setdefault', 'update', 'values']\n"
          ]
        }
      ],
      "source": [
        "print(dir(dict))"
      ]
    },
    {
      "cell_type": "code",
      "execution_count": null,
      "id": "fbd1a5a0-ea9c-400b-9543-22a88fe75fff",
      "metadata": {
        "id": "fbd1a5a0-ea9c-400b-9543-22a88fe75fff"
      },
      "outputs": [],
      "source": [
        "# 'clear', 'copy', 'fromkeys', 'get', 'items', 'keys', 'pop', 'popitem', 'setdefault', 'update', 'values'"
      ]
    },
    {
      "cell_type": "markdown",
      "id": "3f16122d-b186-4114-802e-49618da0f14d",
      "metadata": {
        "id": "3f16122d-b186-4114-802e-49618da0f14d"
      },
      "source": [
        "# keys()"
      ]
    },
    {
      "cell_type": "code",
      "execution_count": null,
      "id": "4ace1304-b97a-40e4-bc6c-74866417df24",
      "metadata": {
        "id": "4ace1304-b97a-40e4-bc6c-74866417df24"
      },
      "outputs": [],
      "source": [
        "# - It returns a dict_keys object that contains a list of all the keys from the dictionary."
      ]
    },
    {
      "cell_type": "code",
      "execution_count": null,
      "id": "c445b6e1-78c7-4200-b3a8-47549be84d44",
      "metadata": {
        "id": "c445b6e1-78c7-4200-b3a8-47549be84d44",
        "outputId": "dddf89c9-7fc3-431a-ea0e-ee13a7dd87cb"
      },
      "outputs": [
        {
          "data": {
            "text/plain": [
              "{'Name': 'Deeepak', 'Age': 27, 'Salary': 55000, 'City': 'Pune'}"
            ]
          },
          "execution_count": 254,
          "metadata": {},
          "output_type": "execute_result"
        }
      ],
      "source": [
        "emp"
      ]
    },
    {
      "cell_type": "code",
      "execution_count": null,
      "id": "6d1fcd99-47c2-4cc4-ae68-d941b71f3675",
      "metadata": {
        "id": "6d1fcd99-47c2-4cc4-ae68-d941b71f3675",
        "outputId": "f4efbb63-a3c3-4121-baee-176ffa445d7d"
      },
      "outputs": [
        {
          "data": {
            "text/plain": [
              "dict_keys(['Name', 'Age', 'Salary', 'City'])"
            ]
          },
          "execution_count": 256,
          "metadata": {},
          "output_type": "execute_result"
        }
      ],
      "source": [
        "emp.keys()"
      ]
    },
    {
      "cell_type": "code",
      "execution_count": null,
      "id": "624eb302-1724-4c9f-8ad0-bfe347f92408",
      "metadata": {
        "id": "624eb302-1724-4c9f-8ad0-bfe347f92408",
        "outputId": "143085f2-ddbe-408c-da5a-07daf384cee5"
      },
      "outputs": [
        {
          "data": {
            "text/plain": [
              "dict_keys(['emp_1', 'emp_2', 'emp_3', 'emp_4', 'emp_5'])"
            ]
          },
          "execution_count": 258,
          "metadata": {},
          "output_type": "execute_result"
        }
      ],
      "source": [
        "details.keys()"
      ]
    },
    {
      "cell_type": "code",
      "execution_count": null,
      "id": "ad7e7276-9c5f-4c0c-b046-23a8a5ef5261",
      "metadata": {
        "id": "ad7e7276-9c5f-4c0c-b046-23a8a5ef5261",
        "outputId": "9be22b29-3fda-4d1d-da3b-ba2a2b549597"
      },
      "outputs": [
        {
          "name": "stdout",
          "output_type": "stream",
          "text": [
            "dict_keys(['Name', 'Age', 'Salary', 'City'])\n",
            "dict_keys(['Name', 'Age', 'Salary', 'City'])\n",
            "dict_keys(['Name', 'Age', 'Salary', 'City'])\n",
            "dict_keys(['Name', 'Age', 'Salary', 'City'])\n",
            "dict_keys(['Name', 'Age', 'Salary', 'City'])\n"
          ]
        }
      ],
      "source": [
        "for i in details:\n",
        "    print(details[i].keys())"
      ]
    },
    {
      "cell_type": "markdown",
      "id": "32e8083f-1a8f-4922-92c4-a2f1f6c49565",
      "metadata": {
        "id": "32e8083f-1a8f-4922-92c4-a2f1f6c49565"
      },
      "source": [
        "# values()"
      ]
    },
    {
      "cell_type": "code",
      "execution_count": null,
      "id": "7ad106ad-6407-4627-b8d3-259a1274b815",
      "metadata": {
        "id": "7ad106ad-6407-4627-b8d3-259a1274b815"
      },
      "outputs": [],
      "source": [
        "# - It returns a dict_values object that contains a list of all the values from a dictionary."
      ]
    },
    {
      "cell_type": "code",
      "execution_count": null,
      "id": "f58c9df3-96d1-4ffc-a223-651d563e4670",
      "metadata": {
        "id": "f58c9df3-96d1-4ffc-a223-651d563e4670",
        "outputId": "19532fcc-6b9c-4e4f-d539-ca579225b88e"
      },
      "outputs": [
        {
          "data": {
            "text/plain": [
              "{'Name': 'Deeepak', 'Age': 27, 'Salary': 55000, 'City': 'Pune'}"
            ]
          },
          "execution_count": 269,
          "metadata": {},
          "output_type": "execute_result"
        }
      ],
      "source": [
        "emp"
      ]
    },
    {
      "cell_type": "code",
      "execution_count": null,
      "id": "22d226b2-1ab0-48fb-bf7d-792499a0320f",
      "metadata": {
        "id": "22d226b2-1ab0-48fb-bf7d-792499a0320f",
        "outputId": "ff9dce8f-3c1d-4471-ff23-8d6f8ea1ade1"
      },
      "outputs": [
        {
          "data": {
            "text/plain": [
              "dict_values(['Deeepak', 27, 55000, 'Pune'])"
            ]
          },
          "execution_count": 271,
          "metadata": {},
          "output_type": "execute_result"
        }
      ],
      "source": [
        "emp.values()"
      ]
    },
    {
      "cell_type": "code",
      "execution_count": null,
      "id": "03cc7e65-7916-476e-acf5-88480bb04014",
      "metadata": {
        "id": "03cc7e65-7916-476e-acf5-88480bb04014",
        "outputId": "1f15dbfb-5a88-44db-d6cb-257a612b3933"
      },
      "outputs": [
        {
          "data": {
            "text/plain": [
              "dict_values([{'Name': 'Jasraj', 'Age': 26, 'Salary': 82000, 'City': 'Pune'}, {'Name': 'Amit', 'Age': 24, 'Salary': 72000, 'City': 'Delhi'}, {'Name': 'Debolina', 'Age': 27, 'Salary': 61560.0, 'City': 'Chennai'}, {'Name': 'Suresh', 'Age': 28, 'Salary': 66000.0, 'City': 'Gurugram'}, {'Name': 'Deeepak', 'Age': 27, 'Salary': 66000.0, 'City': 'Pune'}])"
            ]
          },
          "execution_count": 275,
          "metadata": {},
          "output_type": "execute_result"
        }
      ],
      "source": [
        "details.values()"
      ]
    },
    {
      "cell_type": "code",
      "execution_count": null,
      "id": "7aa9ed65-fef1-4c7f-af5f-5a50165e5c0d",
      "metadata": {
        "id": "7aa9ed65-fef1-4c7f-af5f-5a50165e5c0d",
        "outputId": "af86a895-d16f-4fa1-9d1e-07b8fc3379ed"
      },
      "outputs": [
        {
          "name": "stdout",
          "output_type": "stream",
          "text": [
            "{'Name': 'Jasraj', 'Age': 26, 'Salary': 82000, 'City': 'Pune'}\n",
            "{'Name': 'Amit', 'Age': 24, 'Salary': 72000, 'City': 'Delhi'}\n",
            "{'Name': 'Debolina', 'Age': 27, 'Salary': 61560.0, 'City': 'Chennai'}\n",
            "{'Name': 'Suresh', 'Age': 28, 'Salary': 66000.0, 'City': 'Gurugram'}\n",
            "{'Name': 'Deeepak', 'Age': 27, 'Salary': 66000.0, 'City': 'Pune'}\n"
          ]
        }
      ],
      "source": [
        "for i in details.values():\n",
        "    print(i)"
      ]
    },
    {
      "cell_type": "code",
      "execution_count": null,
      "id": "0ceb7f7a-6af3-486e-b840-7bec24ca4804",
      "metadata": {
        "id": "0ceb7f7a-6af3-486e-b840-7bec24ca4804",
        "outputId": "16b9a81b-a9e4-4ae5-b18c-f968c38b6128"
      },
      "outputs": [
        {
          "name": "stdout",
          "output_type": "stream",
          "text": [
            "dict_values(['Jasraj', 26, 82000, 'Pune'])\n",
            "dict_values(['Amit', 24, 72000, 'Delhi'])\n",
            "dict_values(['Debolina', 27, 61560.0, 'Chennai'])\n",
            "dict_values(['Suresh', 28, 66000.0, 'Gurugram'])\n",
            "dict_values(['Deeepak', 27, 66000.0, 'Pune'])\n"
          ]
        }
      ],
      "source": [
        "for i in details:\n",
        "    print(details[i].values())"
      ]
    },
    {
      "cell_type": "markdown",
      "id": "0560c82c-72e1-4d50-9cfe-8d5199902d79",
      "metadata": {
        "id": "0560c82c-72e1-4d50-9cfe-8d5199902d79"
      },
      "source": [
        "# items()"
      ]
    },
    {
      "cell_type": "code",
      "execution_count": null,
      "id": "96237b7b-a7b3-4a8a-8718-67859fcc1401",
      "metadata": {
        "id": "96237b7b-a7b3-4a8a-8718-67859fcc1401"
      },
      "outputs": [],
      "source": [
        "# - It returns a dict_items object that conatins a list of tuples.\n",
        "# - Each tuple contains two elements.\n",
        "# - The first element is the key and the second element is the value from the dictionary."
      ]
    },
    {
      "cell_type": "code",
      "execution_count": null,
      "id": "01079fe9-4879-499f-b8be-a813a46fe02e",
      "metadata": {
        "id": "01079fe9-4879-499f-b8be-a813a46fe02e",
        "outputId": "2b2be31d-0753-4fe2-c01a-ce8b42343f23"
      },
      "outputs": [
        {
          "data": {
            "text/plain": [
              "{'Name': 'Deeepak', 'Age': 27, 'Salary': 55000, 'City': 'Pune'}"
            ]
          },
          "execution_count": 286,
          "metadata": {},
          "output_type": "execute_result"
        }
      ],
      "source": [
        "emp"
      ]
    },
    {
      "cell_type": "code",
      "execution_count": null,
      "id": "70185368-7fbf-4c15-a77d-4ee6ef9ac5ff",
      "metadata": {
        "id": "70185368-7fbf-4c15-a77d-4ee6ef9ac5ff",
        "outputId": "05d55be4-3bdb-41a9-e88f-94c14fc208a8"
      },
      "outputs": [
        {
          "data": {
            "text/plain": [
              "dict_items([('Name', 'Deeepak'), ('Age', 27), ('Salary', 55000), ('City', 'Pune')])"
            ]
          },
          "execution_count": 288,
          "metadata": {},
          "output_type": "execute_result"
        }
      ],
      "source": [
        "emp.items()"
      ]
    },
    {
      "cell_type": "code",
      "execution_count": null,
      "id": "5e728a39-9503-4f36-b6f8-654dd2e10b5a",
      "metadata": {
        "id": "5e728a39-9503-4f36-b6f8-654dd2e10b5a",
        "outputId": "7f1283e3-6532-4ea1-95d0-6a00db25d02b"
      },
      "outputs": [
        {
          "name": "stdout",
          "output_type": "stream",
          "text": [
            "('Name', 'Deeepak')\n",
            "('Age', 27)\n",
            "('Salary', 55000)\n",
            "('City', 'Pune')\n"
          ]
        }
      ],
      "source": [
        "for i in emp.items():\n",
        "    print(i)"
      ]
    },
    {
      "cell_type": "code",
      "execution_count": null,
      "id": "69e61fc0-7871-4816-9fb1-21705d965798",
      "metadata": {
        "id": "69e61fc0-7871-4816-9fb1-21705d965798",
        "outputId": "851ed290-dd13-4e29-957e-fdf6c6769f11"
      },
      "outputs": [
        {
          "name": "stdout",
          "output_type": "stream",
          "text": [
            "Name\n",
            "Deeepak\n"
          ]
        }
      ],
      "source": [
        "i,j=('Name', 'Deeepak')\n",
        "print(i)\n",
        "print(j)"
      ]
    },
    {
      "cell_type": "code",
      "execution_count": null,
      "id": "ab97d61b-7507-4078-a085-1b8eddf608df",
      "metadata": {
        "id": "ab97d61b-7507-4078-a085-1b8eddf608df",
        "outputId": "3e51264f-fcdc-4605-8ef8-6e1c1b60b26c"
      },
      "outputs": [
        {
          "name": "stdout",
          "output_type": "stream",
          "text": [
            "Name-> Deeepak\n",
            "Age-> 27\n",
            "Salary-> 55000\n",
            "City-> Pune\n"
          ]
        }
      ],
      "source": [
        "for i,j in emp.items():\n",
        "    print(i,j,sep='-> ')"
      ]
    },
    {
      "cell_type": "code",
      "execution_count": null,
      "id": "511f1417-6145-4ee2-a34d-882431a9e1c3",
      "metadata": {
        "id": "511f1417-6145-4ee2-a34d-882431a9e1c3",
        "outputId": "7ff4284f-0586-4db7-9424-dcb489cd3be1"
      },
      "outputs": [
        {
          "data": {
            "text/plain": [
              "dict_items([('emp_1', {'Name': 'Jasraj', 'Age': 26, 'Salary': 82000, 'City': 'Pune'}), ('emp_2', {'Name': 'Amit', 'Age': 24, 'Salary': 72000, 'City': 'Delhi'}), ('emp_3', {'Name': 'Debolina', 'Age': 27, 'Salary': 61560.0, 'City': 'Chennai'}), ('emp_4', {'Name': 'Suresh', 'Age': 28, 'Salary': 66000.0, 'City': 'Gurugram'}), ('emp_5', {'Name': 'Deeepak', 'Age': 27, 'Salary': 66000.0, 'City': 'Pune'})])"
            ]
          },
          "execution_count": 312,
          "metadata": {},
          "output_type": "execute_result"
        }
      ],
      "source": [
        "details.items()"
      ]
    },
    {
      "cell_type": "code",
      "execution_count": null,
      "id": "8de5fb1c-d910-4046-afcd-c30409b708a5",
      "metadata": {
        "id": "8de5fb1c-d910-4046-afcd-c30409b708a5"
      },
      "outputs": [],
      "source": [
        "# help(print)"
      ]
    },
    {
      "cell_type": "code",
      "execution_count": null,
      "id": "1ba2c42c-70d9-4383-82e9-7e657ecf8d3a",
      "metadata": {
        "id": "1ba2c42c-70d9-4383-82e9-7e657ecf8d3a",
        "outputId": "c6e4cd4b-b177-4580-b94a-2ef5e06f3201"
      },
      "outputs": [
        {
          "name": "stdout",
          "output_type": "stream",
          "text": [
            "('emp_1', {'Name': 'Jasraj', 'Age': 26, 'Salary': 82000, 'City': 'Pune'})\n",
            "('emp_2', {'Name': 'Amit', 'Age': 24, 'Salary': 72000, 'City': 'Delhi'})\n",
            "('emp_3', {'Name': 'Debolina', 'Age': 27, 'Salary': 61560.0, 'City': 'Chennai'})\n",
            "('emp_4', {'Name': 'Suresh', 'Age': 28, 'Salary': 66000.0, 'City': 'Gurugram'})\n",
            "('emp_5', {'Name': 'Deeepak', 'Age': 27, 'Salary': 66000.0, 'City': 'Pune'})\n"
          ]
        }
      ],
      "source": [
        "for i in details.items():\n",
        "    print(i)"
      ]
    },
    {
      "cell_type": "code",
      "execution_count": null,
      "id": "29f93445-ace8-49aa-b58d-601193e5597c",
      "metadata": {
        "id": "29f93445-ace8-49aa-b58d-601193e5597c",
        "outputId": "e323cbba-bfd8-4173-bbab-58ec4ccc0b32"
      },
      "outputs": [
        {
          "name": "stdout",
          "output_type": "stream",
          "text": [
            "{'Name': 'Jasraj', 'Age': 26, 'Salary': 82000, 'City': 'Pune'}\n",
            "{'Name': 'Amit', 'Age': 24, 'Salary': 72000, 'City': 'Delhi'}\n",
            "{'Name': 'Debolina', 'Age': 27, 'Salary': 61560.0, 'City': 'Chennai'}\n",
            "{'Name': 'Suresh', 'Age': 28, 'Salary': 66000.0, 'City': 'Gurugram'}\n",
            "{'Name': 'Deeepak', 'Age': 27, 'Salary': 66000.0, 'City': 'Pune'}\n"
          ]
        }
      ],
      "source": [
        "for i,j in details.items():\n",
        "    print(j)"
      ]
    },
    {
      "cell_type": "code",
      "execution_count": null,
      "id": "4b398879-c8b1-4654-90a1-3c5c638422bb",
      "metadata": {
        "id": "4b398879-c8b1-4654-90a1-3c5c638422bb",
        "outputId": "303508e1-7fb9-4d1a-c64d-e622474f8246"
      },
      "outputs": [
        {
          "name": "stdout",
          "output_type": "stream",
          "text": [
            "('Name', 'Jasraj')\n",
            "('Age', 26)\n",
            "('Salary', 82000)\n",
            "('City', 'Pune')\n",
            "--------------------\n",
            "('Name', 'Amit')\n",
            "('Age', 24)\n",
            "('Salary', 72000)\n",
            "('City', 'Delhi')\n",
            "--------------------\n",
            "('Name', 'Debolina')\n",
            "('Age', 27)\n",
            "('Salary', 61560.0)\n",
            "('City', 'Chennai')\n",
            "--------------------\n",
            "('Name', 'Suresh')\n",
            "('Age', 28)\n",
            "('Salary', 66000.0)\n",
            "('City', 'Gurugram')\n",
            "--------------------\n",
            "('Name', 'Deeepak')\n",
            "('Age', 27)\n",
            "('Salary', 66000.0)\n",
            "('City', 'Pune')\n",
            "--------------------\n"
          ]
        }
      ],
      "source": [
        "for i,j in details.items():\n",
        "    for k in j.items():\n",
        "        print(k)\n",
        "    print('--------------------')"
      ]
    },
    {
      "cell_type": "code",
      "execution_count": null,
      "id": "a8f8b326-99fc-4809-b95d-53134b6b58e8",
      "metadata": {
        "id": "a8f8b326-99fc-4809-b95d-53134b6b58e8",
        "outputId": "0bb94467-f799-41b8-b3c0-9e604789fc39"
      },
      "outputs": [
        {
          "name": "stdout",
          "output_type": "stream",
          "text": [
            "Name-> Jasraj\n",
            "Age-> 26\n",
            "Salary-> 82000\n",
            "City-> Pune\n",
            "--------------------\n",
            "Name-> Amit\n",
            "Age-> 24\n",
            "Salary-> 72000\n",
            "City-> Delhi\n",
            "--------------------\n",
            "Name-> Debolina\n",
            "Age-> 27\n",
            "Salary-> 61560.0\n",
            "City-> Chennai\n",
            "--------------------\n",
            "Name-> Suresh\n",
            "Age-> 28\n",
            "Salary-> 66000.0\n",
            "City-> Gurugram\n",
            "--------------------\n",
            "Name-> Deeepak\n",
            "Age-> 27\n",
            "Salary-> 66000.0\n",
            "City-> Pune\n",
            "--------------------\n"
          ]
        }
      ],
      "source": [
        "for i,j in details.items():\n",
        "    for k,l in j.items():\n",
        "        print(k,l,sep='-> ')\n",
        "    print('--------------------')"
      ]
    },
    {
      "cell_type": "markdown",
      "id": "8c227940-3163-4542-936a-816a0f268b75",
      "metadata": {
        "id": "8c227940-3163-4542-936a-816a0f268b75"
      },
      "source": [
        "# update()"
      ]
    },
    {
      "cell_type": "code",
      "execution_count": null,
      "id": "cc82cd3e-2ca8-401f-b4d8-c1bfa5c87140",
      "metadata": {
        "id": "cc82cd3e-2ca8-401f-b4d8-c1bfa5c87140"
      },
      "outputs": [],
      "source": [
        "# - It updates the elements of one dictionary to other."
      ]
    },
    {
      "cell_type": "code",
      "execution_count": null,
      "id": "82fe9688-00ed-42a5-bef8-fcf0fbe5217b",
      "metadata": {
        "id": "82fe9688-00ed-42a5-bef8-fcf0fbe5217b"
      },
      "outputs": [],
      "source": [
        "# d1,d2 two dictionaries are there.\n",
        "\n",
        "# d1.update(d2)\n",
        "# - It will update the elements of d2 to d1 and d2 will remain unchanged."
      ]
    },
    {
      "cell_type": "code",
      "execution_count": null,
      "id": "7f029fdf-7c4e-43ed-b52a-3dd25c8a944b",
      "metadata": {
        "id": "7f029fdf-7c4e-43ed-b52a-3dd25c8a944b",
        "outputId": "f5a0b25f-d35d-4f2f-a7c4-d72706e5c5d6"
      },
      "outputs": [
        {
          "name": "stdout",
          "output_type": "stream",
          "text": [
            "{1: 100, 2: 200}\n",
            "{7: 700, 8: 800, 9: 900}\n"
          ]
        }
      ],
      "source": [
        "d1={1:100,2:200}\n",
        "d2={7:700,8:800,9:900}\n",
        "print(d1)\n",
        "print(d2)"
      ]
    },
    {
      "cell_type": "code",
      "execution_count": null,
      "id": "dae33068-748f-47fc-83d6-4d82388eb2d0",
      "metadata": {
        "id": "dae33068-748f-47fc-83d6-4d82388eb2d0",
        "outputId": "fac92cb6-0bd5-4916-c4db-844910afda91"
      },
      "outputs": [
        {
          "name": "stdout",
          "output_type": "stream",
          "text": [
            "{1: 100, 2: 200, 7: 700, 8: 800, 9: 900}\n"
          ]
        }
      ],
      "source": [
        "d1.update(d2)\n",
        "print(d1)"
      ]
    },
    {
      "cell_type": "code",
      "execution_count": null,
      "id": "399e829b-d6dc-4177-8660-d0db0f41b597",
      "metadata": {
        "id": "399e829b-d6dc-4177-8660-d0db0f41b597",
        "outputId": "d8f35186-5cbf-4242-c38e-bd2b268f413f"
      },
      "outputs": [
        {
          "name": "stdout",
          "output_type": "stream",
          "text": [
            "{7: 700, 8: 800, 9: 900}\n"
          ]
        }
      ],
      "source": [
        "print(d2)"
      ]
    },
    {
      "cell_type": "code",
      "execution_count": null,
      "id": "00800670-1e89-4a2b-90a4-081fabed7f35",
      "metadata": {
        "id": "00800670-1e89-4a2b-90a4-081fabed7f35",
        "outputId": "132d8bb1-7074-40e3-cb9d-920598867cf8"
      },
      "outputs": [
        {
          "name": "stdout",
          "output_type": "stream",
          "text": [
            "{1: 100, 2: 200}\n",
            "{1: 500, 2: 600, 9: 900}\n"
          ]
        }
      ],
      "source": [
        "d1={1:100,2:200}\n",
        "d2={1:500,2:600,9:900}\n",
        "print(d1)\n",
        "print(d2)"
      ]
    },
    {
      "cell_type": "code",
      "execution_count": null,
      "id": "b3a914e2-0d51-445d-a562-5a1f30aa0e87",
      "metadata": {
        "id": "b3a914e2-0d51-445d-a562-5a1f30aa0e87"
      },
      "outputs": [],
      "source": [
        "d1.update(d2)"
      ]
    },
    {
      "cell_type": "code",
      "execution_count": null,
      "id": "140895e3-3e8b-4174-bff2-7579316587ec",
      "metadata": {
        "id": "140895e3-3e8b-4174-bff2-7579316587ec",
        "outputId": "050fa6df-2219-4a16-a36f-aeba8d434dc6"
      },
      "outputs": [
        {
          "name": "stdout",
          "output_type": "stream",
          "text": [
            "{1: 500, 2: 600, 9: 900}\n"
          ]
        }
      ],
      "source": [
        "print(d1)"
      ]
    },
    {
      "cell_type": "code",
      "execution_count": null,
      "id": "e07b869a-2dca-4fc8-876d-c48606c2671e",
      "metadata": {
        "id": "e07b869a-2dca-4fc8-876d-c48606c2671e"
      },
      "outputs": [],
      "source": [
        "# Create a dictionary where the numbers from 1 to 5 are the keys and their squares are the values."
      ]
    },
    {
      "cell_type": "code",
      "execution_count": null,
      "id": "51b40c00-cefb-4826-98b8-bafce2162c85",
      "metadata": {
        "id": "51b40c00-cefb-4826-98b8-bafce2162c85",
        "outputId": "e6ba3010-76f3-4f23-a839-e82baf1bf097"
      },
      "outputs": [
        {
          "name": "stdout",
          "output_type": "stream",
          "text": [
            "{1: 1, 2: 4, 3: 9, 4: 16, 5: 25}\n"
          ]
        }
      ],
      "source": [
        "d={}\n",
        "\n",
        "for i in range(1,6):\n",
        "    d.update({i:i**2})\n",
        "print(d)"
      ]
    },
    {
      "cell_type": "code",
      "execution_count": null,
      "id": "0fb06370-0377-4028-b56a-8da959f7bbb9",
      "metadata": {
        "id": "0fb06370-0377-4028-b56a-8da959f7bbb9",
        "outputId": "1a66626e-91db-4172-8563-9ea6fecb4cff"
      },
      "outputs": [
        {
          "name": "stdout",
          "output_type": "stream",
          "text": [
            "{1: 1, 2: 4, 3: 9, 4: 16, 5: 25}\n"
          ]
        }
      ],
      "source": [
        "d={}\n",
        "\n",
        "for i in range(1,6):\n",
        "    d[i]=i**2\n",
        "print(d)"
      ]
    },
    {
      "cell_type": "code",
      "execution_count": null,
      "id": "c43a5889-43cb-47c2-84f0-463ec9ca9beb",
      "metadata": {
        "id": "c43a5889-43cb-47c2-84f0-463ec9ca9beb",
        "outputId": "d0bddef3-3753-4ab1-9e82-928d3b6c710a"
      },
      "outputs": [
        {
          "name": "stdout",
          "output_type": "stream",
          "text": [
            "{1: 100, 2: 200}\n",
            "{1: 500, 2: 600, 9: 900}\n"
          ]
        }
      ],
      "source": [
        "d1={1:100,2:200}\n",
        "d2={1:500,2:600,9:900}\n",
        "print(d1)\n",
        "print(d2)\n",
        "\n",
        "# Output- {1:100,2:200,9:900}"
      ]
    },
    {
      "cell_type": "code",
      "execution_count": null,
      "id": "16d503aa-c691-4eb5-881e-90832da54dde",
      "metadata": {
        "id": "16d503aa-c691-4eb5-881e-90832da54dde"
      },
      "outputs": [],
      "source": [
        "d1=d2.update(d1)"
      ]
    },
    {
      "cell_type": "code",
      "execution_count": null,
      "id": "64eeb6e0-2438-4906-8067-191a14f7b564",
      "metadata": {
        "id": "64eeb6e0-2438-4906-8067-191a14f7b564",
        "outputId": "4eee3162-6418-466f-e4b9-d79220ecd12d"
      },
      "outputs": [
        {
          "data": {
            "text/plain": [
              "{1: 100, 2: 200, 9: 900}"
            ]
          },
          "execution_count": 391,
          "metadata": {},
          "output_type": "execute_result"
        }
      ],
      "source": [
        "d2"
      ]
    },
    {
      "cell_type": "code",
      "execution_count": null,
      "id": "f32a1932-6fbe-443e-9433-41b8138bf57b",
      "metadata": {
        "id": "f32a1932-6fbe-443e-9433-41b8138bf57b",
        "outputId": "058e3c3e-a89d-43b6-dcee-68beccc7e7c6"
      },
      "outputs": [
        {
          "name": "stdout",
          "output_type": "stream",
          "text": [
            "None\n"
          ]
        }
      ],
      "source": [
        "print(d1)"
      ]
    },
    {
      "cell_type": "code",
      "execution_count": null,
      "id": "89bf57b6-793c-4f04-adab-0ca4843b0749",
      "metadata": {
        "id": "89bf57b6-793c-4f04-adab-0ca4843b0749"
      },
      "outputs": [],
      "source": [
        "d1={1:100,2:200}\n",
        "d2={1:500,2:600,9:900}\n",
        "# Output- {1:100,2:200,9:900}"
      ]
    },
    {
      "cell_type": "code",
      "execution_count": null,
      "id": "cd28c071-407c-4d83-a203-00de520754ef",
      "metadata": {
        "id": "cd28c071-407c-4d83-a203-00de520754ef"
      },
      "outputs": [],
      "source": [
        "for i in d2:\n",
        "    if i not in d1:\n",
        "        d1[i]=d2[i]"
      ]
    },
    {
      "cell_type": "code",
      "execution_count": null,
      "id": "23f6c210-d608-44e2-9aa5-e19ea3c39ccf",
      "metadata": {
        "id": "23f6c210-d608-44e2-9aa5-e19ea3c39ccf",
        "outputId": "46dda374-98f0-4848-9a1e-34d13aa89415"
      },
      "outputs": [
        {
          "data": {
            "text/plain": [
              "{1: 100, 2: 200, 9: 900}"
            ]
          },
          "execution_count": 407,
          "metadata": {},
          "output_type": "execute_result"
        }
      ],
      "source": [
        "d1"
      ]
    },
    {
      "cell_type": "code",
      "execution_count": null,
      "id": "fcb7ead2-c6ff-44bc-9bcf-321be95c883d",
      "metadata": {
        "id": "fcb7ead2-c6ff-44bc-9bcf-321be95c883d",
        "outputId": "941a5cec-dc30-463e-aa0a-630bdd20ea1c"
      },
      "outputs": [
        {
          "data": {
            "text/plain": [
              "{1: 500, 2: 600, 9: 900}"
            ]
          },
          "execution_count": 409,
          "metadata": {},
          "output_type": "execute_result"
        }
      ],
      "source": [
        "d2"
      ]
    },
    {
      "cell_type": "markdown",
      "id": "4e93df3f-de07-41e9-97e2-3b406c3db6ff",
      "metadata": {
        "id": "4e93df3f-de07-41e9-97e2-3b406c3db6ff"
      },
      "source": [
        "# get()"
      ]
    },
    {
      "cell_type": "code",
      "execution_count": null,
      "id": "0cc89832-37fe-4733-9726-d1349fe07677",
      "metadata": {
        "id": "0cc89832-37fe-4733-9726-d1349fe07677"
      },
      "outputs": [],
      "source": [
        "# - It takes a key as an argument and returns the value at that particular key.\n",
        "# - If the key is not available then it returns None."
      ]
    },
    {
      "cell_type": "code",
      "execution_count": null,
      "id": "4e7bd518-c52a-46ff-bf0b-57ac2c9de571",
      "metadata": {
        "id": "4e7bd518-c52a-46ff-bf0b-57ac2c9de571",
        "outputId": "22433f15-fb7d-4cdd-f40d-1ea2e29bad9c"
      },
      "outputs": [
        {
          "data": {
            "text/plain": [
              "{'Name': 'Deeepak', 'Age': 27, 'Salary': 55000, 'City': 'Pune'}"
            ]
          },
          "execution_count": 414,
          "metadata": {},
          "output_type": "execute_result"
        }
      ],
      "source": [
        "emp"
      ]
    },
    {
      "cell_type": "code",
      "execution_count": null,
      "id": "1eb79b49-298e-4a2c-bdc4-57608f55d994",
      "metadata": {
        "id": "1eb79b49-298e-4a2c-bdc4-57608f55d994",
        "outputId": "7c860d00-1fdc-48f3-d951-241ffb07aa73"
      },
      "outputs": [
        {
          "data": {
            "text/plain": [
              "'Deeepak'"
            ]
          },
          "execution_count": 416,
          "metadata": {},
          "output_type": "execute_result"
        }
      ],
      "source": [
        "emp['Name']"
      ]
    },
    {
      "cell_type": "code",
      "execution_count": null,
      "id": "9b8cfd21-4ea6-4c44-aab6-0d5a8b8ab997",
      "metadata": {
        "id": "9b8cfd21-4ea6-4c44-aab6-0d5a8b8ab997",
        "outputId": "012c5237-05fe-46e4-b75e-fced27a7322f"
      },
      "outputs": [
        {
          "data": {
            "text/plain": [
              "'Deeepak'"
            ]
          },
          "execution_count": 418,
          "metadata": {},
          "output_type": "execute_result"
        }
      ],
      "source": [
        "emp.get('Name')"
      ]
    },
    {
      "cell_type": "code",
      "execution_count": null,
      "id": "3d012cd1-ab69-4abf-8b27-1010910ae948",
      "metadata": {
        "id": "3d012cd1-ab69-4abf-8b27-1010910ae948",
        "outputId": "18dc3fd6-2e61-4030-a32c-66b70b57c0b8"
      },
      "outputs": [
        {
          "ename": "KeyError",
          "evalue": "'Phone'",
          "output_type": "error",
          "traceback": [
            "\u001b[1;31m---------------------------------------------------------------------------\u001b[0m",
            "\u001b[1;31mKeyError\u001b[0m                                  Traceback (most recent call last)",
            "Cell \u001b[1;32mIn[420], line 1\u001b[0m\n\u001b[1;32m----> 1\u001b[0m emp[\u001b[38;5;124m'\u001b[39m\u001b[38;5;124mPhone\u001b[39m\u001b[38;5;124m'\u001b[39m]\n",
            "\u001b[1;31mKeyError\u001b[0m: 'Phone'"
          ]
        }
      ],
      "source": [
        "emp['Phone']"
      ]
    },
    {
      "cell_type": "code",
      "execution_count": null,
      "id": "7106bd71-bdf7-4062-8b6b-66abd3a01561",
      "metadata": {
        "id": "7106bd71-bdf7-4062-8b6b-66abd3a01561",
        "outputId": "3ad47f2b-366a-4d82-a8a2-48fa5942527d"
      },
      "outputs": [
        {
          "name": "stdout",
          "output_type": "stream",
          "text": [
            "None\n"
          ]
        }
      ],
      "source": [
        "print(emp.get('Phone'))"
      ]
    },
    {
      "cell_type": "markdown",
      "id": "255b5c16-0650-47cb-b6af-82a48af5b6df",
      "metadata": {
        "id": "255b5c16-0650-47cb-b6af-82a48af5b6df"
      },
      "source": [
        "# setdefault()"
      ]
    },
    {
      "cell_type": "code",
      "execution_count": null,
      "id": "b13554e1-6f01-44c8-8ac9-1ac1a97534ac",
      "metadata": {
        "id": "b13554e1-6f01-44c8-8ac9-1ac1a97534ac"
      },
      "outputs": [],
      "source": [
        "# - It takes a key as an argument and returns the value at that particular key.\n",
        "# - If the key is not there then it creates the key and will map it to None.\n",
        "# - If key is not there and we pass key and value both then it will create the key and will map it to the value passed to it."
      ]
    },
    {
      "cell_type": "code",
      "execution_count": null,
      "id": "451aa8d4-2cb6-45bc-a5b3-e27d4ce4f9be",
      "metadata": {
        "id": "451aa8d4-2cb6-45bc-a5b3-e27d4ce4f9be"
      },
      "outputs": [],
      "source": [
        "# d.setdefault(key)"
      ]
    },
    {
      "cell_type": "code",
      "execution_count": null,
      "id": "dbd68571-d6ca-4c1b-9df7-c13e0b91a61e",
      "metadata": {
        "id": "dbd68571-d6ca-4c1b-9df7-c13e0b91a61e",
        "outputId": "1613ccd6-c256-4707-ea46-7af99dbcdf94"
      },
      "outputs": [
        {
          "data": {
            "text/plain": [
              "{'Name': 'Deeepak', 'Age': 27, 'Salary': 55000, 'City': 'Pune'}"
            ]
          },
          "execution_count": 431,
          "metadata": {},
          "output_type": "execute_result"
        }
      ],
      "source": [
        "emp"
      ]
    },
    {
      "cell_type": "code",
      "execution_count": null,
      "id": "93e1a260-a2e1-414e-bbf7-f88f6028e1c1",
      "metadata": {
        "id": "93e1a260-a2e1-414e-bbf7-f88f6028e1c1",
        "outputId": "23a57363-c735-49c0-8dcb-6c8f3d6ffa3f"
      },
      "outputs": [
        {
          "data": {
            "text/plain": [
              "'Deeepak'"
            ]
          },
          "execution_count": 433,
          "metadata": {},
          "output_type": "execute_result"
        }
      ],
      "source": [
        "emp.setdefault('Name')"
      ]
    },
    {
      "cell_type": "code",
      "execution_count": null,
      "id": "30326b1f-3ccb-4c28-b4ff-f8886f32ad9d",
      "metadata": {
        "id": "30326b1f-3ccb-4c28-b4ff-f8886f32ad9d",
        "outputId": "8c14a6c0-748c-4689-aa59-4b66e9a02e86"
      },
      "outputs": [
        {
          "data": {
            "text/plain": [
              "'Deeepak'"
            ]
          },
          "execution_count": 435,
          "metadata": {},
          "output_type": "execute_result"
        }
      ],
      "source": [
        "emp['Name']"
      ]
    },
    {
      "cell_type": "code",
      "execution_count": null,
      "id": "85fb7f52-fe7a-4aa8-bb7b-c3ece944f574",
      "metadata": {
        "id": "85fb7f52-fe7a-4aa8-bb7b-c3ece944f574",
        "outputId": "c5a32775-6e1c-4127-b29b-18796c2cefad"
      },
      "outputs": [
        {
          "data": {
            "text/plain": [
              "'Deeepak'"
            ]
          },
          "execution_count": 437,
          "metadata": {},
          "output_type": "execute_result"
        }
      ],
      "source": [
        "emp.get('Name')"
      ]
    },
    {
      "cell_type": "code",
      "execution_count": null,
      "id": "b3e2c562-a96f-40c8-a75e-71875a781000",
      "metadata": {
        "id": "b3e2c562-a96f-40c8-a75e-71875a781000",
        "outputId": "b3658857-cce5-4879-f747-834954eaedb4"
      },
      "outputs": [
        {
          "ename": "KeyError",
          "evalue": "'Phone'",
          "output_type": "error",
          "traceback": [
            "\u001b[1;31m---------------------------------------------------------------------------\u001b[0m",
            "\u001b[1;31mKeyError\u001b[0m                                  Traceback (most recent call last)",
            "Cell \u001b[1;32mIn[439], line 1\u001b[0m\n\u001b[1;32m----> 1\u001b[0m emp[\u001b[38;5;124m'\u001b[39m\u001b[38;5;124mPhone\u001b[39m\u001b[38;5;124m'\u001b[39m]\n",
            "\u001b[1;31mKeyError\u001b[0m: 'Phone'"
          ]
        }
      ],
      "source": [
        "emp['Phone']"
      ]
    },
    {
      "cell_type": "code",
      "execution_count": null,
      "id": "b0b15f29-49d8-4342-b84e-9671be6d8068",
      "metadata": {
        "id": "b0b15f29-49d8-4342-b84e-9671be6d8068",
        "outputId": "db20a3dc-fda6-4dfb-a179-4e77e2dc3a34"
      },
      "outputs": [
        {
          "name": "stdout",
          "output_type": "stream",
          "text": [
            "None\n"
          ]
        }
      ],
      "source": [
        "print(emp.get('Phone'))"
      ]
    },
    {
      "cell_type": "code",
      "execution_count": null,
      "id": "72d3abf0-a7c7-4d1e-91ac-2f2975523f36",
      "metadata": {
        "id": "72d3abf0-a7c7-4d1e-91ac-2f2975523f36",
        "outputId": "3549fde2-0eb2-4d38-aac6-7a07ad07bb92"
      },
      "outputs": [
        {
          "data": {
            "text/plain": [
              "{'Name': 'Deeepak', 'Age': 27, 'Salary': 55000, 'City': 'Pune'}"
            ]
          },
          "execution_count": 447,
          "metadata": {},
          "output_type": "execute_result"
        }
      ],
      "source": [
        "emp"
      ]
    },
    {
      "cell_type": "code",
      "execution_count": null,
      "id": "a2712802-528e-49f9-835e-b4d6d748e282",
      "metadata": {
        "id": "a2712802-528e-49f9-835e-b4d6d748e282"
      },
      "outputs": [],
      "source": [
        "emp.setdefault('Phone')"
      ]
    },
    {
      "cell_type": "code",
      "execution_count": null,
      "id": "63ba88a8-376e-49a1-84ba-78d6807d0dd0",
      "metadata": {
        "id": "63ba88a8-376e-49a1-84ba-78d6807d0dd0",
        "outputId": "14f545cb-2e49-4bcc-b2f4-b2aa79bc0cd7"
      },
      "outputs": [
        {
          "data": {
            "text/plain": [
              "{'Name': 'Deeepak', 'Age': 27, 'Salary': 55000, 'City': 'Pune', 'Phone': None}"
            ]
          },
          "execution_count": 451,
          "metadata": {},
          "output_type": "execute_result"
        }
      ],
      "source": [
        "emp"
      ]
    },
    {
      "cell_type": "code",
      "execution_count": null,
      "id": "e699b3b5-f12c-485a-a743-2f28d1b6626e",
      "metadata": {
        "id": "e699b3b5-f12c-485a-a743-2f28d1b6626e",
        "outputId": "44e33303-586e-48ef-944a-0e9b328c0939"
      },
      "outputs": [
        {
          "data": {
            "text/plain": [
              "'Male'"
            ]
          },
          "execution_count": 453,
          "metadata": {},
          "output_type": "execute_result"
        }
      ],
      "source": [
        "emp.setdefault('Gender','Male')"
      ]
    },
    {
      "cell_type": "code",
      "execution_count": null,
      "id": "fdb5735a-2cca-4205-8233-931cb64c48ab",
      "metadata": {
        "id": "fdb5735a-2cca-4205-8233-931cb64c48ab",
        "outputId": "51eca9d8-438b-47c5-90bf-1cb8ec377d4a"
      },
      "outputs": [
        {
          "data": {
            "text/plain": [
              "{'Name': 'Deeepak',\n",
              " 'Age': 27,\n",
              " 'Salary': 55000,\n",
              " 'City': 'Pune',\n",
              " 'Phone': None,\n",
              " 'Gender': 'Male'}"
            ]
          },
          "execution_count": 455,
          "metadata": {},
          "output_type": "execute_result"
        }
      ],
      "source": [
        "emp"
      ]
    },
    {
      "cell_type": "code",
      "execution_count": null,
      "id": "11490a05-1105-4f21-82dd-c87184134a16",
      "metadata": {
        "id": "11490a05-1105-4f21-82dd-c87184134a16",
        "outputId": "473b1e81-ae4e-4324-d610-63c4105eef1c"
      },
      "outputs": [
        {
          "data": {
            "text/plain": [
              "'Deeepak'"
            ]
          },
          "execution_count": 459,
          "metadata": {},
          "output_type": "execute_result"
        }
      ],
      "source": [
        "emp.setdefault('Name','Amit')"
      ]
    },
    {
      "cell_type": "code",
      "execution_count": null,
      "id": "618f40df-82aa-4fbc-835c-bd57ed579367",
      "metadata": {
        "id": "618f40df-82aa-4fbc-835c-bd57ed579367",
        "outputId": "089e7715-fc83-418e-b684-d16cf76ff10c"
      },
      "outputs": [
        {
          "data": {
            "text/plain": [
              "{'Name': 'Deeepak',\n",
              " 'Age': 27,\n",
              " 'Salary': 55000,\n",
              " 'City': 'Pune',\n",
              " 'Phone': None,\n",
              " 'Gender': 'Male'}"
            ]
          },
          "execution_count": 461,
          "metadata": {},
          "output_type": "execute_result"
        }
      ],
      "source": [
        "emp"
      ]
    },
    {
      "cell_type": "markdown",
      "id": "73fd405d-b41c-46a7-a2a3-3e210a2aad4e",
      "metadata": {
        "id": "73fd405d-b41c-46a7-a2a3-3e210a2aad4e"
      },
      "source": [
        "# pop()"
      ]
    },
    {
      "cell_type": "code",
      "execution_count": null,
      "id": "7e0bc04b-9490-4b72-b69d-db24ae52d8a8",
      "metadata": {
        "id": "7e0bc04b-9490-4b72-b69d-db24ae52d8a8"
      },
      "outputs": [],
      "source": [
        "# - It takes a key as an argument.\n",
        "# - It returns the value mapped to that key and removes the key from the dictionary."
      ]
    },
    {
      "cell_type": "code",
      "execution_count": null,
      "id": "36209857-7e11-432f-bc7e-cb09ec3f4259",
      "metadata": {
        "id": "36209857-7e11-432f-bc7e-cb09ec3f4259",
        "outputId": "dd796119-f79f-4965-bb7a-d69b7dc146a8"
      },
      "outputs": [
        {
          "data": {
            "text/plain": [
              "{'Name': 'Deeepak',\n",
              " 'Age': 27,\n",
              " 'Salary': 55000,\n",
              " 'City': 'Pune',\n",
              " 'Phone': None,\n",
              " 'Gender': 'Male'}"
            ]
          },
          "execution_count": 470,
          "metadata": {},
          "output_type": "execute_result"
        }
      ],
      "source": [
        "emp"
      ]
    },
    {
      "cell_type": "code",
      "execution_count": null,
      "id": "b3a8d3e2-1abd-4178-ab5d-73316d2cb253",
      "metadata": {
        "id": "b3a8d3e2-1abd-4178-ab5d-73316d2cb253",
        "outputId": "c9bcf354-71f3-43a0-a3dc-a0cf248fd168"
      },
      "outputs": [
        {
          "data": {
            "text/plain": [
              "55000"
            ]
          },
          "execution_count": 472,
          "metadata": {},
          "output_type": "execute_result"
        }
      ],
      "source": [
        "emp.pop('Salary')"
      ]
    },
    {
      "cell_type": "code",
      "execution_count": null,
      "id": "5c546551-e87f-4e6e-ac97-8e6c330cf01f",
      "metadata": {
        "id": "5c546551-e87f-4e6e-ac97-8e6c330cf01f",
        "outputId": "a97fff90-8e16-4d3e-fa87-cdf0c499a7c6"
      },
      "outputs": [
        {
          "data": {
            "text/plain": [
              "{'Name': 'Deeepak', 'Age': 27, 'City': 'Pune', 'Phone': None, 'Gender': 'Male'}"
            ]
          },
          "execution_count": 474,
          "metadata": {},
          "output_type": "execute_result"
        }
      ],
      "source": [
        "emp"
      ]
    },
    {
      "cell_type": "code",
      "execution_count": null,
      "id": "dda9c87a-1567-472c-bcf9-6c39e35fe6c2",
      "metadata": {
        "id": "dda9c87a-1567-472c-bcf9-6c39e35fe6c2"
      },
      "outputs": [],
      "source": [
        "x=emp.pop('Gender')"
      ]
    },
    {
      "cell_type": "code",
      "execution_count": null,
      "id": "c486c001-49fd-4249-a932-c2768c92cb40",
      "metadata": {
        "id": "c486c001-49fd-4249-a932-c2768c92cb40",
        "outputId": "79d36b27-25ad-4482-b3fa-01a25d0bdd82"
      },
      "outputs": [
        {
          "name": "stdout",
          "output_type": "stream",
          "text": [
            "Male\n"
          ]
        }
      ],
      "source": [
        "print(x)"
      ]
    },
    {
      "cell_type": "code",
      "execution_count": null,
      "id": "c5407a7e-e234-4088-92fb-bf432c1ea0e4",
      "metadata": {
        "id": "c5407a7e-e234-4088-92fb-bf432c1ea0e4",
        "outputId": "373b9126-04b5-4f2f-8e34-e2ecd3ef4669"
      },
      "outputs": [
        {
          "data": {
            "text/plain": [
              "{'Name': 'Deeepak', 'Age': 27, 'City': 'Pune', 'Phone': None}"
            ]
          },
          "execution_count": 480,
          "metadata": {},
          "output_type": "execute_result"
        }
      ],
      "source": [
        "emp"
      ]
    },
    {
      "cell_type": "code",
      "execution_count": null,
      "id": "c85349bd-9722-414f-9037-bc4e3b7d6662",
      "metadata": {
        "id": "c85349bd-9722-414f-9037-bc4e3b7d6662"
      },
      "outputs": [],
      "source": [
        "x=emp.pop('Age')"
      ]
    },
    {
      "cell_type": "code",
      "execution_count": null,
      "id": "1388df4c-c53e-4224-a1e3-69dadbab3820",
      "metadata": {
        "id": "1388df4c-c53e-4224-a1e3-69dadbab3820",
        "outputId": "bcf0745b-0fca-4945-a34a-103bfe259fa9"
      },
      "outputs": [
        {
          "name": "stdout",
          "output_type": "stream",
          "text": [
            "27\n"
          ]
        }
      ],
      "source": [
        "print(x)"
      ]
    },
    {
      "cell_type": "code",
      "execution_count": null,
      "id": "3094bae8-9a0b-4ae0-a02e-fce0e30016fb",
      "metadata": {
        "id": "3094bae8-9a0b-4ae0-a02e-fce0e30016fb",
        "outputId": "e3b2ea6c-8f21-4c7b-bd66-0191b68575b5"
      },
      "outputs": [
        {
          "data": {
            "text/plain": [
              "{'Name': 'Deeepak', 'City': 'Pune', 'Phone': None}"
            ]
          },
          "execution_count": 486,
          "metadata": {},
          "output_type": "execute_result"
        }
      ],
      "source": [
        "emp"
      ]
    },
    {
      "cell_type": "markdown",
      "id": "d7e2f587-2968-4eb8-ba64-a9cde42fe110",
      "metadata": {
        "id": "d7e2f587-2968-4eb8-ba64-a9cde42fe110"
      },
      "source": [
        "# popitem()"
      ]
    },
    {
      "cell_type": "code",
      "execution_count": null,
      "id": "d640a107-97a4-4bc6-bb9b-ef27c991006b",
      "metadata": {
        "id": "d640a107-97a4-4bc6-bb9b-ef27c991006b"
      },
      "outputs": [],
      "source": [
        "# - It returns the last key value pair in a tuple and removes the key value pair from the dictionary."
      ]
    },
    {
      "cell_type": "code",
      "execution_count": null,
      "id": "342a4457-a294-4189-bddd-84ac7e864ff0",
      "metadata": {
        "id": "342a4457-a294-4189-bddd-84ac7e864ff0"
      },
      "outputs": [],
      "source": [
        "emp={'Name': 'Deeepak',\n",
        " 'Age': 27,\n",
        " 'Salary': 55000,\n",
        " 'City': 'Pune',\n",
        " 'Phone': None,\n",
        " 'Gender': 'Male'}"
      ]
    },
    {
      "cell_type": "code",
      "execution_count": null,
      "id": "8f761702-0f6c-4641-9581-b8dd1c8aeb90",
      "metadata": {
        "id": "8f761702-0f6c-4641-9581-b8dd1c8aeb90",
        "outputId": "69f3b6b4-6127-4a94-d93b-7efa0488f72b"
      },
      "outputs": [
        {
          "data": {
            "text/plain": [
              "{'Name': 'Deeepak',\n",
              " 'Age': 27,\n",
              " 'Salary': 55000,\n",
              " 'City': 'Pune',\n",
              " 'Phone': None,\n",
              " 'Gender': 'Male'}"
            ]
          },
          "execution_count": 495,
          "metadata": {},
          "output_type": "execute_result"
        }
      ],
      "source": [
        "emp"
      ]
    },
    {
      "cell_type": "code",
      "execution_count": null,
      "id": "1f432862-e125-46f5-baea-ef23ef5cd800",
      "metadata": {
        "id": "1f432862-e125-46f5-baea-ef23ef5cd800"
      },
      "outputs": [],
      "source": [
        "x=emp.popitem()"
      ]
    },
    {
      "cell_type": "code",
      "execution_count": null,
      "id": "7fe9c660-e215-40e6-a40c-d85bdedc9bb6",
      "metadata": {
        "id": "7fe9c660-e215-40e6-a40c-d85bdedc9bb6",
        "outputId": "80a40368-4931-429a-c354-7e8f2effe9b6"
      },
      "outputs": [
        {
          "name": "stdout",
          "output_type": "stream",
          "text": [
            "('Gender', 'Male')\n"
          ]
        }
      ],
      "source": [
        "print(x)"
      ]
    },
    {
      "cell_type": "code",
      "execution_count": null,
      "id": "a8b3ec85-4c78-473b-ba14-883759b013d6",
      "metadata": {
        "id": "a8b3ec85-4c78-473b-ba14-883759b013d6",
        "outputId": "f01ff768-0cd1-4f5a-cbef-b5a4667a9cc5"
      },
      "outputs": [
        {
          "data": {
            "text/plain": [
              "{'Name': 'Deeepak', 'Age': 27, 'Salary': 55000, 'City': 'Pune', 'Phone': None}"
            ]
          },
          "execution_count": 501,
          "metadata": {},
          "output_type": "execute_result"
        }
      ],
      "source": [
        "emp"
      ]
    },
    {
      "cell_type": "code",
      "execution_count": null,
      "id": "4af51572-c798-42c1-8dbf-6da46d0309d2",
      "metadata": {
        "id": "4af51572-c798-42c1-8dbf-6da46d0309d2"
      },
      "outputs": [],
      "source": [
        "x=emp.popitem()"
      ]
    },
    {
      "cell_type": "code",
      "execution_count": null,
      "id": "15dcb93d-d960-4d1b-bb9d-a9f844083b31",
      "metadata": {
        "id": "15dcb93d-d960-4d1b-bb9d-a9f844083b31",
        "outputId": "2421a878-f851-4fce-ba31-2e01a09d5276"
      },
      "outputs": [
        {
          "name": "stdout",
          "output_type": "stream",
          "text": [
            "('Phone', None)\n"
          ]
        }
      ],
      "source": [
        "print(x)"
      ]
    },
    {
      "cell_type": "code",
      "execution_count": null,
      "id": "34e0a7d1-0075-49a2-b85c-c019ba6e6ab6",
      "metadata": {
        "id": "34e0a7d1-0075-49a2-b85c-c019ba6e6ab6",
        "outputId": "a360286d-1e83-4e1b-9980-6482150de5a9"
      },
      "outputs": [
        {
          "data": {
            "text/plain": [
              "{'Name': 'Deeepak', 'Age': 27, 'Salary': 55000, 'City': 'Pune'}"
            ]
          },
          "execution_count": 507,
          "metadata": {},
          "output_type": "execute_result"
        }
      ],
      "source": [
        "emp"
      ]
    },
    {
      "cell_type": "code",
      "execution_count": null,
      "id": "48d76de5-4cd4-4758-af5f-ba853bbe98cd",
      "metadata": {
        "id": "48d76de5-4cd4-4758-af5f-ba853bbe98cd",
        "outputId": "82bf8f8f-f8a7-4c2e-e74b-24f0e1288035"
      },
      "outputs": [
        {
          "data": {
            "text/plain": [
              "('City', 'Pune')"
            ]
          },
          "execution_count": 509,
          "metadata": {},
          "output_type": "execute_result"
        }
      ],
      "source": [
        "emp.popitem()"
      ]
    },
    {
      "cell_type": "code",
      "execution_count": null,
      "id": "747699c9-ff79-4268-9ade-46b65707def9",
      "metadata": {
        "id": "747699c9-ff79-4268-9ade-46b65707def9",
        "outputId": "02769e87-6417-479a-d292-f6b6244b0916"
      },
      "outputs": [
        {
          "data": {
            "text/plain": [
              "{'Name': 'Deeepak', 'Age': 27, 'Salary': 55000}"
            ]
          },
          "execution_count": 511,
          "metadata": {},
          "output_type": "execute_result"
        }
      ],
      "source": [
        "emp"
      ]
    },
    {
      "cell_type": "code",
      "execution_count": null,
      "id": "5d3825d4-ff96-4231-9f3d-fed4fb6d7d52",
      "metadata": {
        "id": "5d3825d4-ff96-4231-9f3d-fed4fb6d7d52",
        "outputId": "e99b748f-754c-4f52-9989-d3bc03d566dc"
      },
      "outputs": [
        {
          "data": {
            "text/plain": [
              "('Salary', 55000)"
            ]
          },
          "execution_count": 513,
          "metadata": {},
          "output_type": "execute_result"
        }
      ],
      "source": [
        "emp.popitem()"
      ]
    },
    {
      "cell_type": "code",
      "execution_count": null,
      "id": "0c70844c-9682-4ad1-b11a-962b61c4985e",
      "metadata": {
        "id": "0c70844c-9682-4ad1-b11a-962b61c4985e",
        "outputId": "27f09e78-8524-43cf-8a0b-d5687172e9db"
      },
      "outputs": [
        {
          "data": {
            "text/plain": [
              "{'Name': 'Deeepak', 'Age': 27}"
            ]
          },
          "execution_count": 515,
          "metadata": {},
          "output_type": "execute_result"
        }
      ],
      "source": [
        "emp"
      ]
    },
    {
      "cell_type": "code",
      "execution_count": null,
      "id": "f052490d-07c4-477c-b8bb-9a7d8846fd80",
      "metadata": {
        "id": "f052490d-07c4-477c-b8bb-9a7d8846fd80",
        "outputId": "32e07e95-e30d-4ce0-c14c-bf47189f9f78"
      },
      "outputs": [
        {
          "data": {
            "text/plain": [
              "('Age', 27)"
            ]
          },
          "execution_count": 517,
          "metadata": {},
          "output_type": "execute_result"
        }
      ],
      "source": [
        "emp.popitem()"
      ]
    },
    {
      "cell_type": "code",
      "execution_count": null,
      "id": "8a4c4c44-c073-4459-a583-a016e7ca9d74",
      "metadata": {
        "id": "8a4c4c44-c073-4459-a583-a016e7ca9d74",
        "outputId": "a91a723f-cb0d-476c-d907-ce6bd199bbf3"
      },
      "outputs": [
        {
          "data": {
            "text/plain": [
              "{'Name': 'Deeepak'}"
            ]
          },
          "execution_count": 519,
          "metadata": {},
          "output_type": "execute_result"
        }
      ],
      "source": [
        "emp"
      ]
    },
    {
      "cell_type": "code",
      "execution_count": null,
      "id": "9c9681ae-107e-4611-a2c2-101444f7e2e5",
      "metadata": {
        "id": "9c9681ae-107e-4611-a2c2-101444f7e2e5",
        "outputId": "60c4d411-5fe3-4a84-ae2b-372c9d09be40"
      },
      "outputs": [
        {
          "data": {
            "text/plain": [
              "('Name', 'Deeepak')"
            ]
          },
          "execution_count": 521,
          "metadata": {},
          "output_type": "execute_result"
        }
      ],
      "source": [
        "emp.popitem()"
      ]
    },
    {
      "cell_type": "code",
      "execution_count": null,
      "id": "860fd45d-cb96-49c2-bc58-c60d154907db",
      "metadata": {
        "id": "860fd45d-cb96-49c2-bc58-c60d154907db",
        "outputId": "04104e6e-9d9b-4fad-ff0b-ac33c505ea5a"
      },
      "outputs": [
        {
          "data": {
            "text/plain": [
              "{}"
            ]
          },
          "execution_count": 523,
          "metadata": {},
          "output_type": "execute_result"
        }
      ],
      "source": [
        "emp"
      ]
    },
    {
      "cell_type": "code",
      "execution_count": null,
      "id": "f3daae31-7619-424f-abf6-d718a7528422",
      "metadata": {
        "id": "f3daae31-7619-424f-abf6-d718a7528422",
        "outputId": "d685671c-5f55-40ec-d72d-b74f0cca20c0"
      },
      "outputs": [
        {
          "ename": "KeyError",
          "evalue": "'popitem(): dictionary is empty'",
          "output_type": "error",
          "traceback": [
            "\u001b[1;31m---------------------------------------------------------------------------\u001b[0m",
            "\u001b[1;31mKeyError\u001b[0m                                  Traceback (most recent call last)",
            "Cell \u001b[1;32mIn[525], line 1\u001b[0m\n\u001b[1;32m----> 1\u001b[0m emp\u001b[38;5;241m.\u001b[39mpopitem()\n",
            "\u001b[1;31mKeyError\u001b[0m: 'popitem(): dictionary is empty'"
          ]
        }
      ],
      "source": [
        "emp.popitem()"
      ]
    },
    {
      "cell_type": "code",
      "execution_count": null,
      "id": "280becdb-6414-4287-90c0-79ca21b6f265",
      "metadata": {
        "id": "280becdb-6414-4287-90c0-79ca21b6f265"
      },
      "outputs": [],
      "source": [
        "emp={'Name': 'Deeepak',\n",
        " 'Age': 27,\n",
        " 'Salary': 55000,\n",
        " 'City': 'Pune',\n",
        " 'Phone': None,\n",
        " 'Gender': 'Male'}"
      ]
    },
    {
      "cell_type": "code",
      "execution_count": null,
      "id": "76b6f4c4-8428-4930-8c33-7f659cbcb7ce",
      "metadata": {
        "id": "76b6f4c4-8428-4930-8c33-7f659cbcb7ce",
        "outputId": "52c433a9-3740-4a4c-cbad-47278ec823ca"
      },
      "outputs": [
        {
          "data": {
            "text/plain": [
              "{'Name': 'Deeepak',\n",
              " 'Age': 27,\n",
              " 'Salary': 55000,\n",
              " 'City': 'Pune',\n",
              " 'Phone': None,\n",
              " 'Gender': 'Male'}"
            ]
          },
          "execution_count": 529,
          "metadata": {},
          "output_type": "execute_result"
        }
      ],
      "source": [
        "emp"
      ]
    },
    {
      "cell_type": "code",
      "execution_count": null,
      "id": "4483999d-ed6d-4107-b015-36b9d0a42c4b",
      "metadata": {
        "id": "4483999d-ed6d-4107-b015-36b9d0a42c4b",
        "outputId": "c62cb1b5-6242-4133-b77e-765da329054a"
      },
      "outputs": [
        {
          "name": "stdout",
          "output_type": "stream",
          "text": [
            "('Gender', 'Male')\n",
            "('Phone', None)\n",
            "('City', 'Pune')\n",
            "('Salary', 55000)\n",
            "('Age', 27)\n",
            "('Name', 'Deeepak')\n"
          ]
        }
      ],
      "source": [
        "for i in range(len(emp)):\n",
        "    print(emp.popitem())"
      ]
    },
    {
      "cell_type": "code",
      "execution_count": null,
      "id": "e8502b84-3e2a-45f8-bc98-ab53752d3f70",
      "metadata": {
        "id": "e8502b84-3e2a-45f8-bc98-ab53752d3f70",
        "outputId": "bc9b5dab-4b68-4599-957d-007ef4f139ae"
      },
      "outputs": [
        {
          "data": {
            "text/plain": [
              "{}"
            ]
          },
          "execution_count": 533,
          "metadata": {},
          "output_type": "execute_result"
        }
      ],
      "source": [
        "emp"
      ]
    },
    {
      "cell_type": "code",
      "execution_count": null,
      "id": "1fed40e3-9cb6-4c44-89e7-533dd27f8e29",
      "metadata": {
        "id": "1fed40e3-9cb6-4c44-89e7-533dd27f8e29",
        "outputId": "bec00b97-c9aa-47fe-be08-379759a1f24e"
      },
      "outputs": [
        {
          "data": {
            "text/plain": [
              "{'Name': 'Deeepak',\n",
              " 'Age': 27,\n",
              " 'Salary': 55000,\n",
              " 'City': 'Pune',\n",
              " 'Phone': None,\n",
              " 'Gender': 'Male'}"
            ]
          },
          "execution_count": 537,
          "metadata": {},
          "output_type": "execute_result"
        }
      ],
      "source": [
        "emp"
      ]
    },
    {
      "cell_type": "code",
      "execution_count": null,
      "id": "6dc1076d-52f5-4b7b-bca3-075918868642",
      "metadata": {
        "id": "6dc1076d-52f5-4b7b-bca3-075918868642"
      },
      "outputs": [],
      "source": [
        "d={}\n",
        "for i in range(len(emp)):\n",
        "    key,val=emp.popitem()\n",
        "    d[key]=val"
      ]
    },
    {
      "cell_type": "code",
      "execution_count": null,
      "id": "7a906e3a-eacf-44ca-999c-f0384a10bc4a",
      "metadata": {
        "id": "7a906e3a-eacf-44ca-999c-f0384a10bc4a",
        "outputId": "e6283c13-770a-4d63-f404-454f35f33fc8"
      },
      "outputs": [
        {
          "data": {
            "text/plain": [
              "{'Gender': 'Male',\n",
              " 'Phone': None,\n",
              " 'City': 'Pune',\n",
              " 'Salary': 55000,\n",
              " 'Age': 27,\n",
              " 'Name': 'Deeepak'}"
            ]
          },
          "execution_count": 541,
          "metadata": {},
          "output_type": "execute_result"
        }
      ],
      "source": [
        "d"
      ]
    },
    {
      "cell_type": "markdown",
      "id": "97698ab6-8e7e-4ce2-9641-fc502aacd09c",
      "metadata": {
        "id": "97698ab6-8e7e-4ce2-9641-fc502aacd09c"
      },
      "source": [
        "# fromkeys()"
      ]
    },
    {
      "cell_type": "code",
      "execution_count": null,
      "id": "bd5b1520-5123-4f48-bbcc-d95302a0bd60",
      "metadata": {
        "id": "bd5b1520-5123-4f48-bbcc-d95302a0bd60"
      },
      "outputs": [],
      "source": [
        "# - It is used when we want to map multiple keys with a single value."
      ]
    },
    {
      "cell_type": "code",
      "execution_count": null,
      "id": "a83a96d8-c947-4bed-90a4-5e181557fbac",
      "metadata": {
        "id": "a83a96d8-c947-4bed-90a4-5e181557fbac"
      },
      "outputs": [],
      "source": [
        "# dict.fromkeys(iterable,value)"
      ]
    },
    {
      "cell_type": "code",
      "execution_count": null,
      "id": "b3998166-6b52-4211-a150-d0f1ac1b37e5",
      "metadata": {
        "id": "b3998166-6b52-4211-a150-d0f1ac1b37e5"
      },
      "outputs": [],
      "source": [
        "names=['Amit','Abhishek','Sumit','Mahesh','Tarun']\n",
        "# All names should be mapped to AI Department"
      ]
    },
    {
      "cell_type": "code",
      "execution_count": null,
      "id": "23aa6c10-38fa-435a-9cbf-3b4b2b6c35d4",
      "metadata": {
        "id": "23aa6c10-38fa-435a-9cbf-3b4b2b6c35d4"
      },
      "outputs": [],
      "source": [
        "d={}\n",
        "\n",
        "for i in names:\n",
        "    d[i]='AI Department'"
      ]
    },
    {
      "cell_type": "code",
      "execution_count": null,
      "id": "ff22c110-63eb-40df-b897-385aa17108e3",
      "metadata": {
        "id": "ff22c110-63eb-40df-b897-385aa17108e3",
        "outputId": "f3016156-d8c0-47b0-f672-0ab91b24b458"
      },
      "outputs": [
        {
          "data": {
            "text/plain": [
              "{'Amit': 'AI Department',\n",
              " 'Abhishek': 'AI Department',\n",
              " 'Sumit': 'AI Department',\n",
              " 'Mahesh': 'AI Department',\n",
              " 'Tarun': 'AI Department'}"
            ]
          },
          "execution_count": 560,
          "metadata": {},
          "output_type": "execute_result"
        }
      ],
      "source": [
        "d"
      ]
    },
    {
      "cell_type": "code",
      "execution_count": null,
      "id": "09892b97-10f8-42d2-ad4e-57c3acae2f83",
      "metadata": {
        "id": "09892b97-10f8-42d2-ad4e-57c3acae2f83",
        "outputId": "57079a9a-be3c-4b43-9646-4647f3158b81"
      },
      "outputs": [
        {
          "data": {
            "text/plain": [
              "{'Amit': 'AI Department',\n",
              " 'Abhishek': 'AI Department',\n",
              " 'Sumit': 'AI Department',\n",
              " 'Mahesh': 'AI Department',\n",
              " 'Tarun': 'AI Department'}"
            ]
          },
          "execution_count": 564,
          "metadata": {},
          "output_type": "execute_result"
        }
      ],
      "source": [
        "{i:'AI Department' for i in names}"
      ]
    },
    {
      "cell_type": "code",
      "execution_count": null,
      "id": "3de9922f-4e4a-47a9-a445-f9aff297d168",
      "metadata": {
        "id": "3de9922f-4e4a-47a9-a445-f9aff297d168",
        "outputId": "e3fcb9e7-45df-4652-b6de-7188e4e512fb"
      },
      "outputs": [
        {
          "data": {
            "text/plain": [
              "{'Amit': 'AI Department',\n",
              " 'Abhishek': 'AI Department',\n",
              " 'Sumit': 'AI Department',\n",
              " 'Mahesh': 'AI Department',\n",
              " 'Tarun': 'AI Department'}"
            ]
          },
          "execution_count": 568,
          "metadata": {},
          "output_type": "execute_result"
        }
      ],
      "source": [
        "dict.fromkeys(names,'AI Department')"
      ]
    },
    {
      "cell_type": "code",
      "execution_count": null,
      "id": "a194eb55-b7b9-4554-a1cb-7d9c13e90395",
      "metadata": {
        "id": "a194eb55-b7b9-4554-a1cb-7d9c13e90395"
      },
      "outputs": [],
      "source": [
        "# Roll Numbers from 1 to 10 will participate in Football"
      ]
    },
    {
      "cell_type": "code",
      "execution_count": null,
      "id": "05442fb2-9bfe-4bba-8ba7-62c3bef2b435",
      "metadata": {
        "id": "05442fb2-9bfe-4bba-8ba7-62c3bef2b435",
        "outputId": "4bb7f1ee-9258-4c7b-bf2c-94b4ac17f342"
      },
      "outputs": [
        {
          "data": {
            "text/plain": [
              "{1: 'Football',\n",
              " 2: 'Football',\n",
              " 3: 'Football',\n",
              " 4: 'Football',\n",
              " 5: 'Football',\n",
              " 6: 'Football',\n",
              " 7: 'Football',\n",
              " 8: 'Football',\n",
              " 9: 'Football',\n",
              " 10: 'Football'}"
            ]
          },
          "execution_count": 572,
          "metadata": {},
          "output_type": "execute_result"
        }
      ],
      "source": [
        "d=dict.fromkeys(range(1,11),'Football')\n",
        "p"
      ]
    },
    {
      "cell_type": "markdown",
      "id": "70f73128-cb30-4a9d-94c4-3ddb70a95150",
      "metadata": {
        "id": "70f73128-cb30-4a9d-94c4-3ddb70a95150"
      },
      "source": [
        "# copy()"
      ]
    },
    {
      "cell_type": "code",
      "execution_count": null,
      "id": "66bf7780-08b3-4820-8779-0445010d8293",
      "metadata": {
        "id": "66bf7780-08b3-4820-8779-0445010d8293"
      },
      "outputs": [],
      "source": [
        "# - It copies the elements of a dictionary and returns a new dictionary with the same elements."
      ]
    },
    {
      "cell_type": "code",
      "execution_count": null,
      "id": "3fd4f937-914b-45a9-99d1-daf5da71f124",
      "metadata": {
        "id": "3fd4f937-914b-45a9-99d1-daf5da71f124",
        "outputId": "f98b8c7f-cbae-449a-c368-905228d0c1f3"
      },
      "outputs": [
        {
          "name": "stdout",
          "output_type": "stream",
          "text": [
            "{1: 100, 2: 200, 3: 300, 4: 400}\n",
            "{1: 100, 2: 200, 3: 300, 4: 400}\n"
          ]
        }
      ],
      "source": [
        "d={1:100,2:200,3:300,4:400}\n",
        "d2=d\n",
        "print(d)\n",
        "print(d2)"
      ]
    },
    {
      "cell_type": "code",
      "execution_count": null,
      "id": "bbe6ee7e-d985-43d3-9010-d946eda41dd3",
      "metadata": {
        "id": "bbe6ee7e-d985-43d3-9010-d946eda41dd3"
      },
      "outputs": [],
      "source": [
        "d[1]=True"
      ]
    },
    {
      "cell_type": "code",
      "execution_count": null,
      "id": "2199bc7f-6668-49f8-b986-4dabee7a64a1",
      "metadata": {
        "id": "2199bc7f-6668-49f8-b986-4dabee7a64a1",
        "outputId": "08c770a9-d1e0-4cca-f25b-43a497aa367f"
      },
      "outputs": [
        {
          "name": "stdout",
          "output_type": "stream",
          "text": [
            "{1: True, 2: 200, 3: 300, 4: 400}\n",
            "{1: True, 2: 200, 3: 300, 4: 400}\n"
          ]
        }
      ],
      "source": [
        "print(d)\n",
        "print(d2)"
      ]
    },
    {
      "cell_type": "code",
      "execution_count": null,
      "id": "91416480-ea19-4375-a068-1cd76ebd2e3c",
      "metadata": {
        "id": "91416480-ea19-4375-a068-1cd76ebd2e3c",
        "outputId": "6640e5d2-ff9b-4719-dfa6-a4b8c00ec872"
      },
      "outputs": [
        {
          "name": "stdout",
          "output_type": "stream",
          "text": [
            "2385025885504 2385025885504\n"
          ]
        }
      ],
      "source": [
        "print(id(d),id(d2))"
      ]
    },
    {
      "cell_type": "code",
      "execution_count": null,
      "id": "d9153b8b-1f83-4d97-b0a9-a981c1921192",
      "metadata": {
        "id": "d9153b8b-1f83-4d97-b0a9-a981c1921192",
        "outputId": "6170dd3a-8344-48c9-8118-aaeaba461fba"
      },
      "outputs": [
        {
          "name": "stdout",
          "output_type": "stream",
          "text": [
            "{1: 100, 2: 200, 3: 300, 4: 400}\n",
            "{1: 100, 2: 200, 3: 300, 4: 400}\n"
          ]
        }
      ],
      "source": [
        "d={1:100,2:200,3:300,4:400}\n",
        "d2=d.copy()\n",
        "print(d)\n",
        "print(d2)"
      ]
    },
    {
      "cell_type": "code",
      "execution_count": null,
      "id": "373d4518-9569-4e89-a2e0-2a784d40a81b",
      "metadata": {
        "id": "373d4518-9569-4e89-a2e0-2a784d40a81b"
      },
      "outputs": [],
      "source": [
        "d[1]=True"
      ]
    },
    {
      "cell_type": "code",
      "execution_count": null,
      "id": "0855f918-bf40-4796-8a99-73bcda8938e3",
      "metadata": {
        "id": "0855f918-bf40-4796-8a99-73bcda8938e3",
        "outputId": "29a6ccfb-35a8-4ca0-ea9d-376d6a4f8c8a"
      },
      "outputs": [
        {
          "name": "stdout",
          "output_type": "stream",
          "text": [
            "{1: True, 2: 200, 3: 300, 4: 400}\n",
            "{1: 100, 2: 200, 3: 300, 4: 400}\n"
          ]
        }
      ],
      "source": [
        "print(d)\n",
        "print(d2)"
      ]
    },
    {
      "cell_type": "code",
      "execution_count": null,
      "id": "0b787af9-7fc0-4c1c-83d9-ca0557fb2a08",
      "metadata": {
        "id": "0b787af9-7fc0-4c1c-83d9-ca0557fb2a08",
        "outputId": "aa9c1e65-e656-4aad-b588-a36671f049c2"
      },
      "outputs": [
        {
          "name": "stdout",
          "output_type": "stream",
          "text": [
            "2385064218560 2385064221952\n"
          ]
        }
      ],
      "source": [
        "print(id(d),id(d2))"
      ]
    },
    {
      "cell_type": "markdown",
      "id": "1737ed0b-59ee-41aa-a83f-f5847b773c36",
      "metadata": {
        "id": "1737ed0b-59ee-41aa-a83f-f5847b773c36"
      },
      "source": [
        "# clear()"
      ]
    },
    {
      "cell_type": "code",
      "execution_count": null,
      "id": "beb942e5-e9aa-4718-83d3-46803af67538",
      "metadata": {
        "id": "beb942e5-e9aa-4718-83d3-46803af67538"
      },
      "outputs": [],
      "source": [
        "# - It removes all the elements from a dictionary and makes it empty."
      ]
    },
    {
      "cell_type": "code",
      "execution_count": null,
      "id": "a65ad5ad-dd5d-4db6-8475-435f7da8fba9",
      "metadata": {
        "id": "a65ad5ad-dd5d-4db6-8475-435f7da8fba9",
        "outputId": "354e5c55-ca5d-43e1-edee-4054a04178b9"
      },
      "outputs": [
        {
          "data": {
            "text/plain": [
              "{1: True, 2: 200, 3: 300, 4: 400}"
            ]
          },
          "execution_count": 602,
          "metadata": {},
          "output_type": "execute_result"
        }
      ],
      "source": [
        "d"
      ]
    },
    {
      "cell_type": "code",
      "execution_count": null,
      "id": "e69752e7-945c-4d65-ad7a-7e5b34a97ae5",
      "metadata": {
        "id": "e69752e7-945c-4d65-ad7a-7e5b34a97ae5"
      },
      "outputs": [],
      "source": [
        "d.clear()"
      ]
    },
    {
      "cell_type": "code",
      "execution_count": null,
      "id": "cf7412e8-c5c0-4e9c-a0c8-d4248522598b",
      "metadata": {
        "id": "cf7412e8-c5c0-4e9c-a0c8-d4248522598b",
        "outputId": "acc1dc6b-d8aa-4ea2-c97c-e351f7cd8754"
      },
      "outputs": [
        {
          "name": "stdout",
          "output_type": "stream",
          "text": [
            "{}\n"
          ]
        }
      ],
      "source": [
        "print(d)"
      ]
    },
    {
      "cell_type": "code",
      "execution_count": null,
      "id": "2f240dbc-1254-440e-98cd-82dd18fe3d26",
      "metadata": {
        "id": "2f240dbc-1254-440e-98cd-82dd18fe3d26"
      },
      "outputs": [],
      "source": [
        "students=dict.fromkeys(range(1,11),'Football')"
      ]
    },
    {
      "cell_type": "code",
      "execution_count": null,
      "id": "8b2a07b8-5a0f-4182-8f66-e69e1ae2f2f1",
      "metadata": {
        "id": "8b2a07b8-5a0f-4182-8f66-e69e1ae2f2f1",
        "outputId": "ffa0a0f5-c4dc-45d8-dda1-18721324bfa8"
      },
      "outputs": [
        {
          "data": {
            "text/plain": [
              "{1: 'Football',\n",
              " 2: 'Football',\n",
              " 3: 'Football',\n",
              " 4: 'Football',\n",
              " 5: 'Football',\n",
              " 6: 'Football',\n",
              " 7: 'Football',\n",
              " 8: 'Football',\n",
              " 9: 'Football',\n",
              " 10: 'Football'}"
            ]
          },
          "execution_count": 614,
          "metadata": {},
          "output_type": "execute_result"
        }
      ],
      "source": [
        "students"
      ]
    },
    {
      "cell_type": "code",
      "execution_count": null,
      "id": "301775ec-bf6f-4d2c-8b98-507f79ad9564",
      "metadata": {
        "id": "301775ec-bf6f-4d2c-8b98-507f79ad9564"
      },
      "outputs": [],
      "source": [
        "students.clear()"
      ]
    },
    {
      "cell_type": "code",
      "execution_count": null,
      "id": "9281ebfa-20f2-43f1-bd1e-21331bc5ff60",
      "metadata": {
        "id": "9281ebfa-20f2-43f1-bd1e-21331bc5ff60",
        "outputId": "9be56025-b9a0-4742-e54a-3ee8ac4d90ff"
      },
      "outputs": [
        {
          "data": {
            "text/plain": [
              "{}"
            ]
          },
          "execution_count": 618,
          "metadata": {},
          "output_type": "execute_result"
        }
      ],
      "source": [
        "students"
      ]
    },
    {
      "cell_type": "markdown",
      "id": "bae3fc42-ed58-4f42-b3a4-8a452a4729f0",
      "metadata": {
        "id": "bae3fc42-ed58-4f42-b3a4-8a452a4729f0"
      },
      "source": [
        "# Sparse Vector to Dictionary"
      ]
    },
    {
      "cell_type": "code",
      "execution_count": null,
      "id": "fac8a95d-75cd-4aec-b5e3-529da680235e",
      "metadata": {
        "id": "fac8a95d-75cd-4aec-b5e3-529da680235e",
        "outputId": "c2454932-3546-4528-da21-dd19f022992c"
      },
      "outputs": [
        {
          "name": "stdout",
          "output_type": "stream",
          "text": [
            "32\n"
          ]
        }
      ],
      "source": [
        "vector=[5,0,0,0,0,0,14,0,0,0,0,0,0,0,0,0,6,0,0,0,0,0,-8,0,0,0,0,0,0,0,0,4]\n",
        "print(len(vector))"
      ]
    },
    {
      "cell_type": "code",
      "execution_count": null,
      "id": "837ec049-0b90-45e0-a415-3476f3ca1587",
      "metadata": {
        "id": "837ec049-0b90-45e0-a415-3476f3ca1587"
      },
      "outputs": [],
      "source": [
        "d={}\n",
        "\n",
        "for i in range(len(vector)):\n",
        "    if vector[i]!=0:\n",
        "        d[i]=vector[i]"
      ]
    },
    {
      "cell_type": "code",
      "execution_count": null,
      "id": "748f627f-160e-412b-a232-fb79d6b3a9d3",
      "metadata": {
        "id": "748f627f-160e-412b-a232-fb79d6b3a9d3",
        "outputId": "c1d3414c-9f21-41f2-b99a-f9fd9240aebd"
      },
      "outputs": [
        {
          "name": "stdout",
          "output_type": "stream",
          "text": [
            "{0: 5, 6: 14, 16: 6, 22: -8, 31: 4}\n"
          ]
        }
      ],
      "source": [
        "print(d)"
      ]
    },
    {
      "cell_type": "markdown",
      "id": "783d0751-2ea6-4cc8-849d-0c2bbb7ae162",
      "metadata": {
        "id": "783d0751-2ea6-4cc8-849d-0c2bbb7ae162"
      },
      "source": [
        "# Dictionary to Sparse vector"
      ]
    },
    {
      "cell_type": "code",
      "execution_count": null,
      "id": "050131a0-9ddc-4595-8617-c6d2dcc90071",
      "metadata": {
        "id": "050131a0-9ddc-4595-8617-c6d2dcc90071",
        "outputId": "e53b2228-2369-4888-ae4b-311d39bc8160"
      },
      "outputs": [
        {
          "name": "stdout",
          "output_type": "stream",
          "text": [
            "{0: 5, 6: 14, 16: 6, 22: -8, 31: 4}\n"
          ]
        }
      ],
      "source": [
        "d={0: 5, 6: 14, 16: 6, 22: -8, 31: 4}\n",
        "print(d)"
      ]
    },
    {
      "cell_type": "code",
      "execution_count": null,
      "id": "cafd8acf-f194-4a93-a172-e8234b907365",
      "metadata": {
        "id": "cafd8acf-f194-4a93-a172-e8234b907365"
      },
      "outputs": [],
      "source": [
        "lst=[]\n",
        "for i in range(max(d)+1):\n",
        "    if i in d:\n",
        "        lst.append(d[i])\n",
        "    else:\n",
        "        lst.append(0)"
      ]
    },
    {
      "cell_type": "code",
      "execution_count": null,
      "id": "bc6c2f1f-3479-43b8-843c-736074bcd0f7",
      "metadata": {
        "id": "bc6c2f1f-3479-43b8-843c-736074bcd0f7",
        "outputId": "f7993aab-d3a0-423f-8276-0175097cd832"
      },
      "outputs": [
        {
          "name": "stdout",
          "output_type": "stream",
          "text": [
            "[5, 0, 0, 0, 0, 0, 14, 0, 0, 0, 0, 0, 0, 0, 0, 0, 6, 0, 0, 0, 0, 0, -8, 0, 0, 0, 0, 0, 0, 0, 0, 4]\n"
          ]
        }
      ],
      "source": [
        "print(lst)"
      ]
    },
    {
      "cell_type": "code",
      "execution_count": null,
      "id": "3877e71d-ec3b-48ab-8c42-138bbca3be3f",
      "metadata": {
        "id": "3877e71d-ec3b-48ab-8c42-138bbca3be3f",
        "outputId": "3fb767ef-40ed-4ad8-e948-ac42d7bd1c72"
      },
      "outputs": [
        {
          "name": "stdout",
          "output_type": "stream",
          "text": [
            "[5, 0, 0, 0, 0, 0, 14, 0, 0, 0, 0, 0, 0, 0, 0, 0, 6, 0, 0, 0, 0, 0, -8, 0, 0, 0, 0, 0, 0, 0, 0, 4]\n"
          ]
        }
      ],
      "source": [
        "print(vector)"
      ]
    },
    {
      "cell_type": "code",
      "execution_count": null,
      "id": "8fe4972f-227d-4ccb-a7c2-f20ccc35ff86",
      "metadata": {
        "id": "8fe4972f-227d-4ccb-a7c2-f20ccc35ff86"
      },
      "outputs": [],
      "source": [
        "# We have a PDF file that contains accronyms and expansions"
      ]
    },
    {
      "cell_type": "code",
      "execution_count": null,
      "id": "1968898a-47fb-49cb-9933-ab6fd7f5d4d4",
      "metadata": {
        "id": "1968898a-47fb-49cb-9933-ab6fd7f5d4d4"
      },
      "outputs": [],
      "source": [
        "# Input- 'BMI'\n",
        "# Output- 'Body Mass Index'"
      ]
    },
    {
      "cell_type": "markdown",
      "id": "e30a10bc-1b37-4422-a363-59945d7f2794",
      "metadata": {
        "id": "e30a10bc-1b37-4422-a363-59945d7f2794"
      },
      "source": [
        "### Reading a pdf"
      ]
    },
    {
      "cell_type": "code",
      "execution_count": null,
      "id": "e766ac82-cb4a-4026-8bd5-7b047fba3ae7",
      "metadata": {
        "id": "e766ac82-cb4a-4026-8bd5-7b047fba3ae7"
      },
      "outputs": [],
      "source": [
        "# pip install PyPDF2"
      ]
    },
    {
      "cell_type": "code",
      "execution_count": null,
      "id": "3810df3f-d65d-4a54-9a00-33e750d1a564",
      "metadata": {
        "id": "3810df3f-d65d-4a54-9a00-33e750d1a564"
      },
      "outputs": [],
      "source": [
        "import PyPDF2"
      ]
    },
    {
      "cell_type": "code",
      "execution_count": null,
      "id": "75d91b51-0997-480c-88ed-6b292c196bda",
      "metadata": {
        "id": "75d91b51-0997-480c-88ed-6b292c196bda"
      },
      "outputs": [],
      "source": [
        "# ls"
      ]
    },
    {
      "cell_type": "code",
      "execution_count": null,
      "id": "3afa5a0e-a22c-4619-acb5-28434e4746f0",
      "metadata": {
        "id": "3afa5a0e-a22c-4619-acb5-28434e4746f0"
      },
      "outputs": [],
      "source": [
        "text=''\n",
        "with open('List-of-Acronyms.pdf','rb') as file:\n",
        "    reader=PyPDF2.PdfReader(file)\n",
        "    for page in reader.pages:\n",
        "        text+=page.extract_text()"
      ]
    },
    {
      "cell_type": "code",
      "execution_count": null,
      "id": "b20d0e5d-d5be-4ba3-8682-1a6faf5cbdd4",
      "metadata": {
        "id": "b20d0e5d-d5be-4ba3-8682-1a6faf5cbdd4",
        "outputId": "ce5c3f33-d4da-4062-903c-c182a520c523"
      },
      "outputs": [
        {
          "name": "stdout",
          "output_type": "stream",
          "text": [
            " 1 Approved List of Acronyms and Abbreviations  \n",
            "For  \n",
            "Appalachian District Health Department  \n",
            "Updated 07/12/2011  \n",
            " \n",
            "Acronym/Abbreviation                                    Definitions  \n",
            " \n",
            "  A \n",
            "A assessment  \n",
            "A&O(x3)  alert and oriented (x3=person, place and time)  \n",
            "A.D.  as directed  \n",
            "A.S.H.E. A Safe Home for Everyone  \n",
            "A/L anterior lateral  \n",
            "a/v atrial- ventricular  \n",
            "aao awake/alert/oriented  \n",
            "aarom  active assistive range of motion  \n",
            "AAS  Ashe Alternative School  \n",
            "ab abortion; miscarriages  \n",
            "abbr abbreviations  \n",
            "abd abdomen \n",
            "abdu  abduction  \n",
            "ABS  antibody screen  \n",
            "abx antibiotics  \n",
            "atb antibiotics  \n",
            "ac before meals  \n",
            "ACHD  Ashe County Health Department  \n",
            "ACHS  Ashe County High School  \n",
            "ACMS  Ashe County Middle School  \n",
            "ACPC  Ashe County Partnership for Children  \n",
            "ACRRC  Ashe County Resource & Referral Center  \n",
            "ACS  Ameri can Cancer Society  \n",
            "ACTA Ashe County Transportation Authority  \n",
            "ad lib  freely  \n",
            "ADA  American Diabetic Association  \n",
            "add adduction  \n",
            "ADD  Attention Deficit Disorder  \n",
            "ADDS  Ashe Developmental Day School  \n",
            "ADHD  Appalachian District Health Department; attention deficit hype ractive \n",
            "                                                                  disorder  \n",
            "ADL  activities of daily living  \n",
            "adm admit  \n",
            "admin  administration  \n",
            "adv advisory; advise; advised  \n",
            "AFDC  Aid for Families with Dependent Children  \n",
            "AFI amniotic fluid index  \n",
            "AFP Allegh any Family Practice  \n",
            "AFV amniotic fluid volume  \n",
            "AGA  appropriate for gestational age \n",
            "AGE  acute gastro enteritis  \n",
            "AGUS  atypical glandular cells of undetermined significance   2 AHS  Alleghany High Sc hool \n",
            "AIDS  Acquired Immunodeficiency Syndrome  \n",
            "aka above knee amputat ion \n",
            "Alb albumin   \n",
            "AlMH Alleghany Memorial Hospital  \n",
            "ALS  amyotrophic lateral sclerosis  \n",
            "alt alternate  \n",
            "am morning \n",
            "AM Assoc.  Ashe Medical Associates  \n",
            "AMA against medical advice  \n",
            "AMAP  as much as possible  \n",
            "amb ambulatory; ambulation  \n",
            "AMH Ashe Memorial Hospital  \n",
            "amnio  amniocentesis  \n",
            "amt amount  \n",
            "ans answer  \n",
            "ans.mach  answering machine  \n",
            "ant anterior  \n",
            "ap apical pulse  \n",
            "APCC  Ashe Pregnancy Care Center  \n",
            "APP alternating pressure pad  \n",
            "app applicator; application  \n",
            "approx  approximately  \n",
            "appt appointment  \n",
            "Apr April  \n",
            "Apt apartment  \n",
            "Aq H2O; water  \n",
            "AOM  acute otitis media  \n",
            "ARC  Ashe Really Cares  \n",
            "AROM  artificial ruptured membranes  \n",
            "artic articulate  \n",
            "as tol   as tolerated  \n",
            "ASA Ashe Services for Aging; aspirin  \n",
            "ASAP  as soon as possible  \n",
            "ASCUS  atypical squamous cells of undetermined significance  \n",
            "ASCVD atherosclerotic  cardiovascular disease  \n",
            "ASQ Ages and Stages Questionnaire  \n",
            "ASU Appalachian District Health Department  \n",
            "ATC  around the clock  \n",
            "Aug August  \n",
            "auth authority; authorize  \n",
            "ax axillary  \n",
            "Azith  Azithromycin  \n",
            " \n",
            " B \n",
            "b/b bowel and bladder  \n",
            "b/c because  \n",
            "B/F black female  \n",
            "B/M black male \n",
            "b/w. bet  between  \n",
            "BAC  Braxton  Hicks contractions   3  B continued \n",
            "Bact.  Bacteria  \n",
            "BBB bundle branch block  \n",
            "BC birth control  \n",
            "BCCCP  breast and cervical cancer program  \n",
            "BCP  birth control pills  \n",
            "bd board  \n",
            "BF breast feeding  \n",
            "BH Braxton Hicks  \n",
            "bic biceps  \n",
            "bid twice  a day  \n",
            "bil bilateral  \n",
            "bk black  \n",
            "bka below knee amputation  \n",
            "bkf breakfast  \n",
            "bl blood  \n",
            "bldg bleeding or building  \n",
            "BLE  bilateral lower extremity  \n",
            "BLL  bilateral lower lobes  \n",
            "b/s blood sugar  \n",
            "bm bowel movement  \n",
            "BMI  body mass index  \n",
            "BOM  bilateral otitis media  \n",
            "BOW  bag of wat ers \n",
            "BP blood pressure  \n",
            "BRP  Blue Ridge Pediatrics  \n",
            "BPH  benign prostate hypertrophy \n",
            "BPP biophysical profile  \n",
            "Br bathroom  \n",
            "BRAT  bananas, rice, applesauce & toast diet  \n",
            "BRB bright red bleeding  \n",
            "brp bathroom privileges  \n",
            "BS bowel sounds  \n",
            "bsc bedside commode  \n",
            "BSO  bilatera l salpingo oophorectomy \n",
            "BSOM  bilateral serous otitis media  \n",
            "BTB  breakthrough bleeding  \n",
            "BTL  bilateral tubal ligation  \n",
            "BUE  bilateral upper extremities  \n",
            "BUN  blood urea nitrogen  \n",
            "BUQ  bilateral upper quadrant  \n",
            "BV bacterial vaginosis  \n",
            "bx biopsy  \n",
            " \n",
            " C \n",
            "C&S  culture and sens itivity  \n",
            "c with \n",
            "c. cup \n",
            "c/c colony count  \n",
            "c/o complaints of  \n",
            "C1 first cervical spine, etc   4 C2, etc  second cervical spine, etc  \n",
            "ca; Ca  cancer  \n",
            "Ca+ calcium  \n",
            "CABG  coronary artery bypass graft  \n",
            "CAD  coronary artery disease  \n",
            "cal calorie  \n",
            "CAP  Community Alternative Program /or Corrective Action Plans  \n",
            "caps capsule  \n",
            "cath catheter,catheriterized  \n",
            "CB child birth  \n",
            "CBC complete blood count  \n",
            "CBE  child birth education or Complete Breast Exam  \n",
            "cbr complete bedrest  \n",
            "cc cubic centimeter; chief complaint  \n",
            "CC4C Care Coordination For Children  \n",
            "CCR&R  Child Care Resource & Referral  \n",
            "CCU  cardiac care unit  \n",
            "CD communicable disease  \n",
            "CDC  Centers for Disease Control  \n",
            "CDI clean, dry, intact  \n",
            "cert certification  \n",
            "cg caregiver  \n",
            "CHB  complete heart block  \n",
            "CHD  coronary heart disease  \n",
            "chemo  chemotherapy  \n",
            "CHF  congestive heart failure  \n",
            "CHI closed head injury  \n",
            "Chl chloride; chlamydia \n",
            "CHO  carbohydrate  \n",
            "chol cholesterol  \n",
            "cig cigarette  \n",
            "circ circumcision  \n",
            "Cl clinic  \n",
            "cm centimeter  \n",
            "CNA  certified nurse assistant  \n",
            "cnt could not test  \n",
            "C02 carbon dioxide  \n",
            "COA  Council on Aging  \n",
            "col colony; colonies  \n",
            "colpo  colposcopy  \n",
            "comp  complications  \n",
            "compl  complete  \n",
            "cond.  condition  \n",
            "conf conference  \n",
            "const  constipation  \n",
            "cont continuous; continue  \n",
            "contx  contractions  \n",
            "coord  coordinate  \n",
            "COPD  chronic obstructive pulmonary disease  \n",
            "COR  heart; coronary  \n",
            "cp chest pain; care plan   5 CPD  cephalopelvic disproportion \n",
            "CPE complete physical exam  \n",
            "CPR Cardiopulmonary resuscitation  \n",
            "CPS Child Protective Services  \n",
            "Creat. cl  creatine clearance  \n",
            "cryo cryosurgery  \n",
            "CSC Child Service Coordination  \n",
            "C-Section; C -Sec; c/s  Cesarean Section  \n",
            "csf  cerebral sp inal fluid  \n",
            "CSHS  Children’s Special Health Services  \n",
            "CT,CAT  Computerized Tomography/ Computerized Axial Tomography \n",
            "CTA  clear to auscultation  \n",
            "cv clinic visit  \n",
            "CVA  cerebral vascular accident  \n",
            "CVD  cardiovascular disorder  \n",
            "CVHD cardiovascular heart disease/disorder  \n",
            "CVS  chorioni villi sampling  \n",
            "cx cervix  \n",
            "CXR  chest x ray  \n",
            "up check up  \n",
            " \n",
            " D \n",
            " \n",
            "d day \n",
            "D&C  Dilation and curettage  \n",
            "d/c discharge; discontinue  \n",
            "d/t due to  \n",
            "D/V diarrhea/ vomiting  \n",
            "da day \n",
            "DC discharge; discontinue  \n",
            "DDD  degenerative disk disease  \n",
            "DDS  dentist  \n",
            "DDST/DDSTII  Denver Developmental Screening Test  \n",
            "Dec December  \n",
            "dec decreased  \n",
            "del delivered;delivery  \n",
            "delt;D  deltoid  \n",
            "demo  demonstrate  \n",
            "dep dependent  \n",
            "Depo  Depo Provera injection  \n",
            "Dept  Department  \n",
            "dev develop; developmental  \n",
            "df dorsiflexion  \n",
            "DHHS  Department of Health & Human Servic es \n",
            "diff differential; different  \n",
            "dil dilation; dialation  \n",
            "dir direction(s)  \n",
            "Dir Director  \n",
            "dis disorder  \n",
            "disc discontinue  \n",
            "DJD degenerative joint disease   6 DM diabetes mellitus  \n",
            "DNKA did not keep appointment  \n",
            "DNR  do not resuscitate  \n",
            "DNT  did not test  \n",
            "DOA  dead on arriva l \n",
            "DOB  date of birth  \n",
            "DOE  dyspnea on exertion  \n",
            "Dr doctor  \n",
            "dr drain  \n",
            "dmg drainage  \n",
            "drsg dressing  \n",
            "DS  drug store  \n",
            "DSD dry sterile dressing  \n",
            "DSS Department of Social Services  \n",
            "DT Pediatric, Diphtheria  Tetanus \n",
            "DTAP  Diphtheria , Tetanus, Acellular Pertussis  \n",
            "DTP  Diphtheri a, Tetanus, Pertussis  \n",
            "DT’s  delirium tremens \n",
            "DUB  dysfunctional uterine bleeding \n",
            "DVT  deep vein thrombosis  \n",
            "dx diagnosis  \n",
            "dz disease  \n",
            " \n",
            " E    \n",
            " \n",
            "/EA energy assistance  \n",
            "ec empty calorie  \n",
            "ECC endocervical curettage  \n",
            "ECF extended care facility  \n",
            "ECHO  echocardiogram  \n",
            "E-coli Escherichia Coli  \n",
            "ECV  External cephalic version  \n",
            "ED eating disorder  \n",
            "ed;Ed  educate; education  \n",
            "EDC  expected date of confinement  \n",
            "EDD expected due date  \n",
            "edu; educ  educate; education  \n",
            "EEG  electroencephalogram  \n",
            "EENT ear, eyes, nose and throat  \n",
            "EGA estimated gestation al age  \n",
            "elem  elementary  \n",
            "elix elixir  \n",
            "emer  emergency  \n",
            "enc encouraged  \n",
            "ENT  ears, nose, throat  \n",
            "EOMI  extra ocular movement intact  \n",
            "ER Employment  \n",
            "ESC Employment Security Commission  \n",
            "ESRD  end stage renal disease  \n",
            "et. al.  and others  \n",
            "  7  \n",
            " \n",
            "ETOH  alcohol  \n",
            "ETOHism  alcoholism  \n",
            "eval evaluation  \n",
            "ex; exer  exercise  \n",
            "exam  examine; examination  \n",
            "ext extension  \n",
            "ext rot  external rotation  \n",
            " \n",
            " F \n",
            " \n",
            "F female  \n",
            "F&C  foam & condom  \n",
            "F/U follow up  \n",
            "FA folic acid  \n",
            "fam family  \n",
            "FBD  fibrocystic breast disease  \n",
            "FBS fasting blood sugar  \n",
            "FD fetal distress  \n",
            "fdg(s)  feedin gs \n",
            "Fe iron \n",
            "Feb February  \n",
            "FeSo4  Iron Sulfate  \n",
            "FF force fluids  \n",
            "FH fundal height  \n",
            "FHR  fetal heart rate  \n",
            "FHT  fetal heart tone  \n",
            "Fl flouride  \n",
            "fib fibrillation  \n",
            "fld fluid  \n",
            "flex flexion  \n",
            "FMH  Forsythe Memorial Hospital  \n",
            "FNP Family Nurse Practitioner  \n",
            "FOB  father of the baby  \n",
            "FOCUS  find, organize, clarify, understand, select  \n",
            "foley  foley catheter  \n",
            "FP family planning  \n",
            "FPNS family planning nurse screening  \n",
            "Fr French (catheter size)  \n",
            "freq frequency  \n",
            "fr/jce  fruit juice  \n",
            "Fri Friday  \n",
            "FRS Family Resource Center  \n",
            "FS                                                             food stamps  \n",
            "FSBS                                                        finger stick blood sugar  \n",
            "ft foot; feet  \n",
            "FT finger tip  \n",
            "FTP failure to progress  \n",
            " \n",
            "  8  \n",
            " \n",
            "FTT failure to thive  \n",
            "FUO fever of unknown origin \n",
            "FWB  full weight bearing  \n",
            "Fx fracture  \n",
            " \n",
            " G \n",
            "G gravida  \n",
            "ga gauge  \n",
            "GA gestational age  \n",
            "gal gallon  \n",
            "GB gallbladder  \n",
            "GBS  Group B Strep  \n",
            "GC gonorrhea culture  \n",
            "GDM; GD gestational diabetes  \n",
            "GED General Education Diploma; General Equivalency Diploma \n",
            "gen general  \n",
            "GERD  gastro esophageal reflux disease   \n",
            "gest gestation  \n",
            "GI gastrointestinal  \n",
            "gluc;glu  glucose  \n",
            "gm gram  \n",
            "gr grain \n",
            "GS glucose screen  \n",
            "GSW  gunshot wound  \n",
            "gt gait \n",
            "gtt drops  \n",
            "G-tube gastrostomy tube  \n",
            "GU genitourinary  \n",
            "gyn gyncological  \n",
            " \n",
            " H \n",
            "H Ed  health educator; health education  \n",
            "H&P  history and physicial  \n",
            "H.Sc h; HS  high school  \n",
            "H/O handout  \n",
            "H;Hosp  Hospice  \n",
            "H2O water  \n",
            "H2O2  hydrogen perxoide  \n",
            "HA headache  \n",
            "hbv high biological value  \n",
            "HC Hunger Coalition; Health Check  \n",
            "HCC  Health Check Coordinator  \n",
            "HCFM  High Country Family Medicine  \n",
            "HCHC  High Country Health Care  \n",
            "HCMH Hugh Cha tham Memorial Hospital  \n",
            "HCPC  Hope Crisis Pregnancy Center  \n",
            "Hct hematocrit  \n",
            "HD Health Department  \n",
            "HEENT  head, eyes, ears, nose, throat   9 hemi  hemiplegia  \n",
            "Hep A Hepatitis A vaccine  \n",
            "Hep B  Hepatitis B vaccine  \n",
            "Heplock  Heparin lock  \n",
            "hgb hemoglobin  \n",
            "HGSIL  high grade squam ous intraepithelial lesion  \n",
            "HH home health  \n",
            "HHA  Home Health Agency  \n",
            "Hib Hemophilus influenza b conjugate vaccine  \n",
            "HIV Human Immunodeficiency Virus  \n",
            "hlth health  \n",
            "hosp  hospital  \n",
            "HPV human papilloma virus  \n",
            "HR High Risk  \n",
            "hr hour \n",
            "HS hour of sleep; high school; nigh \n",
            "HSD high school diploma  \n",
            "HSM  hepatosplenomegaly  \n",
            "ht height  \n",
            "HTN  hypertension  \n",
            "HUD  Housing and Urban Development  \n",
            "HUS  hemolytic uremic syndrome  \n",
            "HV home visit  \n",
            "Hx; hx  history  \n",
            "hyper  in excess  \n",
            "hypo less than  \n",
            " \n",
            " I \n",
            "I&D incision and drainage  \n",
            "I&O intake and output  \n",
            "i.e.  for example  \n",
            "IBCLC  International Board Certified Lactation Consultant  \n",
            "IBS irritable bowel syndrome  \n",
            "IBW  ideal body weight  \n",
            "IC infection control  \n",
            "ICF intermediate care facility  \n",
            "ID identify; identification  \n",
            "IDDM  insulin dependent diabetes mellitus  \n",
            "IFC infant feeding  \n",
            "IM intramuscular  \n",
            "imm immunization  \n",
            "immun  immunization  \n",
            "imp improved \n",
            "in inch \n",
            "inappr  inappropriate  \n",
            "Inc incorporated  \n",
            "ind induction  \n",
            "info information  \n",
            "inj injection  \n",
            "ins insulin; insurance  \n",
            "INT IV lock   10 int rot  internal rotation  \n",
            "IPPB  intermittent positive pressure b reathing  \n",
            "IPV injectable polio vaccine  \n",
            "irr irregular  \n",
            "isol isolation  \n",
            "isom  isometric  \n",
            "IUD Intrauterine Device  \n",
            "IUGR  intrauterine growth retardation  \n",
            "IUP intrauterine pregnancy  \n",
            "IV intravenous  \n",
            "IVP intravenous pylogram  \n",
            " \n",
            " J \n",
            "Jan January  \n",
            "jt joint \n",
            "J-tube Jejunostomy tube  \n",
            "JVD juglar venous distention  \n",
            " \n",
            " K \n",
            "K+ Potassium  \n",
            "Kcal  kilocalorie  \n",
            "kg kilogram (1000 grams)  \n",
            "kid kidney \n",
            "KUB  kidney, ureter, bladder  \n",
            " \n",
            " L \n",
            "L left; living  \n",
            "L; lt left \n",
            "L/D labor /delivery \n",
            "L/T/C long, thick, closed  \n",
            "L1-L5 lumbar 1- 5 \n",
            "lab laboratory  \n",
            "LAB  laboratory res ults or interpretation  \n",
            "lang language  \n",
            "lat lateral  \n",
            "LAT  left anterior thigh  \n",
            "lax  laxative  \n",
            "lb pound   \n",
            "LBP lowback pain  \n",
            "LCSW  Licensed Clinical Social Worker  \n",
            "LD learning disability  \n",
            "LDN licensed dietitian nutritionist  \n",
            "LE lower extremities  \n",
            "LEEP Loop electrosurgical  excision procedure  \n",
            "leuk.  leukocytes  \n",
            "LFA  left forearm  \n",
            "lg large  \n",
            "LGA large for gestational age  \n",
            "LGSIL  low grade squamous intrapithelial lesion  \n",
            "lig ligament  \n",
            "liq liquid   11 lit literature  \n",
            "LLE left lower extremity  \n",
            "LLL left lower lobe  \n",
            "LLQ  left lower quadrant  \n",
            "LMP  last menstrual period  \n",
            "LNMP  last normal menstrual period  \n",
            "LOC  level of consciousness  \n",
            "LOM  left otitis media  \n",
            "LOS  length of stay  \n",
            "LPN  Licensed Practical Nurse  \n",
            "LRI lower respiratory infection  \n",
            "LS lumbosacral  \n",
            "LSOM  left serous otitis media  \n",
            "LT left thigh  \n",
            "lt length  \n",
            "LTCS  low transverse Caesarean section  \n",
            "LUE  left upper extremity  \n",
            "LUL  left upper lobe  \n",
            "LUOQ  left upper outer quadrant  \n",
            "LUQ left upper quadrant  \n",
            "LVL  left vastus lateralis  \n",
            "lytes  electrolytes  \n",
            " M \n",
            "m murmur  \n",
            "M male  \n",
            "M/N  midnight  \n",
            "M’aid  Medicaid  \n",
            "Mar March  \n",
            "mat maternity  \n",
            "max maximum  \n",
            "MC MasterCard  \n",
            "M’Care  Medicare  \n",
            "MCC Maternal Care Coordinator; Maternal Care Coordination  \n",
            "MCH  maternal and child health  \n",
            "MD medical doctor  \n",
            "med medication  \n",
            "mess message  \n",
            "met metastic  \n",
            "mg milligram  \n",
            "MGF  maternal grandfather  \n",
            "MGM  maternal grandmother  \n",
            "MH Maternal  health; Mountain Hearts; mobile home  \n",
            "MI myocardial infarction  \n",
            "micro  microscopic  \n",
            "min minimum; minute  \n",
            "MJFM Mount Jefferson Family Medicine  \n",
            "ml millimeter  (1/1000 of liter)  \n",
            "mm millimeter  \n",
            "MMGM  mammogram  \n",
            "MMR  Measles, Mumps, Rubella Vaccine  \n",
            "MMRV  Measles, Mumps, Rubella, Varicella vaccine   12 MNT  medical nutrition therapy  \n",
            "mo month \n",
            "MOA medical office assistant  \n",
            "mod moderate  \n",
            "Mon  Monday  \n",
            "mono  mononucleosis  \n",
            "MOPS  mothers of preschoolers  \n",
            "MOW  Maternal Outreach Worker  \n",
            "MPD  multiple personality disorder  \n",
            "MPW  Medicaid for Pregnant Women  \n",
            "MRI  magnetic resonance imaging  \n",
            "MS multiple sclerosis  \n",
            "MSAFP maternal serum alpha fetoprotein  \n",
            "MSW  Masters in Social Work  \n",
            "mus muscle \n",
            "MVA  motor vehicle accident  \n",
            "MVI  multivitamins  \n",
            "mvt movement  \n",
            " \n",
            " N \n",
            "N no \n",
            "N/C V no charge visit  \n",
            "N/G nasogastric  \n",
            "N/S normal sali ne \n",
            "N/V nausea and vomiting  \n",
            "NA not applicable; not assessed  \n",
            "Na+ Sodium  \n",
            "NaCl  salt \n",
            "NAD  no acute distress  \n",
            "NAS  no added salt  \n",
            "NB newborn  \n",
            "NCBH  North Carolina Baptist Hospital  \n",
            "NCIR  North Carolina Immunization Registry  \n",
            "neuro  neurological  \n",
            "NIA no irregular antibodies  \n",
            "NIDDM  non insulin dependent diabetes  \n",
            "NKA no known allergies  \n",
            "nl normal  \n",
            "Nov November  \n",
            "NP Nurse Practitioner  \n",
            "NPO nothing by mouth \n",
            "NR no reaction; non reactive  \n",
            "NRBHC  New River Behavioral Health Care  \n",
            "NS nurse screen  \n",
            "NSAID  nonsteroidal antinflammatory drugs   \n",
            "nsg nurse  \n",
            "NSR  normal sinus rhythm  \n",
            "NST  non stress test  \n",
            "NSVD normal spontaneous vaginal delivery  \n",
            "NTG  Nitroglycerin  \n",
            "NTS  neural tube screening   13 Nutr Nutritionist \n",
            "NWB  non weight bearing  \n",
            " \n",
            " O \n",
            "O objective  \n",
            "O&P  ova and parasites  \n",
            "O2 Oxygen \n",
            "OA osteoarthritis  \n",
            "OASIS  Opposing Abuse with Services, Information and Shelter  \n",
            "OB Obstetrics, Obstetrician  \n",
            "OBCM  Obstetric Care Manager  \n",
            "OBS  organic bran syndrome  \n",
            "obst obstruction  \n",
            "OC oral contraceptive  \n",
            "occ occasional  \n",
            "OCD  obsessive compulsive disorder  \n",
            "Oct October  \n",
            "OCT  oxytocin challenge test  \n",
            "OD right eye  \n",
            "ofc office  \n",
            "oint ointment  \n",
            "OJ orange juice  \n",
            "OM otitis media  \n",
            "ON Ortho Novum  \n",
            "OOB  out of bed  \n",
            "OP out patient  \n",
            "OPV oral polio vaccine  \n",
            "OS O’Sullivan Screen  \n",
            "os left eye  \n",
            "OT Occupational Therapy  \n",
            "OTC; otc  over the counter; ortho tricyclen  \n",
            "OU both eyes  \n",
            "OV office visit  \n",
            "oz ounce  \n",
            " \n",
            " P \n",
            "P Plan; para  \n",
            "p pulse  \n",
            "P&V  prenatal vitamins  \n",
            "P/P/D  (also) pack per day  \n",
            "PA Physician’s Assistant  \n",
            "PAC  premature atrial contraction  \n",
            "PACT  Parents and Teachers together  \n",
            "Pap Test  papanicolaou test  \n",
            "para paraplegic  \n",
            "pass passive \n",
            "PAT  Parents as Teachers  \n",
            "pbj peanut butter and jelly  \n",
            "pc after meals  \n",
            "PC Primary Care  \n",
            "PCC Patient Care Coordinator; Coordination   14 PCG  Patient Care Giver  \n",
            "PCMH  Primary Care Medical Home \n",
            "PE physical exam  \n",
            "peds pediatrics  \n",
            "PERRL; PERRLA  pupils, equal, react to light accommodatio n \n",
            "PFC Partnership for Children  \n",
            "PGF paternal Grandfather  \n",
            "PGM  paternal Grandmother  \n",
            "ph measure of alkalinity  \n",
            "PHN Public Health Nurse  \n",
            "phys  physician  \n",
            "PID pelvic inflammatory disease \n",
            "pkg package \n",
            "pkt packet  \n",
            "PKU  phenylkentonuria  \n",
            "pm afternoon  \n",
            "PMH  Pregnancy Medical Home  \n",
            "PNC  pre-natal client  \n",
            "PNV pre-natal vitamins  \n",
            "po by mouth; per os (per mouth)  \n",
            "POC  plan of care  \n",
            "pos positive  \n",
            "post posterior  \n",
            "post-op postoperative  \n",
            "POT  plan of treatment  \n",
            "PP postpartum  \n",
            "PPBS 2 hour post prandial blood sugar  \n",
            "ppd pack per day  \n",
            "PPD purified prot ein derivation  \n",
            "prec precautions  \n",
            "preg pregnancy  \n",
            "pre-op preoperative  \n",
            "prep preparation; prepare  \n",
            "pres prescription  \n",
            "prev previous  \n",
            "prn whenever necessary  \n",
            "pro T  protime  \n",
            "pro; prot  protein  \n",
            "prob problem  \n",
            "prod; pro  productive  \n",
            "prog progress  \n",
            "PROM  premature rupture of me mbranes  \n",
            "pron pronate  \n",
            "pros prosthesis  \n",
            "PSA prostate specific antigen  \n",
            "pt patient  \n",
            "PT  Physical Therapy  \n",
            "Pt preterm; premature  \n",
            "PTL preterm labor  \n",
            "PTSD  post traumatic stress disorder  \n",
            "PTT Prothrombin time   15 PUD peptic ulcer disease  \n",
            "pulm  pulmonary  \n",
            "PVC  premature ventri cular contraction  \n",
            "pwd powder  \n",
            "Px prognosis  \n",
            " \n",
            " Q \n",
            "q every  \n",
            "q am  every morning  \n",
            "q hs every nigh t \n",
            "q mo  every month  \n",
            "qod every other day  \n",
            "qomo  every other month  \n",
            "qowk every other week  \n",
            "qd every day  \n",
            "qh every hour  \n",
            "QI Quality Improvement  \n",
            "qid four times a day  \n",
            "qt quart   \n",
            "qtly quart erly \n",
            "quad  quadriplegic  \n",
            " \n",
            " R \n",
            "R rectal  \n",
            "R right  \n",
            "R/O rule out  \n",
            "R/S reschedule  \n",
            "r/t related to  \n",
            "RA rheumatoid arthritis  \n",
            "rad radiation  \n",
            "RAT  right anterior thigh  \n",
            "RBC red blood cells  \n",
            "RD Registered Dietition  \n",
            "RDS  Respiratory Distress Syndrome  \n",
            "re recheck  \n",
            "re regardi ng \n",
            "recd record  \n",
            "rec’d  received  \n",
            "recert; RC  recertification  \n",
            "re-eval re-evaluate  \n",
            "ref referred; referral; refill  \n",
            "reg regular  \n",
            "rehab pot  rehabilitation potential  \n",
            "REP redness, edema, pain  \n",
            "reps repetitions  \n",
            "req require; required    \n",
            "resp respirations  \n",
            "retic.ct  reticulo cyte count  \n",
            "RF refill(s) \n",
            "RFA  right forearm   \n",
            "RH ED Registered Health Educator   16 RHD  rheumatic heart disease  \n",
            "RICE  rest, ice compression, elevation  \n",
            "RLE  right lower extremity  \n",
            "RLL  right lower lobe  \n",
            "RLQ  right lower quadrant  \n",
            "RN Registered Nurse  \n",
            "ROI release of information  \n",
            "ROM  range of motion; right otitis media; ruptured membranes  \n",
            "RP radial pulse  \n",
            "RR red reflex  \n",
            "RRR regular, rate, rhythm  \n",
            "RRW  rales, rhonchi, wheezes  \n",
            "RSOM  right serous otitis media; spontaneous ruptured membranes  \n",
            "RT Respiratory Therapy  \n",
            "RTO  return to office  \n",
            "RTC  return to clinic  \n",
            "RUE  right upper extremity  \n",
            "RUL  right upper lobe  \n",
            "RUOQ  right upper outer quadrant  \n",
            "RUQ  right upper quadrant  \n",
            "Rx; RX  prescription; drug renewal or decision  \n",
            " \n",
            " S \n",
            "S subjective  \n",
            "s without  \n",
            "script  prescription  \n",
            "S&H  speech & hearing  \n",
            "S/E side effects  \n",
            "S/L speech/language \n",
            "s/s signs, symptoms  \n",
            "S1,etc  sacral  \n",
            "S1S2  heart sounds  \n",
            "SAB  spontaneous abortion  \n",
            "SAQ short arc quad  \n",
            "sat saturated  \n",
            "Sat Saturday  \n",
            "SBE self breast exam  \n",
            "SBHC  School Based Health Center  \n",
            "SSC size, shape, configuration  \n",
            "sch scheduled, school  \n",
            "SCI spinal cord injury  \n",
            "sec secretary  \n",
            "sed rate  sedimentation rate  \n",
            "Sept September  \n",
            "serv serving  \n",
            "SGA small for gestational age \n",
            "SGOT  serumglutamic oxaloacetic transaminase  \n",
            "shdr shoulder  \n",
            "sig write, let it be written  \n",
            " S  continued  \n",
            "SKB  Smith Kline Beecham   17 sl slight  \n",
            "SLE systemic lupus erythematosis  \n",
            "SLP Speech Language  Pathologist  \n",
            "sm small  \n",
            "smkg  smoking  \n",
            "SN skilled nursing  \n",
            "SNF skilled nursing facility  \n",
            "SNV Skilled nursing visit  \n",
            "s/o symptoms of  \n",
            "SOB  shortness of breath  \n",
            "SOC  start of care  \n",
            "sol solution  \n",
            "som serous otitis media  \n",
            "sono  sonogram  \n",
            "SOS emergency  \n",
            "sp speech  \n",
            "s/p status post or same phone  \n",
            "SPab  status post abortion  \n",
            "spec specimen  \n",
            "sq; subq  subcutaneous  \n",
            "SS Social Security; Smart Start  \n",
            "SSE soap suds enema  \n",
            "SSI supplemental income  \n",
            "SSN Social security number  \n",
            "SSS sick sinus syndrome \n",
            "stat at once  \n",
            "STD’s  sexually transmitted disease \n",
            "STE self testicle exam  \n",
            "Strep  Streptococcus A test  \n",
            "subl sublingual  \n",
            "sublux  subluxation  \n",
            "Sun Sunday  \n",
            "sup supine  \n",
            "supin  supination; supinate  \n",
            "supp  suppository  \n",
            "supv  supervisor  \n",
            "surg surgery  \n",
            "SVD  spontaneous vaginal deliver y  \n",
            "svgs servings  \n",
            "SVT  supraventricular tachycardia \n",
            "SW Social Worker  \n",
            "sx symptoms  \n",
            " T \n",
            "T& A  tonsillectomy and adenoidectomy \n",
            "T; temp  temperature  \n",
            "tab tablet  \n",
            "TAB  therapeutic abortion  \n",
            "TAH  total abdominal hysterectomy \n",
            "TB tuberculosis  \n",
            " T continued  \n",
            "tbsp tablespoon   18 TC telephone call; throat culture  \n",
            "Td adult tetanus diptheria  \n",
            "Tdap  Tetanus, diptheria, acceular pertussis  \n",
            "TE too early  \n",
            "TEN’s  transcutaneous electrical nerve stimulation  \n",
            "TFT Thyroid function test  \n",
            "Tg; Trig  triglycerides  \n",
            "ThC Throat culture  \n",
            "th thigh  \n",
            "THR  Total Hip Replacement  \n",
            "Thurs  Thursday \n",
            "TIA transient ischemic attack  \n",
            "tid three times a day  \n",
            "tinct  tincture  \n",
            "TKR  total knee replacement  \n",
            "TL tubal ligation  \n",
            "TLC  tender loving care  \n",
            "TM tympanic membrane  \n",
            "TO telephone order  \n",
            "TOC  test of cure  \n",
            "tol tolerant  \n",
            "TPR temperature, puls e, respiration  \n",
            "tr trace \n",
            "trach  trachea; tracheotomy \n",
            "transp  transportation  \n",
            "Trich  Trichomonas  \n",
            "TRUST  Test for Syphilis  \n",
            "TSH  thyroid stimulating hormone  \n",
            "tsp teaspoon; dram  \n",
            "TST Tuberculin Skin Test  \n",
            "Tues Tuesday  \n",
            "TURP  transurethral resection of prostate  \n",
            "TWB  tap wat er enema \n",
            "Tx treatment  \n",
            " U \n",
            "U/C urine culture; uterine contractions  \n",
            "UA urinalysis: urine  \n",
            "UCG  pregnancy test  \n",
            "UE upper extremities  \n",
            "UGI upper gastrointestinal  \n",
            "UOP  urinary output  \n",
            "US ultrasound  \n",
            "UTA  unable to access  \n",
            "UTD  up to date  \n",
            "       UTI  urinary tract infection  \n",
            " V \n",
            "V tach  ventricular tachycardia  \n",
            "VA Veteran’s Hospital  \n",
            "vac vaccine  \n",
            "vag vaginal  \n",
            "VAR  Varicella  19 vas vasectomy  \n",
            "VB vaginal bleeding  \n",
            "VBAC  vaginal birth after c -section  \n",
            "VC verbal cue  \n",
            "VCF  vaginal contraceptive film  \n",
            "veg; veggies  vegtables  \n",
            "vent ventolater  \n",
            "Vit vitamin  \n",
            "VM voice mail  \n",
            "VO verbal order  \n",
            "vol volume  \n",
            "VP venipuncture  \n",
            "vs/vst  visit \n",
            "VS vital signs  \n",
            "vtx vertex  \n",
            " W \n",
            "WCHD Watauga County Health Department  \n",
            "WWC  Watauga Women’s Center  \n",
            "W.S.  Winston- Salem; workshop  \n",
            "W/C  wheelchair  \n",
            "W/D  well developed  \n",
            "W/F white female  \n",
            "W/M  white male  \n",
            "W/N  well nourished  \n",
            "w/o without  \n",
            "WBC white blood cells  \n",
            "Wed  Wednesday  \n",
            "WFUBMC  Wake Forest University Baptist Medical Center  \n",
            "WHS  Watauga High School  \n",
            "WIC  Women, Infants & Children nutrition program  \n",
            "wk week  \n",
            "WMC  Watauga Medical Center  \n",
            "WNL  within normal lim its \n",
            "WPH  Women’s Preventive Health  \n",
            "wrd ward  \n",
            "wt weight  \n",
            "WTDD  wet to dry dressings  \n",
            " X \n",
            "_ \n",
            "x except  \n",
            "x times  \n",
            " Y \n",
            "Y yes \n",
            "Y/O years old  \n",
            "yel yellow  \n",
            "YM young mothers  \n",
            "yr year \n",
            " Z  (none at this time)  \n",
            " \n",
            " \n",
            "  20  \n",
            "Approved list of Symbols  \n",
            "for \n",
            "Appalachian District Health Department  \n",
            " \n",
            "Symbol  Definition  \n",
            " \n",
            " improve; increased; up  \n",
            " deteriorate; decreased; down  \n",
            "% percent  \n",
            "& and \n",
            "‘ foot; hour  \n",
            "+ plus; positive  \n",
            "_ minus ; negative  \n",
            ": ration  \n",
            "< less than  \n",
            "= equal  \n",
            "≠ not equal  \n",
            ">   greater than   \n",
            "@ at \n",
            " 2o secondary to; due to  \n",
            " change  \n",
            "> greater than or equal to  \n",
            "< less than or equal to  \n",
            "? question; questionable  \n",
            " leads to  \n",
            " to and from  \n",
            "“ inch; minute  \n",
            "~ approximately  \n",
            "0; no; absent  \n",
            " check; within normal limits  \n",
            "# pound; number  \n",
            "x times  \n",
            "/ per \n",
            "o female  \n",
            "+   \n",
            "0 male  \n",
            "1:1 between; equal parts; one to one solution  \n",
            "  o hour \n",
            " therefore  \n",
            "1o primary  \n",
            ". one \n",
            ".. two \n",
            "..  \n",
            " \n",
            ". half  \n",
            "ss    \n",
            "_ with     \n",
            "c \n",
            "_ after \n",
            "p  21  \n",
            "Symbol   Definition          page 2  \n",
            "_ before  \n",
            "a \n",
            "- without  \n",
            "s  \n",
            " \n",
            " \n",
            "  \n",
            " \n",
            " \n"
          ]
        }
      ],
      "source": [
        "print(text)"
      ]
    },
    {
      "cell_type": "code",
      "execution_count": null,
      "id": "e9728e5a-2f79-4ba8-8ac3-a64ab8f17b6e",
      "metadata": {
        "id": "e9728e5a-2f79-4ba8-8ac3-a64ab8f17b6e"
      },
      "outputs": [],
      "source": [
        "c=1\n",
        "d={}\n",
        "for i in text.split('\\n'):\n",
        "    if c>8:\n",
        "        lst=i.split(' ',1)\n",
        "        d[lst[0]]=lst[1].strip()\n",
        "    c+=1"
      ]
    },
    {
      "cell_type": "code",
      "execution_count": null,
      "id": "0b858fd4-15b9-4a29-b0c0-183d29e893c0",
      "metadata": {
        "id": "0b858fd4-15b9-4a29-b0c0-183d29e893c0",
        "outputId": "f0939bf4-161b-415d-e335-800efe0c4961"
      },
      "outputs": [
        {
          "data": {
            "text/plain": [
              "['AFDC', 'Aid for Families with Dependent Children']"
            ]
          },
          "execution_count": 33,
          "metadata": {},
          "output_type": "execute_result"
        }
      ],
      "source": [
        "'AFDC Aid for Families with Dependent Children'.split(' ',1)"
      ]
    },
    {
      "cell_type": "code",
      "execution_count": null,
      "id": "66fc7c99-9e3a-46fc-acfa-a37b4cbc20d6",
      "metadata": {
        "id": "66fc7c99-9e3a-46fc-acfa-a37b4cbc20d6",
        "outputId": "e6ce40db-a3b1-4259-a0bc-dd15e1f144a5"
      },
      "outputs": [
        {
          "data": {
            "text/plain": [
              "{'A': 'assessment',\n",
              " 'A&O(x3)': 'alert and oriented (x3=person, place and time)',\n",
              " 'A.D.': 'as directed',\n",
              " 'A.S.H.E.': 'A Safe Home for Everyone',\n",
              " 'A/L': 'anterior lateral',\n",
              " 'a/v': 'atrial- ventricular',\n",
              " 'aao': 'awake/alert/oriented',\n",
              " 'aarom': 'active assistive range of motion',\n",
              " 'AAS': 'Ashe Alternative School',\n",
              " 'ab': 'abortion; miscarriages',\n",
              " 'abbr': 'abbreviations',\n",
              " 'abd': 'abdomen',\n",
              " 'abdu': 'abduction',\n",
              " 'ABS': 'antibody screen',\n",
              " 'abx': 'antibiotics',\n",
              " 'atb': 'antibiotics',\n",
              " 'ac': 'before meals',\n",
              " 'ACHD': 'Ashe County Health Department',\n",
              " 'ACHS': 'Ashe County High School',\n",
              " 'ACMS': 'Ashe County Middle School',\n",
              " 'ACPC': 'Ashe County Partnership for Children',\n",
              " 'ACRRC': 'Ashe County Resource & Referral Center',\n",
              " 'ACS': 'Ameri can Cancer Society',\n",
              " 'ACTA': 'Ashe County Transportation Authority',\n",
              " 'ad': 'lib  freely',\n",
              " 'ADA': 'American Diabetic Association',\n",
              " 'add': 'adduction',\n",
              " 'ADD': 'Attention Deficit Disorder',\n",
              " 'ADDS': 'Ashe Developmental Day School',\n",
              " 'ADHD': 'Appalachian District Health Department; attention deficit hype ractive',\n",
              " '': '',\n",
              " 'ADL': 'activities of daily living',\n",
              " 'adm': 'admit',\n",
              " 'admin': 'administration',\n",
              " 'adv': 'advisory; advise; advised',\n",
              " 'AFDC': 'Aid for Families with Dependent Children',\n",
              " 'AFI': 'amniotic fluid index',\n",
              " 'AFP': 'Allegh any Family Practice',\n",
              " 'AFV': 'amniotic fluid volume',\n",
              " 'AGA': 'appropriate for gestational age',\n",
              " 'AGE': 'acute gastro enteritis',\n",
              " 'AGUS': 'atypical glandular cells of undetermined significance   2 AHS  Alleghany High Sc hool',\n",
              " 'AIDS': 'Acquired Immunodeficiency Syndrome',\n",
              " 'aka': 'above knee amputat ion',\n",
              " 'Alb': 'albumin',\n",
              " 'AlMH': 'Alleghany Memorial Hospital',\n",
              " 'ALS': 'amyotrophic lateral sclerosis',\n",
              " 'alt': 'alternate',\n",
              " 'am': 'morning',\n",
              " 'AM': 'Assoc.  Ashe Medical Associates',\n",
              " 'AMA': 'against medical advice',\n",
              " 'AMAP': 'as much as possible',\n",
              " 'amb': 'ambulatory; ambulation',\n",
              " 'AMH': 'Ashe Memorial Hospital',\n",
              " 'amnio': 'amniocentesis',\n",
              " 'amt': 'amount',\n",
              " 'ans': 'answer',\n",
              " 'ans.mach': 'answering machine',\n",
              " 'ant': 'anterior',\n",
              " 'ap': 'apical pulse',\n",
              " 'APCC': 'Ashe Pregnancy Care Center',\n",
              " 'APP': 'alternating pressure pad',\n",
              " 'app': 'applicator; application',\n",
              " 'approx': 'approximately',\n",
              " 'appt': 'appointment',\n",
              " 'Apr': 'April',\n",
              " 'Apt': 'apartment',\n",
              " 'Aq': 'H2O; water',\n",
              " 'AOM': 'acute otitis media',\n",
              " 'ARC': 'Ashe Really Cares',\n",
              " 'AROM': 'artificial ruptured membranes',\n",
              " 'artic': 'articulate',\n",
              " 'as': 'tol   as tolerated',\n",
              " 'ASA': 'Ashe Services for Aging; aspirin',\n",
              " 'ASAP': 'as soon as possible',\n",
              " 'ASCUS': 'atypical squamous cells of undetermined significance',\n",
              " 'ASCVD': 'atherosclerotic  cardiovascular disease',\n",
              " 'ASQ': 'Ages and Stages Questionnaire',\n",
              " 'ASU': 'Appalachian District Health Department',\n",
              " 'ATC': 'around the clock',\n",
              " 'Aug': 'August',\n",
              " 'auth': 'authority; authorize',\n",
              " 'ax': 'axillary',\n",
              " 'Azith': 'Azithromycin',\n",
              " 'b/b': 'bowel and bladder',\n",
              " 'b/c': 'because',\n",
              " 'B/F': 'black female',\n",
              " 'B/M': 'black male',\n",
              " 'b/w.': 'bet  between',\n",
              " 'BAC': 'Braxton  Hicks contractions   3  B continued',\n",
              " 'Bact.': 'Bacteria',\n",
              " 'BBB': 'bundle branch block',\n",
              " 'BC': 'birth control',\n",
              " 'BCCCP': 'breast and cervical cancer program',\n",
              " 'BCP': 'birth control pills',\n",
              " 'bd': 'board',\n",
              " 'BF': 'breast feeding',\n",
              " 'BH': 'Braxton Hicks',\n",
              " 'bic': 'biceps',\n",
              " 'bid': 'twice  a day',\n",
              " 'bil': 'bilateral',\n",
              " 'bk': 'black',\n",
              " 'bka': 'below knee amputation',\n",
              " 'bkf': 'breakfast',\n",
              " 'bl': 'blood',\n",
              " 'bldg': 'bleeding or building',\n",
              " 'BLE': 'bilateral lower extremity',\n",
              " 'BLL': 'bilateral lower lobes',\n",
              " 'b/s': 'blood sugar',\n",
              " 'bm': 'bowel movement',\n",
              " 'BMI': 'body mass index',\n",
              " 'BOM': 'bilateral otitis media',\n",
              " 'BOW': 'bag of wat ers',\n",
              " 'BP': 'blood pressure',\n",
              " 'BRP': 'Blue Ridge Pediatrics',\n",
              " 'BPH': 'benign prostate hypertrophy',\n",
              " 'BPP': 'biophysical profile',\n",
              " 'Br': 'bathroom',\n",
              " 'BRAT': 'bananas, rice, applesauce & toast diet',\n",
              " 'BRB': 'bright red bleeding',\n",
              " 'brp': 'bathroom privileges',\n",
              " 'BS': 'bowel sounds',\n",
              " 'bsc': 'bedside commode',\n",
              " 'BSO': 'bilatera l salpingo oophorectomy',\n",
              " 'BSOM': 'bilateral serous otitis media',\n",
              " 'BTB': 'breakthrough bleeding',\n",
              " 'BTL': 'bilateral tubal ligation',\n",
              " 'BUE': 'bilateral upper extremities',\n",
              " 'BUN': 'blood urea nitrogen',\n",
              " 'BUQ': 'bilateral upper quadrant',\n",
              " 'BV': 'bacterial vaginosis',\n",
              " 'bx': 'biopsy',\n",
              " 'C&S': 'culture and sens itivity',\n",
              " 'c': '',\n",
              " 'c.': 'cup',\n",
              " 'c/c': 'colony count',\n",
              " 'c/o': 'complaints of',\n",
              " 'C1': 'first cervical spine, etc   4 C2, etc  second cervical spine, etc',\n",
              " 'ca;': 'Ca  cancer',\n",
              " 'Ca+': 'calcium',\n",
              " 'CABG': 'coronary artery bypass graft',\n",
              " 'CAD': 'coronary artery disease',\n",
              " 'cal': 'calorie',\n",
              " 'CAP': 'Community Alternative Program /or Corrective Action Plans',\n",
              " 'caps': 'capsule',\n",
              " 'cath': 'catheter,catheriterized',\n",
              " 'CB': 'child birth',\n",
              " 'CBC': 'complete blood count',\n",
              " 'CBE': 'child birth education or Complete Breast Exam',\n",
              " 'cbr': 'complete bedrest',\n",
              " 'cc': 'cubic centimeter; chief complaint',\n",
              " 'CC4C': 'Care Coordination For Children',\n",
              " 'CCR&R': 'Child Care Resource & Referral',\n",
              " 'CCU': 'cardiac care unit',\n",
              " 'CD': 'communicable disease',\n",
              " 'CDC': 'Centers for Disease Control',\n",
              " 'CDI': 'clean, dry, intact',\n",
              " 'cert': 'certification',\n",
              " 'cg': 'caregiver',\n",
              " 'CHB': 'complete heart block',\n",
              " 'CHD': 'coronary heart disease',\n",
              " 'chemo': 'chemotherapy',\n",
              " 'CHF': 'congestive heart failure',\n",
              " 'CHI': 'closed head injury',\n",
              " 'Chl': 'chloride; chlamydia',\n",
              " 'CHO': 'carbohydrate',\n",
              " 'chol': 'cholesterol',\n",
              " 'cig': 'cigarette',\n",
              " 'circ': 'circumcision',\n",
              " 'Cl': 'clinic',\n",
              " 'cm': 'centimeter',\n",
              " 'CNA': 'certified nurse assistant',\n",
              " 'cnt': 'could not test',\n",
              " 'C02': 'carbon dioxide',\n",
              " 'COA': 'Council on Aging',\n",
              " 'col': 'colony; colonies',\n",
              " 'colpo': 'colposcopy',\n",
              " 'comp': 'complications',\n",
              " 'compl': 'complete',\n",
              " 'cond.': 'condition',\n",
              " 'conf': 'conference',\n",
              " 'const': 'constipation',\n",
              " 'cont': 'continuous; continue',\n",
              " 'contx': 'contractions',\n",
              " 'coord': 'coordinate',\n",
              " 'COPD': 'chronic obstructive pulmonary disease',\n",
              " 'COR': 'heart; coronary',\n",
              " 'cp': 'chest pain; care plan   5 CPD  cephalopelvic disproportion',\n",
              " 'CPE': 'complete physical exam',\n",
              " 'CPR': 'Cardiopulmonary resuscitation',\n",
              " 'CPS': 'Child Protective Services',\n",
              " 'Creat.': 'cl  creatine clearance',\n",
              " 'cryo': 'cryosurgery',\n",
              " 'CSC': 'Child Service Coordination',\n",
              " 'C-Section;': 'C -Sec; c/s  Cesarean Section',\n",
              " 'csf': 'cerebral sp inal fluid',\n",
              " 'CSHS': 'Children’s Special Health Services',\n",
              " 'CT,CAT': 'Computerized Tomography/ Computerized Axial Tomography',\n",
              " 'CTA': 'clear to auscultation',\n",
              " 'cv': 'clinic visit',\n",
              " 'CVA': 'cerebral vascular accident',\n",
              " 'CVD': 'cardiovascular disorder',\n",
              " 'CVHD': 'cardiovascular heart disease/disorder',\n",
              " 'CVS': 'chorioni villi sampling',\n",
              " 'cx': 'cervix',\n",
              " 'CXR': 'chest x ray',\n",
              " '\\uf0fcup': 'check up',\n",
              " 'd': 'day',\n",
              " 'D&C': 'Dilation and curettage',\n",
              " 'd/c': 'discharge; discontinue',\n",
              " 'd/t': 'due to',\n",
              " 'D/V': 'diarrhea/ vomiting',\n",
              " 'da': 'day',\n",
              " 'DC': 'discharge; discontinue',\n",
              " 'DDD': 'degenerative disk disease',\n",
              " 'DDS': 'dentist',\n",
              " 'DDST/DDSTII': 'Denver Developmental Screening Test',\n",
              " 'Dec': 'December',\n",
              " 'dec': 'decreased',\n",
              " 'del': 'delivered;delivery',\n",
              " 'delt;D': 'deltoid',\n",
              " 'demo': 'demonstrate',\n",
              " 'dep': 'dependent',\n",
              " 'Depo': 'Depo Provera injection',\n",
              " 'Dept': 'Department',\n",
              " 'dev': 'develop; developmental',\n",
              " 'df': 'dorsiflexion',\n",
              " 'DHHS': 'Department of Health & Human Servic es',\n",
              " 'diff': 'differential; different',\n",
              " 'dil': 'dilation; dialation',\n",
              " 'dir': 'direction(s)',\n",
              " 'Dir': 'Director',\n",
              " 'dis': 'disorder',\n",
              " 'disc': 'discontinue',\n",
              " 'DJD': 'degenerative joint disease   6 DM diabetes mellitus',\n",
              " 'DNKA': 'did not keep appointment',\n",
              " 'DNR': 'do not resuscitate',\n",
              " 'DNT': 'did not test',\n",
              " 'DOA': 'dead on arriva l',\n",
              " 'DOB': 'date of birth',\n",
              " 'DOE': 'dyspnea on exertion',\n",
              " 'Dr': 'doctor',\n",
              " 'dr': 'drain',\n",
              " 'dmg': 'drainage',\n",
              " 'drsg': 'dressing',\n",
              " 'DS': 'drug store',\n",
              " 'DSD': 'dry sterile dressing',\n",
              " 'DSS': 'Department of Social Services',\n",
              " 'DT': 'Pediatric, Diphtheria  Tetanus',\n",
              " 'DTAP': 'Diphtheria , Tetanus, Acellular Pertussis',\n",
              " 'DTP': 'Diphtheri a, Tetanus, Pertussis',\n",
              " 'DT’s': 'delirium tremens',\n",
              " 'DUB': 'dysfunctional uterine bleeding',\n",
              " 'DVT': 'deep vein thrombosis',\n",
              " 'dx': 'diagnosis',\n",
              " 'dz': 'disease',\n",
              " '/EA': 'energy assistance',\n",
              " 'ec': 'empty calorie',\n",
              " 'ECC': 'endocervical curettage',\n",
              " 'ECF': 'extended care facility',\n",
              " 'ECHO': 'echocardiogram',\n",
              " 'E-coli': 'Escherichia Coli',\n",
              " 'ECV': 'External cephalic version',\n",
              " 'ED': 'eating disorder',\n",
              " 'ed;Ed': 'educate; education',\n",
              " 'EDC': 'expected date of confinement',\n",
              " 'EDD': 'expected due date',\n",
              " 'edu;': 'educ  educate; education',\n",
              " 'EEG': 'electroencephalogram',\n",
              " 'EENT': 'ear, eyes, nose and throat',\n",
              " 'EGA': 'estimated gestation al age',\n",
              " 'elem': 'elementary',\n",
              " 'elix': 'elixir',\n",
              " 'emer': 'emergency',\n",
              " 'enc': 'encouraged',\n",
              " 'ENT': 'ears, nose, throat',\n",
              " 'EOMI': 'extra ocular movement intact',\n",
              " 'ER': 'Employment',\n",
              " 'ESC': 'Employment Security Commission',\n",
              " 'ESRD': 'end stage renal disease',\n",
              " 'et.': 'al.  and others',\n",
              " 'ETOH': 'alcohol',\n",
              " 'ETOHism': 'alcoholism',\n",
              " 'eval': 'evaluation',\n",
              " 'ex;': 'exer  exercise',\n",
              " 'exam': 'examine; examination',\n",
              " 'ext': 'rot  external rotation',\n",
              " 'F': 'female',\n",
              " 'F&C': 'foam & condom',\n",
              " 'F/U': 'follow up',\n",
              " 'FA': 'folic acid',\n",
              " 'fam': 'family',\n",
              " 'FBD': 'fibrocystic breast disease',\n",
              " 'FBS': 'fasting blood sugar',\n",
              " 'FD': 'fetal distress',\n",
              " 'fdg(s)': 'feedin gs',\n",
              " 'Fe': 'iron',\n",
              " 'Feb': 'February',\n",
              " 'FeSo4': 'Iron Sulfate',\n",
              " 'FF': 'force fluids',\n",
              " 'FH': 'fundal height',\n",
              " 'FHR': 'fetal heart rate',\n",
              " 'FHT': 'fetal heart tone',\n",
              " 'Fl': 'flouride',\n",
              " 'fib': 'fibrillation',\n",
              " 'fld': 'fluid',\n",
              " 'flex': 'flexion',\n",
              " 'FMH': 'Forsythe Memorial Hospital',\n",
              " 'FNP': 'Family Nurse Practitioner',\n",
              " 'FOB': 'father of the baby',\n",
              " 'FOCUS': 'find, organize, clarify, understand, select',\n",
              " 'foley': 'foley catheter',\n",
              " 'FP': 'family planning',\n",
              " 'FPNS': 'family planning nurse screening',\n",
              " 'Fr': 'French (catheter size)',\n",
              " 'freq': 'frequency',\n",
              " 'fr/jce': 'fruit juice',\n",
              " 'Fri': 'Friday',\n",
              " 'FRS': 'Family Resource Center',\n",
              " 'FS': 'food stamps',\n",
              " 'FSBS': 'finger stick blood sugar',\n",
              " 'ft': 'foot; feet',\n",
              " 'FT': 'finger tip',\n",
              " 'FTP': 'failure to progress',\n",
              " 'FTT': 'failure to thive',\n",
              " 'FUO': 'fever of unknown origin',\n",
              " 'FWB': 'full weight bearing',\n",
              " 'Fx': 'fracture',\n",
              " 'G': 'gravida',\n",
              " 'ga': 'gauge',\n",
              " 'GA': 'gestational age',\n",
              " 'gal': 'gallon',\n",
              " 'GB': 'gallbladder',\n",
              " 'GBS': 'Group B Strep',\n",
              " 'GC': 'gonorrhea culture',\n",
              " 'GDM;': 'GD gestational diabetes',\n",
              " 'GED': 'General Education Diploma; General Equivalency Diploma',\n",
              " 'gen': 'general',\n",
              " 'GERD': 'gastro esophageal reflux disease',\n",
              " 'gest': 'gestation',\n",
              " 'GI': 'gastrointestinal',\n",
              " 'gluc;glu': 'glucose',\n",
              " 'gm': 'gram',\n",
              " 'gr': 'grain',\n",
              " 'GS': 'glucose screen',\n",
              " 'GSW': 'gunshot wound',\n",
              " 'gt': 'gait',\n",
              " 'gtt': 'drops',\n",
              " 'G-tube': 'gastrostomy tube',\n",
              " 'GU': 'genitourinary',\n",
              " 'gyn': 'gyncological',\n",
              " 'H': 'Ed  health educator; health education',\n",
              " 'H&P': 'history and physicial',\n",
              " 'H.Sc': 'h; HS  high school',\n",
              " 'H/O': 'handout',\n",
              " 'H;Hosp': 'Hospice',\n",
              " 'H2O': 'water',\n",
              " 'H2O2': 'hydrogen perxoide',\n",
              " 'HA': 'headache',\n",
              " 'hbv': 'high biological value',\n",
              " 'HC': 'Hunger Coalition; Health Check',\n",
              " 'HCC': 'Health Check Coordinator',\n",
              " 'HCFM': 'High Country Family Medicine',\n",
              " 'HCHC': 'High Country Health Care',\n",
              " 'HCMH': 'Hugh Cha tham Memorial Hospital',\n",
              " 'HCPC': 'Hope Crisis Pregnancy Center',\n",
              " 'Hct': 'hematocrit',\n",
              " 'HD': 'Health Department',\n",
              " 'HEENT': 'head, eyes, ears, nose, throat   9 hemi  hemiplegia',\n",
              " 'Hep': 'B  Hepatitis B vaccine',\n",
              " 'Heplock': 'Heparin lock',\n",
              " 'hgb': 'hemoglobin',\n",
              " 'HGSIL': 'high grade squam ous intraepithelial lesion',\n",
              " 'HH': 'home health',\n",
              " 'HHA': 'Home Health Agency',\n",
              " 'Hib': 'Hemophilus influenza b conjugate vaccine',\n",
              " 'HIV': 'Human Immunodeficiency Virus',\n",
              " 'hlth': 'health',\n",
              " 'hosp': 'hospital',\n",
              " 'HPV': 'human papilloma virus',\n",
              " 'HR': 'High Risk',\n",
              " 'hr': 'hour',\n",
              " 'HS': 'hour of sleep; high school; nigh',\n",
              " 'HSD': 'high school diploma',\n",
              " 'HSM': 'hepatosplenomegaly',\n",
              " 'ht': 'height',\n",
              " 'HTN': 'hypertension',\n",
              " 'HUD': 'Housing and Urban Development',\n",
              " 'HUS': 'hemolytic uremic syndrome',\n",
              " 'HV': 'home visit',\n",
              " 'Hx;': 'hx  history',\n",
              " 'hyper': 'in excess',\n",
              " 'hypo': 'less than',\n",
              " 'I&D': 'incision and drainage',\n",
              " 'I&O': 'intake and output',\n",
              " 'i.e.': 'for example',\n",
              " 'IBCLC': 'International Board Certified Lactation Consultant',\n",
              " 'IBS': 'irritable bowel syndrome',\n",
              " 'IBW': 'ideal body weight',\n",
              " 'IC': 'infection control',\n",
              " 'ICF': 'intermediate care facility',\n",
              " 'ID': 'identify; identification',\n",
              " 'IDDM': 'insulin dependent diabetes mellitus',\n",
              " 'IFC': 'infant feeding',\n",
              " 'IM': 'intramuscular',\n",
              " 'imm': 'immunization',\n",
              " 'immun': 'immunization',\n",
              " 'imp': 'improved',\n",
              " 'in': 'inch',\n",
              " 'inappr': 'inappropriate',\n",
              " 'Inc': 'incorporated',\n",
              " 'ind': 'induction',\n",
              " 'info': 'information',\n",
              " 'inj': 'injection',\n",
              " 'ins': 'insulin; insurance',\n",
              " 'INT': 'IV lock   10 int rot  internal rotation',\n",
              " 'IPPB': 'intermittent positive pressure b reathing',\n",
              " 'IPV': 'injectable polio vaccine',\n",
              " 'irr': 'irregular',\n",
              " 'isol': 'isolation',\n",
              " 'isom': 'isometric',\n",
              " 'IUD': 'Intrauterine Device',\n",
              " 'IUGR': 'intrauterine growth retardation',\n",
              " 'IUP': 'intrauterine pregnancy',\n",
              " 'IV': 'intravenous',\n",
              " 'IVP': 'intravenous pylogram',\n",
              " 'Jan': 'January',\n",
              " 'jt': 'joint',\n",
              " 'J-tube': 'Jejunostomy tube',\n",
              " 'JVD': 'juglar venous distention',\n",
              " 'K+': 'Potassium',\n",
              " 'Kcal': 'kilocalorie',\n",
              " 'kg': 'kilogram (1000 grams)',\n",
              " 'kid': 'kidney',\n",
              " 'KUB': 'kidney, ureter, bladder',\n",
              " 'L': 'left; living',\n",
              " 'L;': 'lt left',\n",
              " 'L/D': 'labor /delivery',\n",
              " 'L/T/C': 'long, thick, closed',\n",
              " 'L1-L5': 'lumbar 1- 5',\n",
              " 'lab': 'laboratory',\n",
              " 'LAB': 'laboratory res ults or interpretation',\n",
              " 'lang': 'language',\n",
              " 'lat': 'lateral',\n",
              " 'LAT': 'left anterior thigh',\n",
              " 'lax': 'laxative',\n",
              " 'lb': 'pound',\n",
              " 'LBP': 'lowback pain',\n",
              " 'LCSW': 'Licensed Clinical Social Worker',\n",
              " 'LD': 'learning disability',\n",
              " 'LDN': 'licensed dietitian nutritionist',\n",
              " 'LE': 'lower extremities',\n",
              " 'LEEP': 'Loop electrosurgical  excision procedure',\n",
              " 'leuk.': 'leukocytes',\n",
              " 'LFA': 'left forearm',\n",
              " 'lg': 'large',\n",
              " 'LGA': 'large for gestational age',\n",
              " 'LGSIL': 'low grade squamous intrapithelial lesion',\n",
              " 'lig': 'ligament',\n",
              " 'liq': 'liquid   11 lit literature',\n",
              " 'LLE': 'left lower extremity',\n",
              " 'LLL': 'left lower lobe',\n",
              " 'LLQ': 'left lower quadrant',\n",
              " 'LMP': 'last menstrual period',\n",
              " 'LNMP': 'last normal menstrual period',\n",
              " 'LOC': 'level of consciousness',\n",
              " 'LOM': 'left otitis media',\n",
              " 'LOS': 'length of stay',\n",
              " 'LPN': 'Licensed Practical Nurse',\n",
              " 'LRI': 'lower respiratory infection',\n",
              " 'LS': 'lumbosacral',\n",
              " 'LSOM': 'left serous otitis media',\n",
              " 'LT': 'left thigh',\n",
              " 'lt': 'length',\n",
              " 'LTCS': 'low transverse Caesarean section',\n",
              " 'LUE': 'left upper extremity',\n",
              " 'LUL': 'left upper lobe',\n",
              " 'LUOQ': 'left upper outer quadrant',\n",
              " 'LUQ': 'left upper quadrant',\n",
              " 'LVL': 'left vastus lateralis',\n",
              " 'lytes': 'electrolytes',\n",
              " 'm': 'murmur',\n",
              " 'M': 'male',\n",
              " 'M/N': 'midnight',\n",
              " 'M’aid': 'Medicaid',\n",
              " 'Mar': 'March',\n",
              " 'mat': 'maternity',\n",
              " 'max': 'maximum',\n",
              " 'MC': 'MasterCard',\n",
              " 'M’Care': 'Medicare',\n",
              " 'MCC': 'Maternal Care Coordinator; Maternal Care Coordination',\n",
              " 'MCH': 'maternal and child health',\n",
              " 'MD': 'medical doctor',\n",
              " 'med': 'medication',\n",
              " 'mess': 'message',\n",
              " 'met': 'metastic',\n",
              " 'mg': 'milligram',\n",
              " 'MGF': 'maternal grandfather',\n",
              " 'MGM': 'maternal grandmother',\n",
              " 'MH': 'Maternal  health; Mountain Hearts; mobile home',\n",
              " 'MI': 'myocardial infarction',\n",
              " 'micro': 'microscopic',\n",
              " 'min': 'minimum; minute',\n",
              " 'MJFM': 'Mount Jefferson Family Medicine',\n",
              " 'ml': 'millimeter  (1/1000 of liter)',\n",
              " 'mm': 'millimeter',\n",
              " 'MMGM': 'mammogram',\n",
              " 'MMR': 'Measles, Mumps, Rubella Vaccine',\n",
              " 'MMRV': 'Measles, Mumps, Rubella, Varicella vaccine   12 MNT  medical nutrition therapy',\n",
              " 'mo': 'month',\n",
              " 'MOA': 'medical office assistant',\n",
              " 'mod': 'moderate',\n",
              " 'Mon': 'Monday',\n",
              " 'mono': 'mononucleosis',\n",
              " 'MOPS': 'mothers of preschoolers',\n",
              " 'MOW': 'Maternal Outreach Worker',\n",
              " 'MPD': 'multiple personality disorder',\n",
              " 'MPW': 'Medicaid for Pregnant Women',\n",
              " 'MRI': 'magnetic resonance imaging',\n",
              " 'MS': 'multiple sclerosis',\n",
              " 'MSAFP': 'maternal serum alpha fetoprotein',\n",
              " 'MSW': 'Masters in Social Work',\n",
              " 'mus': 'muscle',\n",
              " 'MVA': 'motor vehicle accident',\n",
              " 'MVI': 'multivitamins',\n",
              " 'mvt': 'movement',\n",
              " 'N': 'no',\n",
              " 'N/C': 'V no charge visit',\n",
              " 'N/G': 'nasogastric',\n",
              " 'N/S': 'normal sali ne',\n",
              " 'N/V': 'nausea and vomiting',\n",
              " 'NA': 'not applicable; not assessed',\n",
              " 'Na+': 'Sodium',\n",
              " 'NaCl': 'salt',\n",
              " 'NAD': 'no acute distress',\n",
              " 'NAS': 'no added salt',\n",
              " 'NB': 'newborn',\n",
              " 'NCBH': 'North Carolina Baptist Hospital',\n",
              " 'NCIR': 'North Carolina Immunization Registry',\n",
              " 'neuro': 'neurological',\n",
              " 'NIA': 'no irregular antibodies',\n",
              " 'NIDDM': 'non insulin dependent diabetes',\n",
              " 'NKA': 'no known allergies',\n",
              " 'nl': 'normal',\n",
              " 'Nov': 'November',\n",
              " 'NP': 'Nurse Practitioner',\n",
              " 'NPO': 'nothing by mouth',\n",
              " 'NR': 'no reaction; non reactive',\n",
              " 'NRBHC': 'New River Behavioral Health Care',\n",
              " 'NS': 'nurse screen',\n",
              " 'NSAID': 'nonsteroidal antinflammatory drugs',\n",
              " 'nsg': 'nurse',\n",
              " 'NSR': 'normal sinus rhythm',\n",
              " 'NST': 'non stress test',\n",
              " 'NSVD': 'normal spontaneous vaginal delivery',\n",
              " 'NTG': 'Nitroglycerin',\n",
              " 'NTS': 'neural tube screening   13 Nutr Nutritionist',\n",
              " 'NWB': 'non weight bearing',\n",
              " 'O': 'objective',\n",
              " 'O&P': 'ova and parasites',\n",
              " 'O2': 'Oxygen',\n",
              " 'OA': 'osteoarthritis',\n",
              " 'OASIS': 'Opposing Abuse with Services, Information and Shelter',\n",
              " 'OB': 'Obstetrics, Obstetrician',\n",
              " 'OBCM': 'Obstetric Care Manager',\n",
              " 'OBS': 'organic bran syndrome',\n",
              " 'obst': 'obstruction',\n",
              " 'OC': 'oral contraceptive',\n",
              " 'occ': 'occasional',\n",
              " 'OCD': 'obsessive compulsive disorder',\n",
              " 'Oct': 'October',\n",
              " 'OCT': 'oxytocin challenge test',\n",
              " 'OD': 'right eye',\n",
              " 'ofc': 'office',\n",
              " 'oint': 'ointment',\n",
              " 'OJ': 'orange juice',\n",
              " 'OM': 'otitis media',\n",
              " 'ON': 'Ortho Novum',\n",
              " 'OOB': 'out of bed',\n",
              " 'OP': 'out patient',\n",
              " 'OPV': 'oral polio vaccine',\n",
              " 'OS': 'O’Sullivan Screen',\n",
              " 'os': 'left eye',\n",
              " 'OT': 'Occupational Therapy',\n",
              " 'OTC;': 'otc  over the counter; ortho tricyclen',\n",
              " 'OU': 'both eyes',\n",
              " 'OV': 'office visit',\n",
              " 'oz': 'ounce',\n",
              " 'P': 'Plan; para',\n",
              " 'p': '21',\n",
              " 'P&V': 'prenatal vitamins',\n",
              " 'P/P/D': '(also) pack per day',\n",
              " 'PA': 'Physician’s Assistant',\n",
              " 'PAC': 'premature atrial contraction',\n",
              " 'PACT': 'Parents and Teachers together',\n",
              " 'Pap': 'Test  papanicolaou test',\n",
              " 'para': 'paraplegic',\n",
              " 'pass': 'passive',\n",
              " 'PAT': 'Parents as Teachers',\n",
              " 'pbj': 'peanut butter and jelly',\n",
              " 'pc': 'after meals',\n",
              " 'PC': 'Primary Care',\n",
              " 'PCC': 'Patient Care Coordinator; Coordination   14 PCG  Patient Care Giver',\n",
              " 'PCMH': 'Primary Care Medical Home',\n",
              " 'PE': 'physical exam',\n",
              " 'peds': 'pediatrics',\n",
              " 'PERRL;': 'PERRLA  pupils, equal, react to light accommodatio n',\n",
              " 'PFC': 'Partnership for Children',\n",
              " 'PGF': 'paternal Grandfather',\n",
              " 'PGM': 'paternal Grandmother',\n",
              " 'ph': 'measure of alkalinity',\n",
              " 'PHN': 'Public Health Nurse',\n",
              " 'phys': 'physician',\n",
              " 'PID': 'pelvic inflammatory disease',\n",
              " 'pkg': 'package',\n",
              " 'pkt': 'packet',\n",
              " 'PKU': 'phenylkentonuria',\n",
              " 'pm': 'afternoon',\n",
              " 'PMH': 'Pregnancy Medical Home',\n",
              " 'PNC': 'pre-natal client',\n",
              " 'PNV': 'pre-natal vitamins',\n",
              " 'po': 'by mouth; per os (per mouth)',\n",
              " 'POC': 'plan of care',\n",
              " 'pos': 'positive',\n",
              " 'post': 'posterior',\n",
              " 'post-op': 'postoperative',\n",
              " 'POT': 'plan of treatment',\n",
              " 'PP': 'postpartum',\n",
              " 'PPBS': '2 hour post prandial blood sugar',\n",
              " 'ppd': 'pack per day',\n",
              " 'PPD': 'purified prot ein derivation',\n",
              " 'prec': 'precautions',\n",
              " 'preg': 'pregnancy',\n",
              " 'pre-op': 'preoperative',\n",
              " 'prep': 'preparation; prepare',\n",
              " 'pres': 'prescription',\n",
              " 'prev': 'previous',\n",
              " 'prn': 'whenever necessary',\n",
              " 'pro': 'T  protime',\n",
              " 'pro;': 'prot  protein',\n",
              " 'prob': 'problem',\n",
              " 'prod;': 'pro  productive',\n",
              " 'prog': 'progress',\n",
              " 'PROM': 'premature rupture of me mbranes',\n",
              " 'pron': 'pronate',\n",
              " 'pros': 'prosthesis',\n",
              " 'PSA': 'prostate specific antigen',\n",
              " 'pt': 'patient',\n",
              " 'PT': 'Physical Therapy',\n",
              " 'Pt': 'preterm; premature',\n",
              " 'PTL': 'preterm labor',\n",
              " 'PTSD': 'post traumatic stress disorder',\n",
              " 'PTT': 'Prothrombin time   15 PUD peptic ulcer disease',\n",
              " 'pulm': 'pulmonary',\n",
              " 'PVC': 'premature ventri cular contraction',\n",
              " 'pwd': 'powder',\n",
              " 'Px': 'prognosis',\n",
              " 'q': 'mo  every month',\n",
              " 'qod': 'every other day',\n",
              " 'qomo': 'every other month',\n",
              " 'qowk': 'every other week',\n",
              " 'qd': 'every day',\n",
              " 'qh': 'every hour',\n",
              " 'QI': 'Quality Improvement',\n",
              " 'qid': 'four times a day',\n",
              " 'qt': 'quart',\n",
              " 'qtly': 'quart erly',\n",
              " 'quad': 'quadriplegic',\n",
              " 'R': 'right',\n",
              " 'R/O': 'rule out',\n",
              " 'R/S': 'reschedule',\n",
              " 'r/t': 'related to',\n",
              " 'RA': 'rheumatoid arthritis',\n",
              " 'rad': 'radiation',\n",
              " 'RAT': 'right anterior thigh',\n",
              " 'RBC': 'red blood cells',\n",
              " 'RD': 'Registered Dietition',\n",
              " 'RDS': 'Respiratory Distress Syndrome',\n",
              " 're': 'regardi ng',\n",
              " 'recd': 'record',\n",
              " 'rec’d': 'received',\n",
              " 'recert;': 'RC  recertification',\n",
              " 're-eval': 're-evaluate',\n",
              " 'ref': 'referred; referral; refill',\n",
              " 'reg': 'regular',\n",
              " 'rehab': 'pot  rehabilitation potential',\n",
              " 'REP': 'redness, edema, pain',\n",
              " 'reps': 'repetitions',\n",
              " 'req': 'require; required',\n",
              " 'resp': 'respirations',\n",
              " 'retic.ct': 'reticulo cyte count',\n",
              " 'RF': 'refill(s)',\n",
              " 'RFA': 'right forearm',\n",
              " 'RH': 'ED Registered Health Educator   16 RHD  rheumatic heart disease',\n",
              " 'RICE': 'rest, ice compression, elevation',\n",
              " 'RLE': 'right lower extremity',\n",
              " 'RLL': 'right lower lobe',\n",
              " 'RLQ': 'right lower quadrant',\n",
              " 'RN': 'Registered Nurse',\n",
              " 'ROI': 'release of information',\n",
              " 'ROM': 'range of motion; right otitis media; ruptured membranes',\n",
              " 'RP': 'radial pulse',\n",
              " 'RR': 'red reflex',\n",
              " 'RRR': 'regular, rate, rhythm',\n",
              " 'RRW': 'rales, rhonchi, wheezes',\n",
              " 'RSOM': 'right serous otitis media; spontaneous ruptured membranes',\n",
              " 'RT': 'Respiratory Therapy',\n",
              " 'RTO': 'return to office',\n",
              " 'RTC': 'return to clinic',\n",
              " 'RUE': 'right upper extremity',\n",
              " 'RUL': 'right upper lobe',\n",
              " 'RUOQ': 'right upper outer quadrant',\n",
              " 'RUQ': 'right upper quadrant',\n",
              " 'Rx;': 'RX  prescription; drug renewal or decision',\n",
              " 'S': 'subjective',\n",
              " 's': '',\n",
              " 'script': 'prescription',\n",
              " 'S&H': 'speech & hearing',\n",
              " 'S/E': 'side effects',\n",
              " 'S/L': 'speech/language',\n",
              " 's/s': 'signs, symptoms',\n",
              " 'S1,etc': 'sacral',\n",
              " 'S1S2': 'heart sounds',\n",
              " 'SAB': 'spontaneous abortion',\n",
              " 'SAQ': 'short arc quad',\n",
              " 'sat': 'saturated',\n",
              " 'Sat': 'Saturday',\n",
              " 'SBE': 'self breast exam',\n",
              " 'SBHC': 'School Based Health Center',\n",
              " 'SSC': 'size, shape, configuration',\n",
              " 'sch': 'scheduled, school',\n",
              " 'SCI': 'spinal cord injury',\n",
              " 'sec': 'secretary',\n",
              " 'sed': 'rate  sedimentation rate',\n",
              " 'Sept': 'September',\n",
              " 'serv': 'serving',\n",
              " 'SGA': 'small for gestational age',\n",
              " 'SGOT': 'serumglutamic oxaloacetic transaminase',\n",
              " 'shdr': 'shoulder',\n",
              " 'sig': 'write, let it be written',\n",
              " 'SKB': 'Smith Kline Beecham   17 sl slight',\n",
              " 'SLE': 'systemic lupus erythematosis',\n",
              " 'SLP': 'Speech Language  Pathologist',\n",
              " 'sm': 'small',\n",
              " 'smkg': 'smoking',\n",
              " 'SN': 'skilled nursing',\n",
              " 'SNF': 'skilled nursing facility',\n",
              " 'SNV': 'Skilled nursing visit',\n",
              " 's/o': 'symptoms of',\n",
              " 'SOB': 'shortness of breath',\n",
              " 'SOC': 'start of care',\n",
              " 'sol': 'solution',\n",
              " 'som': 'serous otitis media',\n",
              " 'sono': 'sonogram',\n",
              " 'SOS': 'emergency',\n",
              " 'sp': 'speech',\n",
              " 's/p': 'status post or same phone',\n",
              " 'SPab': 'status post abortion',\n",
              " 'spec': 'specimen',\n",
              " 'sq;': 'subq  subcutaneous',\n",
              " 'SS': 'Social Security; Smart Start',\n",
              " 'SSE': 'soap suds enema',\n",
              " 'SSI': 'supplemental income',\n",
              " 'SSN': 'Social security number',\n",
              " 'SSS': 'sick sinus syndrome',\n",
              " 'stat': 'at once',\n",
              " 'STD’s': 'sexually transmitted disease',\n",
              " 'STE': 'self testicle exam',\n",
              " 'Strep': 'Streptococcus A test',\n",
              " 'subl': 'sublingual',\n",
              " 'sublux': 'subluxation',\n",
              " 'Sun': 'Sunday',\n",
              " 'sup': 'supine',\n",
              " 'supin': 'supination; supinate',\n",
              " 'supp': 'suppository',\n",
              " 'supv': 'supervisor',\n",
              " 'surg': 'surgery',\n",
              " 'SVD': 'spontaneous vaginal deliver y',\n",
              " 'svgs': 'servings',\n",
              " 'SVT': 'supraventricular tachycardia',\n",
              " 'SW': 'Social Worker',\n",
              " 'sx': 'symptoms',\n",
              " 'T&': 'A  tonsillectomy and adenoidectomy',\n",
              " 'T;': 'temp  temperature',\n",
              " 'tab': 'tablet',\n",
              " 'TAB': 'therapeutic abortion',\n",
              " 'TAH': 'total abdominal hysterectomy',\n",
              " 'TB': 'tuberculosis',\n",
              " 'tbsp': 'tablespoon   18 TC telephone call; throat culture',\n",
              " 'Td': 'adult tetanus diptheria',\n",
              " 'Tdap': 'Tetanus, diptheria, acceular pertussis',\n",
              " 'TE': 'too early',\n",
              " 'TEN’s': 'transcutaneous electrical nerve stimulation',\n",
              " 'TFT': 'Thyroid function test',\n",
              " 'Tg;': 'Trig  triglycerides',\n",
              " 'ThC': 'Throat culture',\n",
              " 'th': 'thigh',\n",
              " 'THR': 'Total Hip Replacement',\n",
              " 'Thurs': 'Thursday',\n",
              " 'TIA': 'transient ischemic attack',\n",
              " 'tid': 'three times a day',\n",
              " 'tinct': 'tincture',\n",
              " 'TKR': 'total knee replacement',\n",
              " 'TL': 'tubal ligation',\n",
              " 'TLC': 'tender loving care',\n",
              " 'TM': 'tympanic membrane',\n",
              " 'TO': 'telephone order',\n",
              " 'TOC': 'test of cure',\n",
              " 'tol': 'tolerant',\n",
              " 'TPR': 'temperature, puls e, respiration',\n",
              " 'tr': 'trace',\n",
              " 'trach': 'trachea; tracheotomy',\n",
              " 'transp': 'transportation',\n",
              " 'Trich': 'Trichomonas',\n",
              " 'TRUST': 'Test for Syphilis',\n",
              " 'TSH': 'thyroid stimulating hormone',\n",
              " 'tsp': 'teaspoon; dram',\n",
              " 'TST': 'Tuberculin Skin Test',\n",
              " 'Tues': 'Tuesday',\n",
              " 'TURP': 'transurethral resection of prostate',\n",
              " 'TWB': 'tap wat er enema',\n",
              " 'Tx': 'treatment',\n",
              " 'U/C': 'urine culture; uterine contractions',\n",
              " 'UA': 'urinalysis: urine',\n",
              " 'UCG': 'pregnancy test',\n",
              " 'UE': 'upper extremities',\n",
              " 'UGI': 'upper gastrointestinal',\n",
              " 'UOP': 'urinary output',\n",
              " 'US': 'ultrasound',\n",
              " 'UTA': 'unable to access',\n",
              " 'UTD': 'up to date',\n",
              " 'V': 'tach  ventricular tachycardia',\n",
              " 'VA': 'Veteran’s Hospital',\n",
              " 'vac': 'vaccine',\n",
              " 'vag': 'vaginal',\n",
              " 'VAR': 'Varicella  19 vas vasectomy',\n",
              " 'VB': 'vaginal bleeding',\n",
              " 'VBAC': 'vaginal birth after c -section',\n",
              " 'VC': 'verbal cue',\n",
              " 'VCF': 'vaginal contraceptive film',\n",
              " 'veg;': 'veggies  vegtables',\n",
              " 'vent': 'ventolater',\n",
              " 'Vit': 'vitamin',\n",
              " 'VM': 'voice mail',\n",
              " 'VO': 'verbal order',\n",
              " 'vol': 'volume',\n",
              " 'VP': 'venipuncture',\n",
              " 'vs/vst': 'visit',\n",
              " 'VS': 'vital signs',\n",
              " 'vtx': 'vertex',\n",
              " 'WCHD': 'Watauga County Health Department',\n",
              " 'WWC': 'Watauga Women’s Center',\n",
              " 'W.S.': 'Winston- Salem; workshop',\n",
              " 'W/C': 'wheelchair',\n",
              " 'W/D': 'well developed',\n",
              " 'W/F': 'white female',\n",
              " 'W/M': 'white male',\n",
              " 'W/N': 'well nourished',\n",
              " 'w/o': 'without',\n",
              " 'WBC': 'white blood cells',\n",
              " 'Wed': 'Wednesday',\n",
              " 'WFUBMC': 'Wake Forest University Baptist Medical Center',\n",
              " 'WHS': 'Watauga High School',\n",
              " 'WIC': 'Women, Infants & Children nutrition program',\n",
              " 'wk': 'week',\n",
              " 'WMC': 'Watauga Medical Center',\n",
              " 'WNL': 'within normal lim its',\n",
              " 'WPH': 'Women’s Preventive Health',\n",
              " 'wrd': 'ward',\n",
              " 'wt': 'weight',\n",
              " 'WTDD': 'wet to dry dressings',\n",
              " '_': 'before',\n",
              " 'x': 'times',\n",
              " 'Y': 'yes',\n",
              " 'Y/O': 'years old',\n",
              " 'yel': 'yellow',\n",
              " 'YM': 'young mothers',\n",
              " 'yr': 'year',\n",
              " 'Approved': 'list of Symbols',\n",
              " 'for': '',\n",
              " 'Appalachian': 'District Health Department',\n",
              " 'Symbol': 'Definition          page 2',\n",
              " '\\uf0e1': 'improve; increased; up',\n",
              " '\\uf0e2': 'deteriorate; decreased; down',\n",
              " '%': 'percent',\n",
              " '&': 'and',\n",
              " '‘': 'foot; hour',\n",
              " '+': '',\n",
              " ':': 'ration',\n",
              " '<': 'less than or equal to',\n",
              " '=': 'equal',\n",
              " '≠': 'not equal',\n",
              " '>': 'greater than or equal to',\n",
              " '@': 'at',\n",
              " '\\uf072': 'change',\n",
              " '?': 'question; questionable',\n",
              " '\\uf0a6': 'leads to',\n",
              " '\\uf06e': 'to and from',\n",
              " '“': 'inch; minute',\n",
              " '~': 'approximately',\n",
              " '0;\\uf058': 'no; absent',\n",
              " '\\uf050': 'check; within normal limits',\n",
              " '#': 'pound; number',\n",
              " '/': 'per',\n",
              " 'o': 'female',\n",
              " '0\\uf0d6': 'male',\n",
              " '1:1': 'between; equal parts; one to one solution',\n",
              " '\\uf0f9': 'therefore',\n",
              " '1o': 'primary',\n",
              " '.': 'half',\n",
              " '..': '',\n",
              " '\\uf0b4': '',\n",
              " 'ss': '',\n",
              " 'a': '',\n",
              " '-': 'without'}"
            ]
          },
          "execution_count": 83,
          "metadata": {},
          "output_type": "execute_result"
        }
      ],
      "source": [
        "d"
      ]
    },
    {
      "cell_type": "code",
      "execution_count": null,
      "id": "5d8b24d0-90e8-4246-ad51-d828b56eb619",
      "metadata": {
        "id": "5d8b24d0-90e8-4246-ad51-d828b56eb619",
        "outputId": "4c561d82-842b-4aac-dead-17cee02c4be6"
      },
      "outputs": [
        {
          "name": "stdout",
          "output_type": "stream",
          "text": [
            "activities of daily living\n"
          ]
        }
      ],
      "source": [
        "key='ADL'\n",
        "\n",
        "if key in d:\n",
        "    print(d[key])\n",
        "else:\n",
        "    print('Not found')"
      ]
    },
    {
      "cell_type": "markdown",
      "id": "7d77397a-2ecd-4eb7-be8a-9c6a6fd760c9",
      "metadata": {
        "id": "7d77397a-2ecd-4eb7-be8a-9c6a6fd760c9"
      },
      "source": [
        "# Functions"
      ]
    },
    {
      "cell_type": "code",
      "execution_count": null,
      "id": "2b362480-d837-470c-96c6-82412a3e8d0d",
      "metadata": {
        "id": "2b362480-d837-470c-96c6-82412a3e8d0d"
      },
      "outputs": [],
      "source": [
        "# - A function is a block of code that gets executed as and when called.\n",
        "# - It is useful when we have to use a piece of code repeatedly at different positions in a program.\n",
        "# - It gives us the facility that we write the logic once and we can use it as many times as we want in a program.\n",
        "# - Using function we can reduce the lines of code."
      ]
    },
    {
      "cell_type": "code",
      "execution_count": null,
      "id": "094c20d1-4cee-49e1-95cd-08106283d1cd",
      "metadata": {
        "id": "094c20d1-4cee-49e1-95cd-08106283d1cd"
      },
      "outputs": [],
      "source": [
        "def add():\n",
        "    a=int(input('Enter a number- '))\n",
        "    b=int(input('Enter a number again- '))\n",
        "    c=a+b\n",
        "    print(c)"
      ]
    },
    {
      "cell_type": "markdown",
      "id": "b20b2d09-8ed2-49c0-8d5f-23f42cac864d",
      "metadata": {
        "id": "b20b2d09-8ed2-49c0-8d5f-23f42cac864d"
      },
      "source": [
        "# Types of Functions"
      ]
    },
    {
      "cell_type": "code",
      "execution_count": null,
      "id": "12f10304-9518-4b10-9bea-233c7a777673",
      "metadata": {
        "id": "12f10304-9518-4b10-9bea-233c7a777673"
      },
      "outputs": [],
      "source": [
        "# - 1- Built-in functions\n",
        "# - 2- User defined functions"
      ]
    },
    {
      "cell_type": "markdown",
      "id": "db92bc95-a378-4c16-86b9-4309ddaa26eb",
      "metadata": {
        "id": "db92bc95-a378-4c16-86b9-4309ddaa26eb"
      },
      "source": [
        "# 1- Built-in functions"
      ]
    },
    {
      "cell_type": "code",
      "execution_count": null,
      "id": "a8cefdbd-6e35-4c7e-ad20-8e56e50846c7",
      "metadata": {
        "id": "a8cefdbd-6e35-4c7e-ad20-8e56e50846c7"
      },
      "outputs": [],
      "source": [
        "# - The functions that are predefined in Python are known as in-built functions.\n",
        "\n",
        "# Exmaples- type(), print(), input(), len(), range(), list(), tuple(), dict() etc."
      ]
    },
    {
      "cell_type": "markdown",
      "id": "2823f777-506e-4dbe-8e25-8d8b9c48c8bb",
      "metadata": {
        "id": "2823f777-506e-4dbe-8e25-8d8b9c48c8bb"
      },
      "source": [
        "# 2- User defined functions"
      ]
    },
    {
      "cell_type": "code",
      "execution_count": null,
      "id": "925d34c8-6438-4f7c-8b1e-ee1b2578e276",
      "metadata": {
        "id": "925d34c8-6438-4f7c-8b1e-ee1b2578e276"
      },
      "outputs": [],
      "source": [
        "# - The functions that are defined (created) by the programmers are known as user defined functions."
      ]
    },
    {
      "cell_type": "markdown",
      "id": "a7b8947b-3eaa-481f-9e40-006485cb5e8b",
      "metadata": {
        "id": "a7b8947b-3eaa-481f-9e40-006485cb5e8b"
      },
      "source": [
        "# Components of Function"
      ]
    },
    {
      "cell_type": "code",
      "execution_count": null,
      "id": "b6d963a1-7304-4705-8f5f-faab7378d371",
      "metadata": {
        "id": "b6d963a1-7304-4705-8f5f-faab7378d371"
      },
      "outputs": [],
      "source": [
        "# - 1- Function definition\n",
        "# - 2- Function call"
      ]
    },
    {
      "cell_type": "markdown",
      "id": "aacc960c-3f3e-42c3-bf38-721c79d68973",
      "metadata": {
        "id": "aacc960c-3f3e-42c3-bf38-721c79d68973"
      },
      "source": [
        "# 1- Function Definition"
      ]
    },
    {
      "cell_type": "code",
      "execution_count": null,
      "id": "f005da68-6999-41ce-a6f9-6359bee0d294",
      "metadata": {
        "id": "f005da68-6999-41ce-a6f9-6359bee0d294"
      },
      "outputs": [],
      "source": [
        "# - Here we define the function name.\n",
        "# - It is the area or block where we write the logic (code)\n",
        "# - def keyword is used to define a function."
      ]
    },
    {
      "cell_type": "markdown",
      "id": "0e2742cf-0e78-4f6a-b363-4f8e00518c98",
      "metadata": {
        "id": "0e2742cf-0e78-4f6a-b363-4f8e00518c98"
      },
      "source": [
        "### Syntax"
      ]
    },
    {
      "cell_type": "code",
      "execution_count": null,
      "id": "a85d21dc-8af5-47a7-9f18-fcfce30b6738",
      "metadata": {
        "id": "a85d21dc-8af5-47a7-9f18-fcfce30b6738"
      },
      "outputs": [],
      "source": [
        "def function_name():\n",
        "    code\n",
        "    code\n",
        "    code\n",
        "    code"
      ]
    },
    {
      "cell_type": "code",
      "execution_count": null,
      "id": "d813185e-b3ab-4249-a670-2c72adaafdd2",
      "metadata": {
        "id": "d813185e-b3ab-4249-a670-2c72adaafdd2"
      },
      "outputs": [],
      "source": [
        "# Create a function add that adds two numbers"
      ]
    },
    {
      "cell_type": "code",
      "execution_count": null,
      "id": "b13535d2-6b4b-4d54-95bd-d789ae406e66",
      "metadata": {
        "id": "b13535d2-6b4b-4d54-95bd-d789ae406e66"
      },
      "outputs": [],
      "source": [
        "def add(): # Function definition\n",
        "    a=int(input('Enter a number- '))\n",
        "    b=int(input('Enter a number again- '))     # Function body\n",
        "    c=a+b\n",
        "    print(c)"
      ]
    },
    {
      "cell_type": "markdown",
      "id": "368f36dc-ea92-46d0-85d6-20df228c2313",
      "metadata": {
        "id": "368f36dc-ea92-46d0-85d6-20df228c2313"
      },
      "source": [
        "# 2- Function call"
      ]
    },
    {
      "cell_type": "code",
      "execution_count": null,
      "id": "371c007a-c844-4fa2-98e3-cd98f4d1e025",
      "metadata": {
        "id": "371c007a-c844-4fa2-98e3-cd98f4d1e025"
      },
      "outputs": [],
      "source": [
        "# - A function definition does not get executed automatically.\n",
        "# - A function need a a trigger to get executed.\n",
        "# - A function call is the trigger to the function definition.\n",
        "# - As and when we call a function then it's definition gets executed line by line."
      ]
    },
    {
      "cell_type": "markdown",
      "id": "865ee07b-5a84-4312-9693-7df880b5562a",
      "metadata": {
        "id": "865ee07b-5a84-4312-9693-7df880b5562a"
      },
      "source": [
        "### Syntax-"
      ]
    },
    {
      "cell_type": "code",
      "execution_count": null,
      "id": "1cec93a3-7cb7-4deb-911a-16ba52fb7c39",
      "metadata": {
        "id": "1cec93a3-7cb7-4deb-911a-16ba52fb7c39"
      },
      "outputs": [],
      "source": [
        "# function_name()"
      ]
    },
    {
      "cell_type": "code",
      "execution_count": null,
      "id": "41ea1755-50f8-477b-878f-311128ad66c1",
      "metadata": {
        "id": "41ea1755-50f8-477b-878f-311128ad66c1"
      },
      "outputs": [],
      "source": [
        "def add(): # Function definition\n",
        "    a=int(input('Enter a number- '))\n",
        "    b=int(input('Enter a number again- '))     # Function body\n",
        "    c=a+b\n",
        "    print(c)"
      ]
    },
    {
      "cell_type": "code",
      "execution_count": null,
      "id": "6aa67b34-e05d-478f-825e-12008ef2dcf9",
      "metadata": {
        "id": "6aa67b34-e05d-478f-825e-12008ef2dcf9",
        "outputId": "de63c241-a13a-41b6-ac21-5363718566a5"
      },
      "outputs": [
        {
          "name": "stdin",
          "output_type": "stream",
          "text": [
            "Enter a number-  5\n",
            "Enter a number again-  6\n"
          ]
        },
        {
          "name": "stdout",
          "output_type": "stream",
          "text": [
            "11\n"
          ]
        }
      ],
      "source": [
        "add()"
      ]
    },
    {
      "cell_type": "code",
      "execution_count": null,
      "id": "cbb70ba9-fa34-479a-9bcc-a6a18198d26f",
      "metadata": {
        "id": "cbb70ba9-fa34-479a-9bcc-a6a18198d26f"
      },
      "outputs": [],
      "source": []
    },
    {
      "cell_type": "code",
      "execution_count": null,
      "id": "3686c415-42b3-4d0d-81e8-6ec35bbda36a",
      "metadata": {
        "id": "3686c415-42b3-4d0d-81e8-6ec35bbda36a"
      },
      "outputs": [],
      "source": []
    },
    {
      "cell_type": "code",
      "execution_count": null,
      "id": "2ed725de-6157-40ba-8773-c4671bea43dd",
      "metadata": {
        "id": "2ed725de-6157-40ba-8773-c4671bea43dd",
        "outputId": "55a4aab5-65e3-4d97-e099-481f4b608810"
      },
      "outputs": [
        {
          "name": "stdin",
          "output_type": "stream",
          "text": [
            "Enter a number-  4\n",
            "Enter a number again-  8\n"
          ]
        },
        {
          "name": "stdout",
          "output_type": "stream",
          "text": [
            "12\n"
          ]
        }
      ],
      "source": [
        "add()"
      ]
    },
    {
      "cell_type": "code",
      "execution_count": null,
      "id": "b18ffbf8-bba4-4be5-a909-a68300ac8c38",
      "metadata": {
        "id": "b18ffbf8-bba4-4be5-a909-a68300ac8c38"
      },
      "outputs": [],
      "source": []
    },
    {
      "cell_type": "markdown",
      "id": "f2e6e652-3816-4f18-a65b-f733419b7eca",
      "metadata": {
        "id": "f2e6e652-3816-4f18-a65b-f733419b7eca"
      },
      "source": [
        "# Parameterised and Non-parameterised function"
      ]
    },
    {
      "cell_type": "markdown",
      "id": "ed3f894d-9022-4bbe-90c2-4df64856ed09",
      "metadata": {
        "id": "ed3f894d-9022-4bbe-90c2-4df64856ed09"
      },
      "source": [
        "# Non-Parameterised function"
      ]
    },
    {
      "cell_type": "code",
      "execution_count": null,
      "id": "af55098d-0ac7-4f0c-877b-93cd62ed5dbc",
      "metadata": {
        "id": "af55098d-0ac7-4f0c-877b-93cd62ed5dbc"
      },
      "outputs": [],
      "source": [
        "# - The function that does not have or require any parameters is a non- parameterised function."
      ]
    },
    {
      "cell_type": "code",
      "execution_count": null,
      "id": "c06a9c42-bec6-43eb-bd75-507ee168649a",
      "metadata": {
        "id": "c06a9c42-bec6-43eb-bd75-507ee168649a"
      },
      "outputs": [],
      "source": [
        "def greet():\n",
        "    print('Good day!')"
      ]
    },
    {
      "cell_type": "code",
      "execution_count": null,
      "id": "acabe6e2-143c-49ed-91a0-b3e881e8f472",
      "metadata": {
        "id": "acabe6e2-143c-49ed-91a0-b3e881e8f472",
        "outputId": "a0d6fbbb-3028-41ff-96fa-f2bae76eaa37"
      },
      "outputs": [
        {
          "name": "stdout",
          "output_type": "stream",
          "text": [
            "Good day!\n"
          ]
        }
      ],
      "source": [
        "greet()"
      ]
    },
    {
      "cell_type": "markdown",
      "id": "67bc9579-0c94-494e-9942-eb38189b3631",
      "metadata": {
        "id": "67bc9579-0c94-494e-9942-eb38189b3631"
      },
      "source": [
        "# Parameterised functions"
      ]
    },
    {
      "cell_type": "code",
      "execution_count": null,
      "id": "9775d239-7b48-4796-b0df-8c40b621ccef",
      "metadata": {
        "id": "9775d239-7b48-4796-b0df-8c40b621ccef"
      },
      "outputs": [],
      "source": [
        "# - The functions that have parameters and arguments are known as parameterised functions."
      ]
    },
    {
      "cell_type": "markdown",
      "id": "cb234d5f-b708-432c-8fa8-b3956b01d064",
      "metadata": {
        "id": "cb234d5f-b708-432c-8fa8-b3956b01d064"
      },
      "source": [
        "### Parameter"
      ]
    },
    {
      "cell_type": "code",
      "execution_count": null,
      "id": "e759a533-0336-4855-8654-2ea377232c11",
      "metadata": {
        "id": "e759a533-0336-4855-8654-2ea377232c11"
      },
      "outputs": [],
      "source": [
        "# - The variables inside the () of the function definition are knwon as parameters."
      ]
    },
    {
      "cell_type": "code",
      "execution_count": null,
      "id": "ec895edc-3476-4473-bca9-651e3ccddf7f",
      "metadata": {
        "id": "ec895edc-3476-4473-bca9-651e3ccddf7f"
      },
      "outputs": [],
      "source": [
        "def test(a,b,c): # a,b and c are the parameters\n",
        "    pass"
      ]
    },
    {
      "cell_type": "markdown",
      "id": "a201617d-8b9b-4540-869d-796d97e7c9c5",
      "metadata": {
        "id": "a201617d-8b9b-4540-869d-796d97e7c9c5"
      },
      "source": [
        "### Argument"
      ]
    },
    {
      "cell_type": "code",
      "execution_count": null,
      "id": "fd1b58fa-9fbb-442a-8836-a3398c7d6d44",
      "metadata": {
        "id": "fd1b58fa-9fbb-442a-8836-a3398c7d6d44"
      },
      "outputs": [],
      "source": [
        "# - The values or the variables that we pass inside the () of a function call  are known as arguments."
      ]
    },
    {
      "cell_type": "code",
      "execution_count": null,
      "id": "07762197-64a9-4050-b5e3-9d4d9a02eeac",
      "metadata": {
        "id": "07762197-64a9-4050-b5e3-9d4d9a02eeac"
      },
      "outputs": [],
      "source": [
        "test(10,20,30) # 10, 20 and 30 are the arguments"
      ]
    },
    {
      "cell_type": "code",
      "execution_count": null,
      "id": "f4e820aa-9673-4071-b122-291450589011",
      "metadata": {
        "id": "f4e820aa-9673-4071-b122-291450589011"
      },
      "outputs": [],
      "source": [
        "def test():\n",
        "    print('Hello')"
      ]
    },
    {
      "cell_type": "code",
      "execution_count": null,
      "id": "7b064fbc-ddc3-4cda-b220-1d2b72537206",
      "metadata": {
        "id": "7b064fbc-ddc3-4cda-b220-1d2b72537206",
        "outputId": "2c4d8e91-d21c-428f-8859-16ce46736010"
      },
      "outputs": [
        {
          "name": "stdout",
          "output_type": "stream",
          "text": [
            "Hello\n"
          ]
        }
      ],
      "source": [
        "test()"
      ]
    },
    {
      "cell_type": "code",
      "execution_count": null,
      "id": "d84f7bd3-eabc-4b40-81d9-268d0468a6ef",
      "metadata": {
        "id": "d84f7bd3-eabc-4b40-81d9-268d0468a6ef"
      },
      "outputs": [],
      "source": [
        "def test(a,b):\n",
        "    print(a,b)"
      ]
    },
    {
      "cell_type": "code",
      "execution_count": null,
      "id": "4ad678ed-e54e-433e-b91f-682da6185968",
      "metadata": {
        "id": "4ad678ed-e54e-433e-b91f-682da6185968",
        "outputId": "310f6c6c-2239-4293-8c6b-e547606bf047"
      },
      "outputs": [
        {
          "name": "stdout",
          "output_type": "stream",
          "text": [
            "10 20\n"
          ]
        }
      ],
      "source": [
        "test(10,20)"
      ]
    },
    {
      "cell_type": "markdown",
      "id": "6e97f422-2252-4d55-97b7-9af50ece51e9",
      "metadata": {
        "id": "6e97f422-2252-4d55-97b7-9af50ece51e9"
      },
      "source": [
        "### Comparison"
      ]
    },
    {
      "cell_type": "code",
      "execution_count": null,
      "id": "640dad50-0475-4a45-a98b-7cc2663856f7",
      "metadata": {
        "id": "640dad50-0475-4a45-a98b-7cc2663856f7"
      },
      "outputs": [],
      "source": [
        "# function-> Operate on some data and will generate the result.\n",
        "# If the function does not require any data or it is generating the data within- non-parameterised function.\n",
        "# If the data is passed to the function from outside- parameterised function."
      ]
    },
    {
      "cell_type": "code",
      "execution_count": null,
      "id": "ea228366-686e-4875-bd89-17052a8005ad",
      "metadata": {
        "id": "ea228366-686e-4875-bd89-17052a8005ad"
      },
      "outputs": [],
      "source": [
        "# Create a function welcome that prints You are welcome to the class."
      ]
    },
    {
      "cell_type": "code",
      "execution_count": null,
      "id": "a31d5fc4-dc72-428c-842d-3dc6f22ba0f6",
      "metadata": {
        "id": "a31d5fc4-dc72-428c-842d-3dc6f22ba0f6"
      },
      "outputs": [],
      "source": [
        "def welcome():\n",
        "    print('You are welcome!')"
      ]
    },
    {
      "cell_type": "code",
      "execution_count": null,
      "id": "f15af558-756f-46b2-a9a7-f4e3ac2cb8ba",
      "metadata": {
        "id": "f15af558-756f-46b2-a9a7-f4e3ac2cb8ba",
        "outputId": "e74ea18f-5023-4760-d17b-4ed435ff7430"
      },
      "outputs": [
        {
          "name": "stdout",
          "output_type": "stream",
          "text": [
            "You are welcome!\n"
          ]
        }
      ],
      "source": [
        "welcome()"
      ]
    },
    {
      "cell_type": "code",
      "execution_count": null,
      "id": "be01b308-ca95-4356-8440-53840d7779c2",
      "metadata": {
        "id": "be01b308-ca95-4356-8440-53840d7779c2"
      },
      "outputs": [],
      "source": [
        "# Create a function add that takes two numbers from the user and adds them"
      ]
    },
    {
      "cell_type": "code",
      "execution_count": null,
      "id": "2bc6957e-8d06-4ed8-95fc-8c762eac0819",
      "metadata": {
        "id": "2bc6957e-8d06-4ed8-95fc-8c762eac0819"
      },
      "outputs": [],
      "source": [
        "def add():\n",
        "    a=int(input('Enter a number- '))\n",
        "    b=int(input('Enter a number again- '))\n",
        "    c=a+b\n",
        "    print(c)"
      ]
    },
    {
      "cell_type": "code",
      "execution_count": null,
      "id": "3251baa4-4d8d-4488-b64a-79914e782616",
      "metadata": {
        "id": "3251baa4-4d8d-4488-b64a-79914e782616",
        "outputId": "48bac189-1e57-4bdf-aa6a-7e2dde4026f3"
      },
      "outputs": [
        {
          "name": "stdin",
          "output_type": "stream",
          "text": [
            "Enter a number-  5\n",
            "Enter a number again-  3\n"
          ]
        },
        {
          "name": "stdout",
          "output_type": "stream",
          "text": [
            "8\n"
          ]
        }
      ],
      "source": [
        "add()"
      ]
    },
    {
      "cell_type": "code",
      "execution_count": null,
      "id": "ad7644ee-d971-4728-b607-969f2a211dcb",
      "metadata": {
        "id": "ad7644ee-d971-4728-b607-969f2a211dcb",
        "outputId": "c594a742-c0c3-4eed-fa94-befadc827a59"
      },
      "outputs": [
        {
          "data": {
            "text/plain": [
              "(10, 60)"
            ]
          },
          "execution_count": 250,
          "metadata": {},
          "output_type": "execute_result"
        }
      ],
      "source": [
        "lst=[10,20,30,40,50,60]\n",
        "# Add the first and the last number of the list\n",
        "lst[0],lst[-1]"
      ]
    },
    {
      "cell_type": "code",
      "execution_count": null,
      "id": "34dc7ee2-632f-4759-934b-587dd5eab1f1",
      "metadata": {
        "id": "34dc7ee2-632f-4759-934b-587dd5eab1f1"
      },
      "outputs": [],
      "source": [
        "def add():\n",
        "    a=int(input('Enter a number- '))\n",
        "    b=int(input('Enter a number again- '))\n",
        "    c=a+b\n",
        "    print(c)"
      ]
    },
    {
      "cell_type": "code",
      "execution_count": null,
      "id": "a055600e-2f01-40c8-8113-67ee4ef7ee94",
      "metadata": {
        "id": "a055600e-2f01-40c8-8113-67ee4ef7ee94",
        "outputId": "6bf7f5ed-d290-41bc-8a36-aa7b092f0742"
      },
      "outputs": [
        {
          "name": "stdin",
          "output_type": "stream",
          "text": [
            "Enter a number-  10\n",
            "Enter a number again-  600\n"
          ]
        },
        {
          "name": "stdout",
          "output_type": "stream",
          "text": [
            "610\n"
          ]
        }
      ],
      "source": [
        "add()"
      ]
    },
    {
      "cell_type": "code",
      "execution_count": null,
      "id": "906861f1-b323-4952-bcc3-c2adf5703746",
      "metadata": {
        "id": "906861f1-b323-4952-bcc3-c2adf5703746"
      },
      "outputs": [],
      "source": [
        "def add(a,b):\n",
        "    c=a+b\n",
        "    print(c)"
      ]
    },
    {
      "cell_type": "code",
      "execution_count": null,
      "id": "82b8ee49-ef89-4778-98fa-861df9433394",
      "metadata": {
        "id": "82b8ee49-ef89-4778-98fa-861df9433394",
        "outputId": "08291efc-4681-47cf-bc9f-65ecc2e07c6a"
      },
      "outputs": [
        {
          "name": "stdout",
          "output_type": "stream",
          "text": [
            "70\n"
          ]
        }
      ],
      "source": [
        "add(lst[0],lst[-1])"
      ]
    },
    {
      "cell_type": "code",
      "execution_count": null,
      "id": "3bc1403f-c1ab-4249-9fa1-f53ab5678877",
      "metadata": {
        "id": "3bc1403f-c1ab-4249-9fa1-f53ab5678877"
      },
      "outputs": [],
      "source": [
        "# Create a function square that takes one number as an argument and squares it."
      ]
    },
    {
      "cell_type": "code",
      "execution_count": null,
      "id": "ffe187bb-5ab5-405c-9247-51755d7240a9",
      "metadata": {
        "id": "ffe187bb-5ab5-405c-9247-51755d7240a9"
      },
      "outputs": [],
      "source": [
        "def square(a):\n",
        "    print(a**2)"
      ]
    },
    {
      "cell_type": "code",
      "execution_count": null,
      "id": "419802cd-a347-4523-bdc8-78070c338bfb",
      "metadata": {
        "id": "419802cd-a347-4523-bdc8-78070c338bfb",
        "outputId": "13bfdda5-bb3f-481b-acb1-3e5df31416cf"
      },
      "outputs": [
        {
          "name": "stdout",
          "output_type": "stream",
          "text": [
            "16\n"
          ]
        }
      ],
      "source": [
        "square(4)"
      ]
    },
    {
      "cell_type": "code",
      "execution_count": null,
      "id": "f6a60c48-9dde-4670-bd3d-a0d706984b4b",
      "metadata": {
        "id": "f6a60c48-9dde-4670-bd3d-a0d706984b4b"
      },
      "outputs": [],
      "source": [
        "# Create a function full_name that takes the first name and the last name as arguments and prints the full name."
      ]
    },
    {
      "cell_type": "code",
      "execution_count": null,
      "id": "db57cf18-916d-44ed-b345-4fd1a5ca8a88",
      "metadata": {
        "id": "db57cf18-916d-44ed-b345-4fd1a5ca8a88"
      },
      "outputs": [],
      "source": [
        "def full_name(f,l):\n",
        "    print(f+' '+l)"
      ]
    },
    {
      "cell_type": "code",
      "execution_count": null,
      "id": "d1399607-6d94-463f-bfe8-db96e219acb8",
      "metadata": {
        "id": "d1399607-6d94-463f-bfe8-db96e219acb8",
        "outputId": "cf08d89e-d11e-48ee-cb0b-dd2aa8e30278"
      },
      "outputs": [
        {
          "name": "stdout",
          "output_type": "stream",
          "text": [
            "Deepak Kumar\n"
          ]
        }
      ],
      "source": [
        "full_name('Deepak','Kumar')"
      ]
    },
    {
      "cell_type": "code",
      "execution_count": null,
      "id": "e063cb9f-65de-4cad-bf31-c1999580708b",
      "metadata": {
        "id": "e063cb9f-65de-4cad-bf31-c1999580708b",
        "outputId": "e3714620-0532-44c3-8d29-d69784570505"
      },
      "outputs": [
        {
          "name": "stdout",
          "output_type": "stream",
          "text": [
            "Tina Singh\n"
          ]
        }
      ],
      "source": [
        "full_name('Tina','Singh')"
      ]
    },
    {
      "cell_type": "markdown",
      "id": "e9420328-dadf-4ed4-9877-3347b148fcc0",
      "metadata": {
        "id": "e9420328-dadf-4ed4-9877-3347b148fcc0"
      },
      "source": [
        "# Global and Local variables"
      ]
    },
    {
      "cell_type": "markdown",
      "id": "b58bcf66-25cb-4b44-92ac-6c088bbbb5fd",
      "metadata": {
        "id": "b58bcf66-25cb-4b44-92ac-6c088bbbb5fd"
      },
      "source": [
        "### Global variables"
      ]
    },
    {
      "cell_type": "code",
      "execution_count": null,
      "id": "197ea73f-c155-42ef-a432-26089f58d7ca",
      "metadata": {
        "id": "197ea73f-c155-42ef-a432-26089f58d7ca"
      },
      "outputs": [],
      "source": [
        "# - The variables that are defined outside the function definition are known as global variables.\n",
        "# - The global variables have the scope outside the function as well as inside the function."
      ]
    },
    {
      "cell_type": "code",
      "execution_count": null,
      "id": "507fb72c-501e-400e-a8fc-8ee7dc3d8cd5",
      "metadata": {
        "id": "507fb72c-501e-400e-a8fc-8ee7dc3d8cd5"
      },
      "outputs": [],
      "source": [
        "a=10 # Global variables\n",
        "\n",
        "def test():\n",
        "    print(a)"
      ]
    },
    {
      "cell_type": "code",
      "execution_count": null,
      "id": "1bbd0700-abd6-4acf-84ee-0900e1b6c0b0",
      "metadata": {
        "id": "1bbd0700-abd6-4acf-84ee-0900e1b6c0b0",
        "outputId": "77c8a867-edb1-4f3b-c735-d35a51b28193"
      },
      "outputs": [
        {
          "name": "stdout",
          "output_type": "stream",
          "text": [
            "10\n"
          ]
        }
      ],
      "source": [
        "print(a)"
      ]
    },
    {
      "cell_type": "code",
      "execution_count": null,
      "id": "0e7ec006-3f1e-40b6-b0c1-3742ab3b9e8d",
      "metadata": {
        "id": "0e7ec006-3f1e-40b6-b0c1-3742ab3b9e8d",
        "outputId": "4e368165-889e-4c87-8f9a-81a97b33e477"
      },
      "outputs": [
        {
          "name": "stdout",
          "output_type": "stream",
          "text": [
            "10\n"
          ]
        }
      ],
      "source": [
        "test()"
      ]
    },
    {
      "cell_type": "markdown",
      "id": "8269b95e-d603-43a2-87de-4c320179b3c6",
      "metadata": {
        "id": "8269b95e-d603-43a2-87de-4c320179b3c6"
      },
      "source": [
        "### Local variables"
      ]
    },
    {
      "cell_type": "code",
      "execution_count": null,
      "id": "52101a38-02c0-4b97-92be-2e55f0525e09",
      "metadata": {
        "id": "52101a38-02c0-4b97-92be-2e55f0525e09"
      },
      "outputs": [],
      "source": [
        "# - The variables that are defind inside a function definition are known as local variables.\n",
        "# - The local variables have the scope inside the function only.\n",
        "# - If we try to use a local variable outside the function then it raises name error."
      ]
    },
    {
      "cell_type": "code",
      "execution_count": null,
      "id": "b7f9c2bb-5880-435b-8490-308b00ee8bb6",
      "metadata": {
        "id": "b7f9c2bb-5880-435b-8490-308b00ee8bb6"
      },
      "outputs": [],
      "source": [
        "def test():\n",
        "    x=55 # Local\n",
        "    print(x)"
      ]
    },
    {
      "cell_type": "code",
      "execution_count": null,
      "id": "fcd526c5-d785-409d-90a4-ff0b91cf5cba",
      "metadata": {
        "id": "fcd526c5-d785-409d-90a4-ff0b91cf5cba",
        "outputId": "320dce88-96a4-41a2-e980-e4d683ab3744"
      },
      "outputs": [
        {
          "name": "stdout",
          "output_type": "stream",
          "text": [
            "55\n"
          ]
        }
      ],
      "source": [
        "test()"
      ]
    },
    {
      "cell_type": "code",
      "execution_count": null,
      "id": "c11898f2-62c2-42a2-b01f-e1e300052939",
      "metadata": {
        "id": "c11898f2-62c2-42a2-b01f-e1e300052939",
        "outputId": "a714d469-2c64-4721-d654-0cb29f8fc39b"
      },
      "outputs": [
        {
          "ename": "NameError",
          "evalue": "name 'x' is not defined",
          "output_type": "error",
          "traceback": [
            "\u001b[1;31m---------------------------------------------------------------------------\u001b[0m",
            "\u001b[1;31mNameError\u001b[0m                                 Traceback (most recent call last)",
            "Cell \u001b[1;32mIn[20], line 1\u001b[0m\n\u001b[1;32m----> 1\u001b[0m \u001b[38;5;28mprint\u001b[39m(x)\n",
            "\u001b[1;31mNameError\u001b[0m: name 'x' is not defined"
          ]
        }
      ],
      "source": [
        "print(x)"
      ]
    },
    {
      "cell_type": "code",
      "execution_count": null,
      "id": "e4253aa4-06b5-4406-92fb-a14e289ce1c4",
      "metadata": {
        "id": "e4253aa4-06b5-4406-92fb-a14e289ce1c4"
      },
      "outputs": [],
      "source": [
        "def add(x,y):\n",
        "    res=x+y # res is a loacl variable\n",
        "    print(res)\n",
        "    print(res**2)"
      ]
    },
    {
      "cell_type": "code",
      "execution_count": null,
      "id": "3c880e0e-2351-4440-ae1b-c2530f7f0ed6",
      "metadata": {
        "id": "3c880e0e-2351-4440-ae1b-c2530f7f0ed6",
        "outputId": "fa817d3c-d6ad-44fa-e20b-60678cbdb1bb"
      },
      "outputs": [
        {
          "name": "stdout",
          "output_type": "stream",
          "text": [
            "10\n",
            "100\n"
          ]
        }
      ],
      "source": [
        "add(6,4)"
      ]
    },
    {
      "cell_type": "code",
      "execution_count": null,
      "id": "5a86ff10-74c7-4f7d-a14e-8021aefc010a",
      "metadata": {
        "id": "5a86ff10-74c7-4f7d-a14e-8021aefc010a",
        "outputId": "e17eb566-f7c7-453d-9f3e-7c87a1c6673a"
      },
      "outputs": [
        {
          "ename": "NameError",
          "evalue": "name 'res' is not defined",
          "output_type": "error",
          "traceback": [
            "\u001b[1;31m---------------------------------------------------------------------------\u001b[0m",
            "\u001b[1;31mNameError\u001b[0m                                 Traceback (most recent call last)",
            "Cell \u001b[1;32mIn[34], line 1\u001b[0m\n\u001b[1;32m----> 1\u001b[0m \u001b[38;5;28mprint\u001b[39m(res)\n",
            "\u001b[1;31mNameError\u001b[0m: name 'res' is not defined"
          ]
        }
      ],
      "source": [
        "print(res)"
      ]
    },
    {
      "cell_type": "markdown",
      "id": "bf9eadd8-d07d-402f-a39d-a0a91412879d",
      "metadata": {
        "id": "bf9eadd8-d07d-402f-a39d-a0a91412879d"
      },
      "source": [
        "# return"
      ]
    },
    {
      "cell_type": "code",
      "execution_count": null,
      "id": "192a5af8-3517-434d-8cd4-95ab26b45b06",
      "metadata": {
        "id": "192a5af8-3517-434d-8cd4-95ab26b45b06"
      },
      "outputs": [],
      "source": [
        "# API -> Json (Dictionary)-> Pandas Dataframes (Tables)"
      ]
    },
    {
      "cell_type": "code",
      "execution_count": null,
      "id": "6d8c00c0-e43e-4ca9-9d77-664618047c64",
      "metadata": {
        "id": "6d8c00c0-e43e-4ca9-9d77-664618047c64"
      },
      "outputs": [],
      "source": []
    }
  ],
  "metadata": {
    "kernelspec": {
      "display_name": "Python 3 (ipykernel)",
      "language": "python",
      "name": "python3"
    },
    "language_info": {
      "codemirror_mode": {
        "name": "ipython",
        "version": 3
      },
      "file_extension": ".py",
      "mimetype": "text/x-python",
      "name": "python",
      "nbconvert_exporter": "python",
      "pygments_lexer": "ipython3",
      "version": "3.11.4"
    },
    "colab": {
      "provenance": []
    }
  },
  "nbformat": 4,
  "nbformat_minor": 5
}