{
 "cells": [
  {
   "cell_type": "code",
   "execution_count": 3,
   "metadata": {},
   "outputs": [
    {
     "name": "stdout",
     "output_type": "stream",
     "text": [
      "cdho fk\n",
      "4\n",
      "cdho says jig-jig\n"
     ]
    }
   ],
   "source": [
    "#DEFINING CLASSES AND OBJECTS\n",
    "class Dog:\n",
    "    species=\"labrador\"\n",
    "    def __init__(self,name,age):\n",
    "        self.name=name\n",
    "        self.age=age\n",
    "    def bark(self):\n",
    "        return f\"{self.name} says jig-jig\"\n",
    "dog1=Dog(\"cdho\",4) #creation of object\n",
    "print(dog1.name,\"fk\")   #-----------\n",
    "print(dog1.age)   #accessing object attributes\n",
    "#accessing object method\n",
    "print(dog1.bark())\n",
    "\n",
    "        "
   ]
  },
  {
   "cell_type": "code",
   "execution_count": 4,
   "metadata": {},
   "outputs": [
    {
     "name": "stdout",
     "output_type": "stream",
     "text": [
      "add is 3\n",
      "sub is -1\n",
      "mul is 2\n",
      "div is 3\n"
     ]
    }
   ],
   "source": [
    "class calculator:\n",
    "    def add(self,a,b):\n",
    "        return a+b\n",
    "    def sub(self,a,b):\n",
    "        return a-b\n",
    "    def mul(self,a,b):\n",
    "        return a*b\n",
    "    def div(self,a,b):\n",
    "        return a//b\n",
    "calc=calculator()\n",
    "try:\n",
    "    print(\"add is\",calc.add(1,2))\n",
    "    print(\"sub is\",calc.sub(1,2))\n",
    "    print(\"mul is\",calc.mul(1,2))\n",
    "    print(\"div is\",calc.add(1,2))\n",
    "except ValueError as vk:\n",
    "    print(\"error is\",vk)    \n",
    "    "
   ]
  },
  {
   "cell_type": "code",
   "execution_count": null,
   "metadata": {},
   "outputs": [],
   "source": [
    "class ShoppingCart:\n",
    "    def __init__(self):\n",
    "        self.items = []  \n",
    "\n",
    "    def add_item(self, name, price, quantity):\n",
    "        self.items.append((name, price, quantity))\n",
    "\n",
    "    def remove_item(self, name):\n",
    "        for item in self.items:\n",
    "            if item[0] == name:\n",
    "                self.items.remove(item)\n",
    "                return  \n",
    "\n",
    "    def calculate_total(self):\n",
    "        \n",
    "        total = 0\n",
    "        for item in self.items:\n",
    "            total += item[1] * item[2]\n",
    "        return total\n",
    "\n",
    "    def list_items(self):\n",
    "        \n",
    "        if not self.items:\n",
    "            print(\"The shopping cart is empty.\")\n",
    "        else:\n",
    "            print(\"Items in the shopping cart:\")\n",
    "            for item in self.items:\n",
    "                print(f\"{item[0]}: ${item[1]} x {item[2]}\")\n",
    "cart = ShoppingCart()\n",
    "cart.add_item(\"Apple\", 1, 5)\n",
    "cart.add_item(\"Banana\", 0.5, 3)\n",
    "cart.add_item(\"Orange\", 0.75, 2)\n",
    "cart.list_items()\n",
    "cart.remove_item(\"Banana\")\n",
    "print(\"\\nAfter removing an item:\")\n",
    "cart.list_items()\n",
    "total_price = cart.calculate_total()\n",
    "print(f\"\\nTotal price: ${total_price}\")\n"
   ]
  }
 ],
 "metadata": {
  "kernelspec": {
   "display_name": "Python 3",
   "language": "python",
   "name": "python3"
  },
  "language_info": {
   "codemirror_mode": {
    "name": "ipython",
    "version": 3
   },
   "file_extension": ".py",
   "mimetype": "text/x-python",
   "name": "python",
   "nbconvert_exporter": "python",
   "pygments_lexer": "ipython3",
   "version": "3.12.4"
  }
 },
 "nbformat": 4,
 "nbformat_minor": 2
}
