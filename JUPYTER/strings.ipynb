{
 "cells": [
  {
   "cell_type": "code",
   "execution_count": null,
   "metadata": {},
   "outputs": [],
   "source": [
    "def palindrome(n):\n",
    "    return n==n[::-1]\n",
    "n=input()\n",
    "if palindrome(n):\n",
    "    print(\"true\")\n",
    "else:\n",
    "    print(\"false\")\n"
   ]
  },
  {
   "cell_type": "code",
   "execution_count": null,
   "metadata": {},
   "outputs": [],
   "source": [
    "def issymmetry(n):\n",
    "    mid=len(n)//2\n",
    "    return n[:mid]==n[-mid:]\n",
    "n=input()\n",
    "if issymmetry(n):\n",
    "    print(\"true\")\n",
    "else:\n",
    "    print(\"false\")\n"
   ]
  },
  {
   "cell_type": "code",
   "execution_count": null,
   "metadata": {},
   "outputs": [],
   "source": [
    "string=input()\n",
    "s=string.split()[::-1]\n",
    "l=[]\n",
    "for i in s:\n",
    "    l.append(i)\n",
    "print(\" \".join(l))\n"
   ]
  },
  {
   "cell_type": "code",
   "execution_count": null,
   "metadata": {},
   "outputs": [],
   "source": [
    "n=\"Geeks123For123Geeks\"\n",
    "#new = n[:5]+n[8:11]+n[14:]\n",
    "#print(new)\n",
    "new=n.replace(\"123\",\"\",2)\n",
    "print(new)\n"
   ]
  },
  {
   "cell_type": "code",
   "execution_count": null,
   "metadata": {},
   "outputs": [],
   "source": [
    "def findlen(n):\n",
    "    counter=0\n",
    "    for i in n:\n",
    "        counter+=1\n",
    "    return counter\n",
    "n=input()\n",
    "print(findlen(n))\n"
   ]
  },
  {
   "cell_type": "code",
   "execution_count": null,
   "metadata": {},
   "outputs": [],
   "source": [
    "s= \"sudheer thundersoft intern\"\n",
    "result=sum(map(len,s.split()))\n",
    "print(result)\n"
   ]
  },
  {
   "cell_type": "code",
   "execution_count": null,
   "metadata": {},
   "outputs": [],
   "source": [
    "s= \"sudheer thundersoft intern\"\n",
    "result=s.replace(\" \",\"\")\n",
    "\n",
    "print(len(result))\n"
   ]
  },
  {
   "cell_type": "code",
   "execution_count": null,
   "metadata": {},
   "outputs": [],
   "source": [
    "s= \"sudheer thundersoft intern\"\n",
    "count=0\n",
    "for i in s:\n",
    "    if i==\" \":\n",
    "        continue\n",
    "    count+=1\n",
    "print(count)\n"
   ]
  },
  {
   "cell_type": "code",
   "execution_count": 29,
   "metadata": {},
   "outputs": [
    {
     "name": "stdout",
     "output_type": "stream",
     "text": [
      "is\n",
      "good\n"
     ]
    }
   ],
   "source": [
    "n=input()\n",
    "s=n.split(\" \") \n",
    "for i in s: \n",
    "    if len(i)%2==0: \n",
    "\t    print(i)\n"
   ]
  },
  {
   "cell_type": "code",
   "execution_count": 30,
   "metadata": {},
   "outputs": [
    {
     "name": "stdout",
     "output_type": "stream",
     "text": [
      "sudHEER\n"
     ]
    }
   ],
   "source": [
    "full=input()\n",
    "half=len(full)//2\n",
    "result= full[:half]+full[half:].upper()\n",
    "print(result)\n"
   ]
  },
  {
   "cell_type": "code",
   "execution_count": null,
   "metadata": {},
   "outputs": [],
   "source": []
  }
 ],
 "metadata": {
  "kernelspec": {
   "display_name": "Python 3",
   "language": "python",
   "name": "python3"
  },
  "language_info": {
   "codemirror_mode": {
    "name": "ipython",
    "version": 3
   },
   "file_extension": ".py",
   "mimetype": "text/x-python",
   "name": "python",
   "nbconvert_exporter": "python",
   "pygments_lexer": "ipython3",
   "version": "3.12.4"
  }
 },
 "nbformat": 4,
 "nbformat_minor": 2
}
