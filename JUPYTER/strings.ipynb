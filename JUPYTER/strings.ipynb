{
 "cells": [
  {
   "cell_type": "code",
   "execution_count": null,
   "metadata": {},
   "outputs": [],
   "source": [
    "def palindrome(n):\n",
    "    return n==n[::-1]\n",
    "n=input()\n",
    "if palindrome(n):\n",
    "    print(\"true\")\n",
    "else:\n",
    "    print(\"false\")\n"
   ]
  },
  {
   "cell_type": "code",
   "execution_count": null,
   "metadata": {},
   "outputs": [],
   "source": [
    "def issymmetry(n):\n",
    "    mid=len(n)//2\n",
    "    return n[:mid]==n[-mid:]\n",
    "n=input()\n",
    "if issymmetry(n):\n",
    "    print(\"true\")\n",
    "else:\n",
    "    print(\"false\")\n"
   ]
  },
  {
   "cell_type": "code",
   "execution_count": null,
   "metadata": {},
   "outputs": [],
   "source": [
    "string=input()\n",
    "s=string.split()[::-1]\n",
    "l=[]\n",
    "for i in s:\n",
    "    l.append(i)\n",
    "print(\" \".join(l))\n"
   ]
  },
  {
   "cell_type": "code",
   "execution_count": null,
   "metadata": {},
   "outputs": [],
   "source": [
    "n=\"Geeks123For123Geeks\"\n",
    "#new = n[:5]+n[8:11]+n[14:]\n",
    "#print(new)\n",
    "new=n.replace(\"123\",\"\",2)\n",
    "print(new)\n"
   ]
  },
  {
   "cell_type": "code",
   "execution_count": null,
   "metadata": {},
   "outputs": [],
   "source": [
    "def findlen(n):\n",
    "    counter=0\n",
    "    for i in n:\n",
    "        counter+=1\n",
    "    return counter\n",
    "n=input()\n",
    "print(findlen(n))\n"
   ]
  },
  {
   "cell_type": "code",
   "execution_count": null,
   "metadata": {},
   "outputs": [],
   "source": [
    "s= \"sudheer thundersoft intern\"\n",
    "result=sum(map(len,s.split()))\n",
    "print(result)\n"
   ]
  },
  {
   "cell_type": "code",
   "execution_count": null,
   "metadata": {},
   "outputs": [],
   "source": [
    "s= \"sudheer thundersoft intern\"\n",
    "result=s.replace(\" \",\"\")\n",
    "\n",
    "print(len(result))\n"
   ]
  },
  {
   "cell_type": "code",
   "execution_count": null,
   "metadata": {},
   "outputs": [],
   "source": [
    "s= \"sudheer thundersoft intern\"\n",
    "count=0\n",
    "for i in s:\n",
    "    if i==\" \":\n",
    "        continue\n",
    "    count+=1\n",
    "print(count)\n"
   ]
  },
  {
   "cell_type": "code",
   "execution_count": 29,
   "metadata": {},
   "outputs": [
    {
     "name": "stdout",
     "output_type": "stream",
     "text": [
      "is\n",
      "good\n"
     ]
    }
   ],
   "source": [
    "n=input()\n",
    "s=n.split(\" \") \n",
    "for i in s: \n",
    "    if len(i)%2==0: \n",
    "\t    print(i)\n"
   ]
  },
  {
   "cell_type": "code",
   "execution_count": 30,
   "metadata": {},
   "outputs": [
    {
     "name": "stdout",
     "output_type": "stream",
     "text": [
      "sudHEER\n"
     ]
    }
   ],
   "source": [
    "full=input()\n",
    "half=len(full)//2\n",
    "result= full[:half]+full[half:].upper()\n",
    "print(result)\n"
   ]
  },
  {
   "cell_type": "code",
   "execution_count": 36,
   "metadata": {},
   "outputs": [
    {
     "name": "stdout",
     "output_type": "stream",
     "text": [
      "SudheeR\n"
     ]
    }
   ],
   "source": [
    "s=input()\n",
    "res=[]\n",
    "for i in s.split():\n",
    "    new=i[0].upper()+i[1:-1]+i[-1].upper()\n",
    "    res.append(new)\n",
    "res=\" \".join(res)\n",
    "print(res)\n"
   ]
  },
  {
   "cell_type": "code",
   "execution_count": 53,
   "metadata": {},
   "outputs": [
    {
     "name": "stdout",
     "output_type": "stream",
     "text": [
      "True\n",
      "False\n"
     ]
    }
   ],
   "source": [
    "def check(s):\n",
    "    flag1=False\n",
    "    flag2=False\n",
    "    for i in s:\n",
    "        if i in \"abcdefghijklmnopqrstuvwxyz\":\n",
    "            flag1=True\n",
    "        if i in \"0123456789\":\n",
    "            flag2=True\n",
    "    return flag1 and flag2\n",
    "s=\"sudheer29\"\n",
    "d=\"sudheer\"\n",
    "print(check(s))\n",
    "print(check(d))\n"
   ]
  },
  {
   "cell_type": "code",
   "execution_count": 56,
   "metadata": {},
   "outputs": [
    {
     "ename": "TypeError",
     "evalue": "'str' object is not callable",
     "output_type": "error",
     "traceback": [
      "\u001b[1;31m---------------------------------------------------------------------------\u001b[0m",
      "\u001b[1;31mTypeError\u001b[0m                                 Traceback (most recent call last)",
      "Cell \u001b[1;32mIn[56], line 4\u001b[0m\n\u001b[0;32m      2\u001b[0m normalized_string \u001b[38;5;241m=\u001b[39m s\u001b[38;5;241m.\u001b[39mreplace(\u001b[38;5;124m\"\u001b[39m\u001b[38;5;124m \u001b[39m\u001b[38;5;124m\"\u001b[39m, \u001b[38;5;124m\"\u001b[39m\u001b[38;5;124m\"\u001b[39m)\u001b[38;5;241m.\u001b[39mlower()\n\u001b[0;32m      3\u001b[0m vowels \u001b[38;5;241m=\u001b[39m {\u001b[38;5;124m'\u001b[39m\u001b[38;5;124ma\u001b[39m\u001b[38;5;124m'\u001b[39m, \u001b[38;5;124m'\u001b[39m\u001b[38;5;124me\u001b[39m\u001b[38;5;124m'\u001b[39m, \u001b[38;5;124m'\u001b[39m\u001b[38;5;124mi\u001b[39m\u001b[38;5;124m'\u001b[39m, \u001b[38;5;124m'\u001b[39m\u001b[38;5;124mo\u001b[39m\u001b[38;5;124m'\u001b[39m, \u001b[38;5;124m'\u001b[39m\u001b[38;5;124mu\u001b[39m\u001b[38;5;124m'\u001b[39m}\n\u001b[1;32m----> 4\u001b[0m contains_all_vowels \u001b[38;5;241m=\u001b[39m \u001b[38;5;28;43mall\u001b[39;49m\u001b[43m(\u001b[49m\u001b[43mvowel\u001b[49m\u001b[43m \u001b[49m\u001b[38;5;129;43;01min\u001b[39;49;00m\u001b[43m \u001b[49m\u001b[43mnormalized_string\u001b[49m\u001b[43m \u001b[49m\u001b[38;5;28;43;01mfor\u001b[39;49;00m\u001b[43m \u001b[49m\u001b[43mvowel\u001b[49m\u001b[43m \u001b[49m\u001b[38;5;129;43;01min\u001b[39;49;00m\u001b[43m \u001b[49m\u001b[43mvowels\u001b[49m\u001b[43m)\u001b[49m\n\u001b[0;32m      5\u001b[0m \u001b[38;5;28;01mif\u001b[39;00m contains_all_vowels\u001b[38;5;241m==\u001b[39m\u001b[38;5;28;01mTrue\u001b[39;00m:\n\u001b[0;32m      6\u001b[0m     \u001b[38;5;28mprint\u001b[39m(\u001b[38;5;124m\"\u001b[39m\u001b[38;5;124mThe string contains all vowels.\u001b[39m\u001b[38;5;124m\"\u001b[39m)\n",
      "\u001b[1;31mTypeError\u001b[0m: 'str' object is not callable"
     ]
    }
   ],
   "source": [
    "s = input(\"Enter a string: \")\n",
    "normalized_string = s.replace(\" \", \"\").lower()\n",
    "vowels = {'a', 'e', 'i', 'o', 'u'}\n",
    "contains_all_vowels = all(vowel in normalized_string for vowel in vowels)\n",
    "if contains_all_vowels:\n",
    "    print(\"The string contains all vowels.\")\n",
    "else:\n",
    "    print(\"The string does not contain all vowels.\")\n"
   ]
  },
  {
   "cell_type": "code",
   "execution_count": null,
   "metadata": {},
   "outputs": [],
   "source": []
  }
 ],
 "metadata": {
  "kernelspec": {
   "display_name": "Python 3",
   "language": "python",
   "name": "python3"
  },
  "language_info": {
   "codemirror_mode": {
    "name": "ipython",
    "version": 3
   },
   "file_extension": ".py",
   "mimetype": "text/x-python",
   "name": "python",
   "nbconvert_exporter": "python",
   "pygments_lexer": "ipython3",
   "version": "3.12.4"
  }
 },
 "nbformat": 4,
 "nbformat_minor": 2
}
