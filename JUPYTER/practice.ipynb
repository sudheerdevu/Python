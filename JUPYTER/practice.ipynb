{
 "cells": [
  {
   "cell_type": "code",
   "execution_count": 2,
   "metadata": {},
   "outputs": [
    {
     "name": "stdout",
     "output_type": "stream",
     "text": [
      "656\n"
     ]
    }
   ],
   "source": [
    "'''for i in \"sudheer\":\n",
    "    print(i)\n",
    "#basic loops\n",
    "print(1000);print(\"1000\")'''\n",
    "marks=656\n",
    "total=1000\n",
    "percentage= (marks / total )*100\n",
    "print(marks)"
   ]
  },
  {
   "cell_type": "code",
   "execution_count": null,
   "metadata": {},
   "outputs": [],
   "source": []
  },
  {
   "cell_type": "code",
   "execution_count": 11,
   "metadata": {},
   "outputs": [
    {
     "name": "stdout",
     "output_type": "stream",
     "text": [
      "sudd\n",
      "20\n"
     ]
    }
   ],
   "source": [
    "'''def hello():\n",
    "    print(\"devu\")\n",
    "def multiplication(a,b):\n",
    "    print(a*b)\n",
    "multiplication(10,20)'''\n",
    "def printname(a):\n",
    "    print(a)\n",
    "printname(\"sudd\")\n",
    "printname(20)\n",
    "    \n",
    "    "
   ]
  },
  {
   "cell_type": "code",
   "execution_count": 19,
   "metadata": {},
   "outputs": [
    {
     "name": "stdout",
     "output_type": "stream",
     "text": [
      "160.0\n"
     ]
    }
   ],
   "source": [
    "def stuck( a=int(input()),b=int(input())):\n",
    "    result=((a*b)+100)/5\n",
    "    print(result)\n",
    "stuck()\n",
    "    "
   ]
  },
  {
   "cell_type": "code",
   "execution_count": 1,
   "metadata": {},
   "outputs": [
    {
     "name": "stdout",
     "output_type": "stream",
     "text": [
      "vvvv\n",
      "-20\n"
     ]
    }
   ],
   "source": [
    "def sunday(name,age):\n",
    "    name= name * 4;print(name)\n",
    "    age=age*(-20);print(age)\n",
    "sunday(\"v\",1)"
   ]
  },
  {
   "cell_type": "code",
   "execution_count": 1,
   "metadata": {},
   "outputs": [
    {
     "name": "stdout",
     "output_type": "stream",
     "text": [
      "1\n"
     ]
    }
   ],
   "source": [
    "x=10;y=3;r=x%y;print(r)"
   ]
  }
 ],
 "metadata": {
  "kernelspec": {
   "display_name": "Python 3",
   "language": "python",
   "name": "python3"
  },
  "language_info": {
   "codemirror_mode": {
    "name": "ipython",
    "version": 3
   },
   "file_extension": ".py",
   "mimetype": "text/x-python",
   "name": "python",
   "nbconvert_exporter": "python",
   "pygments_lexer": "ipython3",
   "version": "3.12.3"
  }
 },
 "nbformat": 4,
 "nbformat_minor": 2
}
