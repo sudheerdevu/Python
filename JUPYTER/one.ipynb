{
 "cells": [
  {
   "cell_type": "code",
   "execution_count": 2,
   "metadata": {},
   "outputs": [
    {
     "name": "stdout",
     "output_type": "stream",
     "text": [
      "656\n"
     ]
    }
   ],
   "source": [
    "'''for i in \"sudheer\":\n",
    "    print(i)\n",
    "#basic loops\n",
    "print(1000);print(\"1000\")'''\n",
    "marks=656\n",
    "total=1000\n",
    "percentage= (marks / total )*100\n",
    "print(marks)"
   ]
  },
  {
   "cell_type": "code",
   "execution_count": 3,
   "metadata": {},
   "outputs": [
    {
     "name": "stdout",
     "output_type": "stream",
     "text": [
      "devu\n",
      "200\n"
     ]
    }
   ],
   "source": [
    "def hello():\n",
    "    print(\"devu\")\n",
    "def multiplication(a,b):\n",
    "    print(a*b)\n",
    "multiplication(10,20)"
   ]
  }
 ],
 "metadata": {
  "kernelspec": {
   "display_name": "Python 3",
   "language": "python",
   "name": "python3"
  },
  "language_info": {
   "codemirror_mode": {
    "name": "ipython",
    "version": 3
   },
   "file_extension": ".py",
   "mimetype": "text/x-python",
   "name": "python",
   "nbconvert_exporter": "python",
   "pygments_lexer": "ipython3",
   "version": "3.12.3"
  }
 },
 "nbformat": 4,
 "nbformat_minor": 2
}
